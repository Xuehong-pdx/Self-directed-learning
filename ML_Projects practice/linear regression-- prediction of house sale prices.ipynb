{
 "cells": [
  {
   "cell_type": "code",
   "execution_count": 1,
   "metadata": {},
   "outputs": [
    {
     "name": "stdout",
     "output_type": "stream",
     "text": [
      "C:\\Users\\Xueho\\Projects\\Machine_learning_projects\\Raw_data\n"
     ]
    }
   ],
   "source": [
    "cd Raw_data"
   ]
  },
  {
   "cell_type": "code",
   "execution_count": 2,
   "metadata": {},
   "outputs": [
    {
     "data": {
      "text/html": [
       "<style>.container {width:100% !important;}</style>"
      ],
      "text/plain": [
       "<IPython.core.display.HTML object>"
      ]
     },
     "metadata": {},
     "output_type": "display_data"
    }
   ],
   "source": [
    "from IPython.core.display import display, HTML\n",
    "display(HTML(\"<style>.container {width:100% !important;}</style>\"))"
   ]
  },
  {
   "cell_type": "code",
   "execution_count": 4,
   "metadata": {},
   "outputs": [
    {
     "data": {
      "text/plain": [
       "(2930, 82)"
      ]
     },
     "execution_count": 4,
     "metadata": {},
     "output_type": "execute_result"
    }
   ],
   "source": [
    "import pandas as pd\n",
    "pd.options.display.max_columns = 999\n",
    "import numpy as np\n",
    "import matplotlib.pyplot as plt\n",
    "import seaborn as sns\n",
    "from sklearn.metrics import mean_squared_error\n",
    "from sklearn import linear_model\n",
    "sns.set()\n",
    "%matplotlib inline\n",
    "df = pd.read_csv(\"AmesHousing.txt\", delimiter=\"\\t\")\n",
    "df.shape"
   ]
  },
  {
   "cell_type": "markdown",
   "metadata": {},
   "source": [
    "#### Data Explortary analysis"
   ]
  },
  {
   "cell_type": "code",
   "execution_count": 5,
   "metadata": {},
   "outputs": [
    {
     "data": {
      "text/plain": [
       "Index(['Order', 'PID', 'MS SubClass', 'MS Zoning', 'Lot Frontage', 'Lot Area',\n",
       "       'Street', 'Alley', 'Lot Shape', 'Land Contour', 'Utilities',\n",
       "       'Lot Config', 'Land Slope', 'Neighborhood', 'Condition 1',\n",
       "       'Condition 2', 'Bldg Type', 'House Style', 'Overall Qual',\n",
       "       'Overall Cond', 'Year Built', 'Year Remod/Add', 'Roof Style',\n",
       "       'Roof Matl', 'Exterior 1st', 'Exterior 2nd', 'Mas Vnr Type',\n",
       "       'Mas Vnr Area', 'Exter Qual', 'Exter Cond', 'Foundation', 'Bsmt Qual',\n",
       "       'Bsmt Cond', 'Bsmt Exposure', 'BsmtFin Type 1', 'BsmtFin SF 1',\n",
       "       'BsmtFin Type 2', 'BsmtFin SF 2', 'Bsmt Unf SF', 'Total Bsmt SF',\n",
       "       'Heating', 'Heating QC', 'Central Air', 'Electrical', '1st Flr SF',\n",
       "       '2nd Flr SF', 'Low Qual Fin SF', 'Gr Liv Area', 'Bsmt Full Bath',\n",
       "       'Bsmt Half Bath', 'Full Bath', 'Half Bath', 'Bedroom AbvGr',\n",
       "       'Kitchen AbvGr', 'Kitchen Qual', 'TotRms AbvGrd', 'Functional',\n",
       "       'Fireplaces', 'Fireplace Qu', 'Garage Type', 'Garage Yr Blt',\n",
       "       'Garage Finish', 'Garage Cars', 'Garage Area', 'Garage Qual',\n",
       "       'Garage Cond', 'Paved Drive', 'Wood Deck SF', 'Open Porch SF',\n",
       "       'Enclosed Porch', '3Ssn Porch', 'Screen Porch', 'Pool Area', 'Pool QC',\n",
       "       'Fence', 'Misc Feature', 'Misc Val', 'Mo Sold', 'Yr Sold', 'Sale Type',\n",
       "       'Sale Condition', 'SalePrice'],\n",
       "      dtype='object')"
      ]
     },
     "execution_count": 5,
     "metadata": {},
     "output_type": "execute_result"
    }
   ],
   "source": [
    "df.columns"
   ]
  },
  {
   "cell_type": "code",
   "execution_count": 6,
   "metadata": {},
   "outputs": [
    {
     "name": "stderr",
     "output_type": "stream",
     "text": [
      "C:\\ProgramData\\Anaconda3\\lib\\site-packages\\ipykernel_launcher.py:3: SettingWithCopyWarning: \n",
      "A value is trying to be set on a copy of a slice from a DataFrame.\n",
      "Try using .loc[row_indexer,col_indexer] = value instead\n",
      "\n",
      "See the caveats in the documentation: http://pandas.pydata.org/pandas-docs/stable/user_guide/indexing.html#returning-a-view-versus-a-copy\n",
      "  This is separate from the ipykernel package so we can avoid doing imports until\n"
     ]
    },
    {
     "data": {
      "text/html": [
       "<div>\n",
       "<style scoped>\n",
       "    .dataframe tbody tr th:only-of-type {\n",
       "        vertical-align: middle;\n",
       "    }\n",
       "\n",
       "    .dataframe tbody tr th {\n",
       "        vertical-align: top;\n",
       "    }\n",
       "\n",
       "    .dataframe thead th {\n",
       "        text-align: right;\n",
       "    }\n",
       "</style>\n",
       "<table border=\"1\" class=\"dataframe\">\n",
       "  <thead>\n",
       "    <tr style=\"text-align: right;\">\n",
       "      <th></th>\n",
       "      <th>Lot Frontage</th>\n",
       "      <th>Mas Vnr Area</th>\n",
       "      <th>BsmtFin SF 1</th>\n",
       "      <th>BsmtFin SF 2</th>\n",
       "      <th>Bsmt Unf SF</th>\n",
       "      <th>Total Bsmt SF</th>\n",
       "      <th>Bsmt Full Bath</th>\n",
       "      <th>Bsmt Half Bath</th>\n",
       "      <th>Garage Yr Blt</th>\n",
       "      <th>Garage Cars</th>\n",
       "      <th>Garage Area</th>\n",
       "      <th>SalePrice</th>\n",
       "    </tr>\n",
       "  </thead>\n",
       "  <tbody>\n",
       "    <tr>\n",
       "      <th>0</th>\n",
       "      <td>141.0</td>\n",
       "      <td>112.0</td>\n",
       "      <td>639.0</td>\n",
       "      <td>0.0</td>\n",
       "      <td>441.0</td>\n",
       "      <td>1080.0</td>\n",
       "      <td>1.0</td>\n",
       "      <td>0.0</td>\n",
       "      <td>1960.0</td>\n",
       "      <td>2.0</td>\n",
       "      <td>528.0</td>\n",
       "      <td>215000.0</td>\n",
       "    </tr>\n",
       "    <tr>\n",
       "      <th>1</th>\n",
       "      <td>80.0</td>\n",
       "      <td>0.0</td>\n",
       "      <td>468.0</td>\n",
       "      <td>144.0</td>\n",
       "      <td>270.0</td>\n",
       "      <td>882.0</td>\n",
       "      <td>0.0</td>\n",
       "      <td>0.0</td>\n",
       "      <td>1961.0</td>\n",
       "      <td>1.0</td>\n",
       "      <td>730.0</td>\n",
       "      <td>105000.0</td>\n",
       "    </tr>\n",
       "  </tbody>\n",
       "</table>\n",
       "</div>"
      ],
      "text/plain": [
       "   Lot Frontage  Mas Vnr Area  BsmtFin SF 1  BsmtFin SF 2  Bsmt Unf SF  \\\n",
       "0         141.0         112.0         639.0           0.0        441.0   \n",
       "1          80.0           0.0         468.0         144.0        270.0   \n",
       "\n",
       "   Total Bsmt SF  Bsmt Full Bath  Bsmt Half Bath  Garage Yr Blt  Garage Cars  \\\n",
       "0         1080.0             1.0             0.0         1960.0          2.0   \n",
       "1          882.0             0.0             0.0         1961.0          1.0   \n",
       "\n",
       "   Garage Area  SalePrice  \n",
       "0        528.0   215000.0  \n",
       "1        730.0   105000.0  "
      ]
     },
     "execution_count": 6,
     "metadata": {},
     "output_type": "execute_result"
    }
   ],
   "source": [
    "# select only columns with numerical values\n",
    "numerical_df = df.select_dtypes(include = ['int', 'float'])\n",
    "numerical_df['SalePrice'] = df['SalePrice'].astype(float)\n",
    "numerical_df.head(2)"
   ]
  },
  {
   "cell_type": "code",
   "execution_count": 7,
   "metadata": {},
   "outputs": [
    {
     "data": {
      "text/plain": [
       "<matplotlib.axes._subplots.AxesSubplot at 0x29c90fefb70>"
      ]
     },
     "execution_count": 7,
     "metadata": {},
     "output_type": "execute_result"
    },
    {
     "data": {
      "image/png": "[encoded data removed]",
      "text/plain": [
       "<Figure size 576x432 with 2 Axes>"
      ]
     },
     "metadata": {
      "needs_background": "light"
     },
     "output_type": "display_data"
    }
   ],
   "source": [
    "# determing coorelation between columns\n",
    "cor = numerical_df.corr()\n",
    "plt.figure(figsize=(8,6))\n",
    "sns.heatmap(cor, cmap = \"YlGnBu\")"
   ]
  },
  {
   "cell_type": "code",
   "execution_count": 8,
   "metadata": {},
   "outputs": [
    {
     "data": {
      "text/plain": [
       "SalePrice         1.000000\n",
       "Overall Qual      0.799262\n",
       "Gr Liv Area       0.706780\n",
       "Garage Cars       0.647877\n",
       "Garage Area       0.640401\n",
       "Total Bsmt SF     0.632280\n",
       "1st Flr SF        0.621676\n",
       "Year Built        0.558426\n",
       "Full Bath         0.545604\n",
       "Year Remod/Add    0.532974\n",
       "Garage Yr Blt     0.526965\n",
       "Mas Vnr Area      0.508285\n",
       "TotRms AbvGrd     0.495474\n",
       "Fireplaces        0.474558\n",
       "BsmtFin SF 1      0.432914\n",
       "Name: SalePrice, dtype: float64"
      ]
     },
     "execution_count": 8,
     "metadata": {},
     "output_type": "execute_result"
    }
   ],
   "source": [
    "# rank coorelations with sales price\n",
    "sale_cor = df.corr()['SalePrice'].sort_values(ascending = False).head(15)\n",
    "sale_cor"
   ]
  },
  {
   "cell_type": "code",
   "execution_count": 9,
   "metadata": {},
   "outputs": [],
   "source": [
    "def transform_features(df):\n",
    "    # drop columns with 5% or more missing values \n",
    "    num_missing = df.isnull().sum()\n",
    "    missing_cols = num_missing[(num_missing > len(df)/20)]\n",
    "    df = df.drop(missing_cols.index, axis=1)\n",
    "    \n",
    "    # drop text columns with 1 or more missing values\n",
    "    text_mv_counts = df.select_dtypes(include=['object']).isnull().sum()\n",
    "    drop_missing_cols_2 = text_mv_counts[text_mv_counts > 0]\n",
    "    df = df.drop(drop_missing_cols_2.index, axis=1)\n",
    "    \n",
    "    # fill in numerical columns with the most common value in that column\n",
    "    num_missing = df.select_dtypes(include=['int', 'float']).isnull().sum()\n",
    "    fixable_numeric_cols = num_missing[(num_missing < len(df)/20) & (num_missing > 0)]\n",
    "    replacement_values_dict = df[fixable_numeric_cols.index].mode().to_dict(orient='records')[0]\n",
    "    df = df.fillna(replacement_values_dict)\n",
    "    \n",
    "    # create new features\n",
    "    years_sold = df['Yr Sold'] - df['Year Built']\n",
    "    years_since_remod = df['Yr Sold'] - df['Year Remod/Add']\n",
    "    df['Years Before Sale'] = years_sold\n",
    "    df['Years Since Remod'] = years_since_remod\n",
    "    df = df.drop([1702, 2180, 2181], axis=0) # negative numbers\n",
    "\n",
    "    df = df.drop([\"PID\", \"Order\", \"Mo Sold\", \"Sale Condition\", \"Sale Type\", \"Year Built\", \"Year Remod/Add\"], axis=1)\n",
    "    return df\n",
    "\n",
    "def select_features(df, coeff_threshold = 0.4, uniq_threshold = 10):\n",
    "    numerical_df = df.select_dtypes(include = ['int', 'float'])\n",
    "    numerical_df['SalePrice'] = df['SalePrice'].astype(float)\n",
    "    abs_corr_coeffs = numerical_df.corr()['SalePrice'].abs().sort_values()\n",
    "    df = df.drop(abs_corr_coeffs[abs_corr_coeffs < coeff_threshold].index, axis = 1)\n",
    "    \n",
    "    # List column names that are *meant* to be categorical\n",
    "    nominal_features = [\"PID\", \"MS SubClass\", \"MS Zoning\", \"Street\", \"Alley\", \"Land Contour\", \"Lot Config\", \"Neighborhood\", \n",
    "                    \"Condition 1\", \"Condition 2\", \"Bldg Type\", \"House Style\", \"Roof Style\", \"Roof Matl\", \"Exterior 1st\", \n",
    "                    \"Exterior 2nd\", \"Mas Vnr Type\", \"Foundation\", \"Heating\", \"Central Air\", \"Garage Type\", \n",
    "                    \"Misc Feature\", \"Sale Type\", \"Sale Condition\"]\n",
    "    \n",
    "    transform_cat_cols = []\n",
    "    for col in nominal_features:\n",
    "        if col in df.columns:\n",
    "            transform_cat_cols.append(col)\n",
    "\n",
    "    uniqueness_counts = df[transform_cat_cols].apply(lambda col: len(col.value_counts()))\n",
    "    drop_nonuniq_cols = uniqueness_counts[uniqueness_counts > 10].index\n",
    "    df = df.drop(drop_nonuniq_cols, axis=1)\n",
    "    \n",
    "    text_cols = df.select_dtypes(include=['object'])\n",
    "    for col in text_cols:\n",
    "        df[col] = df[col].astype('category')\n",
    "    dummy = pd.get_dummies(df.select_dtypes(include=['category']))\n",
    "    df = pd.concat([df, dummy], axis=1).drop(text_cols,axis=1)\n",
    "    return df"
   ]
  },
  {
   "cell_type": "code",
   "execution_count": 10,
   "metadata": {
    "scrolled": true
   },
   "outputs": [
    {
     "name": "stderr",
     "output_type": "stream",
     "text": [
      "C:\\ProgramData\\Anaconda3\\lib\\site-packages\\ipykernel_launcher.py:30: SettingWithCopyWarning: \n",
      "A value is trying to be set on a copy of a slice from a DataFrame.\n",
      "Try using .loc[row_indexer,col_indexer] = value instead\n",
      "\n",
      "See the caveats in the documentation: http://pandas.pydata.org/pandas-docs/stable/user_guide/indexing.html#returning-a-view-versus-a-copy\n",
      "'c' argument looks like a single numeric RGB or RGBA sequence, which should be avoided as value-mapping will have precedence in case its length matches with 'x' & 'y'.  Please use a 2-D array with a single row if you really want to specify the same RGB or RGBA value for all points.\n",
      "'c' argument looks like a single numeric RGB or RGBA sequence, which should be avoided as value-mapping will have precedence in case its length matches with 'x' & 'y'.  Please use a 2-D array with a single row if you really want to specify the same RGB or RGBA value for all points.\n",
      "'c' argument looks like a single numeric RGB or RGBA sequence, which should be avoided as value-mapping will have precedence in case its length matches with 'x' & 'y'.  Please use a 2-D array with a single row if you really want to specify the same RGB or RGBA value for all points.\n"
     ]
    },
    {
     "name": "stdout",
     "output_type": "stream",
     "text": [
      "rmse:  57178.20737362906\n"
     ]
    },
    {
     "data": {
      "image/png": "[encoded data removed]",
      "text/plain": [
       "<Figure size 1152x720 with 3 Axes>"
      ]
     },
     "metadata": {
      "needs_background": "light"
     },
     "output_type": "display_data"
    }
   ],
   "source": [
    "def train_and_test(df):  \n",
    "    train = df[:1460]\n",
    "    test = df[1460:]\n",
    "    \n",
    "    fig = plt.figure(figsize = (16,10))\n",
    "    ax1 = fig.add_subplot(3, 3, 1)\n",
    "    ax2 = fig.add_subplot(3, 3, 2, sharey = ax1)\n",
    "    ax3 = fig.add_subplot(3, 3, 3, sharey = ax1)\n",
    "            \n",
    "    train.plot(x= \"Garage Area\", y= \"SalePrice\", ax=ax1, kind= \"scatter\")\n",
    "    train.plot(x= \"Gr Liv Area\", y= \"SalePrice\", ax=ax2, kind= \"scatter\")\n",
    "    train.plot(x= \"Overall Cond\", y= \"SalePrice\", ax=ax3, kind= \"scatter\")\n",
    "            \n",
    "    # specify column types and return only those columns as a data frame.\n",
    "    numeric_train = train.select_dtypes(include = ['integer', 'float'])\n",
    "    numeric_test = test.select_dtypes(include = ['integer', 'float'])\n",
    "    numeric_train['SalePrice'] = train['SalePrice'].astype(float)\n",
    "    numeric_test['SalePrice'] = test['SalePrice'].astype(float)\n",
    "    \n",
    "    features = numeric_train.columns.drop(\"SalePrice\")\n",
    "    lr = linear_model.LinearRegression()\n",
    "    lr.fit(train[features], train[\"SalePrice\"])\n",
    "    predictions = lr.predict(test[features])\n",
    "    mse = mean_squared_error(test[\"SalePrice\"], predictions)\n",
    "    rmse = np.sqrt(mse)\n",
    "    return rmse\n",
    "\n",
    "df = pd.read_csv(\"AmesHousing.txt\", delimiter= \"\\t\")\n",
    "transform_df = transform_features(df)\n",
    "filtered_df = select_features(transform_df)\n",
    "rmse = train_and_test(filtered_df)\n",
    "\n",
    "print('rmse: ', rmse)"
   ]
  },
  {
   "cell_type": "code",
   "execution_count": 11,
   "metadata": {},
   "outputs": [
    {
     "name": "stdout",
     "output_type": "stream",
     "text": [
      "56034.362001412796\n",
      "57088.25161263909\n"
     ]
    }
   ],
   "source": [
    "# prediction using less features\n",
    "\n",
    "from sklearn.linear_model import LinearRegression\n",
    "train = df[:1460]\n",
    "test = df[1460:]\n",
    "lr = LinearRegression()\n",
    "lr.fit(train[['Gr Liv Area']], train['SalePrice'])\n",
    "from sklearn.metrics import mean_squared_error\n",
    "\n",
    "train_predictions = lr.predict(train[['Gr Liv Area']])\n",
    "test_predictions = lr.predict(test[['Gr Liv Area']])\n",
    "\n",
    "train_mse = mean_squared_error(train_predictions, train['SalePrice'])\n",
    "test_mse = mean_squared_error(test_predictions, test['SalePrice'])\n",
    "\n",
    "train_rmse = np.sqrt(train_mse)\n",
    "test_rmse = np.sqrt(test_mse)\n",
    "\n",
    "print(train_rmse)\n",
    "print(test_rmse)"
   ]
  },
  {
   "cell_type": "code",
   "execution_count": 12,
   "metadata": {},
   "outputs": [
    {
     "name": "stdout",
     "output_type": "stream",
     "text": [
      "56032.39801525867\n",
      "57066.90779448559\n"
     ]
    }
   ],
   "source": [
    "cols = ['Overall Cond', 'Gr Liv Area']\n",
    "lr = LinearRegression()\n",
    "lr.fit(train[cols], train['SalePrice'])\n",
    "from sklearn.metrics import mean_squared_error\n",
    "\n",
    "train_predictions = lr.predict(train[cols])\n",
    "test_predictions = lr.predict(test[cols])\n",
    "\n",
    "train_mse = mean_squared_error(train_predictions, train['SalePrice'])\n",
    "test_mse = mean_squared_error(test_predictions, test['SalePrice'])\n",
    "\n",
    "train_rmse_2 = np.sqrt(train_mse)\n",
    "test_rmse_2 = np.sqrt(test_mse)\n",
    "\n",
    "print(train_rmse_2)\n",
    "print(test_rmse_2)"
   ]
  },
  {
   "cell_type": "code",
   "execution_count": 13,
   "metadata": {},
   "outputs": [
    {
     "data": {
      "text/plain": [
       "Text(0, 0.5, 'test_predictions')"
      ]
     },
     "execution_count": 13,
     "metadata": {},
     "output_type": "execute_result"
    },
    {
     "data": {
      "image/png": "[encoded data removed]",
      "text/plain": [
       "<Figure size 360x288 with 1 Axes>"
      ]
     },
     "metadata": {
      "needs_background": "light"
     },
     "output_type": "display_data"
    }
   ],
   "source": [
    "plt.figure(figsize=(5,4))\n",
    "plt.scatter(test['SalePrice'], test_predictions)\n",
    "plt.xlabel('test_SalePrice')\n",
    "plt.ylabel('test_predictions')"
   ]
  },
  {
   "cell_type": "markdown",
   "metadata": {},
   "source": [
    "### Optimization parameters using gradient descent"
   ]
  },
  {
   "cell_type": "markdown",
   "metadata": {},
   "source": [
    "\\begin{equation*}\n",
    "y = a_1x_i\n",
    "\\end{equation*}\n",
    "\n",
    "Error: \\begin{equation*}\n",
    "MSE(a_1)= \\frac{1}{n}\\sum_{i=1}^n -(y_i - a_1x_i)^2 \n",
    "\\end{equation*}\n",
    "\n",
    "gradient descent: \\begin{equation*}\n",
    "\\frac{d}{db}MSE(a_1)= \\frac{2}{n}\\sum_{k=1}^n -x_i(y_i - a_1x_i))\n",
    "\\end{equation*}"
   ]
  },
  {
   "cell_type": "markdown",
   "metadata": {},
   "source": [
    "\\begin{equation*}\n",
    "y = a_1x_i + a_0\n",
    "\\end{equation*}\n",
    "\n",
    "Error: \\begin{equation*}\n",
    "MSE(a_0,a_1)= \\frac{1}{n}\\sum_{i=1}^n (y_i - (a_1x_i + a_0))^2 \n",
    "\\end{equation*}\n",
    "\n",
    "gradient descent: \\begin{equation*}\n",
    "\\frac{d}{da_0}MSE(a_0,a_1)= \\frac{2}{n}\\sum_{k=1}^n -(y_i - (a_1x_i + a_0))\n",
    "\\end{equation*}\n",
    "\n",
    "\\begin{equation*}\n",
    "\\frac{d}{da_1}MSE(a_0,a_1)= \\frac{2}{n}\\sum_{k=1}^n -x_i(y_i - (a_1x_i + a_0)) \n",
    "\\end{equation*}"
   ]
  },
  {
   "cell_type": "code",
   "execution_count": 37,
   "metadata": {},
   "outputs": [
    {
     "name": "stdout",
     "output_type": "stream",
     "text": [
      "a0:  999.9729797812329\n",
      "a1:  105.34801721547944\n",
      "mse: 3632954406.5160456\n"
     ]
    }
   ],
   "source": [
    "# algorithm one\n",
    "from numpy import *\n",
    "\n",
    "def step_gradient(a_0_current, a_1_current, x_ls, y_ls, learning_rate):\n",
    "    a_0_gradient = 0\n",
    "    a_1_gradient = 0\n",
    "    n = float(len(x_ls))\n",
    "    for i in range(0, len(x_ls)):\n",
    "        x = x_ls[i]\n",
    "        y = y_ls[i]\n",
    "        a_0_gradient += -(y - (a_1_current*x + a_0_current))\n",
    "        a_1_gradient += -x*(y - (a_1_current*x + a_0_current))\n",
    "    a_0_gradient = 2/n * a_0_gradient\n",
    "    a_1_gradient = 2/n * a_1_gradient  \n",
    "    new_a_0 = a_0_current - learning_rate * a_0_gradient\n",
    "    new_a_1 = a_1_current - learning_rate * a_1_gradient\n",
    "    return new_a_0, new_a_1\n",
    "                   \n",
    "def grandient_decent_runner(x_ls, y_ls, starting_a_0, starting_a_1, learning_rate, num_interations):\n",
    "    a_0 = starting_a_0\n",
    "    a_1 = starting_a_1\n",
    "    for i in range(num_interations):\n",
    "        a_0, a_1 = step_gradient(a_0, a_1, x_ls, y_ls, learning_rate)\n",
    "        return a_0,a_1\n",
    "    \n",
    "def run():\n",
    "    x_ls = train['Gr Liv Area']\n",
    "    y_ls = train['SalePrice']\n",
    "    learning_rate = .0000003\n",
    "    initial_a_0 = 1000\n",
    "    initial_a_1 = 150\n",
    "    num_interations = 20\n",
    "    a_0, a_1 = grandient_decent_runner(x_ls, y_ls,initial_a_0, initial_a_1, learning_rate, num_interations)\n",
    "    return a_0, a_1\n",
    "\n",
    "def compute_error_for_given_points(a_0, a_1, x_ls, y_ls):\n",
    "    totalError = 0\n",
    "    for i in range(0, len(x_ls)):\n",
    "        x = x_ls[i]\n",
    "        y = y_ls[i]\n",
    "        totalError += (y - (a_1*x + a_0))**2\n",
    "    return totalError / float(len(x_ls))\n",
    "\n",
    "a_0, a_1 = run()\n",
    "mse = compute_error_for_given_points(a_0, a_1, train['Gr Liv Area'], train['SalePrice'])\n",
    "print('a0: ', a_0)\n",
    "print('a1: ', a_1)\n",
    "print('mse:', mse)"
   ]
  },
  {
   "cell_type": "markdown",
   "metadata": {},
   "source": [
    "\\begin{equation*}\n",
    "\\frac{d}{db}MSE(a_1)= \\frac{2}{n}\\sum_{k=1}^n x_i(a_1x_i - y_i))\n",
    "\\end{equation*}"
   ]
  },
  {
   "cell_type": "code",
   "execution_count": 16,
   "metadata": {},
   "outputs": [
    {
     "name": "stdout",
     "output_type": "stream",
     "text": [
      "120.14219147202738\n"
     ]
    }
   ],
   "source": [
    "# algorithm two: using one parameter\n",
    "def derivative(a1, xi_list, yi_list):\n",
    "    # return the derivative of a1\n",
    "    len_data = len(xi_list)\n",
    "    error = 0 \n",
    "    for i in range(0, len_data):\n",
    "        error += xi_list[i]*(a1*xi_list[i] - yi_list[i]) #slope error\n",
    "    deriv = 2*error/len_data\n",
    "    return deriv\n",
    "\n",
    "def gradient_descent(xi_list, yi_list, max_iterations, alpha, a1_initial):\n",
    "    a1_list = [a1_initial]\n",
    "    for i in range(0, max_iterations):\n",
    "        a1 = a1_list[i]\n",
    "        deriv = derivative(a1, xi_list, yi_list)\n",
    "        a1_new = a1 - alpha*deriv\n",
    "        a1_list.append(a1_new)\n",
    "    return a1_list\n",
    "\n",
    "param_iterations = gradient_descent(train['Gr Liv Area'], train['SalePrice'], 20, .0000003, 150)\n",
    "final_param = param_iterations[-1]\n",
    "print(final_param)"
   ]
  },
  {
   "cell_type": "code",
   "execution_count": 39,
   "metadata": {},
   "outputs": [
    {
     "data": {
      "text/plain": [
       "Text(0.5, 1.0, 'a1')"
      ]
     },
     "execution_count": 39,
     "metadata": {},
     "output_type": "execute_result"
    },
    {
     "data": {
      "image/png": "[encoded data removed]",
      "text/plain": [
       "<Figure size 288x180 with 1 Axes>"
      ]
     },
     "metadata": {
      "needs_background": "light"
     },
     "output_type": "display_data"
    }
   ],
   "source": [
    "plt.figure(figsize=(4,2.5))\n",
    "plt.plot(param_iterations)\n",
    "plt.title('a1')"
   ]
  },
  {
   "cell_type": "code",
   "execution_count": 36,
   "metadata": {},
   "outputs": [
    {
     "name": "stdout",
     "output_type": "stream",
     "text": [
      "intercept:  999.986114052572\n",
      "slope:      119.53179462379771\n",
      "mse:      3141564440.2734437\n"
     ]
    }
   ],
   "source": [
    "# algorithm three\n",
    "def a1_derivative(a0, a1, xi_list, yi_list):\n",
    "    len_data = len(xi_list)\n",
    "    error = 0\n",
    "    for i in range(0, len_data):\n",
    "        error += xi_list[i]*(a0 + a1*xi_list[i] - yi_list[i])\n",
    "    deriv = 2*error/len_data\n",
    "    return deriv\n",
    "\n",
    "def a0_derivative(a0, a1, xi_list, yi_list):\n",
    "    len_data = len(xi_list)\n",
    "    error = 0\n",
    "    for i in range(0, len_data):\n",
    "        error += a0 + a1*xi_list[i] - yi_list[i]\n",
    "    deriv = 2*error/len_data\n",
    "    return deriv\n",
    "\n",
    "def gradient_descent(xi_list, yi_list, max_iterations, alpha, a1_initial, a0_initial):\n",
    "    a1_list = [a1_initial]\n",
    "    a0_list = [a0_initial]\n",
    "\n",
    "    for i in range(0, max_iterations):\n",
    "        a1 = a1_list[i]\n",
    "        a0 = a0_list[i]\n",
    "        \n",
    "        a1_deriv = a1_derivative(a0, a1, xi_list, yi_list)\n",
    "        a0_deriv = a0_derivative(a0, a1, xi_list, yi_list)\n",
    "        \n",
    "        a1_new = a1 - alpha*a1_deriv\n",
    "        a0_new = a0 - alpha*a0_deriv\n",
    "        \n",
    "        a1_list.append(a1_new)\n",
    "        a0_list.append(a0_new)\n",
    "    return a0_list, a1_list\n",
    "\n",
    "a0_params, a1_params = gradient_descent(train['Gr Liv Area'], train['SalePrice'], 20, .0000003, 150, 1000)\n",
    "print('intercept: ', a0_params[-1])\n",
    "print('slope:     ', a1_params[-1])\n",
    "\n",
    "def compute_error_for_given_points(a_0, a_1, x_ls, y_ls):\n",
    "    totalError = 0\n",
    "    for i in range(0, len(x_ls)):\n",
    "        x = x_ls[i]\n",
    "        y = y_ls[i]\n",
    "        totalError += (y - (a_1*x + a_0))**2\n",
    "    return totalError / float(len(x_ls))\n",
    "\n",
    "mse = compute_error_for_given_points(a0_params[-1], a1_params[-1], train['Gr Liv Area'], train['SalePrice'])\n",
    "print('mse:     ', mse)"
   ]
  },
  {
   "cell_type": "code",
   "execution_count": 32,
   "metadata": {},
   "outputs": [
    {
     "data": {
      "text/plain": [
       "Text(0.5, 1.0, 'a1')"
      ]
     },
     "execution_count": 32,
     "metadata": {},
     "output_type": "execute_result"
    },
    {
     "data": {
      "image/png": "[encoded data removed]",
      "text/plain": [
       "<Figure size 576x360 with 2 Axes>"
      ]
     },
     "metadata": {
      "needs_background": "light"
     },
     "output_type": "display_data"
    }
   ],
   "source": [
    "plt.figure(figsize=(8,5))\n",
    "plt.subplot(2,2,1)\n",
    "plt.plot(a0_params)\n",
    "plt.title('a0')\n",
    "plt.subplot(2,2,2)\n",
    "plt.plot(a1_params)\n",
    "plt.title('a1')"
   ]
  },
  {
   "cell_type": "markdown",
   "metadata": {},
   "source": [
    "### Ordinary least squares estimation (OLS) directly calculates the optimal parameter values that minimize the cost function. "
   ]
  },
  {
   "cell_type": "markdown",
   "metadata": {},
   "source": [
    "\\begin{equation*}\n",
    "y = a_0 + a_1x_1 + a_2x_2 + .... + a_nx_n\n",
    "\\end{equation*}\n",
    "Cost function: \\begin{equation*}\n",
    "J(a) =  \\frac{1}{n}(Xa- y)^T(Xa - y)\n",
    "\\end{equation*}\n",
    "\n",
    "\\begin{equation*}\n",
    "\\frac{dJ(a)}{da} =  2X^TXa - 2X^Ty\n",
    "\\end{equation*}\n",
    "\n",
    "\\begin{equation*}\n",
    "a = (X^TX)^{-1}X^Ty\n",
    "\\end{equation*}"
   ]
  },
  {
   "cell_type": "code",
   "execution_count": 42,
   "metadata": {},
   "outputs": [
    {
     "name": "stdout",
     "output_type": "stream",
     "text": [
      "[   53.75693376 18232.31375751 -6434.65300989    22.53151963\n",
      "    86.81522574    28.08976713 11397.64135314]\n"
     ]
    }
   ],
   "source": [
    "features = ['Wood Deck SF', 'Fireplaces', 'Full Bath', '1st Flr SF', 'Garage Area','Gr Liv Area', 'Overall Qual']\n",
    "X = train[features]\n",
    "y = train['SalePrice']\n",
    "# Computing a matrix inverse has a computational complexity of approximately O(n^3)\n",
    "first_term = np.linalg.inv(\n",
    "        np.dot(np.transpose(X), X)\n",
    "    )\n",
    "second_term = np.dot(np.transpose(X), y)\n",
    "ols_estimation = np.dot(first_term, second_term)\n",
    "print(ols_estimation)"
   ]
  },
  {
   "cell_type": "markdown",
   "metadata": {},
   "source": [
    "#### Processing And Transforming Features"
   ]
  },
  {
   "cell_type": "code",
   "execution_count": null,
   "metadata": {},
   "outputs": [],
   "source": [
    "# Convert all of the text columns in train to the categorical data type\n",
    "data = pd.read_csv('AmesHousing.txt', delimiter=\"\\t\")\n",
    "train = data[0:1460]\n",
    "test = data[1460:]\n",
    "train_null_counts = train.isnull().sum()\n",
    "print(train_null_counts)"
   ]
  },
  {
   "cell_type": "code",
   "execution_count": null,
   "metadata": {},
   "outputs": [],
   "source": [
    "# Select just the columns from the train data frame that contain no missing values\n",
    "df_no_mv = train[train_null_counts[train_null_counts==0].index]\n",
    "text_cols = df_no_mv.select_dtypes(include =['object']).columns\n",
    "train.head()"
   ]
  },
  {
   "cell_type": "code",
   "execution_count": null,
   "metadata": {},
   "outputs": [],
   "source": [
    "train.shape"
   ]
  },
  {
   "cell_type": "code",
   "execution_count": null,
   "metadata": {},
   "outputs": [],
   "source": [
    "for col in text_cols:\n",
    "    print(col+\":\", len(train[col].unique()))\n",
    "    train[col] = train[col].astype('category')"
   ]
  },
  {
   "cell_type": "code",
   "execution_count": null,
   "metadata": {},
   "outputs": [],
   "source": [
    "train['Utilities'].value_counts()"
   ]
  },
  {
   "cell_type": "code",
   "execution_count": null,
   "metadata": {},
   "outputs": [],
   "source": [
    " train['Utilities'].cat.codes.value_counts()"
   ]
  },
  {
   "cell_type": "code",
   "execution_count": null,
   "metadata": {},
   "outputs": [],
   "source": [
    "# Convert all of the columns in text_cols into dummy columns and delete the original columns from text_cols from the train data frame\n",
    "for col in text_cols:\n",
    "    col_dummies = pd.get_dummies(train[col])\n",
    "    train = pd.concat([train, col_dummies], axis = 1)\n",
    "    del train[col]\n",
    "train.shape"
   ]
  },
  {
   "cell_type": "code",
   "execution_count": null,
   "metadata": {},
   "outputs": [],
   "source": [
    "train.head()"
   ]
  },
  {
   "cell_type": "code",
   "execution_count": null,
   "metadata": {},
   "outputs": [],
   "source": [
    "print(train[['Year Remod/Add', 'Year Built']])"
   ]
  },
  {
   "cell_type": "code",
   "execution_count": null,
   "metadata": {},
   "outputs": [],
   "source": [
    "# Calculate the difference between Year Remod/Add and Year Built.\n",
    "train['years_until_remod'] = train['Year Remod/Add'] - train['Year Built']"
   ]
  },
  {
   "cell_type": "code",
   "execution_count": null,
   "metadata": {},
   "outputs": [],
   "source": [
    "# elect columns from train that contain more than 0 missing values but less than 584 missing values\n",
    "df_missing_values = train[train_null_counts[(train_null_counts>0) & (train_null_counts<584)].index]\n",
    "print(df_missing_values.isnull().sum(), '\\n')\n",
    "print(df_missing_values.dtypes)"
   ]
  },
  {
   "cell_type": "code",
   "execution_count": null,
   "metadata": {},
   "outputs": [],
   "source": [
    "# Impute the missing values from float_cols with the column's mean\n",
    "float_cols = df_missing_values.select_dtypes(include = ['float'])\n",
    "float_cols = float_cols.fillna(float_cols.mean())\n",
    "print(float_cols.isnull().sum())"
   ]
  },
  {
   "cell_type": "markdown",
   "metadata": {},
   "source": [
    "#### cosine similarity:   \\begin{equation*}\n",
    "cos(d_1, d_2) =  (d_1.d_2)/ ||d_1||\\ ||d_2||\n",
    "\\end{equation*}"
   ]
  },
  {
   "cell_type": "code",
   "execution_count": 46,
   "metadata": {},
   "outputs": [
    {
     "name": "stdout",
     "output_type": "stream",
     "text": [
      "0.958219796888311\n"
     ]
    }
   ],
   "source": [
    "def cosine_similarity(a,b):\n",
    "    \"compute cosine similarity of a to b: (a dot b)/{||a||*||b||)\"\n",
    "    return dot(a,b) / ( (dot(a,a) **.5) * (dot(b,b) ** .5) )\n",
    "\n",
    "predict_price = 1000 + 119.5 * train['Gr Liv Area']\n",
    "cosine_similarity = cosine_similarity(predict_price, train['SalePrice'])\n",
    "print(cosine_similarity)"
   ]
  },
  {
   "cell_type": "code",
   "execution_count": null,
   "metadata": {},
   "outputs": [],
   "source": []
  }
 ],
 "metadata": {
  "anaconda-cloud": {},
  "kernelspec": {
   "display_name": "Python 3",
   "language": "python",
   "name": "python3"
  },
  "language_info": {
   "codemirror_mode": {
    "name": "ipython",
    "version": 3
   },
   "file_extension": ".py",
   "mimetype": "text/x-python",
   "name": "python",
   "nbconvert_exporter": "python",
   "pygments_lexer": "ipython3",
   "version": "3.7.3"
  }
 },
 "nbformat": 4,
 "nbformat_minor": 2
}
