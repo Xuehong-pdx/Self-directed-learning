{
 "cells": [
  {
   "cell_type": "code",
   "execution_count": 1,
   "metadata": {},
   "outputs": [
    {
     "data": {
      "text/html": [
       "<div>\n",
       "<style scoped>\n",
       "    .dataframe tbody tr th:only-of-type {\n",
       "        vertical-align: middle;\n",
       "    }\n",
       "\n",
       "    .dataframe tbody tr th {\n",
       "        vertical-align: top;\n",
       "    }\n",
       "\n",
       "    .dataframe thead th {\n",
       "        text-align: right;\n",
       "    }\n",
       "</style>\n",
       "<table border=\"1\" class=\"dataframe\">\n",
       "  <thead>\n",
       "    <tr style=\"text-align: right;\">\n",
       "      <th></th>\n",
       "      <th>Id</th>\n",
       "      <th>MSSubClass</th>\n",
       "      <th>MSZoning</th>\n",
       "      <th>LotFrontage</th>\n",
       "      <th>LotArea</th>\n",
       "      <th>Street</th>\n",
       "      <th>Alley</th>\n",
       "      <th>LotShape</th>\n",
       "      <th>LandContour</th>\n",
       "      <th>Utilities</th>\n",
       "      <th>...</th>\n",
       "      <th>PoolArea</th>\n",
       "      <th>PoolQC</th>\n",
       "      <th>Fence</th>\n",
       "      <th>MiscFeature</th>\n",
       "      <th>MiscVal</th>\n",
       "      <th>MoSold</th>\n",
       "      <th>YrSold</th>\n",
       "      <th>SaleType</th>\n",
       "      <th>SaleCondition</th>\n",
       "      <th>SalePrice</th>\n",
       "    </tr>\n",
       "  </thead>\n",
       "  <tbody>\n",
       "    <tr>\n",
       "      <th>0</th>\n",
       "      <td>1</td>\n",
       "      <td>60</td>\n",
       "      <td>RL</td>\n",
       "      <td>65.0</td>\n",
       "      <td>8450</td>\n",
       "      <td>Pave</td>\n",
       "      <td>NaN</td>\n",
       "      <td>Reg</td>\n",
       "      <td>Lvl</td>\n",
       "      <td>AllPub</td>\n",
       "      <td>...</td>\n",
       "      <td>0</td>\n",
       "      <td>NaN</td>\n",
       "      <td>NaN</td>\n",
       "      <td>NaN</td>\n",
       "      <td>0</td>\n",
       "      <td>2</td>\n",
       "      <td>2008</td>\n",
       "      <td>WD</td>\n",
       "      <td>Normal</td>\n",
       "      <td>208500</td>\n",
       "    </tr>\n",
       "    <tr>\n",
       "      <th>1</th>\n",
       "      <td>2</td>\n",
       "      <td>20</td>\n",
       "      <td>RL</td>\n",
       "      <td>80.0</td>\n",
       "      <td>9600</td>\n",
       "      <td>Pave</td>\n",
       "      <td>NaN</td>\n",
       "      <td>Reg</td>\n",
       "      <td>Lvl</td>\n",
       "      <td>AllPub</td>\n",
       "      <td>...</td>\n",
       "      <td>0</td>\n",
       "      <td>NaN</td>\n",
       "      <td>NaN</td>\n",
       "      <td>NaN</td>\n",
       "      <td>0</td>\n",
       "      <td>5</td>\n",
       "      <td>2007</td>\n",
       "      <td>WD</td>\n",
       "      <td>Normal</td>\n",
       "      <td>181500</td>\n",
       "    </tr>\n",
       "    <tr>\n",
       "      <th>2</th>\n",
       "      <td>3</td>\n",
       "      <td>60</td>\n",
       "      <td>RL</td>\n",
       "      <td>68.0</td>\n",
       "      <td>11250</td>\n",
       "      <td>Pave</td>\n",
       "      <td>NaN</td>\n",
       "      <td>IR1</td>\n",
       "      <td>Lvl</td>\n",
       "      <td>AllPub</td>\n",
       "      <td>...</td>\n",
       "      <td>0</td>\n",
       "      <td>NaN</td>\n",
       "      <td>NaN</td>\n",
       "      <td>NaN</td>\n",
       "      <td>0</td>\n",
       "      <td>9</td>\n",
       "      <td>2008</td>\n",
       "      <td>WD</td>\n",
       "      <td>Normal</td>\n",
       "      <td>223500</td>\n",
       "    </tr>\n",
       "  </tbody>\n",
       "</table>\n",
       "<p>3 rows × 81 columns</p>\n",
       "</div>"
      ],
      "text/plain": [
       "   Id  MSSubClass MSZoning  LotFrontage  LotArea Street Alley LotShape  \\\n",
       "0   1          60       RL         65.0     8450   Pave   NaN      Reg   \n",
       "1   2          20       RL         80.0     9600   Pave   NaN      Reg   \n",
       "2   3          60       RL         68.0    11250   Pave   NaN      IR1   \n",
       "\n",
       "  LandContour Utilities  ... PoolArea PoolQC Fence MiscFeature MiscVal MoSold  \\\n",
       "0         Lvl    AllPub  ...        0    NaN   NaN         NaN       0      2   \n",
       "1         Lvl    AllPub  ...        0    NaN   NaN         NaN       0      5   \n",
       "2         Lvl    AllPub  ...        0    NaN   NaN         NaN       0      9   \n",
       "\n",
       "  YrSold  SaleType  SaleCondition  SalePrice  \n",
       "0   2008        WD         Normal     208500  \n",
       "1   2007        WD         Normal     181500  \n",
       "2   2008        WD         Normal     223500  \n",
       "\n",
       "[3 rows x 81 columns]"
      ]
     },
     "execution_count": 1,
     "metadata": {},
     "output_type": "execute_result"
    }
   ],
   "source": [
    "# Load the dataset into a dataframe using pandas\n",
    "import pandas as pd\n",
    "import matplotlib.pyplot as plt\n",
    "%matplotlib inline\n",
    "df = pd.read_csv('Raw_data\\dataset.csv')\n",
    "df.head(3)"
   ]
  },
  {
   "cell_type": "code",
   "execution_count": 2,
   "metadata": {},
   "outputs": [
    {
     "data": {
      "text/plain": [
       "(1460, 81)"
      ]
     },
     "execution_count": 2,
     "metadata": {},
     "output_type": "execute_result"
    }
   ],
   "source": [
    "# Get a sense of the size of the datasest\n",
    "df.shape"
   ]
  },
  {
   "cell_type": "code",
   "execution_count": 3,
   "metadata": {},
   "outputs": [
    {
     "name": "stdout",
     "output_type": "stream",
     "text": [
      "There are 19 columns that have missing values.\n"
     ]
    },
    {
     "data": {
      "text/html": [
       "<div>\n",
       "<style scoped>\n",
       "    .dataframe tbody tr th:only-of-type {\n",
       "        vertical-align: middle;\n",
       "    }\n",
       "\n",
       "    .dataframe tbody tr th {\n",
       "        vertical-align: top;\n",
       "    }\n",
       "\n",
       "    .dataframe thead th {\n",
       "        text-align: right;\n",
       "    }\n",
       "</style>\n",
       "<table border=\"1\" class=\"dataframe\">\n",
       "  <thead>\n",
       "    <tr style=\"text-align: right;\">\n",
       "      <th></th>\n",
       "      <th>Zero Values</th>\n",
       "      <th>Missing Values</th>\n",
       "      <th>% of Total Values</th>\n",
       "      <th>Total Zero Missing Values</th>\n",
       "      <th>% Total Zero Missing Values</th>\n",
       "      <th>Data Type</th>\n",
       "    </tr>\n",
       "  </thead>\n",
       "  <tbody>\n",
       "    <tr>\n",
       "      <th>PoolQC</th>\n",
       "      <td>0</td>\n",
       "      <td>1453</td>\n",
       "      <td>99.5</td>\n",
       "      <td>1453</td>\n",
       "      <td>99.5</td>\n",
       "      <td>object</td>\n",
       "    </tr>\n",
       "    <tr>\n",
       "      <th>MiscFeature</th>\n",
       "      <td>0</td>\n",
       "      <td>1406</td>\n",
       "      <td>96.3</td>\n",
       "      <td>1406</td>\n",
       "      <td>96.3</td>\n",
       "      <td>object</td>\n",
       "    </tr>\n",
       "    <tr>\n",
       "      <th>Alley</th>\n",
       "      <td>0</td>\n",
       "      <td>1369</td>\n",
       "      <td>93.8</td>\n",
       "      <td>1369</td>\n",
       "      <td>93.8</td>\n",
       "      <td>object</td>\n",
       "    </tr>\n",
       "    <tr>\n",
       "      <th>Fence</th>\n",
       "      <td>0</td>\n",
       "      <td>1179</td>\n",
       "      <td>80.8</td>\n",
       "      <td>1179</td>\n",
       "      <td>80.8</td>\n",
       "      <td>object</td>\n",
       "    </tr>\n",
       "    <tr>\n",
       "      <th>FireplaceQu</th>\n",
       "      <td>0</td>\n",
       "      <td>690</td>\n",
       "      <td>47.3</td>\n",
       "      <td>690</td>\n",
       "      <td>47.3</td>\n",
       "      <td>object</td>\n",
       "    </tr>\n",
       "    <tr>\n",
       "      <th>LotFrontage</th>\n",
       "      <td>0</td>\n",
       "      <td>259</td>\n",
       "      <td>17.7</td>\n",
       "      <td>259</td>\n",
       "      <td>17.7</td>\n",
       "      <td>float64</td>\n",
       "    </tr>\n",
       "    <tr>\n",
       "      <th>GarageType</th>\n",
       "      <td>0</td>\n",
       "      <td>81</td>\n",
       "      <td>5.5</td>\n",
       "      <td>81</td>\n",
       "      <td>5.5</td>\n",
       "      <td>object</td>\n",
       "    </tr>\n",
       "    <tr>\n",
       "      <th>GarageYrBlt</th>\n",
       "      <td>0</td>\n",
       "      <td>81</td>\n",
       "      <td>5.5</td>\n",
       "      <td>81</td>\n",
       "      <td>5.5</td>\n",
       "      <td>float64</td>\n",
       "    </tr>\n",
       "    <tr>\n",
       "      <th>GarageFinish</th>\n",
       "      <td>0</td>\n",
       "      <td>81</td>\n",
       "      <td>5.5</td>\n",
       "      <td>81</td>\n",
       "      <td>5.5</td>\n",
       "      <td>object</td>\n",
       "    </tr>\n",
       "    <tr>\n",
       "      <th>GarageQual</th>\n",
       "      <td>0</td>\n",
       "      <td>81</td>\n",
       "      <td>5.5</td>\n",
       "      <td>81</td>\n",
       "      <td>5.5</td>\n",
       "      <td>object</td>\n",
       "    </tr>\n",
       "    <tr>\n",
       "      <th>GarageCond</th>\n",
       "      <td>0</td>\n",
       "      <td>81</td>\n",
       "      <td>5.5</td>\n",
       "      <td>81</td>\n",
       "      <td>5.5</td>\n",
       "      <td>object</td>\n",
       "    </tr>\n",
       "    <tr>\n",
       "      <th>BsmtExposure</th>\n",
       "      <td>0</td>\n",
       "      <td>38</td>\n",
       "      <td>2.6</td>\n",
       "      <td>38</td>\n",
       "      <td>2.6</td>\n",
       "      <td>object</td>\n",
       "    </tr>\n",
       "    <tr>\n",
       "      <th>BsmtFinType2</th>\n",
       "      <td>0</td>\n",
       "      <td>38</td>\n",
       "      <td>2.6</td>\n",
       "      <td>38</td>\n",
       "      <td>2.6</td>\n",
       "      <td>object</td>\n",
       "    </tr>\n",
       "    <tr>\n",
       "      <th>BsmtFinType1</th>\n",
       "      <td>0</td>\n",
       "      <td>37</td>\n",
       "      <td>2.5</td>\n",
       "      <td>37</td>\n",
       "      <td>2.5</td>\n",
       "      <td>object</td>\n",
       "    </tr>\n",
       "    <tr>\n",
       "      <th>BsmtCond</th>\n",
       "      <td>0</td>\n",
       "      <td>37</td>\n",
       "      <td>2.5</td>\n",
       "      <td>37</td>\n",
       "      <td>2.5</td>\n",
       "      <td>object</td>\n",
       "    </tr>\n",
       "    <tr>\n",
       "      <th>BsmtQual</th>\n",
       "      <td>0</td>\n",
       "      <td>37</td>\n",
       "      <td>2.5</td>\n",
       "      <td>37</td>\n",
       "      <td>2.5</td>\n",
       "      <td>object</td>\n",
       "    </tr>\n",
       "    <tr>\n",
       "      <th>MasVnrArea</th>\n",
       "      <td>861</td>\n",
       "      <td>8</td>\n",
       "      <td>0.5</td>\n",
       "      <td>869</td>\n",
       "      <td>59.5</td>\n",
       "      <td>float64</td>\n",
       "    </tr>\n",
       "    <tr>\n",
       "      <th>MasVnrType</th>\n",
       "      <td>0</td>\n",
       "      <td>8</td>\n",
       "      <td>0.5</td>\n",
       "      <td>8</td>\n",
       "      <td>0.5</td>\n",
       "      <td>object</td>\n",
       "    </tr>\n",
       "    <tr>\n",
       "      <th>Electrical</th>\n",
       "      <td>0</td>\n",
       "      <td>1</td>\n",
       "      <td>0.1</td>\n",
       "      <td>1</td>\n",
       "      <td>0.1</td>\n",
       "      <td>object</td>\n",
       "    </tr>\n",
       "  </tbody>\n",
       "</table>\n",
       "</div>"
      ],
      "text/plain": [
       "              Zero Values  Missing Values  % of Total Values  \\\n",
       "PoolQC                  0            1453               99.5   \n",
       "MiscFeature             0            1406               96.3   \n",
       "Alley                   0            1369               93.8   \n",
       "Fence                   0            1179               80.8   \n",
       "FireplaceQu             0             690               47.3   \n",
       "LotFrontage             0             259               17.7   \n",
       "GarageType              0              81                5.5   \n",
       "GarageYrBlt             0              81                5.5   \n",
       "GarageFinish            0              81                5.5   \n",
       "GarageQual              0              81                5.5   \n",
       "GarageCond              0              81                5.5   \n",
       "BsmtExposure            0              38                2.6   \n",
       "BsmtFinType2            0              38                2.6   \n",
       "BsmtFinType1            0              37                2.5   \n",
       "BsmtCond                0              37                2.5   \n",
       "BsmtQual                0              37                2.5   \n",
       "MasVnrArea            861               8                0.5   \n",
       "MasVnrType              0               8                0.5   \n",
       "Electrical              0               1                0.1   \n",
       "\n",
       "              Total Zero Missing Values  % Total Zero Missing Values Data Type  \n",
       "PoolQC                             1453                         99.5    object  \n",
       "MiscFeature                        1406                         96.3    object  \n",
       "Alley                              1369                         93.8    object  \n",
       "Fence                              1179                         80.8    object  \n",
       "FireplaceQu                         690                         47.3    object  \n",
       "LotFrontage                         259                         17.7   float64  \n",
       "GarageType                           81                          5.5    object  \n",
       "GarageYrBlt                          81                          5.5   float64  \n",
       "GarageFinish                         81                          5.5    object  \n",
       "GarageQual                           81                          5.5    object  \n",
       "GarageCond                           81                          5.5    object  \n",
       "BsmtExposure                         38                          2.6    object  \n",
       "BsmtFinType2                         38                          2.6    object  \n",
       "BsmtFinType1                         37                          2.5    object  \n",
       "BsmtCond                             37                          2.5    object  \n",
       "BsmtQual                             37                          2.5    object  \n",
       "MasVnrArea                          869                         59.5   float64  \n",
       "MasVnrType                            8                          0.5    object  \n",
       "Electrical                            1                          0.1    object  "
      ]
     },
     "execution_count": 3,
     "metadata": {},
     "output_type": "execute_result"
    }
   ],
   "source": [
    "# Summarize columns with missing values\n",
    "def missing_zero_values_table(df):\n",
    "        zero_val = (df == 0.00).astype(int).sum(axis = 0)\n",
    "        mis_val = df.isnull().sum()\n",
    "        mis_val_percent = 100 * mis_val / len(df)\n",
    "        mz_table = pd.concat([zero_val, mis_val, mis_val_percent], axis = 1)\n",
    "        mz_table = mz_table.rename(\n",
    "        columns = {0 : 'Zero Values', 1 : 'Missing Values', 2 : '% of Total Values'})\n",
    "        mz_table['Total Zero Missing Values'] = mz_table['Zero Values'] + mz_table['Missing Values']\n",
    "        mz_table['% Total Zero Missing Values'] = 100 * mz_table['Total Zero Missing Values'] / len(df)\n",
    "        mz_table['Data Type'] = df.dtypes\n",
    "        mz_table = mz_table[\n",
    "            mz_table.iloc[:,1] != 0].sort_values(\n",
    "        '% of Total Values', ascending = False).round(1)\n",
    "        print (\"There are \" + str(mz_table.shape[0]) + \" columns that have missing values.\")\n",
    "        return mz_table\n",
    "\n",
    "missing_zero_values_table(df)"
   ]
  },
  {
   "cell_type": "markdown",
   "metadata": {},
   "source": [
    "### Data Cleaning"
   ]
  },
  {
   "cell_type": "code",
   "execution_count": 4,
   "metadata": {},
   "outputs": [
    {
     "data": {
      "text/plain": [
       "(1460, 76)"
      ]
     },
     "execution_count": 4,
     "metadata": {},
     "output_type": "execute_result"
    }
   ],
   "source": [
    "# Drop columns containing less than 60% non-null values\n",
    "df.dropna(thresh = df.shape[0]*0.6, how = 'all', inplace = True, axis=1)\n",
    "df.shape"
   ]
  },
  {
   "cell_type": "code",
   "execution_count": 5,
   "metadata": {},
   "outputs": [
    {
     "name": "stdout",
     "output_type": "stream",
     "text": [
      "MasVnrArea_median value =  0.0\n"
     ]
    },
    {
     "data": {
      "image/png": "[encoded data removed]",
      "text/plain": [
       "<Figure size 288x144 with 1 Axes>"
      ]
     },
     "metadata": {
      "needs_background": "light"
     },
     "output_type": "display_data"
    }
   ],
   "source": [
    "# Check the value distribution in MasVnrArea, which has 861 zero values.  \n",
    "plt.figure(figsize=(4,2))\n",
    "df['MasVnrArea'].hist()\n",
    "print('MasVnrArea_median value = ', df['MasVnrArea'].median())"
   ]
  },
  {
   "cell_type": "code",
   "execution_count": 6,
   "metadata": {},
   "outputs": [
    {
     "name": "stdout",
     "output_type": "stream",
     "text": [
      "There are 13 columns that have missing values.\n"
     ]
    },
    {
     "data": {
      "text/html": [
       "<div>\n",
       "<style scoped>\n",
       "    .dataframe tbody tr th:only-of-type {\n",
       "        vertical-align: middle;\n",
       "    }\n",
       "\n",
       "    .dataframe tbody tr th {\n",
       "        vertical-align: top;\n",
       "    }\n",
       "\n",
       "    .dataframe thead th {\n",
       "        text-align: right;\n",
       "    }\n",
       "</style>\n",
       "<table border=\"1\" class=\"dataframe\">\n",
       "  <thead>\n",
       "    <tr style=\"text-align: right;\">\n",
       "      <th></th>\n",
       "      <th>Zero Values</th>\n",
       "      <th>Missing Values</th>\n",
       "      <th>% of Total Values</th>\n",
       "      <th>Total Zero Missing Values</th>\n",
       "      <th>% Total Zero Missing Values</th>\n",
       "      <th>Data Type</th>\n",
       "    </tr>\n",
       "  </thead>\n",
       "  <tbody>\n",
       "    <tr>\n",
       "      <th>LotFrontage</th>\n",
       "      <td>0</td>\n",
       "      <td>259</td>\n",
       "      <td>17.7</td>\n",
       "      <td>259</td>\n",
       "      <td>17.7</td>\n",
       "      <td>float64</td>\n",
       "    </tr>\n",
       "    <tr>\n",
       "      <th>GarageType</th>\n",
       "      <td>0</td>\n",
       "      <td>81</td>\n",
       "      <td>5.5</td>\n",
       "      <td>81</td>\n",
       "      <td>5.5</td>\n",
       "      <td>object</td>\n",
       "    </tr>\n",
       "    <tr>\n",
       "      <th>GarageYrBlt</th>\n",
       "      <td>0</td>\n",
       "      <td>81</td>\n",
       "      <td>5.5</td>\n",
       "      <td>81</td>\n",
       "      <td>5.5</td>\n",
       "      <td>float64</td>\n",
       "    </tr>\n",
       "    <tr>\n",
       "      <th>GarageFinish</th>\n",
       "      <td>0</td>\n",
       "      <td>81</td>\n",
       "      <td>5.5</td>\n",
       "      <td>81</td>\n",
       "      <td>5.5</td>\n",
       "      <td>object</td>\n",
       "    </tr>\n",
       "    <tr>\n",
       "      <th>GarageQual</th>\n",
       "      <td>0</td>\n",
       "      <td>81</td>\n",
       "      <td>5.5</td>\n",
       "      <td>81</td>\n",
       "      <td>5.5</td>\n",
       "      <td>object</td>\n",
       "    </tr>\n",
       "    <tr>\n",
       "      <th>GarageCond</th>\n",
       "      <td>0</td>\n",
       "      <td>81</td>\n",
       "      <td>5.5</td>\n",
       "      <td>81</td>\n",
       "      <td>5.5</td>\n",
       "      <td>object</td>\n",
       "    </tr>\n",
       "    <tr>\n",
       "      <th>BsmtExposure</th>\n",
       "      <td>0</td>\n",
       "      <td>38</td>\n",
       "      <td>2.6</td>\n",
       "      <td>38</td>\n",
       "      <td>2.6</td>\n",
       "      <td>object</td>\n",
       "    </tr>\n",
       "    <tr>\n",
       "      <th>BsmtFinType2</th>\n",
       "      <td>0</td>\n",
       "      <td>38</td>\n",
       "      <td>2.6</td>\n",
       "      <td>38</td>\n",
       "      <td>2.6</td>\n",
       "      <td>object</td>\n",
       "    </tr>\n",
       "    <tr>\n",
       "      <th>BsmtQual</th>\n",
       "      <td>0</td>\n",
       "      <td>37</td>\n",
       "      <td>2.5</td>\n",
       "      <td>37</td>\n",
       "      <td>2.5</td>\n",
       "      <td>object</td>\n",
       "    </tr>\n",
       "    <tr>\n",
       "      <th>BsmtCond</th>\n",
       "      <td>0</td>\n",
       "      <td>37</td>\n",
       "      <td>2.5</td>\n",
       "      <td>37</td>\n",
       "      <td>2.5</td>\n",
       "      <td>object</td>\n",
       "    </tr>\n",
       "    <tr>\n",
       "      <th>BsmtFinType1</th>\n",
       "      <td>0</td>\n",
       "      <td>37</td>\n",
       "      <td>2.5</td>\n",
       "      <td>37</td>\n",
       "      <td>2.5</td>\n",
       "      <td>object</td>\n",
       "    </tr>\n",
       "    <tr>\n",
       "      <th>MasVnrType</th>\n",
       "      <td>0</td>\n",
       "      <td>8</td>\n",
       "      <td>0.5</td>\n",
       "      <td>8</td>\n",
       "      <td>0.5</td>\n",
       "      <td>object</td>\n",
       "    </tr>\n",
       "    <tr>\n",
       "      <th>Electrical</th>\n",
       "      <td>0</td>\n",
       "      <td>1</td>\n",
       "      <td>0.1</td>\n",
       "      <td>1</td>\n",
       "      <td>0.1</td>\n",
       "      <td>object</td>\n",
       "    </tr>\n",
       "  </tbody>\n",
       "</table>\n",
       "</div>"
      ],
      "text/plain": [
       "              Zero Values  Missing Values  % of Total Values  \\\n",
       "LotFrontage             0             259               17.7   \n",
       "GarageType              0              81                5.5   \n",
       "GarageYrBlt             0              81                5.5   \n",
       "GarageFinish            0              81                5.5   \n",
       "GarageQual              0              81                5.5   \n",
       "GarageCond              0              81                5.5   \n",
       "BsmtExposure            0              38                2.6   \n",
       "BsmtFinType2            0              38                2.6   \n",
       "BsmtQual                0              37                2.5   \n",
       "BsmtCond                0              37                2.5   \n",
       "BsmtFinType1            0              37                2.5   \n",
       "MasVnrType              0               8                0.5   \n",
       "Electrical              0               1                0.1   \n",
       "\n",
       "              Total Zero Missing Values  % Total Zero Missing Values Data Type  \n",
       "LotFrontage                         259                         17.7   float64  \n",
       "GarageType                           81                          5.5    object  \n",
       "GarageYrBlt                          81                          5.5   float64  \n",
       "GarageFinish                         81                          5.5    object  \n",
       "GarageQual                           81                          5.5    object  \n",
       "GarageCond                           81                          5.5    object  \n",
       "BsmtExposure                         38                          2.6    object  \n",
       "BsmtFinType2                         38                          2.6    object  \n",
       "BsmtQual                             37                          2.5    object  \n",
       "BsmtCond                             37                          2.5    object  \n",
       "BsmtFinType1                         37                          2.5    object  \n",
       "MasVnrType                            8                          0.5    object  \n",
       "Electrical                            1                          0.1    object  "
      ]
     },
     "execution_count": 6,
     "metadata": {},
     "output_type": "execute_result"
    }
   ],
   "source": [
    "# Data in MasVnrArea column are largely zeros and unlikely to be useful.  Thus will be dropped.\n",
    "df.drop(['MasVnrArea'], axis = 1, inplace = True)\n",
    "missing_zero_values_table(df)"
   ]
  },
  {
   "cell_type": "code",
   "execution_count": 7,
   "metadata": {},
   "outputs": [
    {
     "data": {
      "text/plain": [
       "count    1201.000000\n",
       "mean       70.049958\n",
       "std        24.284752\n",
       "min        21.000000\n",
       "25%        59.000000\n",
       "50%        69.000000\n",
       "75%        80.000000\n",
       "max       313.000000\n",
       "Name: LotFrontage, dtype: float64"
      ]
     },
     "execution_count": 7,
     "metadata": {},
     "output_type": "execute_result"
    }
   ],
   "source": [
    "df['LotFrontage'].describe()"
   ]
  },
  {
   "cell_type": "code",
   "execution_count": 8,
   "metadata": {},
   "outputs": [
    {
     "data": {
      "text/plain": [
       "count    1460.000000\n",
       "mean       70.049958\n",
       "std        22.024023\n",
       "min        21.000000\n",
       "25%        60.000000\n",
       "50%        70.049958\n",
       "75%        79.000000\n",
       "max       313.000000\n",
       "Name: LotFrontage, dtype: float64"
      ]
     },
     "execution_count": 8,
     "metadata": {},
     "output_type": "execute_result"
    }
   ],
   "source": [
    "# Fill null values in LotFrontage column with the average value\n",
    "df['LotFrontage'].fillna((df['LotFrontage'].mean()), inplace = True)\n",
    "df['LotFrontage'].describe()"
   ]
  },
  {
   "cell_type": "markdown",
   "metadata": {},
   "source": [
    "The LotFrontage column has the most null value after dropping columns with more than 60% null values. Replacing NA values with the average did not change the mean for the column, thus it is a reasonable approach to preserve the column for later analysis."
   ]
  },
  {
   "cell_type": "code",
   "execution_count": 9,
   "metadata": {},
   "outputs": [
    {
     "data": {
      "text/plain": [
       "<matplotlib.axes._subplots.AxesSubplot at 0x210473af2e8>"
      ]
     },
     "execution_count": 9,
     "metadata": {},
     "output_type": "execute_result"
    },
    {
     "data": {
      "image/png": "[encoded data removed]",
      "text/plain": [
       "<Figure size 720x504 with 2 Axes>"
      ]
     },
     "metadata": {
      "needs_background": "light"
     },
     "output_type": "display_data"
    }
   ],
   "source": [
    "# Check correlations among columns\n",
    "corr = df.corr()\n",
    "\n",
    "# Plot heatmap for corr\n",
    "import seaborn as sns\n",
    "plt.figure(figsize = (10, 7))\n",
    "sns.heatmap(corr)"
   ]
  },
  {
   "cell_type": "code",
   "execution_count": 10,
   "metadata": {},
   "outputs": [
    {
     "data": {
      "text/plain": [
       "GarageCars    GarageArea      0.882475\n",
       "GarageArea    GarageCars      0.882475\n",
       "YearBuilt     GarageYrBlt     0.825667\n",
       "GarageYrBlt   YearBuilt       0.825667\n",
       "TotRmsAbvGrd  GrLivArea       0.825489\n",
       "GrLivArea     TotRmsAbvGrd    0.825489\n",
       "TotalBsmtSF   1stFlrSF        0.819530\n",
       "1stFlrSF      TotalBsmtSF     0.819530\n",
       "OverallQual   SalePrice       0.790982\n",
       "SalePrice     OverallQual     0.790982\n",
       "GrLivArea     SalePrice       0.708624\n",
       "SalePrice     GrLivArea       0.708624\n",
       "2ndFlrSF      GrLivArea       0.687501\n",
       "GrLivArea     2ndFlrSF        0.687501\n",
       "TotRmsAbvGrd  BedroomAbvGr    0.676620\n",
       "dtype: float64"
      ]
     },
     "execution_count": 10,
     "metadata": {},
     "output_type": "execute_result"
    }
   ],
   "source": [
    "# Find highly correlated columns\n",
    "s = corr.unstack()\n",
    "so = s.sort_values(ascending = False)\n",
    "so[so!=1].head(15)"
   ]
  },
  {
   "cell_type": "markdown",
   "metadata": {},
   "source": [
    "```Based on the values and description of the data, the first eight pairs are likely duplicate data. For example,\n",
    "   GarageCars indicates the \"Size of garage in car capacity\" while GarageArea indicates the \"Size of garage in square   feet\", they are just different ways to measure the size of the garage.  \n",
    "   The same is likely holds true for YearBuilt&GarageYrBlt, TotalBsmtSF&1stFlrSF, TotRmsAbvGrd&GrLivArea.  \n",
    "   Continue down the list, 2ndFlrSF, BedroomAbvGr, BsmtFinSF1 are also likely to have similar information as their pairs.\n",
    "   Based on this analysis, these columns will be dropped: ['GarageCars','GarageYrBlt','TotalBsmtSF','TotRmsAbvGrd',2ndFlrSF, BedroomAbvGr, BsmtFinSF1]. ```"
   ]
  },
  {
   "cell_type": "code",
   "execution_count": 11,
   "metadata": {},
   "outputs": [],
   "source": [
    "df = df.drop(['GarageCars','GarageYrBlt','TotalBsmtSF','TotRmsAbvGrd','2ndFlrSF', 'BedroomAbvGr', 'BsmtFinSF1'], axis = 1)"
   ]
  },
  {
   "cell_type": "code",
   "execution_count": 12,
   "metadata": {},
   "outputs": [
    {
     "name": "stdout",
     "output_type": "stream",
     "text": [
      "There are 11 columns that have missing values.\n"
     ]
    },
    {
     "data": {
      "text/html": [
       "<div>\n",
       "<style scoped>\n",
       "    .dataframe tbody tr th:only-of-type {\n",
       "        vertical-align: middle;\n",
       "    }\n",
       "\n",
       "    .dataframe tbody tr th {\n",
       "        vertical-align: top;\n",
       "    }\n",
       "\n",
       "    .dataframe thead th {\n",
       "        text-align: right;\n",
       "    }\n",
       "</style>\n",
       "<table border=\"1\" class=\"dataframe\">\n",
       "  <thead>\n",
       "    <tr style=\"text-align: right;\">\n",
       "      <th></th>\n",
       "      <th>Zero Values</th>\n",
       "      <th>Missing Values</th>\n",
       "      <th>% of Total Values</th>\n",
       "      <th>Total Zero Missing Values</th>\n",
       "      <th>% Total Zero Missing Values</th>\n",
       "      <th>Data Type</th>\n",
       "    </tr>\n",
       "  </thead>\n",
       "  <tbody>\n",
       "    <tr>\n",
       "      <th>GarageType</th>\n",
       "      <td>0</td>\n",
       "      <td>81</td>\n",
       "      <td>5.5</td>\n",
       "      <td>81</td>\n",
       "      <td>5.5</td>\n",
       "      <td>object</td>\n",
       "    </tr>\n",
       "    <tr>\n",
       "      <th>GarageFinish</th>\n",
       "      <td>0</td>\n",
       "      <td>81</td>\n",
       "      <td>5.5</td>\n",
       "      <td>81</td>\n",
       "      <td>5.5</td>\n",
       "      <td>object</td>\n",
       "    </tr>\n",
       "    <tr>\n",
       "      <th>GarageQual</th>\n",
       "      <td>0</td>\n",
       "      <td>81</td>\n",
       "      <td>5.5</td>\n",
       "      <td>81</td>\n",
       "      <td>5.5</td>\n",
       "      <td>object</td>\n",
       "    </tr>\n",
       "    <tr>\n",
       "      <th>GarageCond</th>\n",
       "      <td>0</td>\n",
       "      <td>81</td>\n",
       "      <td>5.5</td>\n",
       "      <td>81</td>\n",
       "      <td>5.5</td>\n",
       "      <td>object</td>\n",
       "    </tr>\n",
       "    <tr>\n",
       "      <th>BsmtExposure</th>\n",
       "      <td>0</td>\n",
       "      <td>38</td>\n",
       "      <td>2.6</td>\n",
       "      <td>38</td>\n",
       "      <td>2.6</td>\n",
       "      <td>object</td>\n",
       "    </tr>\n",
       "    <tr>\n",
       "      <th>BsmtFinType2</th>\n",
       "      <td>0</td>\n",
       "      <td>38</td>\n",
       "      <td>2.6</td>\n",
       "      <td>38</td>\n",
       "      <td>2.6</td>\n",
       "      <td>object</td>\n",
       "    </tr>\n",
       "    <tr>\n",
       "      <th>BsmtQual</th>\n",
       "      <td>0</td>\n",
       "      <td>37</td>\n",
       "      <td>2.5</td>\n",
       "      <td>37</td>\n",
       "      <td>2.5</td>\n",
       "      <td>object</td>\n",
       "    </tr>\n",
       "    <tr>\n",
       "      <th>BsmtCond</th>\n",
       "      <td>0</td>\n",
       "      <td>37</td>\n",
       "      <td>2.5</td>\n",
       "      <td>37</td>\n",
       "      <td>2.5</td>\n",
       "      <td>object</td>\n",
       "    </tr>\n",
       "    <tr>\n",
       "      <th>BsmtFinType1</th>\n",
       "      <td>0</td>\n",
       "      <td>37</td>\n",
       "      <td>2.5</td>\n",
       "      <td>37</td>\n",
       "      <td>2.5</td>\n",
       "      <td>object</td>\n",
       "    </tr>\n",
       "    <tr>\n",
       "      <th>MasVnrType</th>\n",
       "      <td>0</td>\n",
       "      <td>8</td>\n",
       "      <td>0.5</td>\n",
       "      <td>8</td>\n",
       "      <td>0.5</td>\n",
       "      <td>object</td>\n",
       "    </tr>\n",
       "    <tr>\n",
       "      <th>Electrical</th>\n",
       "      <td>0</td>\n",
       "      <td>1</td>\n",
       "      <td>0.1</td>\n",
       "      <td>1</td>\n",
       "      <td>0.1</td>\n",
       "      <td>object</td>\n",
       "    </tr>\n",
       "  </tbody>\n",
       "</table>\n",
       "</div>"
      ],
      "text/plain": [
       "              Zero Values  Missing Values  % of Total Values  \\\n",
       "GarageType              0              81                5.5   \n",
       "GarageFinish            0              81                5.5   \n",
       "GarageQual              0              81                5.5   \n",
       "GarageCond              0              81                5.5   \n",
       "BsmtExposure            0              38                2.6   \n",
       "BsmtFinType2            0              38                2.6   \n",
       "BsmtQual                0              37                2.5   \n",
       "BsmtCond                0              37                2.5   \n",
       "BsmtFinType1            0              37                2.5   \n",
       "MasVnrType              0               8                0.5   \n",
       "Electrical              0               1                0.1   \n",
       "\n",
       "              Total Zero Missing Values  % Total Zero Missing Values Data Type  \n",
       "GarageType                           81                          5.5    object  \n",
       "GarageFinish                         81                          5.5    object  \n",
       "GarageQual                           81                          5.5    object  \n",
       "GarageCond                           81                          5.5    object  \n",
       "BsmtExposure                         38                          2.6    object  \n",
       "BsmtFinType2                         38                          2.6    object  \n",
       "BsmtQual                             37                          2.5    object  \n",
       "BsmtCond                             37                          2.5    object  \n",
       "BsmtFinType1                         37                          2.5    object  \n",
       "MasVnrType                            8                          0.5    object  \n",
       "Electrical                            1                          0.1    object  "
      ]
     },
     "execution_count": 12,
     "metadata": {},
     "output_type": "execute_result"
    }
   ],
   "source": [
    "# Check for missing values again\n",
    "missing_zero_values_table(df)"
   ]
  },
  {
   "cell_type": "code",
   "execution_count": 13,
   "metadata": {},
   "outputs": [],
   "source": [
    "\"\"\"Among the four columns related to Garage that still have missing values, \"GarageType\" refers to the Garage \n",
    "   location, \"GarageFinish\" refers to the Interior finish of the garage, \"GarageQual\" refers to Garage quality,\n",
    "   \"GarageCond\" refers to Garage condition.  It seems that \"GarageCond\" should be a sufficient parameter to evalute \n",
    "   the garage condition. \"\"\"\n",
    "\n",
    "df = df.drop(['GarageType', 'GarageFinish', 'GarageQual'], axis = 1)"
   ]
  },
  {
   "cell_type": "code",
   "execution_count": 14,
   "metadata": {},
   "outputs": [],
   "source": [
    "\"\"\" Among the five columns related to basement that still have missing values, \"BsmtExposure\" refers to walkout or \n",
    "    garden level walls, \"BsmtFinType2\" is the rating of basement finished area (if multiple types), \"BsmtQual\" \n",
    "    evaluates the height of the basement, \"BsmtCond\" evaluates the general condition of the basement, \n",
    "    \"BsmtFinType1\" is the rating of basement finished area.  It seems that \"BsmtCond\" should be a sufficient \n",
    "    parameter to evalute the basement condition. \"\"\"\n",
    "\n",
    "df = df.drop(['BsmtExposure', 'BsmtFinType2', 'BsmtQual', 'BsmtFinType1'], axis = 1)"
   ]
  },
  {
   "cell_type": "code",
   "execution_count": 15,
   "metadata": {},
   "outputs": [
    {
     "name": "stdout",
     "output_type": "stream",
     "text": [
      "There are 4 columns that have missing values.\n"
     ]
    },
    {
     "data": {
      "text/html": [
       "<div>\n",
       "<style scoped>\n",
       "    .dataframe tbody tr th:only-of-type {\n",
       "        vertical-align: middle;\n",
       "    }\n",
       "\n",
       "    .dataframe tbody tr th {\n",
       "        vertical-align: top;\n",
       "    }\n",
       "\n",
       "    .dataframe thead th {\n",
       "        text-align: right;\n",
       "    }\n",
       "</style>\n",
       "<table border=\"1\" class=\"dataframe\">\n",
       "  <thead>\n",
       "    <tr style=\"text-align: right;\">\n",
       "      <th></th>\n",
       "      <th>Zero Values</th>\n",
       "      <th>Missing Values</th>\n",
       "      <th>% of Total Values</th>\n",
       "      <th>Total Zero Missing Values</th>\n",
       "      <th>% Total Zero Missing Values</th>\n",
       "      <th>Data Type</th>\n",
       "    </tr>\n",
       "  </thead>\n",
       "  <tbody>\n",
       "    <tr>\n",
       "      <th>GarageCond</th>\n",
       "      <td>0</td>\n",
       "      <td>81</td>\n",
       "      <td>5.5</td>\n",
       "      <td>81</td>\n",
       "      <td>5.5</td>\n",
       "      <td>object</td>\n",
       "    </tr>\n",
       "    <tr>\n",
       "      <th>BsmtCond</th>\n",
       "      <td>0</td>\n",
       "      <td>37</td>\n",
       "      <td>2.5</td>\n",
       "      <td>37</td>\n",
       "      <td>2.5</td>\n",
       "      <td>object</td>\n",
       "    </tr>\n",
       "    <tr>\n",
       "      <th>MasVnrType</th>\n",
       "      <td>0</td>\n",
       "      <td>8</td>\n",
       "      <td>0.5</td>\n",
       "      <td>8</td>\n",
       "      <td>0.5</td>\n",
       "      <td>object</td>\n",
       "    </tr>\n",
       "    <tr>\n",
       "      <th>Electrical</th>\n",
       "      <td>0</td>\n",
       "      <td>1</td>\n",
       "      <td>0.1</td>\n",
       "      <td>1</td>\n",
       "      <td>0.1</td>\n",
       "      <td>object</td>\n",
       "    </tr>\n",
       "  </tbody>\n",
       "</table>\n",
       "</div>"
      ],
      "text/plain": [
       "            Zero Values  Missing Values  % of Total Values  \\\n",
       "GarageCond            0              81                5.5   \n",
       "BsmtCond              0              37                2.5   \n",
       "MasVnrType            0               8                0.5   \n",
       "Electrical            0               1                0.1   \n",
       "\n",
       "            Total Zero Missing Values  % Total Zero Missing Values Data Type  \n",
       "GarageCond                         81                          5.5    object  \n",
       "BsmtCond                           37                          2.5    object  \n",
       "MasVnrType                          8                          0.5    object  \n",
       "Electrical                          1                          0.1    object  "
      ]
     },
     "execution_count": 15,
     "metadata": {},
     "output_type": "execute_result"
    }
   ],
   "source": [
    "# Check for missing values again\n",
    "missing_zero_values_table(df)"
   ]
  },
  {
   "cell_type": "markdown",
   "metadata": {},
   "source": [
    "Since the total missing values now only comprised of less than 10% of the total data, I decided to preserve the features and drop the rows containing missing values."
   ]
  },
  {
   "cell_type": "code",
   "execution_count": 16,
   "metadata": {},
   "outputs": [],
   "source": [
    "df.dropna(inplace = True)"
   ]
  },
  {
   "cell_type": "code",
   "execution_count": 17,
   "metadata": {},
   "outputs": [
    {
     "name": "stdout",
     "output_type": "stream",
     "text": [
      "There are 0 columns that have missing values.\n"
     ]
    },
    {
     "data": {
      "text/html": [
       "<div>\n",
       "<style scoped>\n",
       "    .dataframe tbody tr th:only-of-type {\n",
       "        vertical-align: middle;\n",
       "    }\n",
       "\n",
       "    .dataframe tbody tr th {\n",
       "        vertical-align: top;\n",
       "    }\n",
       "\n",
       "    .dataframe thead th {\n",
       "        text-align: right;\n",
       "    }\n",
       "</style>\n",
       "<table border=\"1\" class=\"dataframe\">\n",
       "  <thead>\n",
       "    <tr style=\"text-align: right;\">\n",
       "      <th></th>\n",
       "      <th>Zero Values</th>\n",
       "      <th>Missing Values</th>\n",
       "      <th>% of Total Values</th>\n",
       "      <th>Total Zero Missing Values</th>\n",
       "      <th>% Total Zero Missing Values</th>\n",
       "      <th>Data Type</th>\n",
       "    </tr>\n",
       "  </thead>\n",
       "  <tbody>\n",
       "  </tbody>\n",
       "</table>\n",
       "</div>"
      ],
      "text/plain": [
       "Empty DataFrame\n",
       "Columns: [Zero Values, Missing Values, % of Total Values, Total Zero Missing Values, % Total Zero Missing Values, Data Type]\n",
       "Index: []"
      ]
     },
     "execution_count": 17,
     "metadata": {},
     "output_type": "execute_result"
    }
   ],
   "source": [
    "# Check for missing values\n",
    "missing_zero_values_table(df)"
   ]
  },
  {
   "cell_type": "code",
   "execution_count": 18,
   "metadata": {},
   "outputs": [
    {
     "data": {
      "text/plain": [
       "(1340, 61)"
      ]
     },
     "execution_count": 18,
     "metadata": {},
     "output_type": "execute_result"
    }
   ],
   "source": [
    "# check the size of the dataframe\n",
    "df.shape"
   ]
  },
  {
   "cell_type": "markdown",
   "metadata": {},
   "source": [
    "#### There are still has 61 potential features.  Check for other potential columns to drop"
   ]
  },
  {
   "cell_type": "code",
   "execution_count": 19,
   "metadata": {},
   "outputs": [
    {
     "name": "stdout",
     "output_type": "stream",
     "text": [
      "<class 'pandas.core.frame.DataFrame'>\n",
      "Int64Index: 1340 entries, 0 to 1459\n",
      "Data columns (total 61 columns):\n",
      "Id               1340 non-null int64\n",
      "MSSubClass       1340 non-null int64\n",
      "MSZoning         1340 non-null object\n",
      "LotFrontage      1340 non-null float64\n",
      "LotArea          1340 non-null int64\n",
      "Street           1340 non-null object\n",
      "LotShape         1340 non-null object\n",
      "LandContour      1340 non-null object\n",
      "Utilities        1340 non-null object\n",
      "LotConfig        1340 non-null object\n",
      "LandSlope        1340 non-null object\n",
      "Neighborhood     1340 non-null object\n",
      "Condition1       1340 non-null object\n",
      "Condition2       1340 non-null object\n",
      "BldgType         1340 non-null object\n",
      "HouseStyle       1340 non-null object\n",
      "OverallQual      1340 non-null int64\n",
      "OverallCond      1340 non-null int64\n",
      "YearBuilt        1340 non-null int64\n",
      "YearRemodAdd     1340 non-null int64\n",
      "RoofStyle        1340 non-null object\n",
      "RoofMatl         1340 non-null object\n",
      "Exterior1st      1340 non-null object\n",
      "Exterior2nd      1340 non-null object\n",
      "MasVnrType       1340 non-null object\n",
      "ExterQual        1340 non-null object\n",
      "ExterCond        1340 non-null object\n",
      "Foundation       1340 non-null object\n",
      "BsmtCond         1340 non-null object\n",
      "BsmtFinSF2       1340 non-null int64\n",
      "BsmtUnfSF        1340 non-null int64\n",
      "Heating          1340 non-null object\n",
      "HeatingQC        1340 non-null object\n",
      "CentralAir       1340 non-null object\n",
      "Electrical       1340 non-null object\n",
      "1stFlrSF         1340 non-null int64\n",
      "LowQualFinSF     1340 non-null int64\n",
      "GrLivArea        1340 non-null int64\n",
      "BsmtFullBath     1340 non-null int64\n",
      "BsmtHalfBath     1340 non-null int64\n",
      "FullBath         1340 non-null int64\n",
      "HalfBath         1340 non-null int64\n",
      "KitchenAbvGr     1340 non-null int64\n",
      "KitchenQual      1340 non-null object\n",
      "Functional       1340 non-null object\n",
      "Fireplaces       1340 non-null int64\n",
      "GarageArea       1340 non-null int64\n",
      "GarageCond       1340 non-null object\n",
      "PavedDrive       1340 non-null object\n",
      "WoodDeckSF       1340 non-null int64\n",
      "OpenPorchSF      1340 non-null int64\n",
      "EnclosedPorch    1340 non-null int64\n",
      "3SsnPorch        1340 non-null int64\n",
      "ScreenPorch      1340 non-null int64\n",
      "PoolArea         1340 non-null int64\n",
      "MiscVal          1340 non-null int64\n",
      "MoSold           1340 non-null int64\n",
      "YrSold           1340 non-null int64\n",
      "SaleType         1340 non-null object\n",
      "SaleCondition    1340 non-null object\n",
      "SalePrice        1340 non-null int64\n",
      "dtypes: float64(1), int64(29), object(31)\n",
      "memory usage: 649.1+ KB\n"
     ]
    }
   ],
   "source": [
    "df.info()"
   ]
  },
  {
   "cell_type": "markdown",
   "metadata": {},
   "source": [
    "I decided to hand pick potential useful features and exclude features that may contain reducant information based on the data description.  I will also exclude features that are not likely to be important for home buyers based on my own intuiation."
   ]
  },
  {
   "cell_type": "code",
   "execution_count": 20,
   "metadata": {},
   "outputs": [
    {
     "name": "stdout",
     "output_type": "stream",
     "text": [
      "(1340, 19)\n"
     ]
    }
   ],
   "source": [
    "# choose columns to keep\n",
    "s_col = ['MSSubClass', 'MSZoning','LotFrontage','LotArea','LandSlope','Neighborhood','OverallQual','YearBuilt','YearRemodAdd','BsmtCond','GrLivArea','FullBath','HalfBath','KitchenQual','Fireplaces','GarageArea','GarageCond','YrSold', 'SalePrice']\n",
    "df = df[s_col]\n",
    "print(df.shape)"
   ]
  },
  {
   "cell_type": "markdown",
   "metadata": {},
   "source": [
    "### Data transformation"
   ]
  },
  {
   "cell_type": "markdown",
   "metadata": {},
   "source": [
    "YearBuilt, YearRemodAdd and YrSold alone are not as useful.  It's better to make a new column with information on\n",
    "the age of the house.  If it is remodeled, the age will be calculated as from the year it was remodeled to the \n",
    "year it was sold.  "
   ]
  },
  {
   "cell_type": "code",
   "execution_count": 21,
   "metadata": {},
   "outputs": [
    {
     "data": {
      "text/plain": [
       "True    1340\n",
       "dtype: int64"
      ]
     },
     "execution_count": 21,
     "metadata": {},
     "output_type": "execute_result"
    }
   ],
   "source": [
    "# Check to make sure that the dates make sense. \n",
    "c = df['YearRemodAdd'] >= df['YearBuilt']\n",
    "c.value_counts()"
   ]
  },
  {
   "cell_type": "code",
   "execution_count": 22,
   "metadata": {},
   "outputs": [
    {
     "data": {
      "text/plain": [
       "(1340, 17)"
      ]
     },
     "execution_count": 22,
     "metadata": {},
     "output_type": "execute_result"
    }
   ],
   "source": [
    "# Create the new HouseAge column based on YearRemodAdd and YrSold\n",
    "c = df['YearRemodAdd'] - df['YearBuilt']\n",
    "df['HouseAge'] = c\n",
    "df = df.drop(['YearBuilt', 'YearRemodAdd', 'YrSold'], axis = 1)\n",
    "df.shape"
   ]
  },
  {
   "cell_type": "code",
   "execution_count": 23,
   "metadata": {},
   "outputs": [
    {
     "data": {
      "text/plain": [
       "SalePrice      1.000000\n",
       "OverallQual    0.783738\n",
       "GrLivArea      0.711424\n",
       "GarageArea     0.608110\n",
       "FullBath       0.569488\n",
       "Fireplaces     0.445613\n",
       "LotFrontage    0.328168\n",
       "HalfBath       0.257160\n",
       "LotArea        0.254615\n",
       "HouseAge       0.202945\n",
       "MSSubClass     0.080331\n",
       "Name: SalePrice, dtype: float64"
      ]
     },
     "execution_count": 23,
     "metadata": {},
     "output_type": "execute_result"
    }
   ],
   "source": [
    "# Check feature correlations with SalePrice\n",
    "corr = df.corr()\n",
    "corr['SalePrice'].abs().sort_values(ascending = False)"
   ]
  },
  {
   "cell_type": "code",
   "execution_count": 24,
   "metadata": {},
   "outputs": [],
   "source": [
    "# MSSubClass is poorly correlated with SalePrice, will drop it\n",
    "df = df.drop(['MSSubClass'], axis = 1)"
   ]
  },
  {
   "cell_type": "markdown",
   "metadata": {},
   "source": [
    "### Transforming categorical variables"
   ]
  },
  {
   "cell_type": "code",
   "execution_count": 25,
   "metadata": {},
   "outputs": [
    {
     "data": {
      "text/plain": [
       "Index(['MSZoning', 'LandSlope', 'Neighborhood', 'BsmtCond', 'KitchenQual',\n",
       "       'GarageCond'],\n",
       "      dtype='object')"
      ]
     },
     "execution_count": 25,
     "metadata": {},
     "output_type": "execute_result"
    }
   ],
   "source": [
    "# Learn about the non-numeric variables\n",
    "df.select_dtypes(include=['object']).columns"
   ]
  },
  {
   "cell_type": "code",
   "execution_count": 26,
   "metadata": {},
   "outputs": [
    {
     "data": {
      "text/plain": [
       "RL         1068\n",
       "RM          191\n",
       "FV           62\n",
       "RH           11\n",
       "C (all)       8\n",
       "Name: MSZoning, dtype: int64"
      ]
     },
     "execution_count": 26,
     "metadata": {},
     "output_type": "execute_result"
    }
   ],
   "source": [
    "df['MSZoning'].value_counts()"
   ]
  },
  {
   "cell_type": "code",
   "execution_count": 27,
   "metadata": {},
   "outputs": [
    {
     "data": {
      "text/plain": [
       "Gtl    1267\n",
       "Mod      61\n",
       "Sev      12\n",
       "Name: LandSlope, dtype: int64"
      ]
     },
     "execution_count": 27,
     "metadata": {},
     "output_type": "execute_result"
    }
   ],
   "source": [
    "df['LandSlope'].value_counts()"
   ]
  },
  {
   "cell_type": "code",
   "execution_count": 28,
   "metadata": {},
   "outputs": [
    {
     "data": {
      "text/plain": [
       "NAmes      209\n",
       "CollgCr    147\n",
       "OldTown    100\n",
       "Somerst     83\n",
       "Gilbert     77\n",
       "NridgHt     76\n",
       "NWAmes      73\n",
       "Edwards     70\n",
       "Sawyer      69\n",
       "SawyerW     53\n",
       "Crawfor     50\n",
       "BrkSide     47\n",
       "Mitchel     42\n",
       "NoRidge     41\n",
       "Timber      37\n",
       "IDOTRR      29\n",
       "ClearCr     26\n",
       "StoneBr     25\n",
       "SWISU       20\n",
       "Blmngtn     17\n",
       "BrDale      15\n",
       "MeadowV     12\n",
       "Veenker     11\n",
       "NPkVill      9\n",
       "Blueste      2\n",
       "Name: Neighborhood, dtype: int64"
      ]
     },
     "execution_count": 28,
     "metadata": {},
     "output_type": "execute_result"
    }
   ],
   "source": [
    "df['Neighborhood'].value_counts()"
   ]
  },
  {
   "cell_type": "code",
   "execution_count": 29,
   "metadata": {},
   "outputs": [
    {
     "data": {
      "text/plain": [
       "TA    1239\n",
       "Gd      62\n",
       "Fa      38\n",
       "Po       1\n",
       "Name: BsmtCond, dtype: int64"
      ]
     },
     "execution_count": 29,
     "metadata": {},
     "output_type": "execute_result"
    }
   ],
   "source": [
    "df['BsmtCond'].value_counts()"
   ]
  },
  {
   "cell_type": "code",
   "execution_count": 30,
   "metadata": {},
   "outputs": [
    {
     "data": {
      "text/plain": [
       "TA    650\n",
       "Gd    570\n",
       "Ex     97\n",
       "Fa     23\n",
       "Name: KitchenQual, dtype: int64"
      ]
     },
     "execution_count": 30,
     "metadata": {},
     "output_type": "execute_result"
    }
   ],
   "source": [
    "df['KitchenQual'].value_counts()"
   ]
  },
  {
   "cell_type": "code",
   "execution_count": 31,
   "metadata": {},
   "outputs": [
    {
     "data": {
      "text/plain": [
       "TA    1289\n",
       "Fa      33\n",
       "Gd       9\n",
       "Po       7\n",
       "Ex       2\n",
       "Name: GarageCond, dtype: int64"
      ]
     },
     "execution_count": 31,
     "metadata": {},
     "output_type": "execute_result"
    }
   ],
   "source": [
    "df['GarageCond'].value_counts()"
   ]
  },
  {
   "cell_type": "markdown",
   "metadata": {},
   "source": [
    "I am not familiar with the neighborhood designations and I don't have a good reference on hand to categorize them in a reasonable way in relation to housing market.  Therefore, it will be dropped."
   ]
  },
  {
   "cell_type": "code",
   "execution_count": 32,
   "metadata": {},
   "outputs": [],
   "source": [
    "df = df.drop(['Neighborhood'], axis = 1)"
   ]
  },
  {
   "cell_type": "code",
   "execution_count": 33,
   "metadata": {},
   "outputs": [
    {
     "name": "stdout",
     "output_type": "stream",
     "text": [
      "MSZoning: 5\n",
      "LandSlope: 3\n",
      "BsmtCond: 4\n",
      "KitchenQual: 4\n",
      "GarageCond: 5\n"
     ]
    }
   ],
   "source": [
    "# Change string data type to categorical values\n",
    "t_cols = ['MSZoning','LandSlope','BsmtCond','KitchenQual','GarageCond']\n",
    "for col in t_cols:\n",
    "    print(col+\":\", len(df[col].unique()))\n",
    "    df[col] = df[col].astype('category')"
   ]
  },
  {
   "cell_type": "code",
   "execution_count": 34,
   "metadata": {},
   "outputs": [],
   "source": [
    "# Create dummy variable for the text columns\n",
    "for col in t_cols:\n",
    "    col_dummies = pd.get_dummies(df[col]).rename(columns = lambda x: col + str(x))\n",
    "    df = pd.concat([df, col_dummies], axis=1)\n",
    "    del df[col]"
   ]
  },
  {
   "cell_type": "code",
   "execution_count": 35,
   "metadata": {},
   "outputs": [
    {
     "data": {
      "text/plain": [
       "SalePrice          1.000000\n",
       "OverallQual        0.783738\n",
       "GrLivArea          0.711424\n",
       "GarageArea         0.608110\n",
       "FullBath           0.569488\n",
       "KitchenQualTA      0.524398\n",
       "KitchenQualEx      0.510276\n",
       "Fireplaces         0.445613\n",
       "LotFrontage        0.328168\n",
       "KitchenQualGd      0.293272\n",
       "MSZoningRM         0.286536\n",
       "HalfBath           0.257160\n",
       "LotArea            0.254615\n",
       "MSZoningRL         0.244193\n",
       "HouseAge           0.202945\n",
       "GarageCondTA       0.150504\n",
       "GarageCondFa       0.140862\n",
       "BsmtCondFa         0.135256\n",
       "KitchenQualFa      0.116556\n",
       "MSZoningC (all)    0.106776\n",
       "MSZoningFV         0.078332\n",
       "GarageCondPo       0.071977\n",
       "MSZoningRH         0.069556\n",
       "BsmtCondGd         0.068848\n",
       "LandSlopeGtl       0.060436\n",
       "LandSlopeMod       0.049740\n",
       "BsmtCondPo         0.041523\n",
       "LandSlopeSev       0.035542\n",
       "BsmtCondTA         0.034558\n",
       "GarageCondEx       0.030803\n",
       "GarageCondGd       0.007203\n",
       "Name: SalePrice, dtype: float64"
      ]
     },
     "execution_count": 35,
     "metadata": {},
     "output_type": "execute_result"
    }
   ],
   "source": [
    "# Check correlation again\n",
    "corr = df.corr()\n",
    "cor = corr['SalePrice'].abs().sort_values(ascending = False)\n",
    "cor"
   ]
  },
  {
   "cell_type": "code",
   "execution_count": 36,
   "metadata": {},
   "outputs": [
    {
     "data": {
      "text/plain": [
       "(1340, 15)"
      ]
     },
     "execution_count": 36,
     "metadata": {},
     "output_type": "execute_result"
    }
   ],
   "source": [
    "# Drop columns having a correlation coefficient less than 0.2\n",
    "ci = cor[cor >= 0.2].index\n",
    "df = df[ci]\n",
    "df.shape"
   ]
  },
  {
   "cell_type": "code",
   "execution_count": 37,
   "metadata": {},
   "outputs": [
    {
     "data": {
      "text/plain": [
       "SalePrice        1.000000\n",
       "OverallQual      0.783738\n",
       "GrLivArea        0.711424\n",
       "GarageArea       0.608110\n",
       "FullBath         0.569488\n",
       "KitchenQualTA    0.524398\n",
       "KitchenQualEx    0.510276\n",
       "Fireplaces       0.445613\n",
       "LotFrontage      0.328168\n",
       "KitchenQualGd    0.293272\n",
       "MSZoningRM       0.286536\n",
       "HalfBath         0.257160\n",
       "LotArea          0.254615\n",
       "MSZoningRL       0.244193\n",
       "HouseAge         0.202945\n",
       "Name: SalePrice, dtype: float64"
      ]
     },
     "execution_count": 37,
     "metadata": {},
     "output_type": "execute_result"
    }
   ],
   "source": [
    "# Check correlation again\n",
    "corr = df.corr()\n",
    "cor = corr['SalePrice'].abs().sort_values(ascending = False)\n",
    "cor"
   ]
  },
  {
   "cell_type": "markdown",
   "metadata": {},
   "source": [
    "## Model selection\n",
    "Because there are several columns that are highly correlated with the SalePrice and because SalePrice is a continous variable, I decided to fisr employ a linear regression model to predict SalePrice.  "
   ]
  },
  {
   "cell_type": "code",
   "execution_count": 38,
   "metadata": {},
   "outputs": [
    {
     "data": {
      "text/plain": [
       "Text(0, 0.5, 'KitchenQualGd')"
      ]
     },
     "execution_count": 38,
     "metadata": {},
     "output_type": "execute_result"
    },
    {
     "data": {
      "image/png": "[encoded data removed]",
      "text/plain": [
       "<Figure size 720x576 with 9 Axes>"
      ]
     },
     "metadata": {
      "needs_background": "light"
     },
     "output_type": "display_data"
    }
   ],
   "source": [
    "# Visulize the relationship between SalePrice and top correlated columns to get a sense of the data.\n",
    "fig = plt.figure(figsize = (10,8))\n",
    "fig.subplots_adjust(hspace=0.4, wspace=0.4)\n",
    "\n",
    "ax1 = fig.add_subplot(3, 3, 1)\n",
    "ax1.scatter(df['SalePrice'], df['OverallQual'])\n",
    "ax1.set_ylabel('OverallQual')\n",
    "\n",
    "ax2 = fig.add_subplot(3, 3, 2)\n",
    "ax2.scatter(df['SalePrice'],df['GrLivArea'])\n",
    "ax2.set_ylabel('GrLivArea')\n",
    "\n",
    "ax3 = fig.add_subplot(3, 3, 3)\n",
    "ax3.scatter(df['SalePrice'],df['GarageArea'])\n",
    "ax3.set_ylabel('GarageArea')\n",
    "\n",
    "ax4 = fig.add_subplot(3, 3, 4)\n",
    "ax4.scatter(df['SalePrice'],df['FullBath'])\n",
    "ax4.set_ylabel('FullBath')\n",
    "\n",
    "ax5 = fig.add_subplot(3, 3, 5)\n",
    "ax5.scatter(df['SalePrice'],df['KitchenQualTA'])\n",
    "ax5.set_ylabel('KitchenQualTA')\n",
    "\n",
    "ax6 = fig.add_subplot(3, 3, 6)\n",
    "ax6.scatter(df['SalePrice'],df['KitchenQualEx'])\n",
    "ax6.set_ylabel('KitchenQualEx')\n",
    "\n",
    "ax7 = fig.add_subplot(3, 3, 7)\n",
    "ax7.scatter(df['SalePrice'],df['Fireplaces'])\n",
    "ax7.set_ylabel('Fireplaces')\n",
    "\n",
    "ax8 = fig.add_subplot(3, 3, 8)\n",
    "ax8.scatter(df['SalePrice'],df['LotFrontage'])\n",
    "ax8.set_ylabel('LotFrontage')\n",
    "\n",
    "ax9 = fig.add_subplot(3, 3, 9)\n",
    "ax9.scatter(df['SalePrice'],df['KitchenQualGd'])\n",
    "ax9.set_ylabel('KitchenQualGd')"
   ]
  },
  {
   "cell_type": "markdown",
   "metadata": {},
   "source": [
    "As seen above, there are at least four columns that exhibit somewhat reasonable linear relationship with  SalePrice, namely, OverallQual, GrLivArea, GarageArea and LotFrontage.  "
   ]
  },
  {
   "cell_type": "code",
   "execution_count": 39,
   "metadata": {},
   "outputs": [],
   "source": [
    "# train and testing models\n",
    "import numpy as np\n",
    "from sklearn.metrics import mean_squared_error\n",
    "from sklearn import linear_model\n",
    "\n",
    "def train_and_test(train, features):\n",
    "    \"\"\" This function trains a model based on a set of given features using a train data set. \n",
    "    It returns the rmse. \"\"\"\n",
    "    lr = linear_model.LinearRegression()\n",
    "    lr.fit(train[features], train['SalePrice'])\n",
    "    predictions = lr.predict(test[features])\n",
    "    mse = mean_squared_error(test['SalePrice'], predictions)\n",
    "    rmse = np.sqrt(mse)\n",
    "    return rmse"
   ]
  },
  {
   "cell_type": "code",
   "execution_count": 43,
   "metadata": {},
   "outputs": [
    {
     "name": "stdout",
     "output_type": "stream",
     "text": [
      "\n",
      " elapsedTime(min,sec): (0.0, 0.093727)\n"
     ]
    },
    {
     "data": {
      "text/plain": [
       "<matplotlib.collections.PathCollection at 0x21048562828>"
      ]
     },
     "execution_count": 43,
     "metadata": {},
     "output_type": "execute_result"
    },
    {
     "data": {
      "image/png": "[encoded data removed]",
      "text/plain": [
       "<Figure size 288x216 with 1 Axes>"
      ]
     },
     "metadata": {
      "needs_background": "light"
     },
     "output_type": "display_data"
    }
   ],
   "source": [
    "# Ranomize and split data to train and test data sets\n",
    "from sklearn.utils import shuffle\n",
    "df = shuffle(df)\n",
    "df.reset_index(inplace = True, drop = True)\n",
    "\n",
    "# Arbitrarily split data into train and test data sets based on 75:25 train:test split.\n",
    "sp = int(df.shape[0]*0.75)\n",
    "train = df[:sp]\n",
    "test = df[sp:]\n",
    "\n",
    "import datetime\n",
    "time1 = datetime.datetime.now()\n",
    "\n",
    "features = list(df.columns)[1:]\n",
    "rmses = {}\n",
    "for i in range(1,len(features)+1):\n",
    "    t_col = features[0:i]\n",
    "    rmse = train_and_test(train,t_col)\n",
    "    rmse = round(rmse,2)\n",
    "    rmses[i] = rmse\n",
    "time2 = datetime.datetime.now() \n",
    "elapsedTime = time2 - time1\n",
    "print('\\n', 'elapsedTime(min,sec):', divmod(elapsedTime.total_seconds(), 60))\n",
    "\n",
    "# converting the rmses dictionary to a dataframe\n",
    "rms = pd.DataFrame(list(rmses.items()), columns = ['n_cols', 'rmse'])\n",
    "\n",
    "# plot the rmses verses the corresponsing number of features\n",
    "plt.figure(figsize =(4,3))\n",
    "plt.xticks(np.arange(1,15,1))\n",
    "plt.xlabel('number of features used')\n",
    "plt.ylabel('rmse')\n",
    "plt.scatter(x = rms['n_cols'], y = rms['rmse'])"
   ]
  },
  {
   "cell_type": "markdown",
   "metadata": {},
   "source": [
    "It can be seen from above graph that the prediction error decreases as more features are included for training.  It appears that there are potential three local minimums, namely, with 3, 7 and 12 features.\n",
    "\n",
    "It should also be noted that although data were randomized before training, it is not clear whether there might be potential bias in the data.  Therefore, k-fold cross-validation method is used below to test how changing the training sets affects the error.  "
   ]
  },
  {
   "cell_type": "code",
   "execution_count": 44,
   "metadata": {},
   "outputs": [
    {
     "data": {
      "text/plain": [
       "Text(0.5, 0, 'folds split')"
      ]
     },
     "execution_count": 44,
     "metadata": {},
     "output_type": "execute_result"
    },
    {
     "data": {
      "image/png": "[encoded data removed]",
      "text/plain": [
       "<Figure size 720x216 with 2 Axes>"
      ]
     },
     "metadata": {
      "needs_background": "light"
     },
     "output_type": "display_data"
    }
   ],
   "source": [
    "# Testing differnt ways to split the train and test data\n",
    "from sklearn.model_selection import cross_val_score, KFold\n",
    "num_folds = [3, 5, 7, 9, 10, 11, 13, 15, 17, 20]\n",
    "rmses_ls = []\n",
    "std_rmse_ls = []\n",
    "for fold in num_folds:\n",
    "    kf = KFold(fold, shuffle = True, random_state = 1)\n",
    "    lr = linear_model.LinearRegression()\n",
    "    mses = cross_val_score(lr, df[features], df['SalePrice'], scoring = 'neg_mean_squared_error', cv = kf)\n",
    "    rmses = np.sqrt(np.abs(mses))\n",
    "    avg_rmse = np.mean(rmses)\n",
    "    rmses_ls.append(avg_rmse)\n",
    "    std_rmse = np.std(rmses)\n",
    "    std_rmse_ls.append(std_rmse)\n",
    "    \n",
    "fig = plt.figure(figsize = (10,3))\n",
    "fig.subplots_adjust(wspace=0.3)\n",
    "ax1 = fig.add_subplot(1, 2, 1)\n",
    "ax1.scatter(num_folds, rmses_ls, color = 'red', label='avg_rmse')\n",
    "ax1.set_ylabel('avg RMSE')\n",
    "ax1.set_xlabel('folds split')\n",
    "ax2 = fig.add_subplot(1, 2, 2)\n",
    "ax2.scatter(num_folds, std_rmse_ls, color = 'blue', label='std_rmse')\n",
    "ax2.set_ylabel('std RMSE')\n",
    "ax2.set_xlabel('folds split')"
   ]
  },
  {
   "cell_type": "markdown",
   "metadata": {},
   "source": [
    "```As the number of splits increases, the prediction error decreases, but the standard deviation for the errors increases, suggesting notable variance in data.  \n",
    "    Given this conundrum, I will experiment by both varying the fraction of data used for training and adding more features during training to further tune the model.  \n",
    "    Each model will be run multiple times to deterime the effects of data selection on model prediction. Data are randomized each time before fitting the model. ```"
   ]
  },
  {
   "cell_type": "code",
   "execution_count": 45,
   "metadata": {},
   "outputs": [],
   "source": [
    "# To increase the workflow, a train_test_graph function is defined below.  \n",
    "\n",
    "def train_test1(df, features, k, n):\n",
    "    \"\"\" This function trains a model based on a set of given features.  \n",
    "    It will automatically train the model n times.  The data are randomized for each run.  \n",
    "    k is the fraction of data for training. \"\"\"\n",
    "    \n",
    "    rmses =[] # record rmse for the runs\n",
    "    for i in range(0,n):\n",
    "        # ranmize and split data\n",
    "        df = shuffle(df)\n",
    "        df.reset_index(inplace = True, drop = True)\n",
    "        sp = int(df.shape[0]*k)\n",
    "        train = df[:sp]\n",
    "        test = df[sp:]\n",
    "        \n",
    "        # model fitting and prediction\n",
    "        lr = linear_model.LinearRegression()\n",
    "        lr.fit(train[features], train['SalePrice'])\n",
    "        predictions = lr.predict(test[features])\n",
    "                        \n",
    "        # calculating the error\n",
    "        mse = mean_squared_error(test['SalePrice'], predictions)\n",
    "        rmse = np.sqrt(mse)\n",
    "        rmses.append(rmse)\n",
    "    mean_rmse = np.mean(rmses)\n",
    "    std_rmse = np.std(rmses)\n",
    "    return mean_rmse, std_rmse"
   ]
  },
  {
   "cell_type": "code",
   "execution_count": 49,
   "metadata": {},
   "outputs": [],
   "source": [
    "# three feature experiemnts\n",
    "# Exp1. Use three features and the train:test split of 90:10, 70:30 and 50:50 to train the model 20 times\n",
    "feature3 = features[0:3]\n",
    "mean_rmse1, std_rmse1 = train_test1(df, feature3, 0.9, 20)\n",
    "\n",
    "# Exp2. Use three features but change the train:test split to 70:30 to train the model 20 times\n",
    "mean_rmse2, std_rmse2 = train_test1(df, feature3, 0.7, 20)\n",
    "\n",
    "# Exp3. Use three features but change the train:test split to 50:50 to train the model 20 times\n",
    "mean_rmse3, std_rmse3 = train_test1(df, feature3, 0.5, 20)"
   ]
  },
  {
   "cell_type": "code",
   "execution_count": 50,
   "metadata": {
    "scrolled": true
   },
   "outputs": [],
   "source": [
    "# severn feature experiments\n",
    "feature7 = features[0:7]\n",
    "\n",
    "# Exp4. Use severn features and the train:test split of 90:10, 70:30 and 50:50 to train the model 20 times\n",
    "mean_rmse4, std_rmse4 = train_test1(df, feature7, 0.9, 20)\n",
    "\n",
    "# Exp5. Use severn features but change the train:test split to 70:30 to train the model 20 times\n",
    "mean_rmse5, std_rmse5 = train_test1(df, feature7, 0.7, 20)\n",
    "\n",
    "# Exp6. Use severn features but change the train:test split to 50:50 to train the model 20 times\n",
    "mean_rmse6, std_rmse6 = train_test1(df, feature7, 0.5, 20)"
   ]
  },
  {
   "cell_type": "code",
   "execution_count": 52,
   "metadata": {},
   "outputs": [],
   "source": [
    "# 12 feature experiments\n",
    "feature12 = features[0:12]\n",
    "\n",
    "# Exp4. Use severn features and the train:test split of 90:10, 70:30 and 50:50 to train the model 20 times\n",
    "mean_rmse7, std_rmse7 = train_test1(df, feature12, 0.9, 20)\n",
    "\n",
    "# Exp5. Use severn features but change the train:test split to 70:30 to train the model 20 times\n",
    "mean_rmse8, std_rmse8 = train_test1(df, feature12, 0.7, 20)\n",
    "\n",
    "# Exp6. Use severn features but change the train:test split to 50:50 to train the model 20 times\n",
    "mean_rmse9, std_rmse9 = train_test1(df, feature12, 0.5, 20)"
   ]
  },
  {
   "cell_type": "code",
   "execution_count": 53,
   "metadata": {},
   "outputs": [
    {
     "data": {
      "text/html": [
       "<div>\n",
       "<style scoped>\n",
       "    .dataframe tbody tr th:only-of-type {\n",
       "        vertical-align: middle;\n",
       "    }\n",
       "\n",
       "    .dataframe tbody tr th {\n",
       "        vertical-align: top;\n",
       "    }\n",
       "\n",
       "    .dataframe thead th {\n",
       "        text-align: right;\n",
       "    }\n",
       "</style>\n",
       "<table border=\"1\" class=\"dataframe\">\n",
       "  <thead>\n",
       "    <tr style=\"text-align: right;\">\n",
       "      <th></th>\n",
       "      <th>feature_split</th>\n",
       "      <th>mean_rmses</th>\n",
       "      <th>std_rmses</th>\n",
       "    </tr>\n",
       "  </thead>\n",
       "  <tbody>\n",
       "    <tr>\n",
       "      <th>0</th>\n",
       "      <td>3_90</td>\n",
       "      <td>39620.416007</td>\n",
       "      <td>8312.014795</td>\n",
       "    </tr>\n",
       "    <tr>\n",
       "      <th>1</th>\n",
       "      <td>3_70</td>\n",
       "      <td>42202.616074</td>\n",
       "      <td>3307.683484</td>\n",
       "    </tr>\n",
       "    <tr>\n",
       "      <th>2</th>\n",
       "      <td>3_50</td>\n",
       "      <td>41716.445779</td>\n",
       "      <td>2573.449887</td>\n",
       "    </tr>\n",
       "    <tr>\n",
       "      <th>3</th>\n",
       "      <td>7_90</td>\n",
       "      <td>37195.032162</td>\n",
       "      <td>7140.506248</td>\n",
       "    </tr>\n",
       "    <tr>\n",
       "      <th>4</th>\n",
       "      <td>7_70</td>\n",
       "      <td>38492.667314</td>\n",
       "      <td>3064.656164</td>\n",
       "    </tr>\n",
       "    <tr>\n",
       "      <th>5</th>\n",
       "      <td>7_50</td>\n",
       "      <td>38709.676555</td>\n",
       "      <td>2281.103585</td>\n",
       "    </tr>\n",
       "    <tr>\n",
       "      <th>6</th>\n",
       "      <td>12_90</td>\n",
       "      <td>35525.770092</td>\n",
       "      <td>9455.995883</td>\n",
       "    </tr>\n",
       "    <tr>\n",
       "      <th>7</th>\n",
       "      <td>12_70</td>\n",
       "      <td>38549.866427</td>\n",
       "      <td>4441.959116</td>\n",
       "    </tr>\n",
       "    <tr>\n",
       "      <th>8</th>\n",
       "      <td>12_50</td>\n",
       "      <td>38950.369373</td>\n",
       "      <td>3285.761177</td>\n",
       "    </tr>\n",
       "  </tbody>\n",
       "</table>\n",
       "</div>"
      ],
      "text/plain": [
       "  feature_split    mean_rmses    std_rmses\n",
       "0          3_90  39620.416007  8312.014795\n",
       "1          3_70  42202.616074  3307.683484\n",
       "2          3_50  41716.445779  2573.449887\n",
       "3          7_90  37195.032162  7140.506248\n",
       "4          7_70  38492.667314  3064.656164\n",
       "5          7_50  38709.676555  2281.103585\n",
       "6         12_90  35525.770092  9455.995883\n",
       "7         12_70  38549.866427  4441.959116\n",
       "8         12_50  38950.369373  3285.761177"
      ]
     },
     "execution_count": 53,
     "metadata": {},
     "output_type": "execute_result"
    }
   ],
   "source": [
    "# Experimental summary\n",
    "\n",
    "feature_split = ['3_90','3_70','3_50','7_90','7_70','7_50','12_90','12_70','12_50']\n",
    "mean_rmses = [mean_rmse1, mean_rmse2, mean_rmse3,mean_rmse4, mean_rmse5, mean_rmse6,mean_rmse7, mean_rmse8, mean_rmse9]\n",
    "std_rmses = [std_rmse1, std_rmse2, std_rmse3,std_rmse4, std_rmse5, std_rmse6,std_rmse7, std_rmse8, std_rmse9]\n",
    "\n",
    "sum_table = pd.DataFrame(list(zip(feature_split, mean_rmses, std_rmses)), \n",
    "               columns =['feature_split','mean_rmses','std_rmses'])\n",
    "sum_table"
   ]
  },
  {
   "cell_type": "code",
   "execution_count": 54,
   "metadata": {},
   "outputs": [
    {
     "data": {
      "text/plain": [
       "Text(0, 0.5, 'std of rmses')"
      ]
     },
     "execution_count": 54,
     "metadata": {},
     "output_type": "execute_result"
    },
    {
     "data": {
      "image/png": "[encoded data removed]",
      "text/plain": [
       "<Figure size 720x576 with 2 Axes>"
      ]
     },
     "metadata": {
      "needs_background": "light"
     },
     "output_type": "display_data"
    }
   ],
   "source": [
    "# Graphical representation of the summary data\n",
    "fig = plt.figure(figsize = (10,8))\n",
    "fig.subplots_adjust(wspace = 0.5)\n",
    "ax1 = fig.add_subplot(2, 1, 1)\n",
    "ax1 = sum_table['mean_rmses'].plot.bar(rot = 0)\n",
    "ax1.set_xticklabels(sum_table.feature_split)\n",
    "ax1.set_ylim(35000, 43000)\n",
    "ax1.set_ylabel('mean rmse')\n",
    "\n",
    "ax2 = fig.add_subplot(2, 1, 2)\n",
    "ax2 = sum_table['std_rmses'].plot.bar(rot = 0)\n",
    "ax2.set_xticklabels(sum_table.feature_split)\n",
    "ax2.set_ylabel('std of rmses')"
   ]
  },
  {
   "cell_type": "markdown",
   "metadata": {},
   "source": [
    "Based on the above analysis, using 50:50 split resulted in more consistent errors between runs.  In the next segment, I will use a new train_test function and a same 50:50 split data set to test how error changes with increasing features. "
   ]
  },
  {
   "cell_type": "code",
   "execution_count": 55,
   "metadata": {},
   "outputs": [],
   "source": [
    "# Prepare data\n",
    "df = shuffle(df)\n",
    "df.reset_index(inplace = True, drop = True)\n",
    "sp = int(df.shape[0]*0.5)\n",
    "train = df[:sp]\n",
    "test = df[sp:]\n",
    "\n",
    "# Define a new train_test function that will return the model, rmse, and predicted values\n",
    "def train_test(train, features):  \n",
    "    lr = linear_model.LinearRegression()\n",
    "    lr.fit(train[features], train['SalePrice'])\n",
    "    predictions = lr.predict(test[features])\n",
    "    mse = mean_squared_error(test['SalePrice'], predictions)\n",
    "    rmse = np.sqrt(mse)\n",
    "    return rmse, predictions"
   ]
  },
  {
   "cell_type": "code",
   "execution_count": 56,
   "metadata": {},
   "outputs": [
    {
     "data": {
      "text/plain": [
       "Text(0, 0.5, 'rmse')"
      ]
     },
     "execution_count": 56,
     "metadata": {},
     "output_type": "execute_result"
    },
    {
     "data": {
      "image/png": "[encoded data removed]",
      "text/plain": [
       "<Figure size 288x216 with 1 Axes>"
      ]
     },
     "metadata": {
      "needs_background": "light"
     },
     "output_type": "display_data"
    }
   ],
   "source": [
    "rmses = []\n",
    "prediction_ls =[]\n",
    "\n",
    "for i in range(1,len(feature12)+1):  # as seen earlier, adding more than 12 features made not more improvement\n",
    "    t_col = feature12[0:i]\n",
    "    rmse, predictions = train_test(train,t_col)\n",
    "    rmses.append(round(rmse,1))\n",
    "    prediction_ls.append(predictions)\n",
    "    \n",
    "x_lim = len(feature12)+1\n",
    "plt.figure(figsize = (4,3))\n",
    "plt.scatter(np.arange(1, x_lim, 1), rmses)\n",
    "plt.xticks(np.arange(1, x_lim, 1)) \n",
    "plt.xlabel('number of features')\n",
    "plt.ylabel('rmse')"
   ]
  },
  {
   "cell_type": "markdown",
   "metadata": {},
   "source": [
    "### Model validation\n",
    "The pattern above very similar to the one using randomized data during each run, suggesting that 50:50 split is a good choice. Below, comparison will be made between predictions for the training and testing data sets for models trained with 3, 7 and 12 features. "
   ]
  },
  {
   "cell_type": "code",
   "execution_count": 57,
   "metadata": {},
   "outputs": [],
   "source": [
    "# Parameters predicted in the final model using three features\n",
    "te_rmse3 = rmses[2]\n",
    "te_pred3 = prediction_ls[2]\n",
    "\n",
    "# Parameters predicted in the final model using seven features\n",
    "te_rmse7 = rmses[6]\n",
    "te_pred7 = prediction_ls[6]\n",
    "\n",
    "# Parameters predicted in the final model using 12 features\n",
    "te_rmse12 = rmses[11]\n",
    "te_pred12 = prediction_ls[11]"
   ]
  },
  {
   "cell_type": "code",
   "execution_count": 58,
   "metadata": {},
   "outputs": [
    {
     "name": "stdout",
     "output_type": "stream",
     "text": [
      "3 feature elapsedTime: (0.0, 0.015623)\n",
      "7 feature elapsedTime: (0.0, 0.0)\n",
      "12 feature elapsedTime: (0.0, 0.015622)\n"
     ]
    }
   ],
   "source": [
    "# Predict training data using three features\n",
    "time1 = datetime.datetime.now()\n",
    "lr = linear_model.LinearRegression()\n",
    "lr.fit(train[feature3], train['SalePrice'])\n",
    "tr_pred3 = lr.predict(train[feature3])\n",
    "mse = mean_squared_error(train['SalePrice'], tr_pred3)\n",
    "tr_rmse3 = np.sqrt(mse)\n",
    "time2 = datetime.datetime.now() \n",
    "elapsedTime = time2 - time1\n",
    "lrt3 = divmod(elapsedTime.total_seconds(), 60)\n",
    "\n",
    "# Predict training data using seven features\n",
    "time1 = datetime.datetime.now()\n",
    "lr = linear_model.LinearRegression()\n",
    "lr.fit(train[feature7], train['SalePrice'])\n",
    "tr_pred7 = lr.predict(train[feature7])\n",
    "mse = mean_squared_error(train['SalePrice'], tr_pred7)\n",
    "tr_rmse7 = np.sqrt(mse)\n",
    "time2 = datetime.datetime.now() \n",
    "elapsedTime = time2 - time1\n",
    "lrt7 = divmod(elapsedTime.total_seconds(), 60)\n",
    "\n",
    "# Predict training data using 12 features\n",
    "time1 = datetime.datetime.now()\n",
    "lr = linear_model.LinearRegression()\n",
    "lr.fit(train[feature12], train['SalePrice'])\n",
    "tr_pred12 = lr.predict(train[feature12])\n",
    "mse = mean_squared_error(train['SalePrice'], tr_pred12)\n",
    "tr_rmse12 = np.sqrt(mse)\n",
    "time2 = datetime.datetime.now() \n",
    "elapsedTime = time2 - time1\n",
    "lrt12 = divmod(elapsedTime.total_seconds(), 60)\n",
    "print('3 feature elapsedTime:', lrt3)\n",
    "print('7 feature elapsedTime:', lrt7)\n",
    "print('12 feature elapsedTime:', lrt12)"
   ]
  },
  {
   "cell_type": "code",
   "execution_count": 59,
   "metadata": {},
   "outputs": [
    {
     "data": {
      "text/plain": [
       "<matplotlib.legend.Legend at 0x210490a59e8>"
      ]
     },
     "execution_count": 59,
     "metadata": {},
     "output_type": "execute_result"
    },
    {
     "data": {
      "image/png": "[encoded data removed]",
      "text/plain": [
       "<Figure size 432x288 with 2 Axes>"
      ]
     },
     "metadata": {
      "needs_background": "light"
     },
     "output_type": "display_data"
    }
   ],
   "source": [
    "# plot rmses for train and test data\n",
    "x = np.arange(3)\n",
    "ax1 = plt.subplot(1,1,1)\n",
    "w = 0.3\n",
    "plt.xticks(x + w /2, ['3_features', '7_features', '12_features'])\n",
    "tr = ax1.bar(x, [tr_rmse3,tr_rmse7,tr_rmse12], width=w, color='b', align='center')\n",
    "plt.ylim(32000,45000)\n",
    "ax2 = ax1.twinx()\n",
    "te = ax2.bar(x+w, [te_rmse3,te_rmse7,te_rmse12],width=w,color='r',align='center')\n",
    "plt.ylim(32000,45000)\n",
    "plt.title('Comparing rmses for train and test data')\n",
    "plt.legend([tr, te],['train', 'test'])"
   ]
  },
  {
   "cell_type": "code",
   "execution_count": 60,
   "metadata": {},
   "outputs": [
    {
     "data": {
      "text/plain": [
       "<matplotlib.legend.Legend at 0x210491a5e80>"
      ]
     },
     "execution_count": 60,
     "metadata": {},
     "output_type": "execute_result"
    },
    {
     "data": {
      "image/png": "[encoded data removed]",
      "text/plain": [
       "<Figure size 1080x216 with 3 Axes>"
      ]
     },
     "metadata": {
      "needs_background": "light"
     },
     "output_type": "display_data"
    }
   ],
   "source": [
    "# compare predicted values baesd on train and test data, respectively\n",
    "fig = plt.figure(figsize = (15,3))\n",
    "fig.subplots_adjust(hspace=0.4, wspace=0.4)\n",
    "\n",
    "ax1 = fig.add_subplot(1, 3, 1)\n",
    "ax1.scatter(x = train['SalePrice'], y = tr_pred3, color = 'blue', label='Train', alpha = 0.4)\n",
    "ax1.scatter(x = test['SalePrice'], y = te_pred3, color = 'red', label='Test', alpha = 0.4)\n",
    "ax1.set_xlabel('Sale Price')\n",
    "ax1.set_ylabel('Predicted Price')\n",
    "plt.title('3 features')\n",
    "\n",
    "ax2 = fig.add_subplot(1, 3, 2)\n",
    "ax2.scatter(x = train['SalePrice'], y = tr_pred7, color = 'blue', label='Train', alpha = 0.4)\n",
    "ax2.scatter(x = test['SalePrice'], y = te_pred7, color = 'red', label='Test', alpha = 0.4)\n",
    "ax2.set_xlabel('Sale Price')\n",
    "ax2.set_ylabel('Predicted Price')\n",
    "plt.title('7 features')\n",
    "\n",
    "ax3 = fig.add_subplot(1, 3, 3)\n",
    "ax3.scatter(x = train['SalePrice'], y = tr_pred12, color = 'blue', label='Train', alpha = 0.4)\n",
    "ax3.scatter(x = test['SalePrice'], y = te_pred12, color = 'red', label='Test', alpha = 0.4)\n",
    "ax3.set_xlabel('Sale Price')\n",
    "ax3.set_ylabel('Predicted Price')\n",
    "plt.title('12 features')\n",
    "plt.legend([tr, te],['train', 'test'])"
   ]
  },
  {
   "cell_type": "code",
   "execution_count": 61,
   "metadata": {},
   "outputs": [
    {
     "data": {
      "text/plain": [
       "Text(0.5, 1.0, 'differences between train and test prediction rmses')"
      ]
     },
     "execution_count": 61,
     "metadata": {},
     "output_type": "execute_result"
    },
    {
     "data": {
      "image/png": "[encoded data removed]",
      "text/plain": [
       "<Figure size 360x216 with 1 Axes>"
      ]
     },
     "metadata": {
      "needs_background": "light"
     },
     "output_type": "display_data"
    }
   ],
   "source": [
    "# calculate difference between train and test prediction rmses\n",
    "delta1, delta2, delta3 = te_rmse3-tr_rmse3,te_rmse7-tr_rmse7,te_rmse12-tr_rmse12\n",
    "plt.figure(figsize=(5,3))\n",
    "plt.bar(x=['3_features', '7_features', '12_features'], height =[delta1, delta2, delta3], width=0.5)\n",
    "plt.title('differences between train and test prediction rmses')"
   ]
  },
  {
   "cell_type": "markdown",
   "metadata": {},
   "source": [
    "### Checking with alternative models: prediction using decision tree"
   ]
  },
  {
   "cell_type": "code",
   "execution_count": 62,
   "metadata": {},
   "outputs": [
    {
     "name": "stdout",
     "output_type": "stream",
     "text": [
      "\n",
      " elapsedTime(min,sec): (0.0, 0.09377)\n"
     ]
    },
    {
     "data": {
      "text/plain": [
       "Text(0, 0.5, 'score')"
      ]
     },
     "execution_count": 62,
     "metadata": {},
     "output_type": "execute_result"
    },
    {
     "data": {
      "image/png": "[encoded data removed]",
      "text/plain": [
       "<Figure size 720x216 with 2 Axes>"
      ]
     },
     "metadata": {
      "needs_background": "light"
     },
     "output_type": "display_data"
    }
   ],
   "source": [
    "from sklearn.tree import DecisionTreeRegressor\n",
    "from sklearn.metrics import roc_auc_score\n",
    "def dt_train_test(train, features):\n",
    "    reg = DecisionTreeRegressor(min_samples_leaf=5)\n",
    "    reg.fit(train[features], train['SalePrice'])\n",
    "    dt_pred_te = reg.predict(test[features])\n",
    "    dt_pred_tr = reg.predict(train[features])\n",
    "    mse = np.mean((dt_pred_te - test['SalePrice']) ** 2)\n",
    "    rmse = mse**0.5\n",
    "    score = reg.score(train[features], train['SalePrice'])\n",
    "    return rmse, score, dt_pred_te, dt_pred_tr\n",
    "\n",
    "rmses =[]\n",
    "scores = []\n",
    "dt_te_pred = []\n",
    "dt_tr_pred = []\n",
    "time1 = datetime.datetime.now() \n",
    "for i in range(1,len(feature12)+1):\n",
    "    t_col = feature12[0:i]\n",
    "    rmse, score, dt_pred_te, dt_pred_tr = dt_train_test(train,t_col)\n",
    "    rmses.append(rmse)\n",
    "    dt_te_pred.append(dt_pred_te)\n",
    "    dt_tr_pred.append(dt_pred_tr)\n",
    "    score = round (score,1)\n",
    "    scores.append(score)\n",
    "\n",
    "time2 = datetime.datetime.now() \n",
    "elapsedTime = time2 - time1\n",
    "dt12 = divmod(elapsedTime.total_seconds(), 60)\n",
    "print('\\n', 'elapsedTime(min,sec):', dt12)\n",
    "\n",
    "# Plot rmse and scores\n",
    "fig = plt.figure(figsize = (10,3))\n",
    "fig.subplots_adjust(wspace = 0.5)\n",
    "ax1 = fig.add_subplot(1, 2, 1)\n",
    "ax1.scatter(x = np.arange(1,13,1), y = rmses, color = 'blue', alpha = 0.4)\n",
    "ax1.set_xlabel('Number of features used')\n",
    "ax1.set_ylabel('rmse')\n",
    "\n",
    "ax2 = fig.add_subplot(1, 2, 2)\n",
    "ax2.scatter(x = np.arange(1,13,1), y = scores, color = 'blue', alpha = 0.4)\n",
    "ax2.set_xlabel('Number of features used')\n",
    "ax2.set_ylabel('score')"
   ]
  },
  {
   "cell_type": "markdown",
   "metadata": {},
   "source": [
    "Looks like three features gave the least error with a high score using decision tree algorythm"
   ]
  },
  {
   "cell_type": "markdown",
   "metadata": {},
   "source": [
    "### Prediction using random forest"
   ]
  },
  {
   "cell_type": "code",
   "execution_count": 63,
   "metadata": {},
   "outputs": [
    {
     "name": "stdout",
     "output_type": "stream",
     "text": [
      "\n",
      " elapsedTime(min,sec): (0.0, 0.281186)\n"
     ]
    },
    {
     "data": {
      "text/plain": [
       "Text(0, 0.5, 'score')"
      ]
     },
     "execution_count": 63,
     "metadata": {},
     "output_type": "execute_result"
    },
    {
     "data": {
      "image/png": "[encoded data removed]",
      "text/plain": [
       "<Figure size 720x216 with 2 Axes>"
      ]
     },
     "metadata": {
      "needs_background": "light"
     },
     "output_type": "display_data"
    }
   ],
   "source": [
    "import warnings\n",
    "warnings.simplefilter(action='ignore', category=FutureWarning)\n",
    "\n",
    "from sklearn.ensemble import RandomForestRegressor\n",
    "def rf_train_test(train, features, n):\n",
    "    reg = RandomForestRegressor(n_estimators=n,min_samples_leaf=5)\n",
    "    reg.fit(train[features], train['SalePrice'])\n",
    "    rf_pred_tr = reg.predict(train [features])\n",
    "    rf_pred_te = reg.predict(test[features])\n",
    "    mse = np.mean((rf_pred_te - test['SalePrice']) ** 2)\n",
    "    rmse = mse**0.5\n",
    "    score = reg.score(train[features], train['SalePrice'])\n",
    "    return rmse, score, rf_pred_tr, rf_pred_te \n",
    "\n",
    "time1 = datetime.datetime.now() \n",
    "rmses =[]\n",
    "scores = []\n",
    "rf_te_pred = []\n",
    "rf_tr_pred = []\n",
    "for i in range(1,len(feature12)+1):\n",
    "    t_col = features[0:i]\n",
    "    rmse, score, rf_pred_tr, rf_pred_te = rf_train_test(train,t_col,10)\n",
    "    rmse = round(rmse,1)\n",
    "    rmses.append(rmse)\n",
    "    score = round(score, 1)\n",
    "    scores.append(score)\n",
    "    rf_te_pred.append(rf_pred_te)\n",
    "    rf_tr_pred.append(rf_pred_tr)\n",
    "\n",
    "time2 = datetime.datetime.now() \n",
    "elapsedTime = time2 - time1\n",
    "rf12 = divmod(elapsedTime.total_seconds(), 60)\n",
    "print('\\n', 'elapsedTime(min,sec):', rf12)\n",
    "\n",
    "# Plot rmse and scores\n",
    "fig = plt.figure(figsize = (10,3))\n",
    "fig.subplots_adjust(wspace = 0.5)\n",
    "ax1 = fig.add_subplot(1, 2, 1)\n",
    "ax1.scatter(x = np.arange(1,13,1), y = rmses, color = 'blue', alpha = 0.4)\n",
    "ax1.set_xlabel('Number of features used')\n",
    "ax1.set_ylabel('rmse')\n",
    "\n",
    "ax2 = fig.add_subplot(1, 2, 2)\n",
    "ax2.scatter(x = np.arange(1,13,1), y = scores, color = 'blue', alpha = 0.4)\n",
    "ax2.set_xlabel('Number of features used')\n",
    "ax2.set_ylabel('score')"
   ]
  },
  {
   "cell_type": "markdown",
   "metadata": {},
   "source": [
    "Looks like 8 features gave the least error with a good score using random forest algorythm"
   ]
  },
  {
   "cell_type": "code",
   "execution_count": 64,
   "metadata": {},
   "outputs": [
    {
     "data": {
      "text/plain": [
       "Text(0.5, 1.0, 'Linear regression(7 features)')"
      ]
     },
     "execution_count": 64,
     "metadata": {},
     "output_type": "execute_result"
    },
    {
     "data": {
      "image/png": "[encoded data removed]",
      "text/plain": [
       "<Figure size 1080x216 with 3 Axes>"
      ]
     },
     "metadata": {
      "needs_background": "light"
     },
     "output_type": "display_data"
    }
   ],
   "source": [
    "# Compare predicted prices by decision tree and random forest to actual SalePrice\n",
    "fig = plt.figure(figsize = (15,3))\n",
    "fig.subplots_adjust(hspace=0.4, wspace=0.4)\n",
    "\n",
    "ax1 = fig.add_subplot(1, 3, 1)\n",
    "ax1.scatter(x = train['SalePrice'], y = dt_tr_pred[6], color = 'blue', label='Train', alpha = 0.4)\n",
    "ax1.scatter(x = test['SalePrice'], y = dt_te_pred[6], color = 'red', label='Test', alpha = 0.4)\n",
    "ax1.set_xlabel('SalePrice')\n",
    "ax1.set_ylabel('Predicted Prices')\n",
    "ax1.xaxis.set_major_locator(plt.MaxNLocator(4))\n",
    "ax1.set_xlim(0, 800000)\n",
    "ax1.set_ylim(0, 700000)\n",
    "ax1.legend(loc='lower right')\n",
    "plt.title('Decision Tree(7 features)')\n",
    "\n",
    "ax2 = fig.add_subplot(1, 3, 2)\n",
    "ax2.scatter(x = train['SalePrice'], y = rf_tr_pred[6], color = 'blue', label='Train', alpha = 0.4)\n",
    "ax2.scatter(x = test['SalePrice'], y = rf_te_pred[6], color = 'red', label='Test', alpha = 0.4)\n",
    "ax2.set_xlabel('SalePrice')\n",
    "ax2.set_ylabel('Predicted Prices')\n",
    "ax2.set_xlim(0, 800000)\n",
    "ax2.set_ylim(0, 700000)\n",
    "ax2.legend(loc='lower right')\n",
    "plt.title('Random Forest(7 features)')\n",
    "\n",
    "ax3 = fig.add_subplot(1, 3, 3)\n",
    "ax3.scatter(x = train['SalePrice'], y = tr_pred7, color = 'blue', label='Train', alpha = 0.4)\n",
    "ax3.scatter(x = test['SalePrice'], y = te_pred7, color = 'red', label='Test', alpha = 0.4)\n",
    "ax3.set_xlabel('Sale Price')\n",
    "ax3.set_ylabel('Predicted Price')\n",
    "ax3.set_xlim(0, 800000)\n",
    "ax3.set_ylim(0, 700000)\n",
    "ax3.legend(loc='lower right')\n",
    "plt.title('Linear regression(7 features)')"
   ]
  },
  {
   "cell_type": "code",
   "execution_count": 65,
   "metadata": {},
   "outputs": [
    {
     "name": "stdout",
     "output_type": "stream",
     "text": [
      "(0.0, 0.09377) (0.0, 0.281186) (0.0, 0.015622)\n"
     ]
    }
   ],
   "source": [
    "print(dt12, rf12, lrt12)"
   ]
  },
  {
   "cell_type": "code",
   "execution_count": 617,
   "metadata": {},
   "outputs": [
    {
     "data": {
      "text/plain": [
       "Text(0, 0.5, 'elapsed Time')"
      ]
     },
     "execution_count": 617,
     "metadata": {},
     "output_type": "execute_result"
    },
    {
     "data": {
      "image/png": "[encoded data removed]",
      "text/plain": [
       "<Figure size 360x216 with 1 Axes>"
      ]
     },
     "metadata": {
      "needs_background": "light"
     },
     "output_type": "display_data"
    }
   ],
   "source": [
    "plt.figure(figsize=(5,3))\n",
    "plt.bar(x=['Decision tree', 'Random forest', 'Linear regression'], height =[dt12[1], rf12[1], lrt12[1]], width=0.5)\n",
    "plt.ylabel('elapsed Time')"
   ]
  }
 ],
 "metadata": {
  "kernelspec": {
   "display_name": "Python 3",
   "language": "python",
   "name": "python3"
  },
  "language_info": {
   "codemirror_mode": {
    "name": "ipython",
    "version": 3
   },
   "file_extension": ".py",
   "mimetype": "text/x-python",
   "name": "python",
   "nbconvert_exporter": "python",
   "pygments_lexer": "ipython3",
   "version": "3.7.3"
  }
 },
 "nbformat": 4,
 "nbformat_minor": 2
}
