{
 "cells": [
  {
   "cell_type": "markdown",
   "metadata": {},
   "source": [
    "This project aims to predict a car's market price using its attributes"
   ]
  },
  {
   "cell_type": "code",
   "execution_count": 21,
   "metadata": {
    "scrolled": false
   },
   "outputs": [
    {
     "data": {
      "text/html": [
       "<div>\n",
       "<style scoped>\n",
       "    .dataframe tbody tr th:only-of-type {\n",
       "        vertical-align: middle;\n",
       "    }\n",
       "\n",
       "    .dataframe tbody tr th {\n",
       "        vertical-align: top;\n",
       "    }\n",
       "\n",
       "    .dataframe thead th {\n",
       "        text-align: right;\n",
       "    }\n",
       "</style>\n",
       "<table border=\"1\" class=\"dataframe\">\n",
       "  <thead>\n",
       "    <tr style=\"text-align: right;\">\n",
       "      <th></th>\n",
       "      <th>0</th>\n",
       "      <th>1</th>\n",
       "      <th>2</th>\n",
       "      <th>3</th>\n",
       "      <th>4</th>\n",
       "      <th>5</th>\n",
       "      <th>6</th>\n",
       "      <th>7</th>\n",
       "      <th>8</th>\n",
       "      <th>9</th>\n",
       "      <th>...</th>\n",
       "      <th>16</th>\n",
       "      <th>17</th>\n",
       "      <th>18</th>\n",
       "      <th>19</th>\n",
       "      <th>20</th>\n",
       "      <th>21</th>\n",
       "      <th>22</th>\n",
       "      <th>23</th>\n",
       "      <th>24</th>\n",
       "      <th>25</th>\n",
       "    </tr>\n",
       "  </thead>\n",
       "  <tbody>\n",
       "    <tr>\n",
       "      <th>0</th>\n",
       "      <td>3</td>\n",
       "      <td>?</td>\n",
       "      <td>alfa-romero</td>\n",
       "      <td>gas</td>\n",
       "      <td>std</td>\n",
       "      <td>two</td>\n",
       "      <td>convertible</td>\n",
       "      <td>rwd</td>\n",
       "      <td>front</td>\n",
       "      <td>88.6</td>\n",
       "      <td>...</td>\n",
       "      <td>130</td>\n",
       "      <td>mpfi</td>\n",
       "      <td>3.47</td>\n",
       "      <td>2.68</td>\n",
       "      <td>9.0</td>\n",
       "      <td>111</td>\n",
       "      <td>5000</td>\n",
       "      <td>21</td>\n",
       "      <td>27</td>\n",
       "      <td>13495</td>\n",
       "    </tr>\n",
       "    <tr>\n",
       "      <th>1</th>\n",
       "      <td>3</td>\n",
       "      <td>?</td>\n",
       "      <td>alfa-romero</td>\n",
       "      <td>gas</td>\n",
       "      <td>std</td>\n",
       "      <td>two</td>\n",
       "      <td>convertible</td>\n",
       "      <td>rwd</td>\n",
       "      <td>front</td>\n",
       "      <td>88.6</td>\n",
       "      <td>...</td>\n",
       "      <td>130</td>\n",
       "      <td>mpfi</td>\n",
       "      <td>3.47</td>\n",
       "      <td>2.68</td>\n",
       "      <td>9.0</td>\n",
       "      <td>111</td>\n",
       "      <td>5000</td>\n",
       "      <td>21</td>\n",
       "      <td>27</td>\n",
       "      <td>16500</td>\n",
       "    </tr>\n",
       "    <tr>\n",
       "      <th>2</th>\n",
       "      <td>1</td>\n",
       "      <td>?</td>\n",
       "      <td>alfa-romero</td>\n",
       "      <td>gas</td>\n",
       "      <td>std</td>\n",
       "      <td>two</td>\n",
       "      <td>hatchback</td>\n",
       "      <td>rwd</td>\n",
       "      <td>front</td>\n",
       "      <td>94.5</td>\n",
       "      <td>...</td>\n",
       "      <td>152</td>\n",
       "      <td>mpfi</td>\n",
       "      <td>2.68</td>\n",
       "      <td>3.47</td>\n",
       "      <td>9.0</td>\n",
       "      <td>154</td>\n",
       "      <td>5000</td>\n",
       "      <td>19</td>\n",
       "      <td>26</td>\n",
       "      <td>16500</td>\n",
       "    </tr>\n",
       "  </tbody>\n",
       "</table>\n",
       "<p>3 rows × 26 columns</p>\n",
       "</div>"
      ],
      "text/plain": [
       "   0  1            2    3    4    5            6    7      8     9   ...   16  \\\n",
       "0   3  ?  alfa-romero  gas  std  two  convertible  rwd  front  88.6  ...  130   \n",
       "1   3  ?  alfa-romero  gas  std  two  convertible  rwd  front  88.6  ...  130   \n",
       "2   1  ?  alfa-romero  gas  std  two    hatchback  rwd  front  94.5  ...  152   \n",
       "\n",
       "     17    18    19   20   21    22  23  24     25  \n",
       "0  mpfi  3.47  2.68  9.0  111  5000  21  27  13495  \n",
       "1  mpfi  3.47  2.68  9.0  111  5000  21  27  16500  \n",
       "2  mpfi  2.68  3.47  9.0  154  5000  19  26  16500  \n",
       "\n",
       "[3 rows x 26 columns]"
      ]
     },
     "execution_count": 21,
     "metadata": {},
     "output_type": "execute_result"
    }
   ],
   "source": [
    "import pandas as pd\n",
    "import numpy as np\n",
    "cars = pd.read_csv('imports-85.data', header=None)\n",
    "cars.head(3)"
   ]
  },
  {
   "cell_type": "code",
   "execution_count": 22,
   "metadata": {},
   "outputs": [
    {
     "data": {
      "text/html": [
       "<div>\n",
       "<style scoped>\n",
       "    .dataframe tbody tr th:only-of-type {\n",
       "        vertical-align: middle;\n",
       "    }\n",
       "\n",
       "    .dataframe tbody tr th {\n",
       "        vertical-align: top;\n",
       "    }\n",
       "\n",
       "    .dataframe thead th {\n",
       "        text-align: right;\n",
       "    }\n",
       "</style>\n",
       "<table border=\"1\" class=\"dataframe\">\n",
       "  <thead>\n",
       "    <tr style=\"text-align: right;\">\n",
       "      <th></th>\n",
       "      <th>symboling</th>\n",
       "      <th>normalized_losses</th>\n",
       "      <th>make</th>\n",
       "      <th>fuel_type</th>\n",
       "      <th>aspiration</th>\n",
       "      <th>num_doors</th>\n",
       "      <th>body_style</th>\n",
       "      <th>drive_wheels</th>\n",
       "      <th>engine_location</th>\n",
       "      <th>wheel_base</th>\n",
       "      <th>...</th>\n",
       "      <th>engine_size</th>\n",
       "      <th>fuel_system</th>\n",
       "      <th>bore</th>\n",
       "      <th>stroke</th>\n",
       "      <th>compression_ratio</th>\n",
       "      <th>horsepower</th>\n",
       "      <th>peak_rpm</th>\n",
       "      <th>city_mpg</th>\n",
       "      <th>highway_mpg</th>\n",
       "      <th>price</th>\n",
       "    </tr>\n",
       "  </thead>\n",
       "  <tbody>\n",
       "    <tr>\n",
       "      <th>0</th>\n",
       "      <td>3</td>\n",
       "      <td>?</td>\n",
       "      <td>alfa-romero</td>\n",
       "      <td>gas</td>\n",
       "      <td>std</td>\n",
       "      <td>two</td>\n",
       "      <td>convertible</td>\n",
       "      <td>rwd</td>\n",
       "      <td>front</td>\n",
       "      <td>88.6</td>\n",
       "      <td>...</td>\n",
       "      <td>130</td>\n",
       "      <td>mpfi</td>\n",
       "      <td>3.47</td>\n",
       "      <td>2.68</td>\n",
       "      <td>9.0</td>\n",
       "      <td>111</td>\n",
       "      <td>5000</td>\n",
       "      <td>21</td>\n",
       "      <td>27</td>\n",
       "      <td>13495</td>\n",
       "    </tr>\n",
       "    <tr>\n",
       "      <th>1</th>\n",
       "      <td>3</td>\n",
       "      <td>?</td>\n",
       "      <td>alfa-romero</td>\n",
       "      <td>gas</td>\n",
       "      <td>std</td>\n",
       "      <td>two</td>\n",
       "      <td>convertible</td>\n",
       "      <td>rwd</td>\n",
       "      <td>front</td>\n",
       "      <td>88.6</td>\n",
       "      <td>...</td>\n",
       "      <td>130</td>\n",
       "      <td>mpfi</td>\n",
       "      <td>3.47</td>\n",
       "      <td>2.68</td>\n",
       "      <td>9.0</td>\n",
       "      <td>111</td>\n",
       "      <td>5000</td>\n",
       "      <td>21</td>\n",
       "      <td>27</td>\n",
       "      <td>16500</td>\n",
       "    </tr>\n",
       "    <tr>\n",
       "      <th>2</th>\n",
       "      <td>1</td>\n",
       "      <td>?</td>\n",
       "      <td>alfa-romero</td>\n",
       "      <td>gas</td>\n",
       "      <td>std</td>\n",
       "      <td>two</td>\n",
       "      <td>hatchback</td>\n",
       "      <td>rwd</td>\n",
       "      <td>front</td>\n",
       "      <td>94.5</td>\n",
       "      <td>...</td>\n",
       "      <td>152</td>\n",
       "      <td>mpfi</td>\n",
       "      <td>2.68</td>\n",
       "      <td>3.47</td>\n",
       "      <td>9.0</td>\n",
       "      <td>154</td>\n",
       "      <td>5000</td>\n",
       "      <td>19</td>\n",
       "      <td>26</td>\n",
       "      <td>16500</td>\n",
       "    </tr>\n",
       "  </tbody>\n",
       "</table>\n",
       "<p>3 rows × 26 columns</p>\n",
       "</div>"
      ],
      "text/plain": [
       "   symboling normalized_losses         make fuel_type aspiration num_doors  \\\n",
       "0          3                 ?  alfa-romero       gas        std       two   \n",
       "1          3                 ?  alfa-romero       gas        std       two   \n",
       "2          1                 ?  alfa-romero       gas        std       two   \n",
       "\n",
       "    body_style drive_wheels engine_location  wheel_base  ...  engine_size  \\\n",
       "0  convertible          rwd           front        88.6  ...          130   \n",
       "1  convertible          rwd           front        88.6  ...          130   \n",
       "2    hatchback          rwd           front        94.5  ...          152   \n",
       "\n",
       "   fuel_system  bore  stroke compression_ratio horsepower  peak_rpm city_mpg  \\\n",
       "0         mpfi  3.47    2.68               9.0        111      5000       21   \n",
       "1         mpfi  3.47    2.68               9.0        111      5000       21   \n",
       "2         mpfi  2.68    3.47               9.0        154      5000       19   \n",
       "\n",
       "  highway_mpg  price  \n",
       "0          27  13495  \n",
       "1          27  16500  \n",
       "2          26  16500  \n",
       "\n",
       "[3 rows x 26 columns]"
      ]
     },
     "execution_count": 22,
     "metadata": {},
     "output_type": "execute_result"
    }
   ],
   "source": [
    "cars.columns = ['symboling', 'normalized_losses', 'make', 'fuel_type', 'aspiration', 'num_doors', 'body_style', 'drive_wheels', 'engine_location', 'wheel_base', 'length', 'width', 'height', 'curb_weight', 'engine_type', 'num_cylinders', 'engine_size',  'fuel_system', 'bore', 'stroke', 'compression_ratio', 'horsepower', 'peak_rpm', 'city_mpg', 'highway_mpg', 'price']\n",
    "cars.head(3)"
   ]
  },
  {
   "cell_type": "code",
   "execution_count": 23,
   "metadata": {},
   "outputs": [
    {
     "data": {
      "text/plain": [
       "Index(['normalized_losses', 'num_doors', 'bore', 'stroke', 'horsepower',\n",
       "       'peak_rpm', 'price'],\n",
       "      dtype='object')"
      ]
     },
     "execution_count": 23,
     "metadata": {},
     "output_type": "execute_result"
    }
   ],
   "source": [
    "# find columns with ? as values\n",
    "cars.columns[cars.isin(['?']).any()]"
   ]
  },
  {
   "cell_type": "code",
   "execution_count": 24,
   "metadata": {},
   "outputs": [
    {
     "data": {
      "text/html": [
       "<div>\n",
       "<style scoped>\n",
       "    .dataframe tbody tr th:only-of-type {\n",
       "        vertical-align: middle;\n",
       "    }\n",
       "\n",
       "    .dataframe tbody tr th {\n",
       "        vertical-align: top;\n",
       "    }\n",
       "\n",
       "    .dataframe thead th {\n",
       "        text-align: right;\n",
       "    }\n",
       "</style>\n",
       "<table border=\"1\" class=\"dataframe\">\n",
       "  <thead>\n",
       "    <tr style=\"text-align: right;\">\n",
       "      <th></th>\n",
       "      <th>symboling</th>\n",
       "      <th>normalized_losses</th>\n",
       "      <th>make</th>\n",
       "      <th>fuel_type</th>\n",
       "      <th>aspiration</th>\n",
       "      <th>num_doors</th>\n",
       "      <th>body_style</th>\n",
       "      <th>drive_wheels</th>\n",
       "      <th>engine_location</th>\n",
       "      <th>wheel_base</th>\n",
       "      <th>...</th>\n",
       "      <th>engine_size</th>\n",
       "      <th>fuel_system</th>\n",
       "      <th>bore</th>\n",
       "      <th>stroke</th>\n",
       "      <th>compression_ratio</th>\n",
       "      <th>horsepower</th>\n",
       "      <th>peak_rpm</th>\n",
       "      <th>city_mpg</th>\n",
       "      <th>highway_mpg</th>\n",
       "      <th>price</th>\n",
       "    </tr>\n",
       "  </thead>\n",
       "  <tbody>\n",
       "    <tr>\n",
       "      <th>0</th>\n",
       "      <td>3</td>\n",
       "      <td>NaN</td>\n",
       "      <td>alfa-romero</td>\n",
       "      <td>gas</td>\n",
       "      <td>std</td>\n",
       "      <td>two</td>\n",
       "      <td>convertible</td>\n",
       "      <td>rwd</td>\n",
       "      <td>front</td>\n",
       "      <td>88.6</td>\n",
       "      <td>...</td>\n",
       "      <td>130</td>\n",
       "      <td>mpfi</td>\n",
       "      <td>3.47</td>\n",
       "      <td>2.68</td>\n",
       "      <td>9.0</td>\n",
       "      <td>111</td>\n",
       "      <td>5000</td>\n",
       "      <td>21</td>\n",
       "      <td>27</td>\n",
       "      <td>13495</td>\n",
       "    </tr>\n",
       "    <tr>\n",
       "      <th>1</th>\n",
       "      <td>3</td>\n",
       "      <td>NaN</td>\n",
       "      <td>alfa-romero</td>\n",
       "      <td>gas</td>\n",
       "      <td>std</td>\n",
       "      <td>two</td>\n",
       "      <td>convertible</td>\n",
       "      <td>rwd</td>\n",
       "      <td>front</td>\n",
       "      <td>88.6</td>\n",
       "      <td>...</td>\n",
       "      <td>130</td>\n",
       "      <td>mpfi</td>\n",
       "      <td>3.47</td>\n",
       "      <td>2.68</td>\n",
       "      <td>9.0</td>\n",
       "      <td>111</td>\n",
       "      <td>5000</td>\n",
       "      <td>21</td>\n",
       "      <td>27</td>\n",
       "      <td>16500</td>\n",
       "    </tr>\n",
       "    <tr>\n",
       "      <th>2</th>\n",
       "      <td>1</td>\n",
       "      <td>NaN</td>\n",
       "      <td>alfa-romero</td>\n",
       "      <td>gas</td>\n",
       "      <td>std</td>\n",
       "      <td>two</td>\n",
       "      <td>hatchback</td>\n",
       "      <td>rwd</td>\n",
       "      <td>front</td>\n",
       "      <td>94.5</td>\n",
       "      <td>...</td>\n",
       "      <td>152</td>\n",
       "      <td>mpfi</td>\n",
       "      <td>2.68</td>\n",
       "      <td>3.47</td>\n",
       "      <td>9.0</td>\n",
       "      <td>154</td>\n",
       "      <td>5000</td>\n",
       "      <td>19</td>\n",
       "      <td>26</td>\n",
       "      <td>16500</td>\n",
       "    </tr>\n",
       "  </tbody>\n",
       "</table>\n",
       "<p>3 rows × 26 columns</p>\n",
       "</div>"
      ],
      "text/plain": [
       "   symboling normalized_losses         make fuel_type aspiration num_doors  \\\n",
       "0          3               NaN  alfa-romero       gas        std       two   \n",
       "1          3               NaN  alfa-romero       gas        std       two   \n",
       "2          1               NaN  alfa-romero       gas        std       two   \n",
       "\n",
       "    body_style drive_wheels engine_location  wheel_base  ...  engine_size  \\\n",
       "0  convertible          rwd           front        88.6  ...          130   \n",
       "1  convertible          rwd           front        88.6  ...          130   \n",
       "2    hatchback          rwd           front        94.5  ...          152   \n",
       "\n",
       "   fuel_system  bore  stroke compression_ratio horsepower  peak_rpm city_mpg  \\\n",
       "0         mpfi  3.47    2.68               9.0        111      5000       21   \n",
       "1         mpfi  3.47    2.68               9.0        111      5000       21   \n",
       "2         mpfi  2.68    3.47               9.0        154      5000       19   \n",
       "\n",
       "  highway_mpg  price  \n",
       "0          27  13495  \n",
       "1          27  16500  \n",
       "2          26  16500  \n",
       "\n",
       "[3 rows x 26 columns]"
      ]
     },
     "execution_count": 24,
     "metadata": {},
     "output_type": "execute_result"
    }
   ],
   "source": [
    "# replace all of the ? values with the numpy.nan missing value\n",
    "cars = cars.replace('?', np.nan)\n",
    "cars.head(3)"
   ]
  },
  {
   "cell_type": "code",
   "execution_count": 27,
   "metadata": {},
   "outputs": [
    {
     "name": "stdout",
     "output_type": "stream",
     "text": [
      "<class 'pandas.core.frame.DataFrame'>\n",
      "RangeIndex: 205 entries, 0 to 204\n",
      "Data columns (total 26 columns):\n",
      "symboling            205 non-null int64\n",
      "normalized_losses    164 non-null object\n",
      "make                 205 non-null object\n",
      "fuel_type            205 non-null object\n",
      "aspiration           205 non-null object\n",
      "num_doors            203 non-null object\n",
      "body_style           205 non-null object\n",
      "drive_wheels         205 non-null object\n",
      "engine_location      205 non-null object\n",
      "wheel_base           205 non-null float64\n",
      "length               205 non-null float64\n",
      "width                205 non-null float64\n",
      "height               205 non-null float64\n",
      "curb_weight          205 non-null int64\n",
      "engine_type          205 non-null object\n",
      "num_cylinders        205 non-null object\n",
      "engine_size          205 non-null int64\n",
      "fuel_system          205 non-null object\n",
      "bore                 201 non-null object\n",
      "stroke               201 non-null object\n",
      "compression_ratio    205 non-null float64\n",
      "horsepower           203 non-null object\n",
      "peak_rpm             203 non-null object\n",
      "city_mpg             205 non-null int64\n",
      "highway_mpg          205 non-null int64\n",
      "price                201 non-null object\n",
      "dtypes: float64(5), int64(5), object(16)\n",
      "memory usage: 41.8+ KB\n"
     ]
    }
   ],
   "source": [
    "cars.info()"
   ]
  },
  {
   "cell_type": "code",
   "execution_count": 28,
   "metadata": {},
   "outputs": [],
   "source": [
    "# convert approperiate columns to numeric types\n",
    "cars['normalized_losses'] = cars['normalized_losses'].astype(float)\n",
    "# cars['num_doors'].astype(string)\n",
    "# cars['bore'].astype(string)\n",
    "cars['stroke'] = cars['stroke'].astype(float)\n",
    "cars['horsepower'] = cars['horsepower'].astype(float)\n",
    "cars['peak_rpm'] = cars['peak_rpm'].astype(float)\n",
    "cars['wheel_base'] = cars['wheel_base'].astype(float)\n",
    "cars['engine_size'] = cars['engine_size'].astype(float)\n",
    "cars['price'] = cars['price'].astype(float)"
   ]
  },
  {
   "cell_type": "markdown",
   "metadata": {},
   "source": [
    "investigate missing values"
   ]
  },
  {
   "cell_type": "code",
   "execution_count": 29,
   "metadata": {},
   "outputs": [
    {
     "data": {
      "text/plain": [
       "False    164\n",
       "True      41\n",
       "Name: normalized_losses, dtype: int64"
      ]
     },
     "execution_count": 29,
     "metadata": {},
     "output_type": "execute_result"
    }
   ],
   "source": [
    "cars['normalized_losses'].isnull().value_counts()"
   ]
  },
  {
   "cell_type": "code",
   "execution_count": 43,
   "metadata": {},
   "outputs": [
    {
     "data": {
      "text/plain": [
       "<matplotlib.axes._subplots.AxesSubplot at 0x1c91ae04240>"
      ]
     },
     "execution_count": 43,
     "metadata": {},
     "output_type": "execute_result"
    },
    {
     "data": {
      "image/png": "[encoded data removed]",
      "text/plain": [
       "<Figure size 288x216 with 1 Axes>"
      ]
     },
     "metadata": {
      "needs_background": "light"
     },
     "output_type": "display_data"
    }
   ],
   "source": [
    "import matplotlib.pyplot as plt\n",
    "%matplotlib inline\n",
    "notnull = cars[cars['normalized_losses'].notnull()]['normalized_losses']\n",
    "plt.figure(figsize=(4,3))\n",
    "cars['normalized_losses'].hist()"
   ]
  },
  {
   "cell_type": "code",
   "execution_count": 44,
   "metadata": {},
   "outputs": [
    {
     "data": {
      "text/plain": [
       "False    193\n",
       "Name: normalized_losses, dtype: int64"
      ]
     },
     "execution_count": 44,
     "metadata": {},
     "output_type": "execute_result"
    }
   ],
   "source": [
    "# given the normal distribution with over 40 missing values, will replace missing values with the mean.\n",
    "cars['normalized_losses'].mean()\n",
    "cars['normalized_losses'] = cars['normalized_losses'].fillna(cars['normalized_losses'].mean())\n",
    "cars['normalized_losses'].isnull().value_counts()"
   ]
  },
  {
   "cell_type": "code",
   "execution_count": 33,
   "metadata": {},
   "outputs": [
    {
     "name": "stdout",
     "output_type": "stream",
     "text": [
      "False    201\n",
      "True       4\n",
      "Name: stroke, dtype: int64\n",
      "False    203\n",
      "True       2\n",
      "Name: horsepower, dtype: int64\n",
      "False    203\n",
      "True       2\n",
      "Name: peak_rpm, dtype: int64\n",
      "False    205\n",
      "Name: wheel_base, dtype: int64\n",
      "False    205\n",
      "Name: engine_size, dtype: int64\n",
      "False    201\n",
      "True       4\n",
      "Name: price, dtype: int64\n"
     ]
    }
   ],
   "source": [
    "print(cars['stroke'].isnull().value_counts())\n",
    "print(cars['horsepower'].isnull().value_counts())\n",
    "print(cars['peak_rpm'].isnull().value_counts())\n",
    "print(cars['wheel_base'].isnull().value_counts())\n",
    "print(cars['engine_size'].isnull().value_counts())\n",
    "print(cars['price'].isnull().value_counts())"
   ]
  },
  {
   "cell_type": "code",
   "execution_count": 45,
   "metadata": {},
   "outputs": [],
   "source": [
    "# given the small number of missing values, will drop any row with missing values\n",
    "cars = cars.dropna()"
   ]
  },
  {
   "cell_type": "code",
   "execution_count": 46,
   "metadata": {},
   "outputs": [
    {
     "data": {
      "text/html": [
       "<div>\n",
       "<style scoped>\n",
       "    .dataframe tbody tr th:only-of-type {\n",
       "        vertical-align: middle;\n",
       "    }\n",
       "\n",
       "    .dataframe tbody tr th {\n",
       "        vertical-align: top;\n",
       "    }\n",
       "\n",
       "    .dataframe thead th {\n",
       "        text-align: right;\n",
       "    }\n",
       "</style>\n",
       "<table border=\"1\" class=\"dataframe\">\n",
       "  <thead>\n",
       "    <tr style=\"text-align: right;\">\n",
       "      <th></th>\n",
       "      <th>normalized_losses</th>\n",
       "      <th>stroke</th>\n",
       "      <th>horsepower</th>\n",
       "      <th>peak_rpm</th>\n",
       "      <th>wheel_base</th>\n",
       "      <th>engine_size</th>\n",
       "    </tr>\n",
       "  </thead>\n",
       "  <tbody>\n",
       "    <tr>\n",
       "      <th>0</th>\n",
       "      <td>0.476562</td>\n",
       "      <td>0.642686</td>\n",
       "      <td>0.423664</td>\n",
       "      <td>0.757576</td>\n",
       "      <td>0.732837</td>\n",
       "      <td>0.398773</td>\n",
       "    </tr>\n",
       "    <tr>\n",
       "      <th>1</th>\n",
       "      <td>0.476562</td>\n",
       "      <td>0.642686</td>\n",
       "      <td>0.423664</td>\n",
       "      <td>0.757576</td>\n",
       "      <td>0.732837</td>\n",
       "      <td>0.398773</td>\n",
       "    </tr>\n",
       "    <tr>\n",
       "      <th>2</th>\n",
       "      <td>0.476562</td>\n",
       "      <td>0.832134</td>\n",
       "      <td>0.587786</td>\n",
       "      <td>0.757576</td>\n",
       "      <td>0.781638</td>\n",
       "      <td>0.466258</td>\n",
       "    </tr>\n",
       "  </tbody>\n",
       "</table>\n",
       "</div>"
      ],
      "text/plain": [
       "   normalized_losses    stroke  horsepower  peak_rpm  wheel_base  engine_size\n",
       "0           0.476562  0.642686    0.423664  0.757576    0.732837     0.398773\n",
       "1           0.476562  0.642686    0.423664  0.757576    0.732837     0.398773\n",
       "2           0.476562  0.832134    0.587786  0.757576    0.781638     0.466258"
      ]
     },
     "execution_count": 46,
     "metadata": {},
     "output_type": "execute_result"
    }
   ],
   "source": [
    "# normalize the numeric columns to limit values from 0 to 1\n",
    "def norm(df, col_ls):\n",
    "    for col in col_ls:\n",
    "        df[col] = df[col]/df[col].max()\n",
    "    return df[col_ls]\n",
    "col_ls = ['normalized_losses', 'stroke', 'horsepower', 'peak_rpm', 'wheel_base','engine_size']\n",
    "cars_copy = cars.copy()\n",
    "cars_copy[col_ls] = norm(cars_copy, col_ls)\n",
    "cars_copy[col_ls].head(3)"
   ]
  },
  {
   "cell_type": "markdown",
   "metadata": {},
   "source": [
    "#### Perform modeling"
   ]
  },
  {
   "cell_type": "code",
   "execution_count": 47,
   "metadata": {},
   "outputs": [
    {
     "name": "stdout",
     "output_type": "stream",
     "text": [
      "rmse_losses 7740.845284645361\n",
      "rmse_stroke 7974.5191580714745\n",
      "rmse_hp 3598.795543749921\n",
      "rmse_rpm 7261.908671012219\n",
      "wheel_base 5651.528404506057\n",
      "engine_size 3482.102463296845\n"
     ]
    }
   ],
   "source": [
    "# univariate k-nearest neighbors models\n",
    "\n",
    "from sklearn.neighbors import KNeighborsRegressor\n",
    "from sklearn.metrics import mean_squared_error\n",
    "def knn_train_test(train_col, target_col, df):\n",
    "    # split data with 75:25 for train and test\n",
    "    l = int(len(df)*0.75)\n",
    "    train_df = df.iloc[0:l][train_col]\n",
    "    train_df[target_col] = df.iloc[0:l][target_col]\n",
    "    test_df = df.iloc[l:len(df)][train_col]\n",
    "    test_df[target_col] = df.iloc[l:len(df)][target_col]\n",
    "    knn = KNeighborsRegressor()\n",
    "    knn.fit(train_df[train_col], train_df[target_col])\n",
    "    prediction = knn.predict(test_df[train_col])\n",
    "    mse = mean_squared_error(test_df[target_col], prediction)\n",
    "    rmse = mse**0.5\n",
    "    return rmse\n",
    "\n",
    "rmse_losses = knn_train_test(['normalized_losses'], ['price'], cars_copy)\n",
    "print('rmse_losses', rmse_losses)\n",
    "\n",
    "rmse_stroke = knn_train_test(['stroke'], ['price'], cars_copy)\n",
    "print('rmse_stroke', rmse_stroke)\n",
    "\n",
    "rmse_hp = knn_train_test(['horsepower'], ['price'], cars_copy)\n",
    "print('rmse_hp', rmse_hp)\n",
    "\n",
    "rmse_rpm = knn_train_test(['peak_rpm'], ['price'], cars_copy)\n",
    "print('rmse_rpm', rmse_rpm)\n",
    "\n",
    "rmse_base = knn_train_test(['wheel_base'], ['price'], cars_copy)\n",
    "print('wheel_base', rmse_base)\n",
    "\n",
    "rmse_engine = knn_train_test(['engine_size'], ['price'], cars_copy)\n",
    "print('engine_size', rmse_engine)"
   ]
  },
  {
   "cell_type": "code",
   "execution_count": 69,
   "metadata": {},
   "outputs": [
    {
     "data": {
      "text/plain": [
       "<matplotlib.legend.Legend at 0x1c924c48898>"
      ]
     },
     "execution_count": 69,
     "metadata": {},
     "output_type": "execute_result"
    },
    {
     "data": {
      "image/png": "[encoded data removed]",
      "text/plain": [
       "<Figure size 288x216 with 1 Axes>"
      ]
     },
     "metadata": {
      "needs_background": "light"
     },
     "output_type": "display_data"
    }
   ],
   "source": [
    "# including k for the function\n",
    "def knn_train_test(train_col, target_col, df, k):\n",
    "    l = int(len(df)*0.75)\n",
    "    train_df = df.iloc[0:l][train_col]\n",
    "    train_df[target_col] = df.iloc[0:l][target_col]\n",
    "    test_df = df.iloc[l:len(df)][train_col]\n",
    "    test_df[target_col] = df.iloc[l:len(df)][target_col]\n",
    "    knn = KNeighborsRegressor(n_neighbors = k)\n",
    "    knn.fit(train_df[train_col], train_df[target_col])\n",
    "    prediction = knn.predict(test_df[train_col])\n",
    "    mse = mean_squared_error(test_df[target_col], prediction)\n",
    "    rmse = mse**0.5\n",
    "    return rmse\n",
    "\n",
    "rmses_losses = []\n",
    "rmses_stroke = []\n",
    "rmses_hp = []\n",
    "rmses_rpm = []\n",
    "rmses_base = []\n",
    "rmses_engine = []\n",
    "\n",
    "for k in [1, 3, 5, 7, 9]:\n",
    "    rmse_losses = knn_train_test(['normalized_losses'], ['price'], cars_copy, k)\n",
    "    rmses_losses.append(rmse_losses)\n",
    "    rmse_stroke = knn_train_test(['stroke'], ['price'], cars_copy, k)\n",
    "    rmses_stroke.append(rmse_stroke)\n",
    "    rmse_hp = knn_train_test(['horsepower'], ['price'], cars_copy, k)\n",
    "    rmses_hp.append(rmse_hp)\n",
    "    rmse_rpm = knn_train_test(['peak_rpm'], ['price'], cars_copy, k)\n",
    "    rmses_rpm.append(rmse_rpm)\n",
    "    rmse_base = knn_train_test(['wheel_base'], ['price'], cars_copy, k)\n",
    "    rmses_base.append(rmse_base)\n",
    "    rmse_engine = knn_train_test(['engine_size'], ['price'], cars_copy, k)\n",
    "    rmses_engine.append(rmse_engine)\n",
    "    \n",
    "plt.figure(figsize=(4,3))    \n",
    "plt.scatter([1, 3, 5, 7, 9], rmses_losses, color ='red', label='losses')\n",
    "plt.scatter([1, 3, 5, 7, 9], rmses_stroke, color='orange', label='stroke')\n",
    "plt.scatter([1, 3, 5, 7, 9], rmses_hp, color = 'green', label='hp')\n",
    "plt.scatter([1, 3, 5, 7, 9], rmses_rpm, color = 'blue', label='rmp')\n",
    "plt.scatter([1, 3, 5, 7, 9], rmses_base, color = 'black', label='base')\n",
    "plt.scatter([1, 3, 5, 7, 9], rmses_engine, color = 'gray', label='engine')\n",
    "plt.title('rmse')\n",
    "plt.legend(loc='center left', bbox_to_anchor=(1, 0.5))"
   ]
  },
  {
   "cell_type": "code",
   "execution_count": 49,
   "metadata": {},
   "outputs": [
    {
     "name": "stdout",
     "output_type": "stream",
     "text": [
      "rmse_two 3434.1212552730817\n",
      "rmse_three 3241.56723559101\n",
      "rmse_four 2989.585136053878\n",
      "rmse_five 3232.4645143813555\n"
     ]
    }
   ],
   "source": [
    "# using multiple columns for presiction\n",
    "\n",
    "rmse_two = knn_train_test(['horsepower', 'engine_size'], ['price'], cars_copy, 1)\n",
    "print('rmse_two', rmse_two)\n",
    "rmse_three = knn_train_test(['horsepower', 'engine_size', 'wheel_base'], ['price'], cars_copy,1)\n",
    "print('rmse_three', rmse_three)\n",
    "rmse_four = knn_train_test(['normalized_losses', 'horsepower', 'engine_size', 'wheel_base'], ['price'], cars_copy, 1)\n",
    "print('rmse_four', rmse_four)\n",
    "rmse_five = knn_train_test(['normalized_losses', 'horsepower', 'engine_size', 'wheel_base', 'stroke'], ['price'], cars_copy, 1)\n",
    "print('rmse_five', rmse_five)"
   ]
  },
  {
   "cell_type": "code",
   "execution_count": 70,
   "metadata": {},
   "outputs": [
    {
     "data": {
      "text/plain": [
       "<matplotlib.legend.Legend at 0x1c924cea320>"
      ]
     },
     "execution_count": 70,
     "metadata": {},
     "output_type": "execute_result"
    },
    {
     "data": {
      "image/png": "[encoded data removed]",
      "text/plain": [
       "<Figure size 432x288 with 1 Axes>"
      ]
     },
     "metadata": {
      "needs_background": "light"
     },
     "output_type": "display_data"
    }
   ],
   "source": [
    "# vary the hyperparameter value\n",
    "rmses_five = []\n",
    "rmses_two = []\n",
    "rmses_three = []\n",
    "\n",
    "for k in range(1,26):\n",
    "    rmse_five = knn_train_test(['normalized_losses', 'horsepower', 'engine_size', 'wheel_base', 'stroke'], ['price'], cars_copy, k)\n",
    "    rmses_five.append(rmse_five)\n",
    "    rmse_two = knn_train_test(['horsepower', 'engine_size'], ['price'], cars_copy, k)\n",
    "    rmses_two.append(rmse_two)\n",
    "    rmse_three = knn_train_test(['horsepower', 'engine_size', 'wheel_base'], ['price'], cars_copy, k)\n",
    "    rmses_three.append(rmse_three)\n",
    "plt.scatter(list(range(1,26)), rmses_five, color ='red', label='rmses_five')\n",
    "plt.scatter(list(range(1,26)), rmses_two, color='blue', label='rmses_two')\n",
    "plt.scatter(list(range(1,26)), rmses_three, color = 'green', label='rmses_three')\n",
    "plt.legend(loc='center left', bbox_to_anchor=(1, 0.5))"
   ]
  },
  {
   "cell_type": "markdown",
   "metadata": {},
   "source": [
    "five nearest neighbors and 15 fold split of data resulted in the smallest rmse"
   ]
  },
  {
   "cell_type": "markdown",
   "metadata": {},
   "source": [
    "#### prediction using k-fold cross validation instead of test/train validation"
   ]
  },
  {
   "cell_type": "code",
   "execution_count": 54,
   "metadata": {},
   "outputs": [
    {
     "name": "stdout",
     "output_type": "stream",
     "text": [
      "3 folds:  avg RMSE:  3719.3606591843964   std RMSE:  531.8165243288654\n",
      "5 folds:  avg RMSE:  3376.5869329241295   std RMSE:  434.3535288294119\n",
      "7 folds:  avg RMSE:  3110.5389805573645   std RMSE:  970.9069939503901\n",
      "9 folds:  avg RMSE:  2975.2604374912657   std RMSE:  923.5692267257427\n",
      "10 folds:  avg RMSE:  3024.284604976535   std RMSE:  885.7841732177084\n",
      "11 folds:  avg RMSE:  2916.6288049647924   std RMSE:  1114.5983116971945\n",
      "13 folds:  avg RMSE:  2917.1391490826963   std RMSE:  963.5565725063663\n",
      "15 folds:  avg RMSE:  2870.971075230726   std RMSE:  1241.5475521770138\n",
      "17 folds:  avg RMSE:  2898.2193402435814   std RMSE:  1209.7861778673591\n",
      "19 folds:  avg RMSE:  2770.7623371385466   std RMSE:  1237.5186025236737\n",
      "21 folds:  avg RMSE:  2798.4068839709016   std RMSE:  1391.8620637803272\n",
      "23 folds:  avg RMSE:  2787.7093567393404   std RMSE:  1280.5133329357384\n"
     ]
    }
   ],
   "source": [
    "from sklearn.model_selection import cross_val_score, KFold\n",
    "num_folds = [3, 5, 7, 9, 10, 11, 13, 15, 17, 19, 21, 23]\n",
    "cols = ['normalized_losses', 'horsepower', 'engine_size', 'wheel_base', 'stroke']\n",
    "rmses_ls = []\n",
    "std_rmse_ls = []\n",
    "for fold in num_folds:\n",
    "    kf = KFold(fold, shuffle = True, random_state = 1)\n",
    "    knn = KNeighborsRegressor()\n",
    "    mses = cross_val_score(knn, cars_copy[cols], cars_copy[\"price\"], scoring = \"neg_mean_squared_error\", cv = kf)\n",
    "    rmses = np.sqrt(np.abs(mses))\n",
    "    avg_rmse = np.mean(rmses)\n",
    "    rmses_ls.append(avg_rmse)\n",
    "    std_rmse = np.std(rmses)\n",
    "    std_rmse_ls.append(std_rmse)\n",
    "    print(str(fold), \"folds: \", \"avg RMSE: \", str(avg_rmse), \"  std RMSE: \", str(std_rmse))"
   ]
  },
  {
   "cell_type": "code",
   "execution_count": 71,
   "metadata": {},
   "outputs": [
    {
     "data": {
      "text/plain": [
       "<matplotlib.legend.Legend at 0x1c924d49278>"
      ]
     },
     "execution_count": 71,
     "metadata": {},
     "output_type": "execute_result"
    },
    {
     "data": {
      "image/png": "[encoded data removed]",
      "text/plain": [
       "<Figure size 360x288 with 1 Axes>"
      ]
     },
     "metadata": {
      "needs_background": "light"
     },
     "output_type": "display_data"
    }
   ],
   "source": [
    "plt.figure(figsize = (5,4))\n",
    "plt.scatter(num_folds, rmses_ls, color = 'red', label='avg_rmse')\n",
    "plt.scatter(num_folds, std_rmse_ls, color = 'blue', label='std_rmse')\n",
    "plt.legend(loc='center left', bbox_to_anchor=(1, 0.5))"
   ]
  }
 ],
 "metadata": {
  "kernelspec": {
   "display_name": "Python 3",
   "language": "python",
   "name": "python3"
  },
  "language_info": {
   "codemirror_mode": {
    "name": "ipython",
    "version": 3
   },
   "file_extension": ".py",
   "mimetype": "text/x-python",
   "name": "python",
   "nbconvert_exporter": "python",
   "pygments_lexer": "ipython3",
   "version": "3.7.3"
  }
 },
 "nbformat": 4,
 "nbformat_minor": 2
}
