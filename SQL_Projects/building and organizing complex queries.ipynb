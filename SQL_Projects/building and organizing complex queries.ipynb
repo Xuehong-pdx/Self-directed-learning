{
 "cells": [
  {
   "cell_type": "code",
   "execution_count": null,
   "metadata": {},
   "outputs": [],
   "source": [
    "# WITH clauses: The main query then refers to the subquery by it's alias name.\n",
    "    WITH [alias_name] AS ([subquery])\n",
    "    SELECT [main_query]"
   ]
  },
  {
   "cell_type": "code",
   "execution_count": null,
   "metadata": {},
   "outputs": [],
   "source": [
    "# show summary data for every playlist in the Chinook database:\n",
    "#    Use a WITH clause to create a named subquery with the following info:\n",
    "#        The unique ID for the playlist.\n",
    "#        The name of the playlist.\n",
    "#        The name of each track from the playlist.\n",
    "#        The length of the each track in seconds.\n",
    "#    Final table should have the following columns, in order:\n",
    "#        playlist_id - the unique ID for the playlist.\n",
    "#        playlist_name - The name of the playlist.\n",
    "#        number_of_tracks - A count of the number of tracks in the playlist.\n",
    "#        length_seconds - The sum of the length of the playlist in seconds.\n",
    "#    The results should be sorted by playlist_id in ascending order.\n",
    "\n",
    "    WITH playlist_info AS\n",
    "            (SELECT p.playlist_id, \n",
    "                    p.name playlist_name, \n",
    "                    t.name track_name,\n",
    "                    (t.milliseconds/1000) seconds\n",
    "     FROM playlist p\n",
    "     LEFT JOIN playlist_track pt ON pt.playlist_id = p.playlist_id\n",
    "     LEFT JOIN track t ON t.track_id = pt.track_id\n",
    "             )\n",
    "    SELECT playlist_id, \n",
    "           playlist_name, \n",
    "           COUNT(track_name) number_of_tracks,\n",
    "           SUM(seconds) length_seconds\n",
    "    FROM playlist_info\n",
    "    GROUP by 1, 2\n",
    "    ORDER BY 1 ASC"
   ]
  },
  {
   "cell_type": "code",
   "execution_count": null,
   "metadata": {},
   "outputs": [],
   "source": [
    "# VIEW can be used in all future queries\n",
    "    CREATE VIEW chinook.customer_2 AS\n",
    "            SELECT * FROM chinook.customer;\n",
    "        \n",
    "    DROP VIEW chinook.customer_2; # before can redefine a view"
   ]
  },
  {
   "cell_type": "code",
   "execution_count": null,
   "metadata": {},
   "outputs": [],
   "source": [
    "    CREATE VIEW chinook.customer_usa AS \n",
    "            SELECT * FROM chinook.customer\n",
    "            WHERE country = \"USA\";  "
   ]
  },
  {
   "cell_type": "code",
   "execution_count": null,
   "metadata": {},
   "outputs": [],
   "source": [
    "# Create a view called customer_gt_90_dollars:\n",
    "#    The view should contain the columns from customers, in their original order.\n",
    "#    The view should contain only customers who have purchased more than $90 in tracks \n",
    "#         from the store.\n",
    "#    Write a second query to display newly created view: \n",
    "#    Make sure use a semicolon (;) to indicate the end of each query    \n",
    "    CREATE VIEW chinook.customer_gt_90_dollars AS\n",
    "                SELECT c.* \n",
    "                FROM chinook.customer c\n",
    "                INNER JOIN chinook.invoice i ON c.customer_id=i.customer_id\n",
    "                GROUP BY 1 \n",
    "                HAVING SUM(i.total) > 90;\n",
    "    SELECT * \n",
    "    FROM chinook.customer_gt_90_dollars;"
   ]
  },
  {
   "cell_type": "code",
   "execution_count": null,
   "metadata": {},
   "outputs": [],
   "source": [
    "# UNION: join rows from tables and/or views while joins are used to join columns.  \n",
    "# The statements before and after UNION must have the same number of columns, \n",
    "#    with compatible types in order "
   ]
  },
  {
   "cell_type": "code",
   "execution_count": null,
   "metadata": {},
   "outputs": [],
   "source": [
    "# UNION: Selects rows that occur in either statement.\n",
    "# INTERSECT: Selects rows that occur in both statements. \n",
    "# EXCEPT: Selects rows that occur in the first statement, \n",
    "#         but don't occur in the second statement. "
   ]
  },
  {
   "cell_type": "code",
   "execution_count": null,
   "metadata": {},
   "outputs": [],
   "source": [
    "# how many customers that are in the USA and have purchased more than $90 \n",
    "# are assigned to each sales support agent. Assume no two employees have the same name.\n",
    "# Expected result: in order:\n",
    "#    employee_name - The first_name and last_name of the employee separated by a space\n",
    "#    customers_usa_gt_90 - The number of customer assigned to that employee \n",
    "#       that are both from the USA and have have purchased more than $90 worth of tracks.\n",
    "# The result should include all employees with the title \"Sales Support Agent\", \n",
    "#   but not employees with any other title.\n",
    "     \n",
    "    WITH customers_usa_gt AS\n",
    "        (\n",
    "         SELECT * FROM customer_usa\n",
    "         INTERSECT \n",
    "         SELECT * FROM customer_gt_90_dollars\n",
    "        ) \n",
    "    SELECT \n",
    "        e.first_name || \" \" || e.last_name employee_name,\n",
    "        COUNT(c.customer_id) customers_usa_gt_90\n",
    "    FROM employee e\n",
    "    LEFT JOIN customers_usa_gt c ON c.support_rep_id = e.employee_id\n",
    "    WHERE e.title = 'Sales Support Agent'\n",
    "    GROUP BY employee_name\n",
    "    ORDER BY employee_name"
   ]
  },
  {
   "cell_type": "code",
   "execution_count": null,
   "metadata": {},
   "outputs": [],
   "source": [
    "# creating more than one named subquery    \n",
    "       WITH\n",
    "           [alias_name] AS ([subquery]),\n",
    "           [alias_name_2] AS ([subquery_2]),\n",
    "           [alias_name_3] AS ([subquery_3])\n",
    "       SELECT [main_query]"
   ]
  },
  {
   "cell_type": "code",
   "execution_count": null,
   "metadata": {},
   "outputs": [],
   "source": [
    "# use multiple named subqueries in a WITH clause to gather total sales data on customers \n",
    "#   from India:\n",
    "#   The first named subquery should return all customers that are from India.\n",
    "#   The second named subquery should calculate the sum total for every customer.\n",
    "#   The main query should join the two named subqueries, resulting in following final columns:\n",
    "#       customer_name - The first_name and last_name of the customer, separated by a space\n",
    "#       total_purchases - The total amount spent on purchases by that customer.\n",
    "# Results should be sorted by the customer_name column in alphabetical order.\n",
    "    WITH \n",
    "        c_india AS (SELECT * FROM customer WHERE country='India'),\n",
    "        sum_total AS (SELECT i.customer_id, SUM(i.total) total_purchases\n",
    "                      FROM invoice i \n",
    "                      INNER JOIN customer c ON c.customer_id = i.customer_id\n",
    "                      GROUP BY i.customer_id\n",
    "                      )\n",
    "    SELECT first_name || \" \" || last_name customer_name,\n",
    "           total_purchases \n",
    "    FROM (SELECT * \n",
    "          FROM c_india\n",
    "          INNER JOIN sum_total ON c_india.customer_id=sum_total.customer_id)\n",
    "    ORDER BY customer_name ASC"
   ]
  },
  {
   "cell_type": "code",
   "execution_count": null,
   "metadata": {},
   "outputs": [],
   "source": [
    "    WITH \n",
    "        c_india AS (SELECT * FROM customer WHERE country='India'),\n",
    "        sales_per_customer AS (SELECT customer_id, \n",
    "                                      SUM(total) total\n",
    "                               FROM invoice \n",
    "                               GROUP BY 1)\n",
    "    SELECT ci.first_name || \" \" || ci.last_name customer_name,\n",
    "           spc.total total_purchases \n",
    "    FROM c_india ci\n",
    "    INNER JOIN sales_per_customer spc ON ci.customer_id = spc.customer_id\n",
    "    ORDER BY 1"
   ]
  },
  {
   "cell_type": "code",
   "execution_count": null,
   "metadata": {},
   "outputs": [],
   "source": [
    "# find the customer from each country that has spent the most money at the store. \n",
    "# Return the following columns, in order:\n",
    "#   country - The name of each country that we have a customer from.\n",
    "#   customer_name - The first_name and last_name of the customer from that country \n",
    "#                   with the most total purchases.\n",
    "#   total_purchased - The total dollar amount that customer has purchased.\n",
    "# The rows should be order by the country column in alphabetical order\n",
    "    WITH \n",
    "        cust_purchase AS (SELECT customer_id, \n",
    "                                 SUM(total) total_purchases\n",
    "                          FROM invoice\n",
    "                          GROUP BY 1),\n",
    "        top_cust_per_country AS \n",
    "                        (SELECT c.*, \n",
    "                                MAX(cp.total_purchases) top_pur \n",
    "                         FROM customer c\n",
    "                         INNER JOIN cust_purchase cp ON c.customer_id = cp.customer_id\n",
    "                         GROUP BY c.country)\n",
    "SELECT c.country, \n",
    "       c.first_name || \" \" || c.last_name customer_name,\n",
    "       tcc.top_pur total_purchased\n",
    "FROM customer c\n",
    "INNER JOIN top_cust_per_country tcc ON tcc.customer_id = c.customer_id\n",
    "ORDER BY 1;"
   ]
  },
  {
   "cell_type": "code",
   "execution_count": null,
   "metadata": {},
   "outputs": [],
   "source": []
  }
 ],
 "metadata": {
  "kernelspec": {
   "display_name": "Python 3",
   "language": "python",
   "name": "python3"
  },
  "language_info": {
   "codemirror_mode": {
    "name": "ipython",
    "version": 3
   },
   "file_extension": ".py",
   "mimetype": "text/x-python",
   "name": "python",
   "nbconvert_exporter": "python",
   "pygments_lexer": "ipython3",
   "version": "3.6.5"
  }
 },
 "nbformat": 4,
 "nbformat_minor": 2
}
