{
 "cells": [
  {
   "cell_type": "markdown",
   "metadata": {},
   "source": [
    "The goal of this project is to figure out some patterns in the questions that could help winning based on a dataset of Jeopardy questions."
   ]
  },
  {
   "cell_type": "code",
   "execution_count": 22,
   "metadata": {},
   "outputs": [
    {
     "data": {
      "text/html": [
       "<div>\n",
       "<style scoped>\n",
       "    .dataframe tbody tr th:only-of-type {\n",
       "        vertical-align: middle;\n",
       "    }\n",
       "\n",
       "    .dataframe tbody tr th {\n",
       "        vertical-align: top;\n",
       "    }\n",
       "\n",
       "    .dataframe thead th {\n",
       "        text-align: right;\n",
       "    }\n",
       "</style>\n",
       "<table border=\"1\" class=\"dataframe\">\n",
       "  <thead>\n",
       "    <tr style=\"text-align: right;\">\n",
       "      <th></th>\n",
       "      <th>Show Number</th>\n",
       "      <th>Air Date</th>\n",
       "      <th>Round</th>\n",
       "      <th>Category</th>\n",
       "      <th>Value</th>\n",
       "      <th>Question</th>\n",
       "      <th>Answer</th>\n",
       "    </tr>\n",
       "  </thead>\n",
       "  <tbody>\n",
       "    <tr>\n",
       "      <th>0</th>\n",
       "      <td>4680</td>\n",
       "      <td>2004-12-31</td>\n",
       "      <td>Jeopardy!</td>\n",
       "      <td>HISTORY</td>\n",
       "      <td>$200</td>\n",
       "      <td>For the last 8 years of his life, Galileo was ...</td>\n",
       "      <td>Copernicus</td>\n",
       "    </tr>\n",
       "    <tr>\n",
       "      <th>1</th>\n",
       "      <td>4680</td>\n",
       "      <td>2004-12-31</td>\n",
       "      <td>Jeopardy!</td>\n",
       "      <td>ESPN's TOP 10 ALL-TIME ATHLETES</td>\n",
       "      <td>$200</td>\n",
       "      <td>No. 2: 1912 Olympian; football star at Carlisl...</td>\n",
       "      <td>Jim Thorpe</td>\n",
       "    </tr>\n",
       "    <tr>\n",
       "      <th>2</th>\n",
       "      <td>4680</td>\n",
       "      <td>2004-12-31</td>\n",
       "      <td>Jeopardy!</td>\n",
       "      <td>EVERYBODY TALKS ABOUT IT...</td>\n",
       "      <td>$200</td>\n",
       "      <td>The city of Yuma in this state has a record av...</td>\n",
       "      <td>Arizona</td>\n",
       "    </tr>\n",
       "  </tbody>\n",
       "</table>\n",
       "</div>"
      ],
      "text/plain": [
       "   Show Number    Air Date      Round                         Category  Value  \\\n",
       "0         4680  2004-12-31  Jeopardy!                          HISTORY   $200   \n",
       "1         4680  2004-12-31  Jeopardy!  ESPN's TOP 10 ALL-TIME ATHLETES   $200   \n",
       "2         4680  2004-12-31  Jeopardy!      EVERYBODY TALKS ABOUT IT...   $200   \n",
       "\n",
       "                                            Question      Answer  \n",
       "0  For the last 8 years of his life, Galileo was ...  Copernicus  \n",
       "1  No. 2: 1912 Olympian; football star at Carlisl...  Jim Thorpe  \n",
       "2  The city of Yuma in this state has a record av...     Arizona  "
      ]
     },
     "execution_count": 22,
     "metadata": {},
     "output_type": "execute_result"
    }
   ],
   "source": [
    "import pandas as pd\n",
    "import numpy as np\n",
    "jeopardy = pd.read_csv('jeopardy.csv')\n",
    "jeopardy = jeopardy[:20000]\n",
    "jeopardy.head(3)"
   ]
  },
  {
   "cell_type": "code",
   "execution_count": 23,
   "metadata": {},
   "outputs": [
    {
     "data": {
      "text/plain": [
       "Index(['Show Number', 'Air Date', 'Round', 'Category', 'Value', 'Question',\n",
       "       'Answer'],\n",
       "      dtype='object')"
      ]
     },
     "execution_count": 23,
     "metadata": {},
     "output_type": "execute_result"
    }
   ],
   "source": [
    "jeopardy.columns = jeopardy.columns.str.strip()\n",
    "jeopardy.columns"
   ]
  },
  {
   "cell_type": "markdown",
   "metadata": {},
   "source": [
    "Normalizing text"
   ]
  },
  {
   "cell_type": "code",
   "execution_count": 25,
   "metadata": {},
   "outputs": [
    {
     "data": {
      "text/html": [
       "<div>\n",
       "<style scoped>\n",
       "    .dataframe tbody tr th:only-of-type {\n",
       "        vertical-align: middle;\n",
       "    }\n",
       "\n",
       "    .dataframe tbody tr th {\n",
       "        vertical-align: top;\n",
       "    }\n",
       "\n",
       "    .dataframe thead th {\n",
       "        text-align: right;\n",
       "    }\n",
       "</style>\n",
       "<table border=\"1\" class=\"dataframe\">\n",
       "  <thead>\n",
       "    <tr style=\"text-align: right;\">\n",
       "      <th></th>\n",
       "      <th>clean_question</th>\n",
       "      <th>clean_answer</th>\n",
       "    </tr>\n",
       "  </thead>\n",
       "  <tbody>\n",
       "    <tr>\n",
       "      <th>0</th>\n",
       "      <td>for the last 8 years of his life galileo was u...</td>\n",
       "      <td>copernicus</td>\n",
       "    </tr>\n",
       "    <tr>\n",
       "      <th>1</th>\n",
       "      <td>no 2 1912 olympian football star at carlisle i...</td>\n",
       "      <td>jim thorpe</td>\n",
       "    </tr>\n",
       "    <tr>\n",
       "      <th>2</th>\n",
       "      <td>the city of yuma in this state has a record av...</td>\n",
       "      <td>arizona</td>\n",
       "    </tr>\n",
       "  </tbody>\n",
       "</table>\n",
       "</div>"
      ],
      "text/plain": [
       "                                      clean_question clean_answer\n",
       "0  for the last 8 years of his life galileo was u...   copernicus\n",
       "1  no 2 1912 olympian football star at carlisle i...   jim thorpe\n",
       "2  the city of yuma in this state has a record av...      arizona"
      ]
     },
     "execution_count": 25,
     "metadata": {},
     "output_type": "execute_result"
    }
   ],
   "source": [
    "import string\n",
    "def norm(x):\n",
    "    \"\"\" \n",
    "    Converting the string to lowercase. Remove all punctuation in the string \n",
    "    so that Don't and don't aren't considered to be different words.\n",
    "    \"\"\"\n",
    "    x = x.str.lower()\n",
    "    x = [''.join(c for c in s if c not in string.punctuation) for s in x]\n",
    "    x = [s for s in x if s]\n",
    "    return x\n",
    "\n",
    "jeopardy['clean_question'] = norm(jeopardy['Question'])\n",
    "jeopardy['clean_answer'] = norm(jeopardy['Answer'])\n",
    "jeopardy[['clean_question', 'clean_answer']].head(3)"
   ]
  },
  {
   "cell_type": "markdown",
   "metadata": {},
   "source": [
    "Normalizing columns"
   ]
  },
  {
   "cell_type": "code",
   "execution_count": 26,
   "metadata": {},
   "outputs": [
    {
     "data": {
      "text/html": [
       "<div>\n",
       "<style scoped>\n",
       "    .dataframe tbody tr th:only-of-type {\n",
       "        vertical-align: middle;\n",
       "    }\n",
       "\n",
       "    .dataframe tbody tr th {\n",
       "        vertical-align: top;\n",
       "    }\n",
       "\n",
       "    .dataframe thead th {\n",
       "        text-align: right;\n",
       "    }\n",
       "</style>\n",
       "<table border=\"1\" class=\"dataframe\">\n",
       "  <thead>\n",
       "    <tr style=\"text-align: right;\">\n",
       "      <th></th>\n",
       "      <th>clean_question</th>\n",
       "      <th>clean_answer</th>\n",
       "      <th>clean_value</th>\n",
       "    </tr>\n",
       "  </thead>\n",
       "  <tbody>\n",
       "    <tr>\n",
       "      <th>0</th>\n",
       "      <td>for the last 8 years of his life galileo was u...</td>\n",
       "      <td>copernicus</td>\n",
       "      <td>200</td>\n",
       "    </tr>\n",
       "    <tr>\n",
       "      <th>1</th>\n",
       "      <td>no 2 1912 olympian football star at carlisle i...</td>\n",
       "      <td>jim thorpe</td>\n",
       "      <td>200</td>\n",
       "    </tr>\n",
       "    <tr>\n",
       "      <th>2</th>\n",
       "      <td>the city of yuma in this state has a record av...</td>\n",
       "      <td>arizona</td>\n",
       "      <td>200</td>\n",
       "    </tr>\n",
       "  </tbody>\n",
       "</table>\n",
       "</div>"
      ],
      "text/plain": [
       "                                      clean_question clean_answer  clean_value\n",
       "0  for the last 8 years of his life galileo was u...   copernicus          200\n",
       "1  no 2 1912 olympian football star at carlisle i...   jim thorpe          200\n",
       "2  the city of yuma in this state has a record av...      arizona          200"
      ]
     },
     "execution_count": 26,
     "metadata": {},
     "output_type": "execute_result"
    }
   ],
   "source": [
    "# normalize dollar values by Removing punctuations in the string and Converting the string to an integer.  \n",
    "# If the conversion has an error, assign 0.\n",
    "def conv_str(ins):\n",
    "    outs = ins.replace('$','').replace(',', '')\n",
    "    if outs == 'None':\n",
    "        return 0 \n",
    "    else:\n",
    "        outs = int(outs)\n",
    "        return outs\n",
    "jeopardy['clean_value'] = jeopardy['Value'].apply(conv_str)\n",
    "jeopardy[['clean_question', 'clean_answer', 'clean_value']].head(3)"
   ]
  },
  {
   "cell_type": "code",
   "execution_count": 27,
   "metadata": {},
   "outputs": [
    {
     "data": {
      "text/html": [
       "<div>\n",
       "<style scoped>\n",
       "    .dataframe tbody tr th:only-of-type {\n",
       "        vertical-align: middle;\n",
       "    }\n",
       "\n",
       "    .dataframe tbody tr th {\n",
       "        vertical-align: top;\n",
       "    }\n",
       "\n",
       "    .dataframe thead th {\n",
       "        text-align: right;\n",
       "    }\n",
       "</style>\n",
       "<table border=\"1\" class=\"dataframe\">\n",
       "  <thead>\n",
       "    <tr style=\"text-align: right;\">\n",
       "      <th></th>\n",
       "      <th>Air Date</th>\n",
       "      <th>clean_question</th>\n",
       "      <th>clean_answer</th>\n",
       "      <th>clean_value</th>\n",
       "    </tr>\n",
       "  </thead>\n",
       "  <tbody>\n",
       "    <tr>\n",
       "      <th>0</th>\n",
       "      <td>2004-12-31</td>\n",
       "      <td>for the last 8 years of his life galileo was u...</td>\n",
       "      <td>copernicus</td>\n",
       "      <td>200</td>\n",
       "    </tr>\n",
       "    <tr>\n",
       "      <th>1</th>\n",
       "      <td>2004-12-31</td>\n",
       "      <td>no 2 1912 olympian football star at carlisle i...</td>\n",
       "      <td>jim thorpe</td>\n",
       "      <td>200</td>\n",
       "    </tr>\n",
       "    <tr>\n",
       "      <th>2</th>\n",
       "      <td>2004-12-31</td>\n",
       "      <td>the city of yuma in this state has a record av...</td>\n",
       "      <td>arizona</td>\n",
       "      <td>200</td>\n",
       "    </tr>\n",
       "  </tbody>\n",
       "</table>\n",
       "</div>"
      ],
      "text/plain": [
       "    Air Date                                     clean_question clean_answer  \\\n",
       "0 2004-12-31  for the last 8 years of his life galileo was u...   copernicus   \n",
       "1 2004-12-31  no 2 1912 olympian football star at carlisle i...   jim thorpe   \n",
       "2 2004-12-31  the city of yuma in this state has a record av...      arizona   \n",
       "\n",
       "   clean_value  \n",
       "0          200  \n",
       "1          200  \n",
       "2          200  "
      ]
     },
     "execution_count": 27,
     "metadata": {},
     "output_type": "execute_result"
    }
   ],
   "source": [
    "# converting the Air Date column to a datetime column\n",
    "jeopardy['Air Date'] = pd.to_datetime(jeopardy['Air Date'])\n",
    "jeopardy[['Air Date', 'clean_question', 'clean_answer', 'clean_value']].head(3)"
   ]
  },
  {
   "cell_type": "markdown",
   "metadata": {},
   "source": [
    "In order to figure out whether to study past questions, study general knowledge, or not study it all, it would be helpful to figure out,\n",
    "    1. How often the answer is deducible from the question.\n",
    "    2. How often new questions are repeats of older questions.\n"
   ]
  },
  {
   "cell_type": "code",
   "execution_count": 28,
   "metadata": {},
   "outputs": [
    {
     "data": {
      "text/plain": [
       "0.060349756216006266"
      ]
     },
     "execution_count": 28,
     "metadata": {},
     "output_type": "execute_result"
    }
   ],
   "source": [
    "# split quetion and answer and remove 'the' since it is commonly found in answers and questions but not useful answers\n",
    "# finding out how many words in answers are also found in quetions\n",
    "def sp_col(row):\n",
    "    split_answer = row['clean_answer'].split(' ')\n",
    "    split_question = row['clean_question'].split(' ')\n",
    "    match_count = 0\n",
    "   \n",
    "    if 'the' in split_answer:\n",
    "        split_answer.remove('the')\n",
    "    if len(split_answer) == 0:\n",
    "        return 0\n",
    "    else:\n",
    "        for item in split_answer:\n",
    "            if item in split_question:\n",
    "                match_count += 1\n",
    "        return match_count/len(split_answer)\n",
    "    \n",
    "jeopardy['answer_in_question'] = jeopardy.apply(sp_col, axis = 1)\n",
    "jeopardy['answer_in_question'].mean()"
   ]
  },
  {
   "cell_type": "markdown",
   "metadata": {},
   "source": [
    "The answer only appears in the question about 6% of the time. Hearing a question wont't help figuring out the answer."
   ]
  },
  {
   "cell_type": "code",
   "execution_count": 29,
   "metadata": {},
   "outputs": [
    {
     "data": {
      "text/plain": [
       "0.6919565346637286"
      ]
     },
     "execution_count": 29,
     "metadata": {},
     "output_type": "execute_result"
    }
   ],
   "source": [
    "# finding out how often new questions are repeats of older ones\n",
    "question_overlap = []\n",
    "terms_used = set()\n",
    "for index, row in jeopardy.iterrows():\n",
    "    split_question = row['clean_question'].split(' ')\n",
    "    templs = []\n",
    "    for word in split_question:\n",
    "        if len(word) >= 6:\n",
    "            templs.append(word)\n",
    "    split_question = templs\n",
    "    match_count = 0\n",
    "    for word in split_question:\n",
    "        if word in terms_used:\n",
    "            match_count += 1\n",
    "        terms_used.add(word)\n",
    "    if len(split_question) > 0:\n",
    "        match_count = match_count / len(split_question)\n",
    "    question_overlap.append(match_count)\n",
    "jeopardy['question_overlap'] = question_overlap\n",
    "jeopardy['question_overlap'].mean()"
   ]
  },
  {
   "cell_type": "markdown",
   "metadata": {},
   "source": [
    "nearly 70% words were reused in quetions"
   ]
  },
  {
   "cell_type": "markdown",
   "metadata": {},
   "source": [
    "#### which terms correspond to high-value questions?"
   ]
  },
  {
   "cell_type": "code",
   "execution_count": null,
   "metadata": {},
   "outputs": [],
   "source": [
    "# create high_value column\n",
    "def val(row):\n",
    "    if row['clean_value'] > 800:\n",
    "        value = 1\n",
    "    else:\n",
    "        value = 0\n",
    "    return value\n",
    "\n",
    "jeopardy['high_value'] = jeopardy.apply(val, axis=1)"
   ]
  },
  {
   "cell_type": "code",
   "execution_count": 32,
   "metadata": {},
   "outputs": [
    {
     "name": "stdout",
     "output_type": "stream",
     "text": [
      "[(1, 0), (0, 1), (0, 1), (0, 1), (1, 2)]\n"
     ]
    }
   ],
   "source": [
    "# Determine high and low values for questions \n",
    "\n",
    "def high_low_counts(word):\n",
    "    low_count = 0\n",
    "    high_count = 0\n",
    "    for i, row in jeopardy.iterrows():\n",
    "        split_row = row['clean_question'].split(' ')\n",
    "        if word in split_row:\n",
    "            if row['high_value']==1:\n",
    "                high_count += 1\n",
    "            else:\n",
    "                low_count += 1\n",
    "    return high_count, low_count\n",
    "\n",
    "observed_expected = []   \n",
    "comparison_terms = list(terms_used)[:5]\n",
    "for item in comparison_terms:\n",
    "    ls = high_low_counts(item)\n",
    "    observed_expected.append(ls)\n",
    "print(observed_expected)"
   ]
  },
  {
   "cell_type": "code",
   "execution_count": 33,
   "metadata": {},
   "outputs": [
    {
     "name": "stdout",
     "output_type": "stream",
     "text": [
      "5734 14266\n"
     ]
    }
   ],
   "source": [
    "high_value_count = jeopardy[jeopardy['high_value']==1].shape[0]\n",
    "low_value_count = jeopardy[jeopardy['high_value']==0].shape[0]\n",
    "print(high_value_count, low_value_count)"
   ]
  },
  {
   "cell_type": "markdown",
   "metadata": {},
   "source": [
    "### <b> Computing chi-squared value and p-value given the expected and observed counts."
   ]
  },
  {
   "cell_type": "code",
   "execution_count": 35,
   "metadata": {},
   "outputs": [
    {
     "data": {
      "text/plain": [
       "[Power_divergenceResult(statistic=2.4879665155214514, pvalue=0.11471986177699109),\n",
       " Power_divergenceResult(statistic=0.4019346698443852, pvalue=0.5260918005187468),\n",
       " Power_divergenceResult(statistic=0.4019346698443852, pvalue=0.5260918005187468),\n",
       " Power_divergenceResult(statistic=0.4019346698443852, pvalue=0.5260918005187468),\n",
       " Power_divergenceResult(statistic=0.03190173163299733, pvalue=0.8582435032724245)]"
      ]
     },
     "execution_count": 35,
     "metadata": {},
     "output_type": "execute_result"
    }
   ],
   "source": [
    "chi_squared =[]\n",
    "\n",
    "from scipy.stats import chisquare\n",
    "import numpy as np\n",
    "\n",
    "for item in observed_expected:\n",
    "    total = item[0]+item[1]\n",
    "    total_prop = total / jeopardy.shape[0]\n",
    "    high_counts = total_prop * high_value_count\n",
    "    low_counts = total_prop * low_value_count\n",
    "    \n",
    "    observed = np.array([item[0], item[1]])\n",
    "    expected = np.array([high_counts, low_counts])\n",
    "    chi_square = chisquare(observed, expected)\n",
    "    chi_squared.append(chi_square)\n",
    "chi_squared"
   ]
  },
  {
   "cell_type": "code",
   "execution_count": null,
   "metadata": {},
   "outputs": [],
   "source": [
    "import pandas as pd\n",
    "import matplotlib.pyplot as plt\n",
    "houses = pd.read_table('Raw_data\\AmesHousing_1.txt')\n",
    "houses['SalePrice'].plot.kde(xlim = (houses['SalePrice'].min(),\n",
    "                                    houses['SalePrice'].max()))\n",
    "st_dev = houses['SalePrice'].std(ddof = 0)\n",
    "mean = houses['SalePrice'].mean()\n",
    "plt.axvline(mean, color='black', label='Mean')\n",
    "plt.axvline(mean+st_dev, color='red', label='Standard deviation')  \n",
    "plt.axvline(220000, color='Orange', label='220000') \n",
    "plt.legend()\n",
    "very_expensive = False"
   ]
  },
  {
   "cell_type": "code",
   "execution_count": null,
   "metadata": {},
   "outputs": [],
   "source": [
    "# a faster and more precise way to measure how far off a value is from the mean.  The standard score or the z-score = the number of standard deviations away from the mean\n",
    "\n",
    "st_devs_away = (220000 - houses['SalePrice'].mean())/houses['SalePrice'].std(ddof = 0)\n",
    "st_devs_away"
   ]
  },
  {
   "cell_type": "markdown",
   "metadata": {},
   "source": [
    "### Z-score"
   ]
  },
  {
   "cell_type": "code",
   "execution_count": null,
   "metadata": {},
   "outputs": [],
   "source": [
    "min_val = houses['SalePrice'].min()\n",
    "mean_val = houses['SalePrice'].mean()\n",
    "max_val = houses['SalePrice'].max()\n",
    "\n",
    "def find_z(n, arr, bessel = 0):\n",
    "    import numpy as np\n",
    "    m = sum(arr)/len(arr)\n",
    "    s = np.std(arr)\n",
    "    dis = n-m\n",
    "    z = dis/s\n",
    "    return z\n",
    "min_z = find_z(min_val, houses['SalePrice'])\n",
    "mean_z = find_z(mean_val, houses['SalePrice'])\n",
    "max_z = find_z(max_val, houses['SalePrice'])\n",
    "print(min_z, mean_z, max_z)"
   ]
  },
  {
   "cell_type": "code",
   "execution_count": null,
   "metadata": {},
   "outputs": [],
   "source": [
    "def z_score(value, array, bessel = 0):\n",
    "    mean = sum(array) / len(array)\n",
    "    from numpy import std\n",
    "    st_dev = std(array, ddof = bessel)\n",
    "    distance = value - mean\n",
    "    z = distance / st_dev\n",
    "    return z\n",
    "north_ames = houses[houses['Neighborhood'] == 'NAmes']\n",
    "college_cr = houses[houses['Neighborhood'] == 'CollgCr']\n",
    "old_town = houses[houses['Neighborhood'] == 'OldTown']\n",
    "edwards = houses[houses['Neighborhood'] == 'Edwards']\n",
    "somerset = houses[houses['Neighborhood'] == 'Somerst']\n",
    "\n",
    "north_ames_z = z_score(200000, north_ames['SalePrice'], bessel = 0)\n",
    "college_cr_z = z_score(200000, college_cr['SalePrice'], bessel = 0)\n",
    "old_town_z = z_score(200000, old_town['SalePrice'], bessel = 0)\n",
    "edwards_z = z_score(200000, edwards['SalePrice'], bessel = 0)\n",
    "somerset_z = z_score(200000, somerset['SalePrice'], bessel = 0)\n",
    "print(north_ames_z, college_cr_z, old_town_z, edwards_z, somerset_z)"
   ]
  },
  {
   "cell_type": "code",
   "execution_count": null,
   "metadata": {},
   "outputs": [],
   "source": [
    "# Z-scores are often used to transform entire distributions by converting all the values to z-scores. For every distribution of z-scores, \n",
    "# the mean is always 0 and the standard deviation is always 1\n",
    "\n",
    "mean = houses['SalePrice'].mean()\n",
    "st_dev = houses['SalePrice'].std(ddof = 0)\n",
    "houses['z_prices'] = houses['SalePrice'].apply(\n",
    "    lambda x: ((x - mean) / st_dev)\n",
    "    )\n",
    "z_mean_price = houses['z_prices'].mean()\n",
    "z_stdev_price = houses['z_prices'].std(ddof = 0)\n",
    "\n",
    "mean = houses['Lot Area'].mean()\n",
    "st_dev = houses['Lot Area'].std(ddof = 0)\n",
    "houses['z_area'] = houses['Lot Area'].apply(\n",
    "    lambda x: ((x - mean) / st_dev)\n",
    "    )\n",
    "z_mean_area = houses['z_area'].mean()\n",
    "z_stdev_area = houses['z_area'].std(ddof = 0)\n",
    "print(z_mean_area, z_stdev_area )"
   ]
  },
  {
   "cell_type": "code",
   "execution_count": null,
   "metadata": {},
   "outputs": [],
   "source": [
    "from numpy import std, mean\n",
    "population = [0,8,0,8]\n",
    "m = mean(population)\n",
    "s = std(population)\n",
    "pop_z = (population - m)/s\n",
    "mean_z = mean(pop_z)\n",
    "stdev_z = std(pop_z)\n",
    "print(mean_z, stdev_z)"
   ]
  },
  {
   "cell_type": "code",
   "execution_count": null,
   "metadata": {},
   "outputs": [],
   "source": [
    "# the formula for the sample standard deviation (the formula containing Bessel's correction)\n",
    "\n",
    "from numpy import std, mean\n",
    "sample = [0,8,0,8]\n",
    "\n",
    "x_bar = mean(sample)\n",
    "s = std(sample, ddof = 1)\n",
    "\n",
    "standardized_sample = (sample - x_bar)/s\n",
    "stdev_sample = std(standardized_sample, ddof = 1)\n",
    "print(standardized_sample, stdev_sample)"
   ]
  },
  {
   "cell_type": "code",
   "execution_count": null,
   "metadata": {},
   "outputs": [],
   "source": [
    "# Standardizing distributions can prove very useful when we need to compare values coming from different systems of measurement\n",
    "\n",
    "mean_index1 = houses['index_1'].mean()\n",
    "stdev_index1 = houses['index_1'].std(ddof = 0)\n",
    "houses['z_1'] = houses['index_1'].apply(lambda x: \n",
    "                                      (x - mean_index1) / stdev_index1\n",
    "                                     )\n",
    "\n",
    "mean_index2 = houses['index_2'].mean()\n",
    "stdev_index2 = houses['index_2'].std(ddof = 0)\n",
    "houses['z_2'] = houses['index_2'].apply(lambda x: \n",
    "                                      (x - mean_index2) / stdev_index2\n",
    "                                     )\n",
    "\n",
    "print(houses[['z_1', 'z_2']].head(2))\n",
    "better = 'first'\n"
   ]
  },
  {
   "cell_type": "code",
   "execution_count": null,
   "metadata": {},
   "outputs": [],
   "source": [
    "# use the formula x=z*theta + mu to convert z-scores to more intuitive values. \n",
    "\n",
    "x= houses['z_merged']*10 + 50\n",
    "mean_transformed = x.mean()\n",
    "stdev_transformed = x.std(ddof =0)"
   ]
  },
  {
   "cell_type": "markdown",
   "metadata": {},
   "source": [
    "### Probability"
   ]
  },
  {
   "cell_type": "code",
   "execution_count": null,
   "metadata": {},
   "outputs": [],
   "source": [
    "# INITIAL CODE\n",
    "from numpy.random import seed, randint\n",
    "\n",
    "seed(1)\n",
    "\n",
    "def coin_toss():\n",
    "    if randint(0,2) == 1:\n",
    "        return 'HEAD'\n",
    "    else:\n",
    "        return 'TAIL'\n",
    "    \n",
    "probabilities = []\n",
    "heads = 0\n",
    "for n in range(1, 10001):\n",
    "    outcome = coin_toss()\n",
    "    if outcome =='HEAD':\n",
    "        heads += 1\n",
    "    current_probability = heads/n\n",
    "    probabilities.append(current_probability)\n",
    "    \n",
    "print(probabilities[0:10])"
   ]
  },
  {
   "cell_type": "code",
   "execution_count": null,
   "metadata": {},
   "outputs": [],
   "source": [
    "# sample space = the set of all possible outcomes\n",
    "\n",
    "coin_toss_omega = ['HH', 'HT', 'TT', 'TH']\n",
    "\n",
    "# Venn diagrams.  Events that don't intersect are called mutually exclusive.  Events that intersect are called mutually non-exclusive\n"
   ]
  },
  {
   "cell_type": "markdown",
   "metadata": {},
   "source": [
    "### Solving Complex Probability Problems"
   ]
  },
  {
   "cell_type": "code",
   "execution_count": null,
   "metadata": {},
   "outputs": [],
   "source": [
    "#  two ads on the same web page (ad \"A\" and ad \"B\") to 100 users. At the end of the trial, they found: 12 users clicked on ad \"A\", 17 users clicked on ad \"B\", 3 users clicked on both ad \"A\" and ad \"B\"\n",
    "\n",
    "p_a = 12/100\n",
    "p_b = 17/100\n",
    "p_a_and_b = 3/100\n",
    "p_a_or_b = p_a + p_b - p_a_and_b\n",
    "print(p_a_or_b)"
   ]
  },
  {
   "cell_type": "code",
   "execution_count": null,
   "metadata": {},
   "outputs": [],
   "source": [
    "# Event A (it takes three flips or more for a coin to land heads up)\n",
    "# The opposite of event A=coin flipped twice lands heads up at least once: non-A={1,2}\n",
    "\n",
    "# Find the probability that it takes four flips or more for a coin to land heads up (event \"B\").\n",
    "\n",
    "p_non_b = 7/8\n",
    "p_b = 1 - p_non_b"
   ]
  },
  {
   "cell_type": "code",
   "execution_count": null,
   "metadata": {},
   "outputs": [],
   "source": [
    "# multiplication rule of probability\n",
    "P(H1 & H2) = P(H1) * P(H2)\n",
    "\n",
    "# What is the probability of getting at least one 6 in four throws of a single six-sided die?  Event A is getting at least one 6 in four throws, \n",
    "# event AC is not getting any 6 in four throws. So event AC is equivalent to getting any of the outcomes {1, 2, 3, 4, 5} four times in a row. \n",
    "P(A^C) = (5/6)^4 = 0.4823\n",
    "P(A) = 1-(5/6)^4 = 0.5177\n",
    "\n",
    "# Find the probability of getting at least one double-six in 24 throws of two six-sided dice (the two dice are thrown simultaneously).\n",
    "p_one_double_6 =  1 - (35/36)**24"
   ]
  },
  {
   "cell_type": "code",
   "execution_count": null,
   "metadata": {},
   "outputs": [],
   "source": [
    "#  find the probability of getting four aces in a row when drawing cards from a standard 52-card deck. The deck has four aces and a total of 52 cards.\n",
    "P(Ace) = 4/52 # probability of drawing an ace\n",
    "P(AAAA) = (4/52)^4 = 0.000035 # if put the card back"
   ]
  },
  {
   "cell_type": "markdown",
   "metadata": {},
   "source": [
    "### Permutations and Combinations"
   ]
  },
  {
   "cell_type": "code",
   "execution_count": null,
   "metadata": {},
   "outputs": [],
   "source": [
    "# Consider the composite experiment E1E2, where E1 is rolling a fair six-sided die once, and E2 is rolling the same die again. One of the outcomes of E1E2 could be (1, 6), which means we get a 1 for the first roll and a 6 for the second one.\n",
    "the total number of outcomes(n_outcomes) = 6*6 # the rule of product\n",
    "the probability of getting a (6,6) = 1/n_outcomes\n",
    "the probability of not getting a (5,5) = 1-1/n_outcomes"
   ]
  },
  {
   "cell_type": "code",
   "execution_count": null,
   "metadata": {},
   "outputs": [],
   "source": [
    "#  if we have an experiment E1 with a outcomes, followed by an experiment E2 with b outcomes, followed by an experiment En with z outcomes, the total number of outcomes for the composite experiment E1E2 ... En can be found by multiplying their individual outcomes.abs\n",
    "\n",
    "# roll a fair six-sided die three times and then randomly draw a card from a standard 52-card deck. One of the outcomes could be (6, 6, 6, ace of diamonds), which means getting three 6's in a row when we roll the die, followed by drawing an ace of diamonds from the deck\n",
    "total number of outcomes = 6 * 6 * 6 * 52\n",
    "probability of getting (6, 6, 6, ace of diamonds) = 1/6*1/6*1/6*1/52"
   ]
  },
  {
   "cell_type": "code",
   "execution_count": null,
   "metadata": {},
   "outputs": [],
   "source": [
    "# probability of cracking a 4-digit PIN code using the code 8362 \n",
    "total_outcomes_4_pin = 10**4\n",
    "p_crack_4 = 1 / total_outcomes_4_pin\n",
    "total_outcomes_6_pin = 10**6\n",
    "p_crack_6 = 1/total_outcomes_6_pin"
   ]
  },
  {
   "cell_type": "code",
   "execution_count": null,
   "metadata": {},
   "outputs": [],
   "source": [
    "# permutation = a certain arrangement where the order of the individual elements matters."
   ]
  },
  {
   "cell_type": "code",
   "execution_count": null,
   "metadata": {},
   "outputs": [],
   "source": [
    "def factorial(n):\n",
    "    final_product = 1\n",
    "    for i in range(n, 0, -1):\n",
    "        final_product *= i\n",
    "    return final_product\n",
    "\n",
    "permutations_1 = factorial(6) \n",
    "permutations_2 = factorial(52)\n",
    "print(permutations_1)\n",
    "print(permutations_2)"
   ]
  },
  {
   "cell_type": "code",
   "execution_count": null,
   "metadata": {},
   "outputs": [],
   "source": [
    "# the number of permutations when taking only k objects from a group of n objects\n",
    "\n",
    "def permutation(n, k):\n",
    "    numerator = factorial(n)\n",
    "    denominator = factorial(n-k)\n",
    "    return numerator/denominator"
   ]
  },
  {
   "cell_type": "markdown",
   "metadata": {},
   "source": [
    "A fictional mobile app to heap treating lottery addiction that will enalble user to build functions that enable users to answer probability questions about playing the 6/49 lottery games such as:\n",
    "\n",
    "What is the probability of winning the big prize with a single ticket?\n",
    "What is the probability of winning the big prize if we play 40 different tickets (or any other number)?\n",
    "What is the probability of having at least five (or four, or three, or two) winning numbers on a single ticket?"
   ]
  },
  {
   "cell_type": "code",
   "execution_count": null,
   "metadata": {},
   "outputs": [],
   "source": [
    "def factorial(n):\n",
    "    total = 1\n",
    "    for i in range(n, 0, -1):\n",
    "        total *= n\n",
    "    return total\n",
    "\n",
    "def combination(n, k):\n",
    "    a = factorial(n)\n",
    "    b = factorial(k)*factorial(n-k)\n",
    "    return a/b\n",
    "\n",
    "def one_ticket_probability(w_nums):\n",
    "    l = len(w_nums)\n",
    "    total_outcome = combination(49, l)\n",
    "    p_win = 1/total_outcome\n",
    "    print(\"Hey, you only got {} chance to win!\".format(p_win))\n",
    "\n",
    "one_ticket_probability([1,2,3,4,5,6])"
   ]
  },
  {
   "cell_type": "code",
   "execution_count": null,
   "metadata": {},
   "outputs": [],
   "source": [
    "import pandas as pd\n",
    "df = pd.read_csv(\"Raw_data\\649.csv\")\n",
    "print(df.shape)\n",
    "df.head(3)"
   ]
  },
  {
   "cell_type": "code",
   "execution_count": null,
   "metadata": {},
   "outputs": [],
   "source": [
    "# find winning probabily of a given set of numbers\n",
    "def extract_numbers(num_ls):\n",
    "    for n in num_ls:\n",
    "        df1 = df[df[\"NUMBER DRAWN 1\"] == num_ls[0]]\n",
    "        df2 = df1[df1[\"NUMBER DRAWN 2\"] == num_ls[1]]\n",
    "        df3 = df2[df2[\"NUMBER DRAWN 3\"] == num_ls[2]]\n",
    "        df4 = df3[df3[\"NUMBER DRAWN 4\"] == num_ls[3]]\n",
    "        df5 = df4[df4[\"NUMBER DRAWN 5\"] == num_ls[4]]\n",
    "        df6 = df5[df5[\"NUMBER DRAWN 6\"] == num_ls[5]]\n",
    "    prob_win = df6.shape[0] / df.shape[0]\n",
    "    print(\"n_times_selected = {0}\".format(df6.shape[0]))\n",
    "    print(\"The probability you wining is {:.5f}\".format(prob_win))\n",
    "\n",
    "extract_numbers([3, 11,12,14,41,43])"
   ]
  },
  {
   "cell_type": "code",
   "execution_count": null,
   "metadata": {},
   "outputs": [],
   "source": [
    "# calculate probabilities based on number of tickets bought\n",
    "def multi_ticket_probability(ls):\n",
    "    total_outcome = combination(49,6)\n",
    "    for i in ls:\n",
    "        prob = i/total_outcome\n",
    "        print(\"Your chance of winning with {} tickets is {:.5f}%\".format(i, prob*100))\n",
    "\n",
    "ls= [1, 10, 100, 10000, 1000000, 6991908, 13983816]\n",
    "multi_ticket_probability(ls)"
   ]
  },
  {
   "cell_type": "code",
   "execution_count": null,
   "metadata": {},
   "outputs": [],
   "source": [
    "# calculate probability  of winning with less than 6 matching numbers\n",
    "def probability_less_6(n):\n",
    "    n_num_comb = combination(6,n)\n",
    "    total_outcome = combination(49,6)\n",
    "    total_n_num_comb = (49-n)*n_num_comb\n",
    "    prob = total_n_num_comb/total_outcome\n",
    "    print(\"Your chance of winning with {} matching numbers is {:.5f}%\".format(n, prob*100))\n",
    "\n",
    "for n in [2, 3, 4, 5]:\n",
    "    probability_less_6(n)"
   ]
  },
  {
   "cell_type": "markdown",
   "metadata": {},
   "source": [
    "None of the terms had a significant difference in usage between high value and low value rows. Additionally, the frequencies were all lower than 5.   This test is invalid since the observed or expected frequencies in each category are too small, should be at least 5."
   ]
  }
 ],
 "metadata": {
  "kernelspec": {
   "display_name": "Python 3",
   "language": "python",
   "name": "python3"
  },
  "language_info": {
   "codemirror_mode": {
    "name": "ipython",
    "version": 3
   },
   "file_extension": ".py",
   "mimetype": "text/x-python",
   "name": "python",
   "nbconvert_exporter": "python",
   "pygments_lexer": "ipython3",
   "version": "3.7.6"
  }
 },
 "nbformat": 4,
 "nbformat_minor": 4
}
