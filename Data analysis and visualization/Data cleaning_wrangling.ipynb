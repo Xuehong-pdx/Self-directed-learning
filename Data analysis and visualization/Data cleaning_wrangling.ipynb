{
 "cells": [
  {
   "cell_type": "markdown",
   "metadata": {},
   "source": [
    "#### The code below cleans a set of laptop sales data"
   ]
  },
  {
   "cell_type": "code",
   "execution_count": 105,
   "metadata": {},
   "outputs": [
    {
     "name": "stdout",
     "output_type": "stream",
     "text": [
      "<class 'pandas.core.frame.DataFrame'>\n",
      "RangeIndex: 1303 entries, 0 to 1302\n",
      "Data columns (total 13 columns):\n",
      "Manufacturer                1303 non-null object\n",
      "Model Name                  1303 non-null object\n",
      "Category                    1303 non-null object\n",
      "Screen Size                 1303 non-null object\n",
      "Screen                      1303 non-null object\n",
      "CPU                         1303 non-null object\n",
      "RAM                         1303 non-null object\n",
      " Storage                    1303 non-null object\n",
      "GPU                         1303 non-null object\n",
      "Operating System            1303 non-null object\n",
      "Operating System Version    1133 non-null object\n",
      "Weight                      1303 non-null object\n",
      "Price (Euros)               1303 non-null object\n",
      "dtypes: object(13)\n",
      "memory usage: 132.4+ KB\n"
     ]
    }
   ],
   "source": [
    "import pandas as pd\n",
    "laptops = pd.read_csv('laptops.csv', encoding='Latin-1')\n",
    "laptops.info()"
   ]
  },
  {
   "cell_type": "code",
   "execution_count": 106,
   "metadata": {},
   "outputs": [
    {
     "data": {
      "text/plain": [
       "Index(['Manufacturer', 'Model Name', 'Category', 'Screen Size', 'Screen',\n",
       "       'CPU', 'RAM', ' Storage', 'GPU', 'Operating System',\n",
       "       'Operating System Version', 'Weight', 'Price (Euros)'],\n",
       "      dtype='object')"
      ]
     },
     "execution_count": 106,
     "metadata": {},
     "output_type": "execute_result"
    }
   ],
   "source": [
    "laptops.columns"
   ]
  },
  {
   "cell_type": "code",
   "execution_count": 107,
   "metadata": {},
   "outputs": [
    {
     "data": {
      "text/plain": [
       "Index(['Manufacturer', 'Model Name', 'Category', 'Screen Size', 'Screen',\n",
       "       'CPU', 'RAM', 'Storage', 'GPU', 'Operating System',\n",
       "       'Operating System Version', 'Weight', 'Price (Euros)'],\n",
       "      dtype='object')"
      ]
     },
     "execution_count": 107,
     "metadata": {},
     "output_type": "execute_result"
    }
   ],
   "source": [
    "new_columns = []\n",
    "for c in laptops.columns:\n",
    "    clean_c = c.strip()\n",
    "    new_columns.append(clean_c)\n",
    "    \n",
    "laptops.columns = new_columns\n",
    "laptops.columns"
   ]
  },
  {
   "cell_type": "code",
   "execution_count": 108,
   "metadata": {},
   "outputs": [
    {
     "name": "stdout",
     "output_type": "stream",
     "text": [
      "<class 'pandas.core.frame.DataFrame'>\n",
      "RangeIndex: 1303 entries, 0 to 1302\n",
      "Data columns (total 13 columns):\n",
      "manufacturer    1303 non-null object\n",
      "model_name      1303 non-null object\n",
      "category        1303 non-null object\n",
      "screen_size     1303 non-null object\n",
      "screen          1303 non-null object\n",
      "cpu             1303 non-null object\n",
      "ram             1303 non-null object\n",
      "storage         1303 non-null object\n",
      "gpu             1303 non-null object\n",
      "os              1303 non-null object\n",
      "os_version      1133 non-null object\n",
      "weight          1303 non-null object\n",
      "price_euros     1303 non-null object\n",
      "dtypes: object(13)\n",
      "memory usage: 132.4+ KB\n"
     ]
    }
   ],
   "source": [
    "# clean the column labels\n",
    "def clean_col(col):\n",
    "    col = col.strip()\n",
    "    col = col.replace('Operating System','os')\n",
    "    col = col.replace(' ','_')\n",
    "    col = col.replace('(','')\n",
    "    col = col.replace(')',\"\")\n",
    "    col = col.lower()\n",
    "    return col\n",
    "laptops.columns = [clean_col(col) for col in laptops.columns]\n",
    "laptops.info()"
   ]
  },
  {
   "cell_type": "code",
   "execution_count": 109,
   "metadata": {},
   "outputs": [
    {
     "data": {
      "text/plain": [
       "array(['13.3\"', '15.6\"', '15.4\"', '14.0\"', '12.0\"', '11.6\"', '17.3\"',\n",
       "       '10.1\"', '13.5\"', '12.5\"', '13.0\"', '18.4\"', '13.9\"', '12.3\"',\n",
       "       '17.0\"', '15.0\"', '14.1\"', '11.3\"'], dtype=object)"
      ]
     },
     "execution_count": 109,
     "metadata": {},
     "output_type": "execute_result"
    }
   ],
   "source": [
    "laptops['screen_size'].unique()"
   ]
  },
  {
   "cell_type": "code",
   "execution_count": 110,
   "metadata": {},
   "outputs": [],
   "source": [
    "laptops['screen_size'] = laptops['screen_size'].str.replace('\"','').astype(float)\n",
    "laptops.rename({'screen_size': 'screen_size_inches'}, axis=1, inplace=True)"
   ]
  },
  {
   "cell_type": "code",
   "execution_count": 111,
   "metadata": {},
   "outputs": [
    {
     "data": {
      "text/plain": [
       "array(['8GB', '16GB', '4GB', '2GB', '12GB', '6GB', '32GB', '24GB', '64GB'],\n",
       "      dtype=object)"
      ]
     },
     "execution_count": 111,
     "metadata": {},
     "output_type": "execute_result"
    }
   ],
   "source": [
    "laptops['ram'].unique()"
   ]
  },
  {
   "cell_type": "code",
   "execution_count": 112,
   "metadata": {},
   "outputs": [],
   "source": [
    "laptops['ram'] = laptops['ram'].str.replace('GB','').astype(int)\n",
    "laptops.rename({'ram': 'ram_gb'}, axis=1, inplace=True)"
   ]
  },
  {
   "cell_type": "code",
   "execution_count": 113,
   "metadata": {},
   "outputs": [
    {
     "data": {
      "text/plain": [
       "array(['1.37kg', '1.34kg', '1.86kg', '1.83kg', '2.1kg', '2.04kg', '1.3kg',\n",
       "       '1.6kg', '2.2kg', '0.92kg', '1.22kg', '0.98kg', '2.5kg', '1.62kg',\n",
       "       '1.91kg', '2.3kg', '1.35kg', '1.88kg', '1.89kg', '1.65kg',\n",
       "       '2.71kg', '1.2kg', '1.44kg', '2.8kg', '2kg', '2.65kg', '2.77kg',\n",
       "       '3.2kg', '0.69kg', '1.49kg', '2.4kg', '2.13kg', '2.43kg', '1.7kg',\n",
       "       '1.4kg', '1.8kg', '1.9kg', '3kg', '1.252kg', '2.7kg', '2.02kg',\n",
       "       '1.63kg', '1.96kg', '1.21kg', '2.45kg', '1.25kg', '1.5kg',\n",
       "       '2.62kg', '1.38kg', '1.58kg', '1.85kg', '1.23kg', '1.26kg',\n",
       "       '2.16kg', '2.36kg', '2.05kg', '1.32kg', '1.75kg', '0.97kg',\n",
       "       '2.9kg', '2.56kg', '1.48kg', '1.74kg', '1.1kg', '1.56kg', '2.03kg',\n",
       "       '1.05kg', '4.4kg', '1.90kg', '1.29kg', '2.0kg', '1.95kg', '2.06kg',\n",
       "       '1.12kg', '1.42kg', '3.49kg', '3.35kg', '2.23kg', '4.42kg',\n",
       "       '2.69kg', '2.37kg', '4.7kg', '3.6kg', '2.08kg', '4.3kg', '1.68kg',\n",
       "       '1.41kg', '4.14kg', '2.18kg', '2.24kg', '2.67kg', '2.14kg',\n",
       "       '1.36kg', '2.25kg', '2.15kg', '2.19kg', '2.54kg', '3.42kg',\n",
       "       '1.28kg', '2.33kg', '1.45kg', '2.79kg', '1.84kg', '2.6kg',\n",
       "       '2.26kg', '3.25kg', '1.59kg', '1.13kg', '1.78kg', '1.10kg',\n",
       "       '1.15kg', '1.27kg', '1.43kg', '2.31kg', '1.16kg', '1.64kg',\n",
       "       '2.17kg', '1.47kg', '3.78kg', '1.79kg', '0.91kg', '1.99kg',\n",
       "       '4.33kg', '1.93kg', '1.87kg', '2.63kg', '3.4kg', '3.14kg',\n",
       "       '1.94kg', '1.24kg', '4.6kg', '4.5kg', '2.73kg', '1.39kg', '2.29kg',\n",
       "       '2.59kg', '2.94kg', '1.14kg', '3.8kg', '3.31kg', '1.09kg',\n",
       "       '3.21kg', '1.19kg', '1.98kg', '1.17kg', '4.36kg', '1.71kg',\n",
       "       '2.32kg', '4.2kg', '1.55kg', '0.81kg', '1.18kg', '2.72kg',\n",
       "       '1.31kg', '0.920kg', '3.74kg', '1.76kg', '1.54kg', '2.83kg',\n",
       "       '2.07kg', '2.38kg', '3.58kg', '1.08kg', '2.20kg', '2.75kg',\n",
       "       '1.70kg', '2.99kg', '1.11kg', '2.09kg', '4kgs', '3.0kg', '0.99kg',\n",
       "       '3.52kg', '2.591kg', '2.21kg', '3.3kg', '2.191kg', '2.34kg',\n",
       "       '4.0kg'], dtype=object)"
      ]
     },
     "execution_count": 113,
     "metadata": {},
     "output_type": "execute_result"
    }
   ],
   "source": [
    "laptops['weight'].unique()"
   ]
  },
  {
   "cell_type": "code",
   "execution_count": 114,
   "metadata": {},
   "outputs": [
    {
     "name": "stdout",
     "output_type": "stream",
     "text": [
      "count    1303.000000\n",
      "mean        2.038734\n",
      "std         0.665475\n",
      "min         0.690000\n",
      "25%         1.500000\n",
      "50%         2.040000\n",
      "75%         2.300000\n",
      "max         4.700000\n",
      "Name: weight_kg, dtype: float64\n",
      "count    1303.000000\n",
      "mean     1123.686992\n",
      "std       699.009043\n",
      "min       174.000000\n",
      "25%       599.000000\n",
      "50%       977.000000\n",
      "75%      1487.880000\n",
      "max      6099.000000\n",
      "Name: price_euros, dtype: float64\n"
     ]
    }
   ],
   "source": [
    "laptops['weight'] = laptops['weight'].str.replace('kg', '')\n",
    "laptops['weight'] = laptops['weight'].str.replace('s', '').astype(float)\n",
    "laptops.rename({'weight':'weight_kg'}, axis=1, inplace=True)\n",
    "laptops['price_euros'] = laptops['price_euros'].str.replace(',', '.').astype(float)\n",
    "weight_describe = laptops['weight_kg'].describe()\n",
    "price_describe = laptops['price_euros'].describe()\n",
    "print(weight_describe)\n",
    "print(price_describe)"
   ]
  },
  {
   "cell_type": "code",
   "execution_count": 115,
   "metadata": {},
   "outputs": [
    {
     "name": "stdout",
     "output_type": "stream",
     "text": [
      "manufacturer           object\n",
      "model_name             object\n",
      "category               object\n",
      "screen_size_inches    float64\n",
      "screen                 object\n",
      "cpu                    object\n",
      "ram_gb                  int32\n",
      "storage                object\n",
      "gpu                    object\n",
      "os                     object\n",
      "os_version             object\n",
      "weight_kg             float64\n",
      "price_euros           float64\n",
      "dtype: object\n"
     ]
    }
   ],
   "source": [
    "dtypes = laptops.dtypes\n",
    "print(dtypes)"
   ]
  },
  {
   "cell_type": "code",
   "execution_count": 116,
   "metadata": {},
   "outputs": [
    {
     "data": {
      "text/plain": [
       "Intel HD Graphics 620      281\n",
       "Intel HD Graphics 520      185\n",
       "Intel UHD Graphics 620      68\n",
       "Nvidia GeForce GTX 1050     66\n",
       "Nvidia GeForce GTX 1060     48\n",
       "Name: gpu, dtype: int64"
      ]
     },
     "execution_count": 116,
     "metadata": {},
     "output_type": "execute_result"
    }
   ],
   "source": [
    "laptops['gpu'].value_counts().head()"
   ]
  },
  {
   "cell_type": "code",
   "execution_count": 117,
   "metadata": {},
   "outputs": [
    {
     "name": "stdout",
     "output_type": "stream",
     "text": [
      "0    Intel\n",
      "1    Intel\n",
      "2    Intel\n",
      "3      AMD\n",
      "4    Intel\n",
      "Name: gpu_manufacturer, dtype: object\n"
     ]
    }
   ],
   "source": [
    "# Extract manufacturer data\n",
    "laptops['gpu_manufacturer'] = laptops['gpu'].str.split(n=1,expand=True).iloc[:,0] # Limit number of splits in output. n=None, 0 and -1 will be interpreted as return all splits.\n",
    "laptops['cpu_manufacturer'] = laptops['cpu'].str.split(n=1,expand=True).iloc[:,0]                               \n",
    "print(laptops['gpu_manufacturer'].head())"
   ]
  },
  {
   "cell_type": "code",
   "execution_count": 118,
   "metadata": {},
   "outputs": [
    {
     "data": {
      "text/plain": [
       "array(['IPS Panel Retina Display 2560x1600', '1440x900',\n",
       "       'Full HD 1920x1080', 'IPS Panel Retina Display 2880x1800',\n",
       "       '1366x768', 'IPS Panel Full HD 1920x1080',\n",
       "       'IPS Panel Retina Display 2304x1440',\n",
       "       'IPS Panel Full HD / Touchscreen 1920x1080',\n",
       "       'Full HD / Touchscreen 1920x1080',\n",
       "       'Touchscreen / Quad HD+ 3200x1800',\n",
       "       'IPS Panel Touchscreen 1920x1200', 'Touchscreen 2256x1504',\n",
       "       'Quad HD+ / Touchscreen 3200x1800', 'IPS Panel 1366x768',\n",
       "       'IPS Panel 4K Ultra HD / Touchscreen 3840x2160',\n",
       "       'IPS Panel Full HD 2160x1440',\n",
       "       '4K Ultra HD / Touchscreen 3840x2160', 'Touchscreen 2560x1440',\n",
       "       '1600x900', 'IPS Panel 4K Ultra HD 3840x2160',\n",
       "       '4K Ultra HD 3840x2160', 'Touchscreen 1366x768',\n",
       "       'IPS Panel Full HD 1366x768', 'IPS Panel 2560x1440',\n",
       "       'IPS Panel Full HD 2560x1440',\n",
       "       'IPS Panel Retina Display 2736x1824', 'Touchscreen 2400x1600',\n",
       "       '2560x1440', 'IPS Panel Quad HD+ 2560x1440',\n",
       "       'IPS Panel Quad HD+ 3200x1800',\n",
       "       'IPS Panel Quad HD+ / Touchscreen 3200x1800',\n",
       "       'IPS Panel Touchscreen 1366x768', '1920x1080',\n",
       "       'IPS Panel Full HD 1920x1200',\n",
       "       'IPS Panel Touchscreen / 4K Ultra HD 3840x2160',\n",
       "       'IPS Panel Touchscreen 2560x1440',\n",
       "       'Touchscreen / Full HD 1920x1080', 'Quad HD+ 3200x1800',\n",
       "       'Touchscreen / 4K Ultra HD 3840x2160',\n",
       "       'IPS Panel Touchscreen 2400x1600'], dtype=object)"
      ]
     },
     "execution_count": 118,
     "metadata": {},
     "output_type": "execute_result"
    }
   ],
   "source": [
    "laptops['screen'].unique()"
   ]
  },
  {
   "cell_type": "code",
   "execution_count": 119,
   "metadata": {},
   "outputs": [
    {
     "name": "stdout",
     "output_type": "stream",
     "text": [
      "0    2560x1600\n",
      "1     1440x900\n",
      "2    1920x1080\n",
      "3    2880x1800\n",
      "4    2560x1600\n",
      "Name: screen_resolution, dtype: object\n"
     ]
    }
   ],
   "source": [
    "screen_res = laptops['screen'].str.rsplit(n=1, expand=True)\n",
    "screen_res.columns = ['A', 'B']\n",
    "screen_res.loc[screen_res['B'].isnull(), 'B'] = screen_res['A']\n",
    "laptops['screen_resolution'] = screen_res['B']\n",
    "print(laptops['screen_resolution'].head())"
   ]
  },
  {
   "cell_type": "code",
   "execution_count": 120,
   "metadata": {},
   "outputs": [],
   "source": [
    "laptops['cpu_speed_ghz'] = laptops['cpu'].str.replace('GHz', '')\n",
    "ca_speed=laptops['cpu_speed_ghz'].str.rsplit(n=1, expand=True)\n",
    "laptops['cpu_speed_ghz'] = ca_speed.iloc[:,1].astype(float)"
   ]
  },
  {
   "cell_type": "code",
   "execution_count": 121,
   "metadata": {},
   "outputs": [],
   "source": [
    "mapping_dict = {\n",
    "    'Android': 'Android',\n",
    "    'Chrome OS': 'Chrome OS',\n",
    "    'Linux': 'Linux',\n",
    "    'Mac OS': 'macOS',\n",
    "    'No OS': 'No OS',\n",
    "    'Windows': 'Windows',\n",
    "    'macOS': 'macOS'\n",
    "}\n",
    "laptops['os'] = laptops['os'].map(mapping_dict)"
   ]
  },
  {
   "cell_type": "code",
   "execution_count": 122,
   "metadata": {},
   "outputs": [],
   "source": [
    "laptops_no_null_rows = laptops.dropna()\n",
    "laptops_no_null_cols = laptops.dropna(axis=1)"
   ]
  },
  {
   "cell_type": "code",
   "execution_count": 123,
   "metadata": {},
   "outputs": [
    {
     "name": "stdout",
     "output_type": "stream",
     "text": [
      "Linux        62\n",
      "Chrome OS    27\n",
      "Android       2\n",
      "Name: os, dtype: int64\n"
     ]
    }
   ],
   "source": [
    "value_counts_before = laptops.loc[laptops['os_version'].isnull(), 'os'].value_counts()\n",
    "laptops.loc[laptops['os'] == 'macOS', 'os_version'] = 'X'\n",
    "laptops.loc[laptops['os'] == 'No OS', 'os_version'] = 'Version Unknown'\n",
    "value_counts_after = laptops.loc[laptops[\"os_version\"].isnull(), \"os\"].value_counts()\n",
    "print(value_counts_after)"
   ]
  },
  {
   "cell_type": "code",
   "execution_count": 124,
   "metadata": {},
   "outputs": [
    {
     "data": {
      "text/plain": [
       "array(['128GB SSD', '128GB Flash Storage', '256GB SSD', '512GB SSD',\n",
       "       '500GB HDD', '256GB Flash Storage', '1TB HDD',\n",
       "       '32GB Flash Storage', '128GB SSD +  1TB HDD',\n",
       "       '256GB SSD +  256GB SSD', '64GB Flash Storage',\n",
       "       '256GB SSD +  1TB HDD', '256GB SSD +  2TB HDD', '32GB SSD',\n",
       "       '2TB HDD', '64GB SSD', '1TB Hybrid', '512GB SSD +  1TB HDD',\n",
       "       '1TB SSD', '256GB SSD +  500GB HDD', '128GB SSD +  2TB HDD',\n",
       "       '512GB SSD +  512GB SSD', '16GB SSD', '16GB Flash Storage',\n",
       "       '512GB SSD +  256GB SSD', '512GB SSD +  2TB HDD',\n",
       "       '64GB Flash Storage +  1TB HDD', '1GB SSD', '1TB HDD +  1TB HDD',\n",
       "       '32GB HDD', '1TB SSD +  1TB HDD', '512GB Flash Storage',\n",
       "       '128GB HDD', '240GB SSD', '8GB SSD', '508GB Hybrid',\n",
       "       '512GB SSD +  1TB Hybrid', '256GB SSD +  1TB Hybrid'], dtype=object)"
      ]
     },
     "execution_count": 124,
     "metadata": {},
     "output_type": "execute_result"
    }
   ],
   "source": [
    "laptops['storage'].unique()"
   ]
  },
  {
   "cell_type": "code",
   "execution_count": 125,
   "metadata": {},
   "outputs": [],
   "source": [
    "laptops['storage'] = laptops['storage'].str.replace('Flash Storage', 'Flash_Storage')\n",
    "sp = laptops['storage'].str.split(expand=True)\n",
    "laptops['storage_1_capacity_gb'] = sp[0].str.replace('GB', '')\n",
    "laptops['storage_1_capacity_gb'] = laptops['storage_1_capacity_gb'].str.replace('TB', '000').astype(float)\n",
    "laptops['storage_1_type'] = sp[1]\n",
    "laptops['storage_1_type'] = laptops['storage_1_type'].str.replace('Flash_Storage', 'Flash Storage')\n",
    "\n",
    "laptops['storage_2_capacity_gb'] = sp[3].str.replace('GB', '')\n",
    "laptops['storage_2_capacity_gb'] = laptops['storage_2_capacity_gb'].str.replace('TB', '000').astype(float)\n",
    "laptops['storage_2_type'] = sp[4]\n",
    "laptops['storage_2_type'] = laptops['storage_2_type'].str.replace('Flash_Storage', 'Flash Storage')\n",
    "laptops = laptops.drop('storage', axis=1)"
   ]
  },
  {
   "cell_type": "code",
   "execution_count": 131,
   "metadata": {},
   "outputs": [
    {
     "name": "stdout",
     "output_type": "stream",
     "text": [
      "[1.28e+02 2.56e+02 5.12e+02 5.00e+02 1.00e+03 3.20e+01 6.40e+01 2.00e+03\n",
      " 1.60e+01 1.00e+00 2.40e+02 8.00e+00 5.08e+02]\n",
      "['SSD' 'Flash Storage' 'HDD' 'Hybrid']\n",
      "[  nan 1000.  256. 2000.  500.  512.]\n",
      "[None 'HDD' 'SSD' 'Hybrid']\n"
     ]
    }
   ],
   "source": [
    "print(laptops['storage_1_capacity_gb'].unique())\n",
    "print(laptops['storage_1_type'].unique())\n",
    "print(laptops['storage_2_capacity_gb'].unique())\n",
    "print(laptops['storage_2_type'].unique())"
   ]
  },
  {
   "cell_type": "code",
   "execution_count": null,
   "metadata": {},
   "outputs": [],
   "source": [
    "cols = ['manufacturer', 'model_name', 'category', 'screen_size_inches',\n",
    "        'screen', 'cpu', 'cpu_manufacturer', 'screen_resolution', 'cpu_speed_ghz', 'ram_gb',\n",
    "        'storage_1_type', 'storage_1_capacity_gb', 'storage_2_type',\n",
    "        'storage_2_capacity_gb', 'gpu', 'gpu_manufacturer', 'os',\n",
    "        'os_version', 'weight_kg', 'price_euros']\n",
    "laptops = laptops.loc[:, cols]\n",
    "laptops.to_csv('laptops_cleaned.csv', index=False)\n",
    "laptops_cleaned = pd.read_csv('laptops_cleaned.csv')\n",
    "laptops_cleaned_dtypes=laptops_cleaned.dtypes"
   ]
  },
  {
   "cell_type": "markdown",
   "metadata": {},
   "source": [
    "#### Working with Missing Data"
   ]
  },
  {
   "cell_type": "code",
   "execution_count": 76,
   "metadata": {},
   "outputs": [
    {
     "data": {
      "text/plain": [
       "unique_key                 0\n",
       "date                       0\n",
       "time                       0\n",
       "borough                20646\n",
       "location                3885\n",
       "on_street              13961\n",
       "cross_street           29249\n",
       "off_street             44093\n",
       "pedestrians_injured        0\n",
       "cyclist_injured            0\n",
       "motorist_injured           0\n",
       "total_injured              1\n",
       "pedestrians_killed         0\n",
       "cyclist_killed             0\n",
       "motorist_killed            0\n",
       "total_killed               5\n",
       "vehicle_1                355\n",
       "vehicle_2              12262\n",
       "vehicle_3              54352\n",
       "vehicle_4              57158\n",
       "vehicle_5              57681\n",
       "cause_vehicle_1          175\n",
       "cause_vehicle_2         8692\n",
       "cause_vehicle_3        54134\n",
       "cause_vehicle_4        57111\n",
       "cause_vehicle_5        57671\n",
       "dtype: int64"
      ]
     },
     "execution_count": 76,
     "metadata": {},
     "output_type": "execute_result"
    }
   ],
   "source": [
    "import pandas as pd\n",
    "mvc = pd.read_csv(\"nypd_mvc_2018.csv\")\n",
    "null_counts = mvc.isnull().sum()\n",
    "null_counts"
   ]
  },
  {
   "cell_type": "code",
   "execution_count": 77,
   "metadata": {},
   "outputs": [
    {
     "data": {
      "text/html": [
       "<div>\n",
       "<style scoped>\n",
       "    .dataframe tbody tr th:only-of-type {\n",
       "        vertical-align: middle;\n",
       "    }\n",
       "\n",
       "    .dataframe tbody tr th {\n",
       "        vertical-align: top;\n",
       "    }\n",
       "\n",
       "    .dataframe thead th {\n",
       "        text-align: right;\n",
       "    }\n",
       "</style>\n",
       "<table border=\"1\" class=\"dataframe\">\n",
       "  <thead>\n",
       "    <tr style=\"text-align: right;\">\n",
       "      <th></th>\n",
       "      <th>pedestrians_killed</th>\n",
       "      <th>cyclist_killed</th>\n",
       "      <th>motorist_killed</th>\n",
       "      <th>total_killed</th>\n",
       "    </tr>\n",
       "  </thead>\n",
       "  <tbody>\n",
       "    <tr>\n",
       "      <th>null_counts</th>\n",
       "      <td>0</td>\n",
       "      <td>0</td>\n",
       "      <td>0</td>\n",
       "      <td>5</td>\n",
       "    </tr>\n",
       "    <tr>\n",
       "      <th>null_pct</th>\n",
       "      <td>0</td>\n",
       "      <td>0</td>\n",
       "      <td>0</td>\n",
       "      <td>0</td>\n",
       "    </tr>\n",
       "  </tbody>\n",
       "</table>\n",
       "</div>"
      ],
      "text/plain": [
       "             pedestrians_killed  cyclist_killed  motorist_killed  total_killed\n",
       "null_counts                   0               0                0             5\n",
       "null_pct                      0               0                0             0"
      ]
     },
     "execution_count": 77,
     "metadata": {},
     "output_type": "execute_result"
    }
   ],
   "source": [
    "null_counts_pct = null_counts / mvc.shape[0] * 100\n",
    "null_df = pd.DataFrame({'null_counts': null_counts, 'null_pct': null_counts_pct})\n",
    "\n",
    "# Rotate the dataframe\n",
    "null_df = null_df.T.astype(int)\n",
    "killed_cols = [col for col in mvc.columns if 'killed' in col]\n",
    "null_df[killed_cols]"
   ]
  },
  {
   "cell_type": "code",
   "execution_count": 78,
   "metadata": {},
   "outputs": [
    {
     "data": {
      "text/html": [
       "<div>\n",
       "<style scoped>\n",
       "    .dataframe tbody tr th:only-of-type {\n",
       "        vertical-align: middle;\n",
       "    }\n",
       "\n",
       "    .dataframe tbody tr th {\n",
       "        vertical-align: top;\n",
       "    }\n",
       "\n",
       "    .dataframe thead th {\n",
       "        text-align: right;\n",
       "    }\n",
       "</style>\n",
       "<table border=\"1\" class=\"dataframe\">\n",
       "  <thead>\n",
       "    <tr style=\"text-align: right;\">\n",
       "      <th></th>\n",
       "      <th>pedestrians_killed</th>\n",
       "      <th>cyclist_killed</th>\n",
       "      <th>motorist_killed</th>\n",
       "      <th>total_killed</th>\n",
       "    </tr>\n",
       "  </thead>\n",
       "  <tbody>\n",
       "    <tr>\n",
       "      <th>3508</th>\n",
       "      <td>0</td>\n",
       "      <td>0</td>\n",
       "      <td>0</td>\n",
       "      <td>NaN</td>\n",
       "    </tr>\n",
       "    <tr>\n",
       "      <th>20163</th>\n",
       "      <td>0</td>\n",
       "      <td>0</td>\n",
       "      <td>0</td>\n",
       "      <td>NaN</td>\n",
       "    </tr>\n",
       "    <tr>\n",
       "      <th>22046</th>\n",
       "      <td>0</td>\n",
       "      <td>0</td>\n",
       "      <td>1</td>\n",
       "      <td>0.0</td>\n",
       "    </tr>\n",
       "    <tr>\n",
       "      <th>48719</th>\n",
       "      <td>0</td>\n",
       "      <td>0</td>\n",
       "      <td>0</td>\n",
       "      <td>NaN</td>\n",
       "    </tr>\n",
       "    <tr>\n",
       "      <th>55148</th>\n",
       "      <td>0</td>\n",
       "      <td>0</td>\n",
       "      <td>0</td>\n",
       "      <td>NaN</td>\n",
       "    </tr>\n",
       "    <tr>\n",
       "      <th>55699</th>\n",
       "      <td>0</td>\n",
       "      <td>0</td>\n",
       "      <td>0</td>\n",
       "      <td>NaN</td>\n",
       "    </tr>\n",
       "  </tbody>\n",
       "</table>\n",
       "</div>"
      ],
      "text/plain": [
       "       pedestrians_killed  cyclist_killed  motorist_killed  total_killed\n",
       "3508                    0               0                0           NaN\n",
       "20163                   0               0                0           NaN\n",
       "22046                   0               0                1           0.0\n",
       "48719                   0               0                0           NaN\n",
       "55148                   0               0                0           NaN\n",
       "55699                   0               0                0           NaN"
      ]
     },
     "execution_count": 78,
     "metadata": {},
     "output_type": "execute_result"
    }
   ],
   "source": [
    "# .mask(self, cond, other=nan, inplace=False, axis=None, level=None, errors='raise', try_cast=False)[source]\n",
    "#      Replace values where the condition is True.\n",
    "\n",
    "killed_cols = [col for col in mvc.columns if 'killed' in col]\n",
    "killed = mvc[killed_cols].copy()\n",
    "killed_manual_sum = killed.iloc[:,:3].sum(axis = 1)\n",
    "\n",
    "killed_mask = (killed_manual_sum != killed[\"total_killed\"])\n",
    "killed_non_eq = killed[killed_mask]\n",
    "killed_non_eq"
   ]
  },
  {
   "cell_type": "code",
   "execution_count": 79,
   "metadata": {},
   "outputs": [
    {
     "name": "stdout",
     "output_type": "stream",
     "text": [
      "0\n",
      "1\n"
     ]
    }
   ],
   "source": [
    "print(killed_manual_sum.iloc[3508])\n",
    "print(killed_manual_sum.iloc[22046])"
   ]
  },
  {
   "cell_type": "markdown",
   "metadata": {},
   "source": [
    "Filling null values with the sum of the columns should be a reasonable method for imputation, since only six rows out of 58,000 where total killed != sum of all killed categories."
   ]
  },
  {
   "cell_type": "code",
   "execution_count": 80,
   "metadata": {},
   "outputs": [
    {
     "data": {
      "text/plain": [
       "0.0    57814\n",
       "1.0       49\n",
       "Name: total_killed, dtype: int64"
      ]
     },
     "execution_count": 80,
     "metadata": {},
     "output_type": "execute_result"
    }
   ],
   "source": [
    "import numpy as np\n",
    "\n",
    "# fix the killed values\n",
    "killed['total_killed'] = killed['total_killed'].mask(killed['total_killed'].isnull(), killed_manual_sum)\n",
    "killed['total_killed'] = killed['total_killed'].mask(killed['total_killed'] != killed_manual_sum, np.nan)\n",
    "killed['total_killed'].value_counts(dropna=True)"
   ]
  },
  {
   "cell_type": "code",
   "execution_count": 81,
   "metadata": {},
   "outputs": [
    {
     "data": {
      "text/plain": [
       "0.0     46615\n",
       "1.0      8590\n",
       "2.0      1737\n",
       "3.0       550\n",
       "4.0       223\n",
       "5.0        77\n",
       "6.0        27\n",
       "7.0        16\n",
       "9.0         2\n",
       "15.0        1\n",
       "10.0        1\n",
       "13.0        1\n",
       "14.0        1\n",
       "22.0        1\n",
       "8.0         1\n",
       "Name: total_injured, dtype: int64"
      ]
     },
     "execution_count": 81,
     "metadata": {},
     "output_type": "execute_result"
    }
   ],
   "source": [
    "# Create an injured dataframe and manually sum values\n",
    "injured = mvc[[col for col in mvc.columns if 'injured' in col]].copy()\n",
    "injured_manual_sum = injured.iloc[:,:3].sum(axis=1)\n",
    "injured['total_injured'] = injured['total_injured'].mask(injured['total_injured'].isnull(), injured_manual_sum)\n",
    "injured['total_injured'] = injured['total_injured'].mask(injured['total_injured'] !=injured_manual_sum, np.nan)\n",
    "injured['total_injured'].value_counts()"
   ]
  },
  {
   "cell_type": "code",
   "execution_count": 82,
   "metadata": {},
   "outputs": [
    {
     "name": "stdout",
     "output_type": "stream",
     "text": [
      "        injured  killed\n",
      "before        1       5\n",
      "after        21       1\n"
     ]
    }
   ],
   "source": [
    "summary = {\n",
    "    'injured': [\n",
    "        mvc['total_injured'].isnull().sum(),\n",
    "        injured['total_injured'].isnull().sum()\n",
    "    ],\n",
    "    'killed': [\n",
    "        mvc['total_killed'].isnull().sum(),\n",
    "        killed['total_killed'].isnull().sum()\n",
    "    ]\n",
    "}\n",
    "print(pd.DataFrame(summary, index=['before','after']))"
   ]
  },
  {
   "cell_type": "code",
   "execution_count": 83,
   "metadata": {},
   "outputs": [],
   "source": [
    "mvc[\"total_injured\"] = injured[\"total_injured\"]\n",
    "mvc[\"total_killed\"] = killed[\"total_killed\"]"
   ]
  },
  {
   "cell_type": "code",
   "execution_count": 84,
   "metadata": {},
   "outputs": [
    {
     "data": {
      "image/png": "[encoded data removed]",
      "text/plain": [
       "<Figure size 576x288 with 1 Axes>"
      ]
     },
     "metadata": {
      "needs_background": "light"
     },
     "output_type": "display_data"
    }
   ],
   "source": [
    "import matplotlib.pyplot as plt\n",
    "import seaborn as sns\n",
    "%matplotlib inline\n",
    "\n",
    "def plot_null_correlations(df):\n",
    "    # create a correlation matrix only for columns with at least one missing value\n",
    "    cols_with_missing_vals = df.columns[df.isnull().sum() > 0]\n",
    "    missing_corr = df[cols_with_missing_vals].isnull().corr()\n",
    "    \n",
    "    # create a triangular mask to avoid repeated values\n",
    "    missing_corr = missing_corr.iloc[1:, :-1]\n",
    "    mask = np.triu(np.ones_like(missing_corr), k=1)\n",
    "    \n",
    "    # plot a heatmap of the values\n",
    "    plt.figure(figsize=(8,4))\n",
    "    ax = sns.heatmap(missing_corr, vmin=-1, vmax=1, cbar=False,\n",
    "                     cmap='RdBu', mask=mask, annot=True)\n",
    "    \n",
    "    # format the text in the plot\n",
    "    for text in ax.texts:\n",
    "        t = float(text.get_text())\n",
    "        if -0.05 < t < 0.01:\n",
    "            text.set_text('')\n",
    "        else:\n",
    "            text.set_text(round(t, 2))\n",
    "        text.set_fontsize('x-large')\n",
    "    plt.xticks(rotation=90, size='x-large')\n",
    "    plt.yticks(rotation=0, size='x-large')\n",
    "\n",
    "    plt.show()\n",
    "    \n",
    "col_name = [l for l in mvc.columns if \"vehicle\" in l]\n",
    "plot_null_correlations(mvc[col_name])"
   ]
  },
  {
   "cell_type": "code",
   "execution_count": 85,
   "metadata": {},
   "outputs": [
    {
     "data": {
      "text/html": [
       "<div>\n",
       "<style scoped>\n",
       "    .dataframe tbody tr th:only-of-type {\n",
       "        vertical-align: middle;\n",
       "    }\n",
       "\n",
       "    .dataframe tbody tr th {\n",
       "        vertical-align: top;\n",
       "    }\n",
       "\n",
       "    .dataframe thead th {\n",
       "        text-align: right;\n",
       "    }\n",
       "</style>\n",
       "<table border=\"1\" class=\"dataframe\">\n",
       "  <thead>\n",
       "    <tr style=\"text-align: right;\">\n",
       "      <th></th>\n",
       "      <th>v_number</th>\n",
       "      <th>vehicle_missing</th>\n",
       "      <th>cause_missing</th>\n",
       "    </tr>\n",
       "  </thead>\n",
       "  <tbody>\n",
       "    <tr>\n",
       "      <th>0</th>\n",
       "      <td>1</td>\n",
       "      <td>204</td>\n",
       "      <td>24</td>\n",
       "    </tr>\n",
       "    <tr>\n",
       "      <th>1</th>\n",
       "      <td>2</td>\n",
       "      <td>3793</td>\n",
       "      <td>223</td>\n",
       "    </tr>\n",
       "    <tr>\n",
       "      <th>2</th>\n",
       "      <td>3</td>\n",
       "      <td>242</td>\n",
       "      <td>24</td>\n",
       "    </tr>\n",
       "    <tr>\n",
       "      <th>3</th>\n",
       "      <td>4</td>\n",
       "      <td>50</td>\n",
       "      <td>3</td>\n",
       "    </tr>\n",
       "    <tr>\n",
       "      <th>4</th>\n",
       "      <td>5</td>\n",
       "      <td>10</td>\n",
       "      <td>0</td>\n",
       "    </tr>\n",
       "  </tbody>\n",
       "</table>\n",
       "</div>"
      ],
      "text/plain": [
       "   v_number  vehicle_missing  cause_missing\n",
       "0         1              204             24\n",
       "1         2             3793            223\n",
       "2         3              242             24\n",
       "3         4               50              3\n",
       "4         5               10              0"
      ]
     },
     "execution_count": 85,
     "metadata": {},
     "output_type": "execute_result"
    }
   ],
   "source": [
    "col_labels = ['v_number', 'vehicle_missing', 'cause_missing']\n",
    "vc_null_data = []\n",
    "\n",
    "for v in range(1,6):\n",
    "    v_col = 'vehicle_{}'.format(v)\n",
    "    c_col = 'cause_vehicle_{}'.format(v)\n",
    "    \n",
    "    v_null = (mvc[v_col].isnull() & mvc[c_col].notnull()).sum()\n",
    "    c_null = (mvc[c_col].isnull() & mvc[v_col].notnull()).sum()\n",
    "    vc_null_data.append([v, v_null, c_null])\n",
    "\n",
    "vc_null_df = pd.DataFrame(vc_null_data, columns=col_labels)\n",
    "vc_null_df"
   ]
  },
  {
   "cell_type": "code",
   "execution_count": 86,
   "metadata": {},
   "outputs": [
    {
     "data": {
      "text/plain": [
       "Sedan                                  33133\n",
       "Station Wagon/Sport Utility Vehicle    26124\n",
       "PASSENGER VEHICLE                      16026\n",
       "SPORT UTILITY / STATION WAGON          12356\n",
       "Taxi                                    3482\n",
       "Pick-up Truck                           2373\n",
       "TAXI                                    1892\n",
       "Box Truck                               1659\n",
       "Bike                                    1190\n",
       "Bus                                     1162\n",
       "dtype: int64"
      ]
     },
     "execution_count": 86,
     "metadata": {},
     "output_type": "execute_result"
    }
   ],
   "source": [
    "# find the most common value in all columns\n",
    "v_cols = [c for c in mvc.columns if c.startswith(\"vehicle\")]\n",
    "vehicles = mvc[v_cols]\n",
    "vehicles = vehicles.stack()\n",
    "top10_vehicles = vehicles.value_counts().head(10)\n",
    "top10_vehicles"
   ]
  },
  {
   "cell_type": "code",
   "execution_count": 87,
   "metadata": {},
   "outputs": [
    {
     "name": "stdout",
     "output_type": "stream",
     "text": [
      "   vehicle_number  vehicle_missing  cause_missing\n",
      "0               1              204             24\n",
      "1               2             3793            223\n",
      "2               3              242             24\n",
      "3               4               50              3\n",
      "4               5               10              0 \n",
      "\n",
      "   vehicle_number  vehicle_missing  cause_missing\n",
      "0               1                0              0\n",
      "1               2                0              0\n",
      "2               3                0              0\n",
      "3               4                0              0\n",
      "4               5                0              0\n"
     ]
    }
   ],
   "source": [
    "def summarize_missing():\n",
    "    v_missing_data = []\n",
    "\n",
    "    for v in range(1,6):\n",
    "        v_col = 'vehicle_{}'.format(v)\n",
    "        c_col = 'cause_vehicle_{}'.format(v)\n",
    "\n",
    "        v_missing = (mvc[v_col].isnull() & mvc[c_col].notnull()).sum()\n",
    "        c_missing = (mvc[c_col].isnull() & mvc[v_col].notnull()).sum()\n",
    "\n",
    "        v_missing_data.append([v, v_missing, c_missing])\n",
    "\n",
    "    col_labels = columns=[\"vehicle_number\", \"vehicle_missing\", \"cause_missing\"]\n",
    "    return pd.DataFrame(v_missing_data, columns=col_labels)\n",
    "\n",
    "summary_before = summarize_missing()\n",
    "\n",
    "for v in range(1,6):\n",
    "    v_col = 'vehicle_{}'.format(v)\n",
    "    c_col = 'cause_vehicle_{}'.format(v)\n",
    "    v_mask = mvc[v_col].isnull() & mvc[c_col].notnull()\n",
    "    c_mask = mvc[c_col].isnull() & mvc[v_col].notnull()\n",
    "    mvc[v_col] = mvc[v_col].mask(v_mask, \"Unspecified\")\n",
    "    mvc[c_col] = mvc[c_col].mask(c_mask, \"Unspecified\")\n",
    "\n",
    "summary_after = summarize_missing()\n",
    "print(summary_before, '\\n')\n",
    "print(summary_after)\n"
   ]
  },
  {
   "cell_type": "code",
   "execution_count": 88,
   "metadata": {},
   "outputs": [
    {
     "data": {
      "text/html": [
       "<div>\n",
       "<style scoped>\n",
       "    .dataframe tbody tr th:only-of-type {\n",
       "        vertical-align: middle;\n",
       "    }\n",
       "\n",
       "    .dataframe tbody tr th {\n",
       "        vertical-align: top;\n",
       "    }\n",
       "\n",
       "    .dataframe thead th {\n",
       "        text-align: right;\n",
       "    }\n",
       "</style>\n",
       "<table border=\"1\" class=\"dataframe\">\n",
       "  <thead>\n",
       "    <tr style=\"text-align: right;\">\n",
       "      <th></th>\n",
       "      <th>borough</th>\n",
       "      <th>location</th>\n",
       "      <th>on_street</th>\n",
       "      <th>off_street</th>\n",
       "      <th>cross_street</th>\n",
       "    </tr>\n",
       "  </thead>\n",
       "  <tbody>\n",
       "    <tr>\n",
       "      <th>0</th>\n",
       "      <td>MANHATTAN</td>\n",
       "      <td>(40.742832, -74.00771)</td>\n",
       "      <td>WEST 15 STREET</td>\n",
       "      <td>NaN</td>\n",
       "      <td>10 AVENUE</td>\n",
       "    </tr>\n",
       "    <tr>\n",
       "      <th>1</th>\n",
       "      <td>BROOKLYN</td>\n",
       "      <td>(40.623714, -73.99314)</td>\n",
       "      <td>16 AVENUE</td>\n",
       "      <td>NaN</td>\n",
       "      <td>62 STREET</td>\n",
       "    </tr>\n",
       "    <tr>\n",
       "      <th>2</th>\n",
       "      <td>NaN</td>\n",
       "      <td>(40.591755, -73.9083)</td>\n",
       "      <td>BELT PARKWAY</td>\n",
       "      <td>NaN</td>\n",
       "      <td>NaN</td>\n",
       "    </tr>\n",
       "    <tr>\n",
       "      <th>3</th>\n",
       "      <td>QUEENS</td>\n",
       "      <td>(40.73602, -73.87954)</td>\n",
       "      <td>GRAND AVENUE</td>\n",
       "      <td>NaN</td>\n",
       "      <td>VANLOON STREET</td>\n",
       "    </tr>\n",
       "    <tr>\n",
       "      <th>4</th>\n",
       "      <td>BRONX</td>\n",
       "      <td>(40.884727, -73.89945)</td>\n",
       "      <td>NaN</td>\n",
       "      <td>208       WEST 238 STREET</td>\n",
       "      <td>NaN</td>\n",
       "    </tr>\n",
       "  </tbody>\n",
       "</table>\n",
       "</div>"
      ],
      "text/plain": [
       "     borough                location                         on_street  \\\n",
       "0  MANHATTAN  (40.742832, -74.00771)  WEST 15 STREET                     \n",
       "1   BROOKLYN  (40.623714, -73.99314)  16 AVENUE                          \n",
       "2        NaN   (40.591755, -73.9083)  BELT PARKWAY                       \n",
       "3     QUEENS   (40.73602, -73.87954)  GRAND AVENUE                       \n",
       "4      BRONX  (40.884727, -73.89945)                               NaN   \n",
       "\n",
       "                                 off_street    cross_street  \n",
       "0                                       NaN       10 AVENUE  \n",
       "1                                       NaN       62 STREET  \n",
       "2                                       NaN             NaN  \n",
       "3                                       NaN  VANLOON STREET  \n",
       "4  208       WEST 238 STREET                            NaN  "
      ]
     },
     "execution_count": 88,
     "metadata": {},
     "output_type": "execute_result"
    }
   ],
   "source": [
    "loc_cols = ['borough', 'location', 'on_street', 'off_street', 'cross_street']\n",
    "location_data = mvc[loc_cols]\n",
    "location_data.head()"
   ]
  },
  {
   "cell_type": "code",
   "execution_count": 89,
   "metadata": {},
   "outputs": [
    {
     "name": "stdout",
     "output_type": "stream",
     "text": [
      "borough         20646\n",
      "location         3885\n",
      "on_street       13961\n",
      "off_street      44093\n",
      "cross_street    29249\n",
      "dtype: int64\n"
     ]
    }
   ],
   "source": [
    "print(location_data.isnull().sum())"
   ]
  },
  {
   "cell_type": "code",
   "execution_count": 90,
   "metadata": {},
   "outputs": [
    {
     "data": {
      "image/png": "[encoded data removed]",
      "text/plain": [
       "<Figure size 576x288 with 1 Axes>"
      ]
     },
     "metadata": {
      "needs_background": "light"
     },
     "output_type": "display_data"
    }
   ],
   "source": [
    "plot_null_correlations(location_data)"
   ]
  },
  {
   "cell_type": "code",
   "execution_count": 91,
   "metadata": {},
   "outputs": [
    {
     "data": {
      "text/html": [
       "<div>\n",
       "<style scoped>\n",
       "    .dataframe tbody tr th:only-of-type {\n",
       "        vertical-align: middle;\n",
       "    }\n",
       "\n",
       "    .dataframe tbody tr th {\n",
       "        vertical-align: top;\n",
       "    }\n",
       "\n",
       "    .dataframe thead th {\n",
       "        text-align: right;\n",
       "    }\n",
       "</style>\n",
       "<table border=\"1\" class=\"dataframe\">\n",
       "  <thead>\n",
       "    <tr style=\"text-align: right;\">\n",
       "      <th></th>\n",
       "      <th>unique_key</th>\n",
       "      <th>location</th>\n",
       "      <th>on_street</th>\n",
       "      <th>off_street</th>\n",
       "      <th>borough</th>\n",
       "    </tr>\n",
       "  </thead>\n",
       "  <tbody>\n",
       "    <tr>\n",
       "      <th>0</th>\n",
       "      <td>3869058</td>\n",
       "      <td>NaN</td>\n",
       "      <td>NaN</td>\n",
       "      <td>NaN</td>\n",
       "      <td>NaN</td>\n",
       "    </tr>\n",
       "    <tr>\n",
       "      <th>1</th>\n",
       "      <td>3847947</td>\n",
       "      <td>NaN</td>\n",
       "      <td>NaN</td>\n",
       "      <td>NaN</td>\n",
       "      <td>NaN</td>\n",
       "    </tr>\n",
       "    <tr>\n",
       "      <th>2</th>\n",
       "      <td>3914294</td>\n",
       "      <td>NaN</td>\n",
       "      <td>BELT PARKWAY</td>\n",
       "      <td>NaN</td>\n",
       "      <td>BROOKLYN</td>\n",
       "    </tr>\n",
       "    <tr>\n",
       "      <th>3</th>\n",
       "      <td>3915069</td>\n",
       "      <td>NaN</td>\n",
       "      <td>NaN</td>\n",
       "      <td>NaN</td>\n",
       "      <td>NaN</td>\n",
       "    </tr>\n",
       "    <tr>\n",
       "      <th>4</th>\n",
       "      <td>3923123</td>\n",
       "      <td>NaN</td>\n",
       "      <td>NaN</td>\n",
       "      <td>NaN</td>\n",
       "      <td>NaN</td>\n",
       "    </tr>\n",
       "  </tbody>\n",
       "</table>\n",
       "</div>"
      ],
      "text/plain": [
       "   unique_key location     on_street off_street   borough\n",
       "0     3869058      NaN           NaN        NaN       NaN\n",
       "1     3847947      NaN           NaN        NaN       NaN\n",
       "2     3914294      NaN  BELT PARKWAY        NaN  BROOKLYN\n",
       "3     3915069      NaN           NaN        NaN       NaN\n",
       "4     3923123      NaN           NaN        NaN       NaN"
      ]
     },
     "execution_count": 91,
     "metadata": {},
     "output_type": "execute_result"
    }
   ],
   "source": [
    "sup_data = pd.read_csv('supplemental_data.csv')\n",
    "sup_data.head()"
   ]
  },
  {
   "cell_type": "code",
   "execution_count": 92,
   "metadata": {},
   "outputs": [
    {
     "name": "stdout",
     "output_type": "stream",
     "text": [
      "location       3885\n",
      "on_street     13961\n",
      "off_street    44093\n",
      "borough       20646\n",
      "dtype: int64 \n",
      "\n",
      "location         77\n",
      "on_street     13734\n",
      "off_street    36131\n",
      "borough         232\n",
      "dtype: int64\n"
     ]
    }
   ],
   "source": [
    "location_cols = ['location', 'on_street', 'off_street', 'borough']\n",
    "null_before = mvc[location_cols].isnull().sum()\n",
    "for col in location_cols:\n",
    "    v_mask = mvc[col].isnull()\n",
    "    mvc[col] = mvc[col].mask(v_mask, sup_data[col])\n",
    "\n",
    "null_after = mvc[location_cols].isnull().sum()\n",
    "\n",
    "print(null_before, '\\n')\n",
    "print(null_after)"
   ]
  },
  {
   "cell_type": "markdown",
   "metadata": {},
   "source": [
    "### Exploring Ebay Car Sales Data"
   ]
  },
  {
   "cell_type": "code",
   "execution_count": null,
   "metadata": {},
   "outputs": [],
   "source": [
    "\"\"\" This project will clean a subdataset of used cars from a \n",
    "classifieds section of the German eBay website eBay \n",
    "Kleinanzeigen \"\"\""
   ]
  },
  {
   "cell_type": "code",
   "execution_count": 1,
   "metadata": {},
   "outputs": [],
   "source": [
    "import pandas as pd\n",
    "import numpy as np\n",
    "autos=pd.read_csv('autos.csv', encoding=\"Latin-1\")"
   ]
  },
  {
   "cell_type": "code",
   "execution_count": null,
   "metadata": {},
   "outputs": [],
   "source": [
    "autos.info()"
   ]
  },
  {
   "cell_type": "code",
   "execution_count": null,
   "metadata": {},
   "outputs": [],
   "source": [
    "autos.head()"
   ]
  },
  {
   "cell_type": "code",
   "execution_count": null,
   "metadata": {
    "collapsed": true,
    "jupyter": {
     "outputs_hidden": true
    }
   },
   "outputs": [],
   "source": [
    "# this dataset has 20 cols and 50,000 observations with \n",
    "#'yearOfRegistration', 'powerPS', 'monthOfRegistration', 'nrOfPictures'\n",
    "# and 'postalCode ' in float64 format, rests are objecgts\n",
    "# five columns has missing data"
   ]
  },
  {
   "cell_type": "code",
   "execution_count": null,
   "metadata": {
    "collapsed": true,
    "jupyter": {
     "outputs_hidden": true
    }
   },
   "outputs": [],
   "source": [
    "# Cleaning Column Names: converting column names from snakecase, \n",
    "# rewording some of the column names to be more descriptive"
   ]
  },
  {
   "cell_type": "code",
   "execution_count": 16,
   "metadata": {},
   "outputs": [
    {
     "data": {
      "text/plain": [
       "Index(['date_crawled', 'name', 'seller', 'offer_type', 'price', 'abtest',\n",
       "       'vehicle_type', 'registration_year', 'gearbox', 'power_ps', 'model',\n",
       "       'odometer_km', 'registration_month', 'fuel_type', 'brand',\n",
       "       'unrepaired_damage', 'ad_created', 'nr_of_Pictures', 'postal_code',\n",
       "       'last_seen'],\n",
       "      dtype='object')"
      ]
     },
     "execution_count": 16,
     "metadata": {},
     "output_type": "execute_result"
    }
   ],
   "source": [
    "autos.columns"
   ]
  },
  {
   "cell_type": "code",
   "execution_count": 3,
   "metadata": {},
   "outputs": [
    {
     "data": {
      "text/html": [
       "<div>\n",
       "<style scoped>\n",
       "    .dataframe tbody tr th:only-of-type {\n",
       "        vertical-align: middle;\n",
       "    }\n",
       "\n",
       "    .dataframe tbody tr th {\n",
       "        vertical-align: top;\n",
       "    }\n",
       "\n",
       "    .dataframe thead th {\n",
       "        text-align: right;\n",
       "    }\n",
       "</style>\n",
       "<table border=\"1\" class=\"dataframe\">\n",
       "  <thead>\n",
       "    <tr style=\"text-align: right;\">\n",
       "      <th></th>\n",
       "      <th>date_crawled</th>\n",
       "      <th>name</th>\n",
       "      <th>seller</th>\n",
       "      <th>offer_type</th>\n",
       "      <th>price</th>\n",
       "      <th>abtest</th>\n",
       "      <th>vehicle_type</th>\n",
       "      <th>registration_year</th>\n",
       "      <th>gearbox</th>\n",
       "      <th>power_ps</th>\n",
       "      <th>model</th>\n",
       "      <th>odometer</th>\n",
       "      <th>registration_month</th>\n",
       "      <th>fuel_type</th>\n",
       "      <th>brand</th>\n",
       "      <th>unrepaired_damage</th>\n",
       "      <th>ad_created</th>\n",
       "      <th>nr_of_Pictures</th>\n",
       "      <th>postal_code</th>\n",
       "      <th>last_seen</th>\n",
       "    </tr>\n",
       "  </thead>\n",
       "  <tbody>\n",
       "    <tr>\n",
       "      <th>0</th>\n",
       "      <td>2016-03-26 17:47:46</td>\n",
       "      <td>Peugeot_807_160_NAVTECH_ON_BOARD</td>\n",
       "      <td>privat</td>\n",
       "      <td>Angebot</td>\n",
       "      <td>$5,000</td>\n",
       "      <td>control</td>\n",
       "      <td>bus</td>\n",
       "      <td>2004</td>\n",
       "      <td>manuell</td>\n",
       "      <td>158</td>\n",
       "      <td>andere</td>\n",
       "      <td>150,000km</td>\n",
       "      <td>3</td>\n",
       "      <td>lpg</td>\n",
       "      <td>peugeot</td>\n",
       "      <td>nein</td>\n",
       "      <td>2016-03-26 00:00:00</td>\n",
       "      <td>0</td>\n",
       "      <td>79588</td>\n",
       "      <td>2016-04-06 06:45:54</td>\n",
       "    </tr>\n",
       "    <tr>\n",
       "      <th>1</th>\n",
       "      <td>2016-04-04 13:38:56</td>\n",
       "      <td>BMW_740i_4_4_Liter_HAMANN_UMBAU_Mega_Optik</td>\n",
       "      <td>privat</td>\n",
       "      <td>Angebot</td>\n",
       "      <td>$8,500</td>\n",
       "      <td>control</td>\n",
       "      <td>limousine</td>\n",
       "      <td>1997</td>\n",
       "      <td>automatik</td>\n",
       "      <td>286</td>\n",
       "      <td>7er</td>\n",
       "      <td>150,000km</td>\n",
       "      <td>6</td>\n",
       "      <td>benzin</td>\n",
       "      <td>bmw</td>\n",
       "      <td>nein</td>\n",
       "      <td>2016-04-04 00:00:00</td>\n",
       "      <td>0</td>\n",
       "      <td>71034</td>\n",
       "      <td>2016-04-06 14:45:08</td>\n",
       "    </tr>\n",
       "    <tr>\n",
       "      <th>2</th>\n",
       "      <td>2016-03-26 18:57:24</td>\n",
       "      <td>Volkswagen_Golf_1.6_United</td>\n",
       "      <td>privat</td>\n",
       "      <td>Angebot</td>\n",
       "      <td>$8,990</td>\n",
       "      <td>test</td>\n",
       "      <td>limousine</td>\n",
       "      <td>2009</td>\n",
       "      <td>manuell</td>\n",
       "      <td>102</td>\n",
       "      <td>golf</td>\n",
       "      <td>70,000km</td>\n",
       "      <td>7</td>\n",
       "      <td>benzin</td>\n",
       "      <td>volkswagen</td>\n",
       "      <td>nein</td>\n",
       "      <td>2016-03-26 00:00:00</td>\n",
       "      <td>0</td>\n",
       "      <td>35394</td>\n",
       "      <td>2016-04-06 20:15:37</td>\n",
       "    </tr>\n",
       "    <tr>\n",
       "      <th>3</th>\n",
       "      <td>2016-03-12 16:58:10</td>\n",
       "      <td>Smart_smart_fortwo_coupe_softouch/F1/Klima/Pan...</td>\n",
       "      <td>privat</td>\n",
       "      <td>Angebot</td>\n",
       "      <td>$4,350</td>\n",
       "      <td>control</td>\n",
       "      <td>kleinwagen</td>\n",
       "      <td>2007</td>\n",
       "      <td>automatik</td>\n",
       "      <td>71</td>\n",
       "      <td>fortwo</td>\n",
       "      <td>70,000km</td>\n",
       "      <td>6</td>\n",
       "      <td>benzin</td>\n",
       "      <td>smart</td>\n",
       "      <td>nein</td>\n",
       "      <td>2016-03-12 00:00:00</td>\n",
       "      <td>0</td>\n",
       "      <td>33729</td>\n",
       "      <td>2016-03-15 03:16:28</td>\n",
       "    </tr>\n",
       "    <tr>\n",
       "      <th>4</th>\n",
       "      <td>2016-04-01 14:38:50</td>\n",
       "      <td>Ford_Focus_1_6_Benzin_TÜV_neu_ist_sehr_gepfleg...</td>\n",
       "      <td>privat</td>\n",
       "      <td>Angebot</td>\n",
       "      <td>$1,350</td>\n",
       "      <td>test</td>\n",
       "      <td>kombi</td>\n",
       "      <td>2003</td>\n",
       "      <td>manuell</td>\n",
       "      <td>0</td>\n",
       "      <td>focus</td>\n",
       "      <td>150,000km</td>\n",
       "      <td>7</td>\n",
       "      <td>benzin</td>\n",
       "      <td>ford</td>\n",
       "      <td>nein</td>\n",
       "      <td>2016-04-01 00:00:00</td>\n",
       "      <td>0</td>\n",
       "      <td>39218</td>\n",
       "      <td>2016-04-01 14:38:50</td>\n",
       "    </tr>\n",
       "  </tbody>\n",
       "</table>\n",
       "</div>"
      ],
      "text/plain": [
       "          date_crawled                                               name  \\\n",
       "0  2016-03-26 17:47:46                   Peugeot_807_160_NAVTECH_ON_BOARD   \n",
       "1  2016-04-04 13:38:56         BMW_740i_4_4_Liter_HAMANN_UMBAU_Mega_Optik   \n",
       "2  2016-03-26 18:57:24                         Volkswagen_Golf_1.6_United   \n",
       "3  2016-03-12 16:58:10  Smart_smart_fortwo_coupe_softouch/F1/Klima/Pan...   \n",
       "4  2016-04-01 14:38:50  Ford_Focus_1_6_Benzin_TÜV_neu_ist_sehr_gepfleg...   \n",
       "\n",
       "   seller offer_type   price   abtest vehicle_type  registration_year  \\\n",
       "0  privat    Angebot  $5,000  control          bus               2004   \n",
       "1  privat    Angebot  $8,500  control    limousine               1997   \n",
       "2  privat    Angebot  $8,990     test    limousine               2009   \n",
       "3  privat    Angebot  $4,350  control   kleinwagen               2007   \n",
       "4  privat    Angebot  $1,350     test        kombi               2003   \n",
       "\n",
       "     gearbox  power_ps   model   odometer  registration_month fuel_type  \\\n",
       "0    manuell       158  andere  150,000km                   3       lpg   \n",
       "1  automatik       286     7er  150,000km                   6    benzin   \n",
       "2    manuell       102    golf   70,000km                   7    benzin   \n",
       "3  automatik        71  fortwo   70,000km                   6    benzin   \n",
       "4    manuell         0   focus  150,000km                   7    benzin   \n",
       "\n",
       "        brand unrepaired_damage           ad_created  nr_of_Pictures  \\\n",
       "0     peugeot              nein  2016-03-26 00:00:00               0   \n",
       "1         bmw              nein  2016-04-04 00:00:00               0   \n",
       "2  volkswagen              nein  2016-03-26 00:00:00               0   \n",
       "3       smart              nein  2016-03-12 00:00:00               0   \n",
       "4        ford              nein  2016-04-01 00:00:00               0   \n",
       "\n",
       "   postal_code            last_seen  \n",
       "0        79588  2016-04-06 06:45:54  \n",
       "1        71034  2016-04-06 14:45:08  \n",
       "2        35394  2016-04-06 20:15:37  \n",
       "3        33729  2016-03-15 03:16:28  \n",
       "4        39218  2016-04-01 14:38:50  "
      ]
     },
     "execution_count": 3,
     "metadata": {},
     "output_type": "execute_result"
    }
   ],
   "source": [
    "autos.columns = ['date_crawled', 'name', 'seller', 'offer_type', 'price', 'abtest',\n",
    "       'vehicle_type', 'registration_year', 'gearbox', 'power_ps', 'model',\n",
    "       'odometer', 'registration_month', 'fuel_type', 'brand',\n",
    "       'unrepaired_damage', 'ad_created', 'nr_of_Pictures', 'postal_code',\n",
    "       'last_seen']\n",
    "autos.head()"
   ]
  },
  {
   "cell_type": "code",
   "execution_count": null,
   "metadata": {
    "collapsed": true,
    "jupyter": {
     "outputs_hidden": true
    }
   },
   "outputs": [],
   "source": [
    "# changed col names to snakecase to follow good python naming practice."
   ]
  },
  {
   "cell_type": "code",
   "execution_count": null,
   "metadata": {},
   "outputs": [],
   "source": [
    "autos.describe(include='all')"
   ]
  },
  {
   "cell_type": "code",
   "execution_count": null,
   "metadata": {
    "collapsed": true,
    "jupyter": {
     "outputs_hidden": true
    }
   },
   "outputs": [],
   "source": [
    "# Any columns that have mostly one value that are candidates to be dropped\n",
    "# Any columns that need more investigation.\n",
    "# Any examples of numeric data stored as text that needs to be cleaned."
   ]
  },
  {
   "cell_type": "code",
   "execution_count": null,
   "metadata": {},
   "outputs": [],
   "source": [
    "autos['price'].head()"
   ]
  },
  {
   "cell_type": "code",
   "execution_count": 4,
   "metadata": {},
   "outputs": [],
   "source": [
    "autos['price']=autos['price'].str.replace(\",\", \"\").str.strip()\n",
    "autos['price']=autos['price'].str.replace(\"$\", \"\").astype(float)\n",
    "autos['odometer']=autos['odometer'].str.replace(\",\", \"\").str.strip()\n",
    "autos['odometer']=autos['odometer'].str.replace(\"km\", \"\").astype(float)"
   ]
  },
  {
   "cell_type": "code",
   "execution_count": null,
   "metadata": {},
   "outputs": [],
   "source": [
    "autos['price'].head()\n",
    "autos['odometer'].head()"
   ]
  },
  {
   "cell_type": "code",
   "execution_count": 5,
   "metadata": {},
   "outputs": [],
   "source": [
    "autos.rename({'odometer':'odometer_km'}, axis=1, inplace=True)"
   ]
  },
  {
   "cell_type": "code",
   "execution_count": null,
   "metadata": {},
   "outputs": [],
   "source": [
    "# explore price and odometer_km columns\n",
    "print(autos['price'].unique().shape)\n",
    "print(autos['odometer_km'].unique().shape)"
   ]
  },
  {
   "cell_type": "code",
   "execution_count": null,
   "metadata": {
    "scrolled": true
   },
   "outputs": [],
   "source": [
    "print(autos['price'].describe())\n",
    "print(autos['odometer_km'].describe())"
   ]
  },
  {
   "cell_type": "code",
   "execution_count": 17,
   "metadata": {},
   "outputs": [],
   "source": [
    "#remove rows where price=0\n",
    "autos=autos[autos['price']!=0]"
   ]
  },
  {
   "cell_type": "code",
   "execution_count": 15,
   "metadata": {},
   "outputs": [
    {
     "data": {
      "text/plain": [
       "2016-03-15    0.2\n",
       "2016-04-01    0.2\n",
       "2016-04-06    0.6\n",
       "Name: last_seen, dtype: float64"
      ]
     },
     "execution_count": 15,
     "metadata": {},
     "output_type": "execute_result"
    }
   ],
   "source": [
    "# extract date from columns: 'date_crawled','ad_created','last_seen'\n",
    "# missing values are included in the distribution\n",
    "autos['date_crawled'].str[:10].value_counts(normalize=True, dropna=False).sort_index()\n",
    "autos['ad_created'].str[:10].value_counts(normalize=True, dropna=False).sort_index()\n",
    "autos['last_seen'].str[:10].head().value_counts(normalize=True, dropna=False).sort_index()"
   ]
  },
  {
   "cell_type": "code",
   "execution_count": null,
   "metadata": {},
   "outputs": [],
   "source": [
    "# explore the distribution of registration_year.\n",
    "autos['registration_year'].describe()"
   ]
  },
  {
   "cell_type": "code",
   "execution_count": null,
   "metadata": {
    "collapsed": true,
    "jupyter": {
     "outputs_hidden": true
    }
   },
   "outputs": [],
   "source": [
    "# min year is 1000, max year is 9999, both unreal.  "
   ]
  },
  {
   "cell_type": "code",
   "execution_count": 14,
   "metadata": {},
   "outputs": [
    {
     "data": {
      "text/plain": [
       "False    1.0\n",
       "Name: registration_year, dtype: float64"
      ]
     },
     "execution_count": 14,
     "metadata": {},
     "output_type": "execute_result"
    }
   ],
   "source": [
    "# count the number of listings with cars that fall outside the 1900 - 2016\n",
    "# to see if it is safe to drop them\n",
    "test_outside=~autos[\"registration_year\"].between(1900,2016)\n",
    "test_outside.value_counts(normalize=True, dropna=False).sort_index()"
   ]
  },
  {
   "cell_type": "code",
   "execution_count": 13,
   "metadata": {},
   "outputs": [
    {
     "data": {
      "text/plain": [
       "True    1.0\n",
       "Name: registration_year, dtype: float64"
      ]
     },
     "execution_count": 13,
     "metadata": {},
     "output_type": "execute_result"
    }
   ],
   "source": [
    "test_between=autos[\"registration_year\"].between(1900,2016)\n",
    "test_between.value_counts(normalize=True, dropna=False).sort_index()"
   ]
  },
  {
   "cell_type": "code",
   "execution_count": 18,
   "metadata": {},
   "outputs": [],
   "source": [
    "# less than 3% cars found outside 1900 - 2016 period, \n",
    "# check data betwee 1990 and 2016\n",
    "sele_condition=autos['registration_year'].between(1900,2016)\n",
    "autos=autos[sele_condition]"
   ]
  },
  {
   "cell_type": "code",
   "execution_count": 19,
   "metadata": {},
   "outputs": [
    {
     "data": {
      "text/plain": [
       "1910    0.000107\n",
       "1927    0.000021\n",
       "1929    0.000021\n",
       "1931    0.000021\n",
       "1934    0.000043\n",
       "Name: registration_year, dtype: float64"
      ]
     },
     "execution_count": 19,
     "metadata": {},
     "output_type": "execute_result"
    }
   ],
   "source": [
    "autos['registration_year'].value_counts(normalize=True).sort_index().head()"
   ]
  },
  {
   "cell_type": "code",
   "execution_count": 20,
   "metadata": {},
   "outputs": [],
   "source": [
    "# cars before 1988 are less than 2%, remove them next\n",
    "autos=autos[autos['registration_year'] >= 1988]"
   ]
  },
  {
   "cell_type": "code",
   "execution_count": null,
   "metadata": {},
   "outputs": [],
   "source": [
    "autos['brand'].describe()"
   ]
  },
  {
   "cell_type": "code",
   "execution_count": 21,
   "metadata": {},
   "outputs": [
    {
     "name": "stdout",
     "output_type": "stream",
     "text": [
      "<class 'pandas.core.series.Series'>\n",
      "volkswagen       9656\n",
      "bmw              5081\n",
      "opel             4946\n",
      "mercedes_benz    4319\n",
      "audi             4016\n",
      "ford             3192\n",
      "renault          2191\n",
      "peugeot          1392\n",
      "fiat             1165\n",
      "seat              852\n",
      "Name: brand, dtype: int64\n"
     ]
    }
   ],
   "source": [
    "# selecting top 10 vehicles\n",
    "selection=autos['brand'].value_counts().head(10)\n",
    "print(type(selection))\n",
    "print(selection)"
   ]
  },
  {
   "cell_type": "code",
   "execution_count": 22,
   "metadata": {},
   "outputs": [
    {
     "data": {
      "text/plain": [
       "{'audi': 9375.65,\n",
       " 'bmw': 8575.78,\n",
       " 'fiat': 2705.09,\n",
       " 'ford': 3751.19,\n",
       " 'mercedes_benz': 31657.73,\n",
       " 'opel': 5448.93,\n",
       " 'peugeot': 3088.34,\n",
       " 'renault': 2425.55,\n",
       " 'seat': 4402.39,\n",
       " 'volkswagen': 6527.25}"
      ]
     },
     "execution_count": 22,
     "metadata": {},
     "output_type": "execute_result"
    }
   ],
   "source": [
    "# obtain mean prices for top 10 selling vehicles\n",
    "brand_mean_prices={}\n",
    "for i in range(len(selection)):\n",
    "    if selection.index[i] not in brand_mean_prices:\n",
    "        avg=autos.loc[autos['brand']==selection.index[i], 'price'].mean()\n",
    "        brand_mean_prices[selection.index[i]]=avg.round(2)\n",
    "brand_mean_prices"
   ]
  },
  {
   "cell_type": "code",
   "execution_count": null,
   "metadata": {},
   "outputs": [],
   "source": [
    "# It looks like mercedes_benz is the most expensive vehicle, followed by \n",
    "# audi, bmw, volkswagen and opel and seat. renault is the cheapest.  \n",
    "# It's price is 4 times above average!"
   ]
  },
  {
   "cell_type": "code",
   "execution_count": 23,
   "metadata": {},
   "outputs": [],
   "source": [
    "top_prices=brand_mean_prices"
   ]
  },
  {
   "cell_type": "code",
   "execution_count": 24,
   "metadata": {},
   "outputs": [],
   "source": [
    "del top_prices['renault']\n",
    "del top_prices['peugeot']\n",
    "del top_prices['fiat']\n",
    "del top_prices['ford']"
   ]
  },
  {
   "cell_type": "code",
   "execution_count": 25,
   "metadata": {},
   "outputs": [
    {
     "name": "stdout",
     "output_type": "stream",
     "text": [
      "audi              9375.65\n",
      "bmw               8575.78\n",
      "mercedes_benz    31657.73\n",
      "opel              5448.93\n",
      "seat              4402.39\n",
      "volkswagen        6527.25\n",
      "dtype: float64\n"
     ]
    }
   ],
   "source": [
    "# converting top_dict to pandas series\n",
    "bmp_series = pd.Series(top_prices)\n",
    "print(bmp_series)"
   ]
  },
  {
   "cell_type": "code",
   "execution_count": 26,
   "metadata": {},
   "outputs": [
    {
     "data": {
      "text/plain": [
       "{'audi': 129094.87,\n",
       " 'bmw': 132722.89,\n",
       " 'mercedes_benz': 131044.22,\n",
       " 'opel': 129834.21,\n",
       " 'seat': 121267.61,\n",
       " 'volkswagen': 129121.79}"
      ]
     },
     "execution_count": 26,
     "metadata": {},
     "output_type": "execute_result"
    }
   ],
   "source": [
    "# obtain mean mileage for top 6 selling vehicles\n",
    "brand_mean_mileages={}\n",
    "for i in range(len(bmp_series)):\n",
    "    if bmp_series.index[i] not in brand_mean_mileages:\n",
    "        avg=autos.loc[autos['brand']==bmp_series.index[i], 'odometer_km'].mean()\n",
    "        brand_mean_mileages[bmp_series.index[i]]=avg.round(2)\n",
    "brand_mean_mileages"
   ]
  },
  {
   "cell_type": "code",
   "execution_count": 27,
   "metadata": {},
   "outputs": [
    {
     "data": {
      "text/html": [
       "<div>\n",
       "<style scoped>\n",
       "    .dataframe tbody tr th:only-of-type {\n",
       "        vertical-align: middle;\n",
       "    }\n",
       "\n",
       "    .dataframe tbody tr th {\n",
       "        vertical-align: top;\n",
       "    }\n",
       "\n",
       "    .dataframe thead th {\n",
       "        text-align: right;\n",
       "    }\n",
       "</style>\n",
       "<table border=\"1\" class=\"dataframe\">\n",
       "  <thead>\n",
       "    <tr style=\"text-align: right;\">\n",
       "      <th></th>\n",
       "      <th>mean_prices</th>\n",
       "      <th>mean_mileages</th>\n",
       "    </tr>\n",
       "  </thead>\n",
       "  <tbody>\n",
       "    <tr>\n",
       "      <th>audi</th>\n",
       "      <td>9375.65</td>\n",
       "      <td>129094.87</td>\n",
       "    </tr>\n",
       "    <tr>\n",
       "      <th>bmw</th>\n",
       "      <td>8575.78</td>\n",
       "      <td>132722.89</td>\n",
       "    </tr>\n",
       "    <tr>\n",
       "      <th>mercedes_benz</th>\n",
       "      <td>31657.73</td>\n",
       "      <td>131044.22</td>\n",
       "    </tr>\n",
       "    <tr>\n",
       "      <th>opel</th>\n",
       "      <td>5448.93</td>\n",
       "      <td>129834.21</td>\n",
       "    </tr>\n",
       "    <tr>\n",
       "      <th>seat</th>\n",
       "      <td>4402.39</td>\n",
       "      <td>121267.61</td>\n",
       "    </tr>\n",
       "    <tr>\n",
       "      <th>volkswagen</th>\n",
       "      <td>6527.25</td>\n",
       "      <td>129121.79</td>\n",
       "    </tr>\n",
       "  </tbody>\n",
       "</table>\n",
       "</div>"
      ],
      "text/plain": [
       "               mean_prices  mean_mileages\n",
       "audi               9375.65      129094.87\n",
       "bmw                8575.78      132722.89\n",
       "mercedes_benz     31657.73      131044.22\n",
       "opel               5448.93      129834.21\n",
       "seat               4402.39      121267.61\n",
       "volkswagen         6527.25      129121.79"
      ]
     },
     "execution_count": 27,
     "metadata": {},
     "output_type": "execute_result"
    }
   ],
   "source": [
    "# converting brand_mean_mileage dictionary to pandas series \n",
    "tm_series = pd.Series(brand_mean_mileages)  \n",
    "df = pd.DataFrame(bmp_series, columns=['mean_prices'])\n",
    "df['mean_mileages']=tm_series\n",
    "df"
   ]
  },
  {
   "cell_type": "code",
   "execution_count": null,
   "metadata": {
    "collapsed": true,
    "jupyter": {
     "outputs_hidden": true
    }
   },
   "outputs": [],
   "source": [
    "# price is not correlated with mileage, \n",
    "# as all other vehicles also have over 100k mileage as Benz "
   ]
  },
  {
   "cell_type": "code",
   "execution_count": 36,
   "metadata": {},
   "outputs": [
    {
     "data": {
      "text/plain": [
       "manual       34094\n",
       "automatic     9636\n",
       "Name: gearbox, dtype: int64"
      ]
     },
     "execution_count": 36,
     "metadata": {},
     "output_type": "execute_result"
    }
   ],
   "source": [
    "autos['gearbox'].value_counts()"
   ]
  },
  {
   "cell_type": "code",
   "execution_count": 32,
   "metadata": {},
   "outputs": [
    {
     "data": {
      "text/plain": [
       "manual       34094\n",
       "automatic     9636\n",
       "Name: gearbox, dtype: int64"
      ]
     },
     "execution_count": 32,
     "metadata": {},
     "output_type": "execute_result"
    }
   ],
   "source": [
    "# changing values in gearbox from German to English\n",
    "autos.loc[autos['gearbox']=='manuell', 'gearbox']='manual'\n",
    "autos.loc[autos['gearbox']=='automatik', 'gearbox']='automatic'\n",
    "autos['gearbox'].value_counts()"
   ]
  },
  {
   "cell_type": "code",
   "execution_count": 39,
   "metadata": {},
   "outputs": [
    {
     "data": {
      "text/html": [
       "<div>\n",
       "<style scoped>\n",
       "    .dataframe tbody tr th:only-of-type {\n",
       "        vertical-align: middle;\n",
       "    }\n",
       "\n",
       "    .dataframe tbody tr th {\n",
       "        vertical-align: top;\n",
       "    }\n",
       "\n",
       "    .dataframe thead th {\n",
       "        text-align: right;\n",
       "    }\n",
       "</style>\n",
       "<table border=\"1\" class=\"dataframe\">\n",
       "  <thead>\n",
       "    <tr style=\"text-align: right;\">\n",
       "      <th></th>\n",
       "      <th>date_crawled</th>\n",
       "      <th>name</th>\n",
       "      <th>seller</th>\n",
       "      <th>offer_type</th>\n",
       "      <th>price</th>\n",
       "      <th>abtest</th>\n",
       "      <th>vehicle_type</th>\n",
       "      <th>registration_year</th>\n",
       "      <th>gearbox</th>\n",
       "      <th>power_ps</th>\n",
       "      <th>model</th>\n",
       "      <th>odometer_km</th>\n",
       "      <th>registration_month</th>\n",
       "      <th>fuel_type</th>\n",
       "      <th>brand</th>\n",
       "      <th>unrepaired_damage</th>\n",
       "      <th>ad_created</th>\n",
       "      <th>nr_of_Pictures</th>\n",
       "      <th>postal_code</th>\n",
       "      <th>last_seen</th>\n",
       "    </tr>\n",
       "  </thead>\n",
       "  <tbody>\n",
       "    <tr>\n",
       "      <th>0</th>\n",
       "      <td>2016-03-26</td>\n",
       "      <td>Peugeot_807_160_NAVTECH_ON_BOARD</td>\n",
       "      <td>privat</td>\n",
       "      <td>Angebot</td>\n",
       "      <td>5000.0</td>\n",
       "      <td>control</td>\n",
       "      <td>bus</td>\n",
       "      <td>2004</td>\n",
       "      <td>manual</td>\n",
       "      <td>158</td>\n",
       "      <td>andere</td>\n",
       "      <td>150000.0</td>\n",
       "      <td>3</td>\n",
       "      <td>lpg</td>\n",
       "      <td>peugeot</td>\n",
       "      <td>nein</td>\n",
       "      <td>2016-03-26</td>\n",
       "      <td>0</td>\n",
       "      <td>79588</td>\n",
       "      <td>2016-04-06</td>\n",
       "    </tr>\n",
       "    <tr>\n",
       "      <th>1</th>\n",
       "      <td>2016-04-04</td>\n",
       "      <td>BMW_740i_4_4_Liter_HAMANN_UMBAU_Mega_Optik</td>\n",
       "      <td>privat</td>\n",
       "      <td>Angebot</td>\n",
       "      <td>8500.0</td>\n",
       "      <td>control</td>\n",
       "      <td>limousine</td>\n",
       "      <td>1997</td>\n",
       "      <td>automatic</td>\n",
       "      <td>286</td>\n",
       "      <td>7er</td>\n",
       "      <td>150000.0</td>\n",
       "      <td>6</td>\n",
       "      <td>benzin</td>\n",
       "      <td>bmw</td>\n",
       "      <td>nein</td>\n",
       "      <td>2016-04-04</td>\n",
       "      <td>0</td>\n",
       "      <td>71034</td>\n",
       "      <td>2016-04-06</td>\n",
       "    </tr>\n",
       "  </tbody>\n",
       "</table>\n",
       "</div>"
      ],
      "text/plain": [
       "  date_crawled                                        name  seller offer_type  \\\n",
       "0   2016-03-26            Peugeot_807_160_NAVTECH_ON_BOARD  privat    Angebot   \n",
       "1   2016-04-04  BMW_740i_4_4_Liter_HAMANN_UMBAU_Mega_Optik  privat    Angebot   \n",
       "\n",
       "    price   abtest vehicle_type  registration_year    gearbox  power_ps  \\\n",
       "0  5000.0  control          bus               2004     manual       158   \n",
       "1  8500.0  control    limousine               1997  automatic       286   \n",
       "\n",
       "    model  odometer_km  registration_month fuel_type    brand  \\\n",
       "0  andere     150000.0                   3       lpg  peugeot   \n",
       "1     7er     150000.0                   6    benzin      bmw   \n",
       "\n",
       "  unrepaired_damage  ad_created  nr_of_Pictures  postal_code   last_seen  \n",
       "0              nein  2016-03-26               0        79588  2016-04-06  \n",
       "1              nein  2016-04-04               0        71034  2016-04-06  "
      ]
     },
     "execution_count": 39,
     "metadata": {},
     "output_type": "execute_result"
    }
   ],
   "source": [
    "# changing dates to more readible format\n",
    "autos['date_crawled']=autos['date_crawled'].str[:10]\n",
    "autos['ad_created']=autos['ad_created'].str[:10]\n",
    "autos['last_seen']=autos['last_seen'].str[:10]\n",
    "mycopy.head(2)"
   ]
  },
  {
   "cell_type": "code",
   "execution_count": 41,
   "metadata": {},
   "outputs": [
    {
     "data": {
      "text/html": [
       "<div>\n",
       "<style scoped>\n",
       "    .dataframe tbody tr th:only-of-type {\n",
       "        vertical-align: middle;\n",
       "    }\n",
       "\n",
       "    .dataframe tbody tr th {\n",
       "        vertical-align: top;\n",
       "    }\n",
       "\n",
       "    .dataframe thead th {\n",
       "        text-align: right;\n",
       "    }\n",
       "</style>\n",
       "<table border=\"1\" class=\"dataframe\">\n",
       "  <thead>\n",
       "    <tr style=\"text-align: right;\">\n",
       "      <th></th>\n",
       "      <th>date_crawled</th>\n",
       "      <th>name</th>\n",
       "      <th>seller</th>\n",
       "      <th>offer_type</th>\n",
       "      <th>price</th>\n",
       "      <th>abtest</th>\n",
       "      <th>vehicle_type</th>\n",
       "      <th>registration_year</th>\n",
       "      <th>gearbox</th>\n",
       "      <th>power_ps</th>\n",
       "      <th>model</th>\n",
       "      <th>odometer_km</th>\n",
       "      <th>registration_month</th>\n",
       "      <th>fuel_type</th>\n",
       "      <th>brand</th>\n",
       "      <th>unrepaired_damage</th>\n",
       "      <th>ad_created</th>\n",
       "      <th>nr_of_Pictures</th>\n",
       "      <th>postal_code</th>\n",
       "      <th>last_seen</th>\n",
       "    </tr>\n",
       "  </thead>\n",
       "  <tbody>\n",
       "    <tr>\n",
       "      <th>0</th>\n",
       "      <td>20160326</td>\n",
       "      <td>Peugeot_807_160_NAVTECH_ON_BOARD</td>\n",
       "      <td>privat</td>\n",
       "      <td>Angebot</td>\n",
       "      <td>5000.0</td>\n",
       "      <td>control</td>\n",
       "      <td>bus</td>\n",
       "      <td>2004</td>\n",
       "      <td>manual</td>\n",
       "      <td>158</td>\n",
       "      <td>andere</td>\n",
       "      <td>150000.0</td>\n",
       "      <td>3</td>\n",
       "      <td>lpg</td>\n",
       "      <td>peugeot</td>\n",
       "      <td>nein</td>\n",
       "      <td>20160326</td>\n",
       "      <td>0</td>\n",
       "      <td>79588</td>\n",
       "      <td>20160406</td>\n",
       "    </tr>\n",
       "    <tr>\n",
       "      <th>1</th>\n",
       "      <td>20160404</td>\n",
       "      <td>BMW_740i_4_4_Liter_HAMANN_UMBAU_Mega_Optik</td>\n",
       "      <td>privat</td>\n",
       "      <td>Angebot</td>\n",
       "      <td>8500.0</td>\n",
       "      <td>control</td>\n",
       "      <td>limousine</td>\n",
       "      <td>1997</td>\n",
       "      <td>automatic</td>\n",
       "      <td>286</td>\n",
       "      <td>7er</td>\n",
       "      <td>150000.0</td>\n",
       "      <td>6</td>\n",
       "      <td>benzin</td>\n",
       "      <td>bmw</td>\n",
       "      <td>nein</td>\n",
       "      <td>20160404</td>\n",
       "      <td>0</td>\n",
       "      <td>71034</td>\n",
       "      <td>20160406</td>\n",
       "    </tr>\n",
       "  </tbody>\n",
       "</table>\n",
       "</div>"
      ],
      "text/plain": [
       "  date_crawled                                        name  seller offer_type  \\\n",
       "0     20160326            Peugeot_807_160_NAVTECH_ON_BOARD  privat    Angebot   \n",
       "1     20160404  BMW_740i_4_4_Liter_HAMANN_UMBAU_Mega_Optik  privat    Angebot   \n",
       "\n",
       "    price   abtest vehicle_type  registration_year    gearbox  power_ps  \\\n",
       "0  5000.0  control          bus               2004     manual       158   \n",
       "1  8500.0  control    limousine               1997  automatic       286   \n",
       "\n",
       "    model  odometer_km  registration_month fuel_type    brand  \\\n",
       "0  andere     150000.0                   3       lpg  peugeot   \n",
       "1     7er     150000.0                   6    benzin      bmw   \n",
       "\n",
       "  unrepaired_damage ad_created  nr_of_Pictures  postal_code last_seen  \n",
       "0              nein   20160326               0        79588  20160406  \n",
       "1              nein   20160404               0        71034  20160406  "
      ]
     },
     "execution_count": 41,
     "metadata": {},
     "output_type": "execute_result"
    }
   ],
   "source": [
    "autos['date_crawled']=autos['date_crawled'].str.replace(\"-\", \"\").str.strip()\n",
    "autos['ad_created']=autos['ad_created'].str.replace(\"-\", \"\").str.strip()\n",
    "autos['last_seen']=autos['last_seen'].str.replace(\"-\", \"\").str.strip()\n",
    "mycopy.head(2)"
   ]
  },
  {
   "cell_type": "markdown",
   "metadata": {},
   "source": [
    "### Find the best markets to advertise in"
   ]
  },
  {
   "cell_type": "markdown",
   "metadata": {},
   "source": [
    "##### The goal of this analysis is to find out the two best markets to advertise an e-learning company's product in using 2017 New Coder Surveysurvey data by FreeCodeCamp. https://github.com/freeCodeCamp/2017-new-coder-survey"
   ]
  },
  {
   "cell_type": "code",
   "execution_count": 31,
   "metadata": {},
   "outputs": [
    {
     "name": "stdout",
     "output_type": "stream",
     "text": [
      "(18175, 136)\n"
     ]
    }
   ],
   "source": [
    "import pandas as pd\n",
    "import matplotlib.pyplot as plt\n",
    "% matplotlib inline\n",
    "df = pd.read_csv('2017-fCC-New-Coders-Survey-Data.csv', low_memory=False)\n",
    "print(df.shape)"
   ]
  },
  {
   "cell_type": "code",
   "execution_count": 32,
   "metadata": {},
   "outputs": [
    {
     "data": {
      "text/html": [
       "<div>\n",
       "<style scoped>\n",
       "    .dataframe tbody tr th:only-of-type {\n",
       "        vertical-align: middle;\n",
       "    }\n",
       "\n",
       "    .dataframe tbody tr th {\n",
       "        vertical-align: top;\n",
       "    }\n",
       "\n",
       "    .dataframe thead th {\n",
       "        text-align: right;\n",
       "    }\n",
       "</style>\n",
       "<table border=\"1\" class=\"dataframe\">\n",
       "  <thead>\n",
       "    <tr style=\"text-align: right;\">\n",
       "      <th></th>\n",
       "      <th>Age</th>\n",
       "      <th>AttendedBootcamp</th>\n",
       "      <th>BootcampFinish</th>\n",
       "      <th>BootcampLoanYesNo</th>\n",
       "      <th>BootcampName</th>\n",
       "      <th>BootcampRecommend</th>\n",
       "      <th>ChildrenNumber</th>\n",
       "      <th>CityPopulation</th>\n",
       "      <th>CodeEventConferences</th>\n",
       "      <th>CodeEventDjangoGirls</th>\n",
       "      <th>...</th>\n",
       "      <th>YouTubeFCC</th>\n",
       "      <th>YouTubeFunFunFunction</th>\n",
       "      <th>YouTubeGoogleDev</th>\n",
       "      <th>YouTubeLearnCode</th>\n",
       "      <th>YouTubeLevelUpTuts</th>\n",
       "      <th>YouTubeMIT</th>\n",
       "      <th>YouTubeMozillaHacks</th>\n",
       "      <th>YouTubeOther</th>\n",
       "      <th>YouTubeSimplilearn</th>\n",
       "      <th>YouTubeTheNewBoston</th>\n",
       "    </tr>\n",
       "  </thead>\n",
       "  <tbody>\n",
       "    <tr>\n",
       "      <th>0</th>\n",
       "      <td>27.0</td>\n",
       "      <td>0.0</td>\n",
       "      <td>NaN</td>\n",
       "      <td>NaN</td>\n",
       "      <td>NaN</td>\n",
       "      <td>NaN</td>\n",
       "      <td>NaN</td>\n",
       "      <td>more than 1 million</td>\n",
       "      <td>NaN</td>\n",
       "      <td>NaN</td>\n",
       "      <td>...</td>\n",
       "      <td>NaN</td>\n",
       "      <td>NaN</td>\n",
       "      <td>NaN</td>\n",
       "      <td>NaN</td>\n",
       "      <td>NaN</td>\n",
       "      <td>NaN</td>\n",
       "      <td>NaN</td>\n",
       "      <td>NaN</td>\n",
       "      <td>NaN</td>\n",
       "      <td>NaN</td>\n",
       "    </tr>\n",
       "    <tr>\n",
       "      <th>1</th>\n",
       "      <td>34.0</td>\n",
       "      <td>0.0</td>\n",
       "      <td>NaN</td>\n",
       "      <td>NaN</td>\n",
       "      <td>NaN</td>\n",
       "      <td>NaN</td>\n",
       "      <td>NaN</td>\n",
       "      <td>less than 100,000</td>\n",
       "      <td>NaN</td>\n",
       "      <td>NaN</td>\n",
       "      <td>...</td>\n",
       "      <td>1.0</td>\n",
       "      <td>NaN</td>\n",
       "      <td>NaN</td>\n",
       "      <td>NaN</td>\n",
       "      <td>NaN</td>\n",
       "      <td>NaN</td>\n",
       "      <td>NaN</td>\n",
       "      <td>NaN</td>\n",
       "      <td>NaN</td>\n",
       "      <td>NaN</td>\n",
       "    </tr>\n",
       "  </tbody>\n",
       "</table>\n",
       "<p>2 rows × 136 columns</p>\n",
       "</div>"
      ],
      "text/plain": [
       "    Age  AttendedBootcamp  BootcampFinish  BootcampLoanYesNo BootcampName  \\\n",
       "0  27.0               0.0             NaN                NaN          NaN   \n",
       "1  34.0               0.0             NaN                NaN          NaN   \n",
       "\n",
       "   BootcampRecommend  ChildrenNumber       CityPopulation  \\\n",
       "0                NaN             NaN  more than 1 million   \n",
       "1                NaN             NaN    less than 100,000   \n",
       "\n",
       "   CodeEventConferences  CodeEventDjangoGirls         ...           \\\n",
       "0                   NaN                   NaN         ...            \n",
       "1                   NaN                   NaN         ...            \n",
       "\n",
       "   YouTubeFCC  YouTubeFunFunFunction  YouTubeGoogleDev  YouTubeLearnCode  \\\n",
       "0         NaN                    NaN               NaN               NaN   \n",
       "1         1.0                    NaN               NaN               NaN   \n",
       "\n",
       "   YouTubeLevelUpTuts  YouTubeMIT  YouTubeMozillaHacks YouTubeOther  \\\n",
       "0                 NaN         NaN                  NaN          NaN   \n",
       "1                 NaN         NaN                  NaN          NaN   \n",
       "\n",
       "   YouTubeSimplilearn  YouTubeTheNewBoston  \n",
       "0                 NaN                  NaN  \n",
       "1                 NaN                  NaN  \n",
       "\n",
       "[2 rows x 136 columns]"
      ]
     },
     "execution_count": 32,
     "metadata": {},
     "output_type": "execute_result"
    }
   ],
   "source": [
    "df.head(2)"
   ]
  },
  {
   "cell_type": "markdown",
   "metadata": {},
   "source": [
    "## analyze job interests"
   ]
  },
  {
   "cell_type": "code",
   "execution_count": 33,
   "metadata": {},
   "outputs": [
    {
     "name": "stdout",
     "output_type": "stream",
     "text": [
      "Full-Stack Web Developer                               823\n",
      "  Front-End Web Developer                              450\n",
      "  Data Scientist                                       152\n",
      "Back-End Web Developer                                 142\n",
      "  Mobile Developer                                     117\n",
      "Game Developer                                         114\n",
      "Information Security                                    92\n",
      "Full-Stack Web Developer,   Front-End Web Developer     64\n",
      "  Front-End Web Developer, Full-Stack Web Developer     56\n",
      "  Product Manager                                       55\n",
      "Name: JobRoleInterest, dtype: int64\n"
     ]
    }
   ],
   "source": [
    "job_interest_freq = df['JobRoleInterest'].value_counts()\n",
    "print(job_interest_freq.head(10))"
   ]
  },
  {
   "cell_type": "markdown",
   "metadata": {},
   "source": [
    "Most people are interested in more than one subject.  Will fofus on those who are interested in Web or Mobile development"
   ]
  },
  {
   "cell_type": "code",
   "execution_count": 34,
   "metadata": {},
   "outputs": [
    {
     "name": "stdout",
     "output_type": "stream",
     "text": [
      "True     82.608696\n",
      "False    17.391304\n",
      "Name: JobRoleInterest, dtype: float64\n",
      "\n",
      " 82.6086956521739     32.951945080091534\n"
     ]
    }
   ],
   "source": [
    "interest_no_null = df['JobRoleInterest'].dropna()\n",
    "WM_freq = interest_no_null.str.contains('Web Developer' or 'Mobile Developer')\n",
    "WM_freq_table = WM_freq.value_counts(normalize = True)*100\n",
    "WM_freq.sum()/job_interest_freq.sum()*100\n",
    "web_freq = job_interest_freq.filter(regex='Web Developer').sum()/job_interest_freq.sum()*100\n",
    "mobile_freq = job_interest_freq.filter(regex='Mobile Developer').sum()/job_interest_freq.sum()*100\n",
    "print(WM_freq_table)\n",
    "print('\\n', web_freq, '   ', mobile_freq)"
   ]
  },
  {
   "cell_type": "code",
   "execution_count": 35,
   "metadata": {},
   "outputs": [
    {
     "data": {
      "text/plain": [
       "(0, 90)"
      ]
     },
     "execution_count": 35,
     "metadata": {},
     "output_type": "execute_result"
    },
    {
     "data": {
      "image/png": "[encoded data removed]",
      "text/plain": [
       "<matplotlib.figure.Figure at 0x7fe81429c978>"
      ]
     },
     "metadata": {},
     "output_type": "display_data"
    }
   ],
   "source": [
    "plt.style.use('fivethirtyeight')\n",
    "plt.figure(figsize=(4,2))\n",
    "WM_freq_table.plot.bar()\n",
    "plt.xticks([0,1],['Web or mobile\\ndevelopment', 'Other subject'],\n",
    "           rotation = 0)\n",
    "plt.ylabel('frequency')\n",
    "plt.ylim([0,90])"
   ]
  },
  {
   "cell_type": "markdown",
   "metadata": {},
   "source": [
    "### analyze coder locations"
   ]
  },
  {
   "cell_type": "code",
   "execution_count": 36,
   "metadata": {},
   "outputs": [
    {
     "data": {
      "text/plain": [
       "(0, 2000)"
      ]
     },
     "execution_count": 36,
     "metadata": {},
     "output_type": "execute_result"
    },
    {
     "data": {
      "image/png": "[encoded data removed]",
      "text/plain": [
       "<matplotlib.figure.Figure at 0x7fe8148edf98>"
      ]
     },
     "metadata": {},
     "output_type": "display_data"
    }
   ],
   "source": [
    "freq = df['CountryLive'].value_counts()\n",
    "plt.figure(figsize=(5,2))\n",
    "freq.plot.bar()\n",
    "plt.xlim(-1,10)\n",
    "plt.ylim(0, 2000)"
   ]
  },
  {
   "cell_type": "markdown",
   "metadata": {},
   "source": [
    "US and India are the two most attrictive markets for advertisement"
   ]
  },
  {
   "cell_type": "code",
   "execution_count": 37,
   "metadata": {},
   "outputs": [
    {
     "data": {
      "text/plain": [
       "(0, 0.4)"
      ]
     },
     "execution_count": 37,
     "metadata": {},
     "output_type": "execute_result"
    },
    {
     "data": {
      "image/png": "[encoded data removed]",
      "text/plain": [
       "<matplotlib.figure.Figure at 0x7fe8140849b0>"
      ]
     },
     "metadata": {},
     "output_type": "display_data"
    }
   ],
   "source": [
    "relative_freq = freq / df.shape[0]\n",
    "plt.figure(figsize=(5,2))\n",
    "relative_freq.plot.bar()\n",
    "plt.xlim(-1,10)\n",
    "plt.ylim(0, 0.4)"
   ]
  },
  {
   "cell_type": "code",
   "execution_count": 38,
   "metadata": {},
   "outputs": [
    {
     "data": {
      "text/plain": [
       "United States of America    0.318624\n",
       "India                       0.077029\n",
       "United Kingdom              0.041651\n",
       "Canada                      0.033893\n",
       "Brazil                      0.020028\n",
       "Name: CountryLive, dtype: float64"
      ]
     },
     "execution_count": 38,
     "metadata": {},
     "output_type": "execute_result"
    }
   ],
   "source": [
    "relative_freq.head(5)"
   ]
  },
  {
   "cell_type": "markdown",
   "metadata": {},
   "source": [
    "### coder's willingness to pay"
   ]
  },
  {
   "cell_type": "code",
   "execution_count": 39,
   "metadata": {},
   "outputs": [
    {
     "data": {
      "text/plain": [
       " 0.000000      7736\n",
       "NaN            1995\n",
       " 16.666667      317\n",
       " 8.333333       315\n",
       " 50.000000      292\n",
       " 25.000000      278\n",
       " 100.000000     252\n",
       " 33.333333      239\n",
       " 4.166667       222\n",
       " 10.000000      214\n",
       "Name: Dollar_per_month, dtype: int64"
      ]
     },
     "execution_count": 39,
     "metadata": {},
     "output_type": "execute_result"
    }
   ],
   "source": [
    "df['MonthsProgramming'] = df['MonthsProgramming'].apply(lambda x: 1 if x ==0 else x)\n",
    "df['Dollar_per_month'] = df['MoneyForLearning']/df['MonthsProgramming']\n",
    "df['Dollar_per_month'].value_counts(dropna=False).sort_values(ascending=False).head(10)"
   ]
  },
  {
   "cell_type": "code",
   "execution_count": 40,
   "metadata": {},
   "outputs": [
    {
     "data": {
      "text/plain": [
       "0.000000     7736\n",
       "16.666667     317\n",
       "8.333333      315\n",
       "50.000000     292\n",
       "25.000000     278\n",
       "Name: Dollar_per_month, dtype: int64"
      ]
     },
     "execution_count": 40,
     "metadata": {},
     "output_type": "execute_result"
    }
   ],
   "source": [
    "df = df.dropna(subset=['Dollar_per_month'])\n",
    "df['Dollar_per_month'].value_counts(ascending=False).head(5)"
   ]
  },
  {
   "cell_type": "raw",
   "metadata": {},
   "source": [
    "df = df.dropna(subset=['CountryLive'])"
   ]
  },
  {
   "cell_type": "code",
   "execution_count": 13,
   "metadata": {},
   "outputs": [
    {
     "data": {
      "text/plain": [
       "United States of America    2933\n",
       "India                        463\n",
       "United Kingdom               279\n",
       "Canada                       240\n",
       "Poland                       122\n",
       "Name: CountryLive, dtype: int64"
      ]
     },
     "execution_count": 13,
     "metadata": {},
     "output_type": "execute_result"
    }
   ],
   "source": [
    "df['CountryLive'].value_counts(dropna=False).head(5)"
   ]
  },
  {
   "cell_type": "markdown",
   "metadata": {},
   "source": [
    "##### analyze data based on countries of interest"
   ]
  },
  {
   "cell_type": "code",
   "execution_count": 19,
   "metadata": {},
   "outputs": [
    {
     "data": {
      "text/plain": [
       "United States of America    2933\n",
       "India                        463\n",
       "United Kingdom               279\n",
       "Canada                       240\n",
       "Name: CountryLive, dtype: int64"
      ]
     },
     "execution_count": 19,
     "metadata": {},
     "output_type": "execute_result"
    }
   ],
   "source": [
    "c1=df['CountryLive']=='United States of America'\n",
    "c2=df['CountryLive']=='India'\n",
    "c3=df['CountryLive']=='United Kingdom'\n",
    "c4=df['CountryLive']=='Canada'\n",
    "df1 = df.loc[c1|c2|c3|c4]\n",
    "df1['CountryLive'].value_counts()"
   ]
  },
  {
   "cell_type": "code",
   "execution_count": 20,
   "metadata": {
    "scrolled": true
   },
   "outputs": [
    {
     "data": {
      "text/plain": [
       "CountryLive\n",
       "Canada                      113.510961\n",
       "India                       135.100982\n",
       "United Kingdom               45.534443\n",
       "United States of America    227.997996\n",
       "Name: Dollar_per_month, dtype: float64"
      ]
     },
     "execution_count": 20,
     "metadata": {},
     "output_type": "execute_result"
    }
   ],
   "source": [
    "df1_group = df1.groupby('CountryLive')\n",
    "df1_group['Dollar_per_month'].mean()"
   ]
  },
  {
   "cell_type": "code",
   "execution_count": 25,
   "metadata": {},
   "outputs": [
    {
     "name": "stderr",
     "output_type": "stream",
     "text": [
      "/dataquest/system/env/python3/lib/python3.4/site-packages/seaborn/categorical.py:454: FutureWarning: remove_na is deprecated and is a private function. Do not use.\n",
      "  box_data = remove_na(group_data)\n"
     ]
    },
    {
     "data": {
      "text/plain": [
       "([<matplotlib.axis.XTick at 0x7f48f97286d8>,\n",
       "  <matplotlib.axis.XTick at 0x7f48f9728470>,\n",
       "  <matplotlib.axis.XTick at 0x7f48f96eab38>,\n",
       "  <matplotlib.axis.XTick at 0x7f48f9740c50>],\n",
       " <a list of 4 Text xticklabel objects>)"
      ]
     },
     "execution_count": 25,
     "metadata": {},
     "output_type": "execute_result"
    },
    {
     "data": {
      "image/png": "[encoded data removed]",
      "text/plain": [
       "<matplotlib.figure.Figure at 0x7f4909ce0a20>"
      ]
     },
     "metadata": {},
     "output_type": "display_data"
    }
   ],
   "source": [
    "import seaborn as sns\n",
    "sns.boxplot(y = 'Dollar_per_month', x = 'CountryLive', data = df1)\n",
    "plt.title('Money Spent Per Month Per Country\\n(Distributions)',\n",
    "         fontsize = 16)\n",
    "plt.ylabel('Money per month (US dollars)')\n",
    "plt.xlabel('Country')\n",
    "plt.xticks(range(4), ['US', 'UK', 'India', 'Canada'])"
   ]
  },
  {
   "cell_type": "code",
   "execution_count": 39,
   "metadata": {},
   "outputs": [
    {
     "name": "stdout",
     "output_type": "stream",
     "text": [
      "(3915, 137) (3913, 137)\n"
     ]
    }
   ],
   "source": [
    "df2 = df1[df1['Dollar_per_month'] < 20000]\n",
    "print(df1.shape, df2.shape)"
   ]
  },
  {
   "cell_type": "code",
   "execution_count": 40,
   "metadata": {},
   "outputs": [
    {
     "data": {
      "text/plain": [
       "CountryLive\n",
       "Canada                      113.510961\n",
       "India                       135.100982\n",
       "United Kingdom               45.534443\n",
       "United States of America    183.800110\n",
       "Name: Dollar_per_month, dtype: float64"
      ]
     },
     "execution_count": 40,
     "metadata": {},
     "output_type": "execute_result"
    }
   ],
   "source": [
    "df2_group = df2.groupby('CountryLive')\n",
    "df2_group['Dollar_per_month'].mean()"
   ]
  },
  {
   "cell_type": "code",
   "execution_count": 41,
   "metadata": {},
   "outputs": [
    {
     "name": "stderr",
     "output_type": "stream",
     "text": [
      "/dataquest/system/env/python3/lib/python3.4/site-packages/seaborn/categorical.py:454: FutureWarning: remove_na is deprecated and is a private function. Do not use.\n",
      "  box_data = remove_na(group_data)\n"
     ]
    },
    {
     "data": {
      "text/plain": [
       "([<matplotlib.axis.XTick at 0x7f48f95619e8>,\n",
       "  <matplotlib.axis.XTick at 0x7f48f9561f60>,\n",
       "  <matplotlib.axis.XTick at 0x7f48f950d940>,\n",
       "  <matplotlib.axis.XTick at 0x7f48f94d0080>],\n",
       " <a list of 4 Text xticklabel objects>)"
      ]
     },
     "execution_count": 41,
     "metadata": {},
     "output_type": "execute_result"
    },
    {
     "data": {
      "image/png": "[encoded data removed]",
      "text/plain": [
       "<matplotlib.figure.Figure at 0x7f48f956ee10>"
      ]
     },
     "metadata": {},
     "output_type": "display_data"
    }
   ],
   "source": [
    "sns.boxplot(y = 'Dollar_per_month', x = 'CountryLive', data = df2)\n",
    "plt.title('Money Spent Per Month Per Country\\n(Distributions)',\n",
    "         fontsize = 16)\n",
    "plt.ylabel('Money per month (US dollars)')\n",
    "plt.xlabel('Country')\n",
    "plt.xticks(range(4), ['US', 'UK', 'India', 'Canada'])"
   ]
  },
  {
   "cell_type": "code",
   "execution_count": 55,
   "metadata": {},
   "outputs": [
    {
     "data": {
      "text/plain": [
       "(3902, 137)"
      ]
     },
     "execution_count": 55,
     "metadata": {},
     "output_type": "execute_result"
    }
   ],
   "source": [
    "s1 = df2['CountryLive'] == 'United States of America'\n",
    "s2 = df2['Dollar_per_month'] >= 6000\n",
    "df2_cleaned = df2.drop(df2[s1&s2].index)\n",
    "df2_cleaned.shape"
   ]
  },
  {
   "cell_type": "code",
   "execution_count": 56,
   "metadata": {},
   "outputs": [
    {
     "data": {
      "text/plain": [
       "(3896, 137)"
      ]
     },
     "execution_count": 56,
     "metadata": {},
     "output_type": "execute_result"
    }
   ],
   "source": [
    "s1 = df2_cleaned['CountryLive'] == 'India'\n",
    "s2 = df2_cleaned['Dollar_per_month'] > 2500\n",
    "df2_cleaned = df2_cleaned.drop(df2_cleaned[s1&s2].index)\n",
    "df2_cleaned.shape"
   ]
  },
  {
   "cell_type": "code",
   "execution_count": 57,
   "metadata": {},
   "outputs": [
    {
     "data": {
      "text/plain": [
       "(3895, 137)"
      ]
     },
     "execution_count": 57,
     "metadata": {},
     "output_type": "execute_result"
    }
   ],
   "source": [
    "s1 = df2_cleaned['CountryLive'] == 'Canada'\n",
    "s2 = df2_cleaned['Dollar_per_month'] > 4000\n",
    "df2_cleaned = df2_cleaned.drop(df2_cleaned[s1&s2].index)\n",
    "df2_cleaned.shape"
   ]
  },
  {
   "cell_type": "code",
   "execution_count": 59,
   "metadata": {},
   "outputs": [
    {
     "name": "stderr",
     "output_type": "stream",
     "text": [
      "/dataquest/system/env/python3/lib/python3.4/site-packages/seaborn/categorical.py:454: FutureWarning: remove_na is deprecated and is a private function. Do not use.\n",
      "  box_data = remove_na(group_data)\n"
     ]
    },
    {
     "data": {
      "text/plain": [
       "([<matplotlib.axis.XTick at 0x7f49095f3358>,\n",
       "  <matplotlib.axis.XTick at 0x7f49095fe7f0>,\n",
       "  <matplotlib.axis.XTick at 0x7f49095b2470>,\n",
       "  <matplotlib.axis.XTick at 0x7f4909588240>],\n",
       " <a list of 4 Text xticklabel objects>)"
      ]
     },
     "execution_count": 59,
     "metadata": {},
     "output_type": "execute_result"
    },
    {
     "data": {
      "image/png": "[encoded data removed]",
      "text/plain": [
       "<matplotlib.figure.Figure at 0x7f48f948d240>"
      ]
     },
     "metadata": {},
     "output_type": "display_data"
    }
   ],
   "source": [
    "sns.boxplot(y = 'Dollar_per_month', x = 'CountryLive', data = df2_cleaned)\n",
    "plt.title('Money Spent Per Month Per Country\\n(Distributions)',\n",
    "         fontsize = 16)\n",
    "plt.ylabel('Money per month (US dollars)')\n",
    "plt.xlabel('Country')\n",
    "plt.xticks(range(4), ['US', 'UK', 'India', 'Canada'])"
   ]
  },
  {
   "cell_type": "code",
   "execution_count": 60,
   "metadata": {},
   "outputs": [
    {
     "data": {
      "text/plain": [
       "CountryLive\n",
       "Canada                       93.065400\n",
       "India                        65.758763\n",
       "United Kingdom               45.534443\n",
       "United States of America    142.654608\n",
       "Name: Dollar_per_month, dtype: float64"
      ]
     },
     "execution_count": 60,
     "metadata": {},
     "output_type": "execute_result"
    }
   ],
   "source": [
    "df2_cleaned_group = df2_cleaned.groupby('CountryLive')\n",
    "df2_cleaned_group['Dollar_per_month'].mean()"
   ]
  },
  {
   "cell_type": "code",
   "execution_count": null,
   "metadata": {},
   "outputs": [],
   "source": []
  }
 ],
 "metadata": {
  "kernelspec": {
   "display_name": "Python 3",
   "language": "python",
   "name": "python3"
  },
  "language_info": {
   "codemirror_mode": {
    "name": "ipython",
    "version": 3
   },
   "file_extension": ".py",
   "mimetype": "text/x-python",
   "name": "python",
   "nbconvert_exporter": "python",
   "pygments_lexer": "ipython3",
   "version": "3.7.6"
  }
 },
 "nbformat": 4,
 "nbformat_minor": 4
}
