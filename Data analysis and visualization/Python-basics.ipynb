{
 "cells": [
  {
   "cell_type": "code",
   "execution_count": 64,
   "metadata": {},
   "outputs": [
    {
     "data": {
      "text/plain": [
       "1"
      ]
     },
     "execution_count": 64,
     "metadata": {},
     "output_type": "execute_result"
    }
   ],
   "source": [
    "# Variables representing the number of candies collected by alice, bob, and carol\n",
    "alice_candies = 121\n",
    "bob_candies = 77\n",
    "carol_candies = 109\n",
    "\n",
    "to_smash = (alice_candies + bob_candies + carol_candies) % 3\n",
    "to_smash"
   ]
  },
  {
   "cell_type": "code",
   "execution_count": 80,
   "metadata": {},
   "outputs": [
    {
     "name": "stdout",
     "output_type": "stream",
     "text": [
      "7-3:     4\n",
      "7--3:    10\n",
      "7---3:   4\n",
      "7----3:  10\n"
     ]
    }
   ],
   "source": [
    "print('7-3:    ',7-3)\n",
    "print('7--3:   ',7--3) # 7-(-3)\n",
    "print('7---3:  ',7---3) # 7-(-(-3))\n",
    "print('7----3: ',7----3)"
   ]
  },
  {
   "cell_type": "code",
   "execution_count": null,
   "metadata": {},
   "outputs": [],
   "source": [
    "import random\n",
    "import math\n",
    "from matplotlib import pyplot as plt\n",
    "from learntools.python.quickdraw import random_category, sample_images_of_category, draw_images_on_subplots\n",
    "\n",
    "## Step 1: Sample some sketches\n",
    "# How many sketches to view - a random number from 2 to 20\n",
    "n = random.randint(2, 20)\n",
    "\n",
    "# Choose a random quickdraw category. (Check out https://quickdraw.withgoogle.com/data for an overview of categories)\n",
    "category = random_category()\n",
    "imgs = sample_images_of_category(n, category)\n",
    "rows = int(math.ceil(n/8))\n",
    "cols = min(8, n)\n",
    "\n",
    "# The height and width of the whole grid, measured in inches.\n",
    "height = rows*2\n",
    "width = cols*2\n",
    "\n",
    "## Step 3: Create the grid\n",
    "grid = plt.subplots(rows, cols, figsize=(width, height))\n",
    "\n",
    "## Step 4: Draw the sketches in the grid\n",
    "draw_images_on_subplots(imgs, grid)"
   ]
  },
  {
   "cell_type": "code",
   "execution_count": null,
   "metadata": {},
   "outputs": [],
   "source": [
    "# To rint above with minimum empty cells\n",
    "tem=[]\n",
    "for i in range(2,9):\n",
    "    t=math.ceil(n/i)*i - n\n",
    "    tem.append(t)\n",
    "rows =tem.index(min(tem))+2\n",
    "cols= n//rows"
   ]
  },
  {
   "cell_type": "code",
   "execution_count": 202,
   "metadata": {},
   "outputs": [
    {
     "name": "stdout",
     "output_type": "stream",
     "text": [
      "2\n",
      "4\n"
     ]
    },
    {
     "data": {
      "text/plain": [
       "(None,)"
      ]
     },
     "execution_count": 202,
     "metadata": {},
     "output_type": "execute_result"
    }
   ],
   "source": [
    "def f(n):\n",
    "    return n * 2\n",
    "def call(fn, arg):\n",
    "    \"\"\"Call fn on arg\"\"\"\n",
    "    return fn(arg)\n",
    "\n",
    "def squared_call(fn, arg):\n",
    "    \"\"\"Call fn on the result of calling fn on arg\"\"\"\n",
    "    return fn(fn(arg))\n",
    "\n",
    "print(\n",
    "    call(f, 1),\n",
    "    squared_call(f, 1), \n",
    "    sep='\\n'), # '\\n' is the newline character - it starts a new line"
   ]
  },
  {
   "cell_type": "code",
   "execution_count": 204,
   "metadata": {},
   "outputs": [
    {
     "name": "stdout",
     "output_type": "stream",
     "text": [
      "Which number is biggest?\n",
      "100\n",
      "Which number is the biggest modulo 5?\n",
      "14\n"
     ]
    }
   ],
   "source": [
    "def mod_5(x):\n",
    "    \"\"\"Return the remainder of x after dividing by 5\"\"\"\n",
    "    return x % 5\n",
    "\n",
    "print(\n",
    "    'Which number is biggest?',\n",
    "    max(100, 51, 14), \n",
    "    'Which number is the biggest modulo 5?',\n",
    "    max(100, 51, 14, key=mod_5), # returns the argument x that maximizes key(x) (aka the 'argmax').\n",
    "    sep='\\n',\n",
    ")"
   ]
  },
  {
   "cell_type": "code",
   "execution_count": 205,
   "metadata": {},
   "outputs": [
    {
     "name": "stdout",
     "output_type": "stream",
     "text": [
      "101 mod 5 = 1\n"
     ]
    }
   ],
   "source": [
    "mod_5 = lambda x: x % 5\n",
    "print('101 mod 5 =', mod_5(101))"
   ]
  },
  {
   "cell_type": "code",
   "execution_count": 3,
   "metadata": {},
   "outputs": [
    {
     "data": {
      "text/plain": [
       "1"
      ]
     },
     "execution_count": 3,
     "metadata": {},
     "output_type": "execute_result"
    }
   ],
   "source": [
    "101%5"
   ]
  },
  {
   "cell_type": "code",
   "execution_count": 4,
   "metadata": {},
   "outputs": [
    {
     "data": {
      "text/plain": [
       "20"
      ]
     },
     "execution_count": 4,
     "metadata": {},
     "output_type": "execute_result"
    }
   ],
   "source": [
    "101//5"
   ]
  },
  {
   "cell_type": "code",
   "execution_count": 207,
   "metadata": {},
   "outputs": [
    {
     "name": "stdout",
     "output_type": "stream",
     "text": [
      "Absolute difference of 5 and 7 is 2\n"
     ]
    },
    {
     "data": {
      "text/plain": [
       "32"
      ]
     },
     "execution_count": 207,
     "metadata": {},
     "output_type": "execute_result"
    }
   ],
   "source": [
    "# Lambdas can take multiple comma-separated arguments or no arguments\n",
    "abs_diff = lambda a, b: abs(a-b)\n",
    "print(\"Absolute difference of 5 and 7 is\", abs_diff(5, 7))\n",
    "always_32 = lambda: 32\n",
    "always_32()"
   ]
  },
  {
   "cell_type": "code",
   "execution_count": 216,
   "metadata": {},
   "outputs": [
    {
     "name": "stdout",
     "output_type": "stream",
     "text": [
      "Longest name is: jacques\n",
      "Longest name is: jacques\n",
      "Names sorted case insensitive: ['Mia', 'Ty', 'jacques', 'pui-wa']\n"
     ]
    }
   ],
   "source": [
    "names = ['jacques', 'Ty', 'Mia', 'pui-wa']\n",
    "print(\"Longest name is:\", max(names, key=lambda name: len(name))) # or just key=len\n",
    "print(\"Longest name is:\", max(names, key=len)) \n",
    "print(\"Names sorted case insensitive:\", sorted(names, key=lambda name: name.lower()))"
   ]
  },
  {
   "cell_type": "code",
   "execution_count": 227,
   "metadata": {},
   "outputs": [
    {
     "data": {
      "text/plain": [
       "(150.0, 100.0)"
      ]
     },
     "execution_count": 227,
     "metadata": {},
     "output_type": "execute_result"
    }
   ],
   "source": [
    "def round_to_two_places(num):\n",
    "    \"\"\"Return the given number rounded to two decimal places. \"\"\"\n",
    "    \n",
    "    n=round(num, -1) # ndigits=-1 rounds to the nearest 10, \n",
    "    m=round(num, -2) # ndigits=-2 rounds to the nearest 100 and so on\n",
    "    return n, m\n",
    "round_to_two_places(145.3469)"
   ]
  },
  {
   "cell_type": "code",
   "execution_count": 230,
   "metadata": {},
   "outputs": [
    {
     "data": {
      "text/plain": [
       "3"
      ]
     },
     "execution_count": 230,
     "metadata": {},
     "output_type": "execute_result"
    }
   ],
   "source": [
    "def to_smash(total_candies, n=3):\n",
    "    \"\"\"Return the number of leftover candies that must be smashed after distributing\n",
    "    the given number of candies evenly between 3 friends.   \"\"\"\n",
    "    return total_candies % n\n",
    "to_smash(111, n=4)"
   ]
  },
  {
   "cell_type": "code",
   "execution_count": null,
   "metadata": {},
   "outputs": [],
   "source": [
    "from time import time\n",
    "t = time()\n",
    "print(t, \"seconds since the Epoch\")"
   ]
  },
  {
   "cell_type": "code",
   "execution_count": 232,
   "metadata": {},
   "outputs": [
    {
     "name": "stdout",
     "output_type": "stream",
     "text": [
      "Getting sleepy. See you in 10 seconds\n",
      "I'm back. What did I miss?\n"
     ]
    }
   ],
   "source": [
    "from time import sleep\n",
    "duration = 10\n",
    "print(\"Getting sleepy. See you in\", duration, \"seconds\")\n",
    "sleep(duration)\n",
    "print(\"I'm back. What did I miss?\")"
   ]
  },
  {
   "cell_type": "code",
   "execution_count": 245,
   "metadata": {},
   "outputs": [
    {
     "data": {
      "text/plain": [
       "2.0152227878570557"
      ]
     },
     "execution_count": 245,
     "metadata": {},
     "output_type": "execute_result"
    }
   ],
   "source": [
    "from time import time\n",
    "from time import sleep\n",
    "def time_call(fn, arg):\n",
    "    \"\"\"Return the amount of time the given function takes (in seconds) when called with the given argument.\n",
    "    \"\"\"\n",
    "    t1=time()\n",
    "    fn(arg)\n",
    "    t2=time()\n",
    "    return t2 -t1\n",
    "time_call(sleep, 2)"
   ]
  },
  {
   "cell_type": "code",
   "execution_count": 248,
   "metadata": {},
   "outputs": [
    {
     "data": {
      "text/plain": [
       "5.014477014541626"
      ]
     },
     "execution_count": 248,
     "metadata": {},
     "output_type": "execute_result"
    }
   ],
   "source": [
    "def slowest_call(fn, arg1, arg2, arg3):\n",
    "    \"\"\"Return the amount of time taken by the slowest of the following function\n",
    "    calls: fn(arg1), fn(arg2), fn(arg3)\n",
    "    \"\"\"\n",
    "    return max(time_call(fn, arg1), time_call(fn, arg2),time_call(fn, arg3))\n",
    "slowest_call(sleep, 1, 2, 5)"
   ]
  },
  {
   "cell_type": "code",
   "execution_count": 255,
   "metadata": {},
   "outputs": [
    {
     "name": "stdout",
     "output_type": "stream",
     "text": [
      "Spam\n",
      "None\n"
     ]
    }
   ],
   "source": [
    "print(print(\"Spam\")) #nested function calls are evaluated from the inside out"
   ]
  },
  {
   "cell_type": "code",
   "execution_count": 254,
   "metadata": {},
   "outputs": [
    {
     "name": "stdout",
     "output_type": "stream",
     "text": [
      "\n",
      "None\n"
     ]
    }
   ],
   "source": [
    "print(print()) #value returned by the print function is None"
   ]
  },
  {
   "cell_type": "code",
   "execution_count": 266,
   "metadata": {},
   "outputs": [
    {
     "data": {
      "text/plain": [
       "'10'"
      ]
     },
     "execution_count": 266,
     "metadata": {},
     "output_type": "execute_result"
    }
   ],
   "source": [
    "def smallest_stringy_number(s1, s2, s3):\n",
    "    \"\"\"Return whichever of the three string arguments represents the smallest number.\n",
    "    \n",
    "    >>> smallest_stringy_number('1', '2', '3')\n",
    "    '1'\n",
    "    \"\"\"\n",
    "    return min(s1, s2, s3)\n",
    "smallest_stringy_number('10', '2', '3')"
   ]
  },
  {
   "cell_type": "code",
   "execution_count": 265,
   "metadata": {},
   "outputs": [
    {
     "data": {
      "text/plain": [
       "'2'"
      ]
     },
     "execution_count": 265,
     "metadata": {},
     "output_type": "execute_result"
    }
   ],
   "source": [
    "def smallest_stringy_number(s1, s2, s3):\n",
    "    \"\"\"Return whichever of the three string arguments represents the smallest number.\n",
    "    \n",
    "    >>> smallest_stringy_number('1', '2', '3')\n",
    "    '1'\n",
    "    \"\"\"\n",
    "    t1, t2, t3 =int(s1), int(s2),int(s3)\n",
    "    return str(min(t1, t2, t3))\n",
    "smallest_stringy_number('10', '2', '3')"
   ]
  },
  {
   "cell_type": "code",
   "execution_count": 268,
   "metadata": {},
   "outputs": [
    {
     "name": "stdout",
     "output_type": "stream",
     "text": [
      "Is -1 odd? True\n"
     ]
    }
   ],
   "source": [
    "def is_odd(n):\n",
    "    return (n % 2) == 1\n",
    "\n",
    "print(\"Is -1 odd?\", is_odd(-1))"
   ]
  },
  {
   "cell_type": "code",
   "execution_count": null,
   "metadata": {},
   "outputs": [],
   "source": [
    "def can_run_for_president(age, is_natural_born_citizen):\n",
    "    \"\"\"Can someone of the given age and citizenship status run for president in the US?\"\"\"\n",
    "    # The US Constitution says you must be a natural born citizen *and* at least 35 years old\n",
    "    return is_natural_born_citizen and (age >= 35)\n",
    "\n",
    "print(can_run_for_president(19, True))\n",
    "print(can_run_for_president(55, False))\n",
    "print(can_run_for_president(55, True))"
   ]
  },
  {
   "cell_type": "code",
   "execution_count": 269,
   "metadata": {},
   "outputs": [
    {
     "data": {
      "text/plain": [
       "True"
      ]
     },
     "execution_count": 269,
     "metadata": {},
     "output_type": "execute_result"
    }
   ],
   "source": [
    "True or True and False  #and has a higher precedence than or"
   ]
  },
  {
   "cell_type": "code",
   "execution_count": null,
   "metadata": {},
   "outputs": [],
   "source": [
    "def inspect(x):\n",
    "    if x == 0:\n",
    "        print(x, \"is zero\")\n",
    "    elif x > 0:\n",
    "        print(x, \"is positive\")\n",
    "    elif x < 0:\n",
    "        print(x, \"is negative\")\n",
    "    else:\n",
    "        print(x, \"is unlike anything I've ever seen...\")\n",
    "\n",
    "inspect(0)\n",
    "inspect(-15)"
   ]
  },
  {
   "cell_type": "code",
   "execution_count": 270,
   "metadata": {},
   "outputs": [
    {
     "name": "stdout",
     "output_type": "stream",
     "text": [
      "You failed the quiz with a grade of 45\n"
     ]
    }
   ],
   "source": [
    "def quiz_message(grade):\n",
    "    outcome = 'failed' if grade < 50 else 'passed'\n",
    "    print('You', outcome, 'the quiz with a grade of', grade)\n",
    "    \n",
    "quiz_message(45)"
   ]
  },
  {
   "cell_type": "code",
   "execution_count": 272,
   "metadata": {},
   "outputs": [
    {
     "name": "stdout",
     "output_type": "stream",
     "text": [
      "Splitting 91 candies\n",
      "Splitting 1 candy\n"
     ]
    },
    {
     "data": {
      "text/plain": [
       "1"
      ]
     },
     "execution_count": 272,
     "metadata": {},
     "output_type": "execute_result"
    }
   ],
   "source": [
    "def to_smash(total_candies):\n",
    "    \"\"\"Return the number of leftover candies that must be smashed after distributing\n",
    "    the given number of candies evenly between 3 friends.    \"\"\"\n",
    "    \n",
    "    print(\"Splitting\", total_candies, \"candy\" if total_candies == 1 else \"candies\")\n",
    "    return total_candies % 3\n",
    "\n",
    "to_smash(91)\n",
    "to_smash(1)"
   ]
  },
  {
   "cell_type": "code",
   "execution_count": 275,
   "metadata": {},
   "outputs": [
    {
     "data": {
      "text/plain": [
       "['L', 'M']"
      ]
     },
     "execution_count": 275,
     "metadata": {},
     "output_type": "execute_result"
    }
   ],
   "source": [
    "r = ['M', 'L']\n",
    "def purple_shell(racers):\n",
    "    \"\"\"Given a list of racers, set the first place racer (at the front of the list) to last\n",
    "    place and vice versa.    \"\"\"\n",
    "    \n",
    "    s=[]\n",
    "    for i in range(len(racers)):\n",
    "        n=len(racers)-i-1\n",
    "        s.append(racers[n])\n",
    "    return s\n",
    "purple_shell(r)"
   ]
  },
  {
   "cell_type": "code",
   "execution_count": 276,
   "metadata": {},
   "outputs": [
    {
     "name": "stdout",
     "output_type": "stream",
     "text": [
      "2\n"
     ]
    }
   ],
   "source": [
    "a = [1, 2, 3]\n",
    "b = [1, [2, 3]]\n",
    "c = []\n",
    "d = [1, 2, 3][1:]\n",
    "print(len(d))"
   ]
  },
  {
   "cell_type": "code",
   "execution_count": 305,
   "metadata": {},
   "outputs": [
    {
     "data": {
      "text/plain": [
       "False"
      ]
     },
     "execution_count": 305,
     "metadata": {},
     "output_type": "execute_result"
    }
   ],
   "source": [
    "party_attendees = ['Adela', 'Fleda', 'Owen', 'May', 'Mona', 'Gilbert', 'Ford']\n",
    "def fashionably_late(arrivals, name):\n",
    "    if arrivals.index(name) < len(arrivals)/2:\n",
    "        return False\n",
    "    else:\n",
    "        return name !=arrivals[-1]\n",
    "fashionably_late(party_attendees, 'Ford')"
   ]
  },
  {
   "cell_type": "code",
   "execution_count": 306,
   "metadata": {},
   "outputs": [
    {
     "name": "stdout",
     "output_type": "stream",
     "text": [
      "(1, 8)\n",
      "0.125\n"
     ]
    }
   ],
   "source": [
    "x = 0.125 #\n",
    "print(x.as_integer_ratio())\n",
    "numerator, denominator = x.as_integer_ratio()\n",
    "print(numerator / denominator)"
   ]
  },
  {
   "cell_type": "code",
   "execution_count": 308,
   "metadata": {},
   "outputs": [
    {
     "data": {
      "text/plain": [
       "2"
      ]
     },
     "execution_count": 308,
     "metadata": {},
     "output_type": "execute_result"
    }
   ],
   "source": [
    "def count_negatives(nums):\n",
    "    \"\"\"Return the number of negative numbers in the given list.\n",
    "    \n",
    "    >>> count_negatives([5, -1, -2, 0, 3])\n",
    "    2\n",
    "    \"\"\"\n",
    "    new =[num for num in nums if num < 0]\n",
    "    return len(new)\n",
    "count_negatives([5, -1, -2, 0, 3])"
   ]
  },
  {
   "cell_type": "code",
   "execution_count": 1,
   "metadata": {},
   "outputs": [
    {
     "data": {
      "text/plain": [
       "{1: {3: 0.3333333333333333, 5: 0.6666666666666666}, 3: {1: 1.0}, 5: {1: 1.0}}"
      ]
     },
     "execution_count": 1,
     "metadata": {},
     "output_type": "execute_result"
    }
   ],
   "source": [
    "def conditional_roulette_probs(history):\n",
    "    # dict where keys are numbers and values are dicts\n",
    "    # counts[a][b] is the number of times we've spun the number b immediately after spinning a\n",
    "    counts = {}\n",
    "    for i in range(1, len(history)):\n",
    "        roll, prev = history[i], history[i-1]\n",
    "        if prev not in counts:\n",
    "            counts[prev] = {}\n",
    "        if roll not in counts[prev]:\n",
    "            counts[prev][roll] = 0\n",
    "        counts[prev][roll] += 1\n",
    "\n",
    "    probs = {}\n",
    "    for prev, nexts in counts.items():\n",
    "        total = sum(nexts.values())\n",
    "        sub_probs = {next_spin: next_count/total\n",
    "                for next_spin, next_count in nexts.items()}\n",
    "        probs[prev] = sub_probs\n",
    "    return probs\n",
    "conditional_roulette_probs([1,3,1,5,1,5])"
   ]
  },
  {
   "cell_type": "code",
   "execution_count": 2,
   "metadata": {},
   "outputs": [
    {
     "data": {
      "text/plain": [
       "2"
      ]
     },
     "execution_count": 2,
     "metadata": {},
     "output_type": "execute_result"
    }
   ],
   "source": [
    "def count_negatives(nums):\n",
    "    nums.append(0)\n",
    "    # We could also have used the list.sort() method, which modifies a list, putting it in sorted order.\n",
    "    nums = sorted(nums)\n",
    "    return nums.index(0)\n",
    "count_negatives([5, -1, -2, 0, 3])"
   ]
  },
  {
   "cell_type": "code",
   "execution_count": 244,
   "metadata": {},
   "outputs": [
    {
     "data": {
      "text/plain": [
       "[0, 2, 2, 6, 4, 10, 6, 14, 8, 18]"
      ]
     },
     "execution_count": 244,
     "metadata": {},
     "output_type": "execute_result"
    }
   ],
   "source": [
    "def double_odds(nums):\n",
    "    for i, num in enumerate(nums):\n",
    "        if num % 2 == 1:\n",
    "            nums[i] = num * 2\n",
    "\n",
    "x = list(range(10))\n",
    "double_odds(x)\n",
    "x"
   ]
  },
  {
   "cell_type": "code",
   "execution_count": 288,
   "metadata": {},
   "outputs": [
    {
     "data": {
      "text/plain": [
       "0"
      ]
     },
     "execution_count": 288,
     "metadata": {},
     "output_type": "execute_result"
    }
   ],
   "source": [
    "int()"
   ]
  },
  {
   "cell_type": "code",
   "execution_count": 2,
   "metadata": {},
   "outputs": [
    {
     "data": {
      "text/plain": [
       "[(0, 'a'), (1, 'b')]"
      ]
     },
     "execution_count": 2,
     "metadata": {},
     "output_type": "execute_result"
    }
   ],
   "source": [
    "list(enumerate(['a', 'b']))"
   ]
  },
  {
   "cell_type": "code",
   "execution_count": 4,
   "metadata": {},
   "outputs": [
    {
     "name": "stdout",
     "output_type": "stream",
     "text": [
      "1 8\n"
     ]
    }
   ],
   "source": [
    "x = 0.125\n",
    "numerator, denominator = x.as_integer_ratio()\n",
    "print(numerator, denominator)"
   ]
  },
  {
   "cell_type": "code",
   "execution_count": 34,
   "metadata": {},
   "outputs": [
    {
     "data": {
      "text/plain": [
       "True"
      ]
     },
     "execution_count": 34,
     "metadata": {},
     "output_type": "execute_result"
    }
   ],
   "source": [
    "L=[0,1,2,3,4,5,6,14]\n",
    "def has_lucky_number(nums):\n",
    "    \"\"\"Return whether the given list of numbers is lucky. A lucky list contains\n",
    "    at least one number divisible by 7.\n",
    "    \"\"\"\n",
    "    for num in nums:\n",
    "        if num==0:\n",
    "            return False\n",
    "        else:\n",
    "            if num % 7 == 0:\n",
    "                return True\n",
    "    return False\n",
    "has_lucky_number(L)"
   ]
  },
  {
   "cell_type": "code",
   "execution_count": 28,
   "metadata": {},
   "outputs": [
    {
     "data": {
      "text/plain": [
       "False"
      ]
     },
     "execution_count": 28,
     "metadata": {},
     "output_type": "execute_result"
    }
   ],
   "source": [
    "nums=[1,2,3,6]\n",
    "def has_lucky_number(nums):\n",
    "    return any([num % 7 == 0 for num in nums])\n",
    "has_lucky_number(nums)"
   ]
  },
  {
   "cell_type": "code",
   "execution_count": 37,
   "metadata": {},
   "outputs": [
    {
     "data": {
      "text/plain": [
       "[False, False, False, True, True]"
      ]
     },
     "execution_count": 37,
     "metadata": {},
     "output_type": "execute_result"
    }
   ],
   "source": [
    "def elementwise_greater_than(L, thresh):\n",
    "    return [ele > thresh for ele in L]\n",
    "elementwise_greater_than([0,1,2,3,4], 2)"
   ]
  },
  {
   "cell_type": "code",
   "execution_count": 42,
   "metadata": {},
   "outputs": [
    {
     "data": {
      "text/plain": [
       "True"
      ]
     },
     "execution_count": 42,
     "metadata": {},
     "output_type": "execute_result"
    }
   ],
   "source": [
    "meals=['a', 'b', 'c','a', 'a']\n",
    "def menu_is_boring(meals):\n",
    "    \"\"\"Given a list of meals served over some period of time, return True if the\n",
    "    same meal has ever been served two days in a row, and False otherwise.\n",
    "    \"\"\"\n",
    "    for i in range(len(meals)-1):\n",
    "        if meals[i] == meals[i+1]:\n",
    "            return True\n",
    "    return False\n",
    "menu_is_boring(meals)"
   ]
  },
  {
   "cell_type": "code",
   "execution_count": 103,
   "metadata": {},
   "outputs": [
    {
     "data": {
      "text/plain": [
       "True"
      ]
     },
     "execution_count": 103,
     "metadata": {},
     "output_type": "execute_result"
    }
   ],
   "source": [
    "meals=['a', 'b', 'c','a', 'a']\n",
    "any([meals[i] == meals[i+1] for i in range(len(meals)-1)])"
   ]
  },
  {
   "cell_type": "code",
   "execution_count": 93,
   "metadata": {},
   "outputs": [
    {
     "data": {
      "text/plain": [
       "1.0"
      ]
     },
     "execution_count": 93,
     "metadata": {},
     "output_type": "execute_result"
    }
   ],
   "source": [
    "def slots_survival_probability(start_balance, n_spins, n_simulations):\n",
    "    # How many times did we last the given number of spins?\n",
    "    successes = 0\n",
    "    # A convention in Python is to use '_' to name variables we won't use\n",
    "    for _ in range(n_simulations):\n",
    "        balance = start_balance\n",
    "        spins_left = n_spins\n",
    "        while balance >= 1 and spins_left:\n",
    "            # subtract the cost of playing\n",
    "            balance -= 1\n",
    "            # balance += play_slot_machine()\n",
    "            spins_left -= 1\n",
    "        # did we make it to the end?\n",
    "        if spins_left == 0:\n",
    "            successes += 1\n",
    "    return successes / n_simulations\n",
    "slots_survival_probability(10,10,1000)"
   ]
  },
  {
   "cell_type": "code",
   "execution_count": 99,
   "metadata": {},
   "outputs": [
    {
     "data": {
      "text/plain": [
       "\"Pluto's a planet!\""
      ]
     },
     "execution_count": 99,
     "metadata": {},
     "output_type": "execute_result"
    }
   ],
   "source": [
    "'Pluto\\'s a planet!'"
   ]
  },
  {
   "cell_type": "code",
   "execution_count": 52,
   "metadata": {},
   "outputs": [
    {
     "name": "stdout",
     "output_type": "stream",
     "text": [
      "hello\n",
      "world\n"
     ]
    },
    {
     "data": {
      "text/plain": [
       "False"
      ]
     },
     "execution_count": 52,
     "metadata": {},
     "output_type": "execute_result"
    }
   ],
   "source": [
    "triplequoted_hello = \"\"\"hello\n",
    "world\"\"\"\n",
    "print(triplequoted_hello)\n",
    "triplequoted_hello == 'hello'"
   ]
  },
  {
   "cell_type": "code",
   "execution_count": 125,
   "metadata": {},
   "outputs": [
    {
     "name": "stdout",
     "output_type": "stream",
     "text": [
      "True\n",
      "['Pluto', 'is', 'a', 'planet!']\n",
      "True\n",
      "True\n",
      "True\n"
     ]
    }
   ],
   "source": [
    "planet = 'Pluto'\n",
    "planet[0]\n",
    "claim = \"Pluto is a planet!\"\n",
    "print(claim.startswith(planet))\n",
    "words = claim.split()\n",
    "print(words)\n",
    "print(claim.startswith(planet))\n",
    "print(claim.startswith('Pluto'))\n",
    "print(claim.endswith('!'))"
   ]
  },
  {
   "cell_type": "code",
   "execution_count": 126,
   "metadata": {},
   "outputs": [
    {
     "data": {
      "text/plain": [
       "['Pluto', 'is', 'a', 'planet!']"
      ]
     },
     "execution_count": 126,
     "metadata": {},
     "output_type": "execute_result"
    }
   ],
   "source": [
    "words = claim.split()\n",
    "words"
   ]
  },
  {
   "cell_type": "code",
   "execution_count": 128,
   "metadata": {},
   "outputs": [
    {
     "data": {
      "text/plain": [
       "'01/31/1956'"
      ]
     },
     "execution_count": 128,
     "metadata": {},
     "output_type": "execute_result"
    }
   ],
   "source": [
    "datestr = '1956-01-31'\n",
    "year, month, day = datestr.split('-')\n",
    "'/'.join([month, day, year])"
   ]
  },
  {
   "cell_type": "code",
   "execution_count": 59,
   "metadata": {},
   "outputs": [
    {
     "data": {
      "text/plain": [
       "\"pluto weighs about 1.3e+22 kilograms (0.218% of Earth's mass). It is home to 52,910,390 Plutonians.\""
      ]
     },
     "execution_count": 59,
     "metadata": {},
     "output_type": "execute_result"
    }
   ],
   "source": [
    "planet= 'pluto'\n",
    "pluto_mass = 1.303 * 10**22\n",
    "earth_mass = 5.9722 * 10**24\n",
    "population = 52910390\n",
    "#         2 decimal points   3 decimal points, format as percent     separate with commas\n",
    "\"{} weighs about {:.2} kilograms ({:.3%} of Earth's mass). It is home to {:,} Plutonians.\".format(\n",
    "    planet, pluto_mass, pluto_mass / earth_mass, population)"
   ]
  },
  {
   "cell_type": "code",
   "execution_count": 62,
   "metadata": {},
   "outputs": [
    {
     "name": "stdout",
     "output_type": "stream",
     "text": [
      "Pluto's a planet.\n",
      "No, it's a dwarf planet.\n",
      "planet!\n",
      "dwarf planet!\n"
     ]
    }
   ],
   "source": [
    "# Referring to format() arguments by index, starting from 0\n",
    "s = \"\"\"Pluto's a {0}.\n",
    "No, it's a {1}.\n",
    "{0}!\n",
    "{1}!\"\"\".format('planet', 'dwarf planet')\n",
    "print(s)"
   ]
  },
  {
   "cell_type": "code",
   "execution_count": 64,
   "metadata": {},
   "outputs": [
    {
     "data": {
      "text/plain": [
       "{'Mercury': 'M',\n",
       " 'Venus': 'V',\n",
       " 'Earth': 'E',\n",
       " 'Mars': 'M',\n",
       " 'Jupiter': 'J',\n",
       " 'Saturn': 'S',\n",
       " 'Uranus': 'U',\n",
       " 'Neptune': 'N'}"
      ]
     },
     "execution_count": 64,
     "metadata": {},
     "output_type": "execute_result"
    }
   ],
   "source": [
    "planets = ['Mercury', 'Venus', 'Earth', 'Mars', 'Jupiter', 'Saturn', 'Uranus', 'Neptune']\n",
    "planet_to_initial = {planet: planet[0] for planet in planets}\n",
    "planet_to_initial"
   ]
  },
  {
   "cell_type": "code",
   "execution_count": 65,
   "metadata": {},
   "outputs": [
    {
     "data": {
      "text/plain": [
       "'E J M M N S U V'"
      ]
     },
     "execution_count": 65,
     "metadata": {},
     "output_type": "execute_result"
    }
   ],
   "source": [
    "# We can access a collection of all the keys or all the values with dict.keys() and dict.values(), respectively.\n",
    "# Get all the initials, sort them alphabetically, and put them in a space-separated string.\n",
    "' '.join(sorted(planet_to_initial.values()))"
   ]
  },
  {
   "cell_type": "code",
   "execution_count": 66,
   "metadata": {},
   "outputs": [
    {
     "name": "stdout",
     "output_type": "stream",
     "text": [
      "   Mercury begins with \"M\"\n",
      "     Venus begins with \"V\"\n",
      "     Earth begins with \"E\"\n",
      "      Mars begins with \"M\"\n",
      "   Jupiter begins with \"J\"\n",
      "    Saturn begins with \"S\"\n",
      "    Uranus begins with \"U\"\n",
      "   Neptune begins with \"N\"\n"
     ]
    }
   ],
   "source": [
    "# The very useful dict.items() method lets us iterate over the keys and values of a dictionary simultaneously. \n",
    "# In Python jargon, an item refers to a key, value pair.\n",
    "# The in operator tells us whether something is a key in the dictionary\n",
    "\n",
    "for planet, initial in planet_to_initial.items():\n",
    "    print(\"{} begins with \\\"{}\\\"\".format(planet.rjust(10), initial))"
   ]
  },
  {
   "cell_type": "code",
   "execution_count": 158,
   "metadata": {},
   "outputs": [
    {
     "data": {
      "text/plain": [
       "[1]"
      ]
     },
     "execution_count": 158,
     "metadata": {},
     "output_type": "execute_result"
    }
   ],
   "source": [
    "doc_list = [\"The Learn Python Challenge Casino.\", \"They bought a car\", \"Casinoville\", \"I don't believe this.\"]\n",
    "def word_search(documents, keyword):\n",
    "    # list to hold the indices of matching documents\n",
    "    indices = [] \n",
    "    # Iterate through the indices (i) and elements (doc) of documents\n",
    "    for i, doc in enumerate(documents):\n",
    "        tokens = doc.split()\n",
    "        normalized = [token.rstrip('.,').lower() for token in tokens]\n",
    "        if keyword.lower() in normalized:\n",
    "            indices.append(i)\n",
    "    return indices\n",
    "word_search(doc_list, 'they')"
   ]
  },
  {
   "cell_type": "code",
   "execution_count": 163,
   "metadata": {},
   "outputs": [
    {
     "data": {
      "text/plain": [
       "{}"
      ]
     },
     "execution_count": 163,
     "metadata": {},
     "output_type": "execute_result"
    }
   ],
   "source": [
    "doc_list = [\"The Learn Python Challenge Casino.\", \"They bought a car and a casino\", \"Casinoville\"]\n",
    "keywords = ['casino', 'th']\n",
    "def multi_word_search(doc_list, keywords):\n",
    "    \"\"\"\n",
    "    Takes list of documents (each document is a string) and a list of keywords.  \n",
    "    Returns a dictionary where each key is a keyword, and the value is a list of indices\n",
    "    (from doc_list) of the documents containing that keyword\n",
    "\n",
    "    {'casino': [0, 1], 'they': [1]}  \"\"\"\n",
    "    \n",
    "    list_dic={}\n",
    "    for keyword in keywords:\n",
    "        indices =[]\n",
    "        for i, doc in enumerate(doc_list):\n",
    "            tokens=doc.split()\n",
    "            normalized = [token.rstrip('.,').lower() for token in tokens]\n",
    "            if keyword in normalized:\n",
    "                indices.append(i)\n",
    "            list_dic[keyword]=indices\n",
    "    return list_dic\n",
    "multi_word_search(doc_list, keywords)"
   ]
  },
  {
   "cell_type": "code",
   "execution_count": null,
   "metadata": {},
   "outputs": [],
   "source": [
    "def multi_word_search(documents, keywords):\n",
    "    keyword_to_indices = {}\n",
    "    for keyword in keywords:\n",
    "        keyword_to_indices[keyword] = word_search(documents, keyword)\n",
    "    return keyword_to_indices"
   ]
  },
  {
   "cell_type": "code",
   "execution_count": 189,
   "metadata": {},
   "outputs": [
    {
     "data": {
      "text/plain": [
       "True"
      ]
     },
     "execution_count": 189,
     "metadata": {},
     "output_type": "execute_result"
    }
   ],
   "source": [
    "def is_valid_zip(zip_code):\n",
    "    \"\"\"Returns whether the input string is a valid (5 digit) zip code\n",
    "    \"\"\"\n",
    "    return len(zip_code)== 5 and zip_code.isdigit()\n",
    "is_valid_zip('12345')"
   ]
  },
  {
   "cell_type": "code",
   "execution_count": 3,
   "metadata": {},
   "outputs": [
    {
     "name": "stdout",
     "output_type": "stream",
     "text": [
      " /\\ \n",
      "//\\\\\n",
      "\\\\//\n",
      " \\/ \n"
     ]
    }
   ],
   "source": [
    "def diamond(height):\n",
    "    \"\"\"Return a string resembling a diamond of specified height (measured in lines).\n",
    "    height must be an even integer.  \"\"\"\n",
    "    h=int(height/2)\n",
    "    for i in range(h):\n",
    "        _ = '/'*(i+1) + '\\\\'*(i+1)\n",
    "        print(_.center(height))\n",
    "    for i in range(h):\n",
    "        _ = '\\\\'*(h-i) + '/'*(h-i)\n",
    "        print(_.center(height))\n",
    "diamond(4)"
   ]
  },
  {
   "cell_type": "code",
   "execution_count": 24,
   "metadata": {},
   "outputs": [
    {
     "name": "stdout",
     "output_type": "stream",
     "text": [
      " /\\\n",
      "//\\\\\n",
      "\\\\//\n",
      " \\/\n",
      "\n"
     ]
    }
   ],
   "source": [
    "def diamond(height):\n",
    "    \"\"\"Return a string resembling a diamond of specified height (measured in lines).\n",
    "    height must be an even integer.  \"\"\"\n",
    "    h=int(height/2)\n",
    "    s=''\n",
    "    for i in range(h):\n",
    "        s += ' '*(h-i-1) + '/'*(i+1) + '\\\\'*(i+1) +'\\n'\n",
    "    for i in range(h):\n",
    "        s += ' '*(i) + '\\\\'*(h-i) + '/'*(h-i)+'\\n'\n",
    "    return s \n",
    "print(diamond(4))"
   ]
  },
  {
   "cell_type": "code",
   "execution_count": 3,
   "metadata": {},
   "outputs": [
    {
     "name": "stdout",
     "output_type": "stream",
     "text": [
      " /\\ \n",
      "//\\\\\n",
      "\\\\//\n",
      " \\/ \n"
     ]
    }
   ],
   "source": [
    "def diamond(height):\n",
    "    \"\"\"Return a string resembling a diamond of specified height (measured in lines).\n",
    "    height must be an even integer.  \"\"\"\n",
    "    h=int(height/2)\n",
    "    for i in range(h):\n",
    "        _ = '/'*(i+1) + '\\\\'*(i+1)\n",
    "        print(_.center(height))\n",
    "    for i in range(h):\n",
    "        _ = '\\\\'*(h-i) + '/'*(h-i)\n",
    "        print(_.center(height))\n",
    "diamond(4)"
   ]
  },
  {
   "cell_type": "code",
   "execution_count": 27,
   "metadata": {},
   "outputs": [
    {
     "name": "stdout",
     "output_type": "stream",
     "text": [
      " /\\ \n",
      "//\\\\\n",
      "\\\\//\n",
      " \\/ \n"
     ]
    }
   ],
   "source": [
    "def diamond(height):\n",
    "    s = ''\n",
    "    l, r = '/', '\\\\'\n",
    "    rad = height // 2\n",
    "    for row in range(height):\n",
    "        if row == rad:\n",
    "            l, r = r, l\n",
    "        if row < rad:\n",
    "            nchars = row+1\n",
    "        else:\n",
    "            nchars = height - row\n",
    "        left = (l * nchars).rjust(rad)\n",
    "        right = (r * nchars).ljust(rad)\n",
    "        s += left + right + '\\n'\n",
    "    # Trim the last newline - we want every line to end with a newline character\n",
    "    # *except* the last\n",
    "    return s[:-1]\n",
    "print(diamond(4))"
   ]
  },
  {
   "cell_type": "code",
   "execution_count": 30,
   "metadata": {},
   "outputs": [
    {
     "data": {
      "text/plain": [
       "{1: {3: 0.5, 5: 0.5}, 3: {1: 1.0}, 5: {1: 1.0}}"
      ]
     },
     "execution_count": 30,
     "metadata": {},
     "output_type": "execute_result"
    }
   ],
   "source": [
    "def conditional_roulette_probs(history):\n",
    "    counts = {}\n",
    "    for i in range(1, len(history)):\n",
    "        roll, prev = history[i], history[i-1]\n",
    "        if prev not in counts:\n",
    "            counts[prev] = {}\n",
    "        if roll not in counts[prev]:\n",
    "            counts[prev][roll] = 0\n",
    "        counts[prev][roll] += 1\n",
    "\n",
    "    probs = {}\n",
    "    for prev, nexts in counts.items():\n",
    "        total = sum(nexts.values())\n",
    "        sub_probs = {next_spin: next_count/total\n",
    "                for next_spin, next_count in nexts.items()}\n",
    "        probs[prev] = sub_probs\n",
    "    return probs\n",
    "conditional_roulette_probs([1, 3, 1, 5, 1])"
   ]
  },
  {
   "cell_type": "code",
   "execution_count": 314,
   "metadata": {},
   "outputs": [
    {
     "name": "stdout",
     "output_type": "stream",
     "text": [
      "It's math! It has type <class 'module'>\n",
      "pi to 4 significant digits = 3.142\n",
      "3.141592653589793 5.0\n"
     ]
    }
   ],
   "source": [
    "import math\n",
    "print(\"It's math! It has type {}\".format(type(math)))\n",
    "# print(dir(math))\n",
    "print(\"pi to 4 significant digits = {:.4}\".format(math.pi))\n",
    "from math import *\n",
    "print(pi, log(32, 2))"
   ]
  },
  {
   "cell_type": "code",
   "execution_count": 315,
   "metadata": {},
   "outputs": [
    {
     "name": "stdout",
     "output_type": "stream",
     "text": [
      "numpy.random is a <class 'module'>\n",
      "it contains names such as... ['set_state', 'shuffle', 'standard_cauchy', 'standard_exponential', 'standard_gamma', 'standard_normal', 'standard_t', 'test', 'triangular', 'uniform', 'vonmises', 'wald', 'warnings', 'weibull', 'zipf']\n"
     ]
    },
    {
     "data": {
      "text/plain": [
       "array([5, 2, 4, 2, 3, 4, 2, 3, 3, 3])"
      ]
     },
     "execution_count": 315,
     "metadata": {},
     "output_type": "execute_result"
    }
   ],
   "source": [
    "import numpy\n",
    "print(\"numpy.random is a\", type(numpy.random))\n",
    "print(\"it contains names such as...\",\n",
    "      dir(numpy.random)[-15:]\n",
    "     )\n",
    "# Roll 10 dice\n",
    "rolls = numpy.random.randint(low=1, high=6, size=10)\n",
    "rolls"
   ]
  },
  {
   "cell_type": "code",
   "execution_count": 316,
   "metadata": {},
   "outputs": [
    {
     "name": "stdout",
     "output_type": "stream",
     "text": [
      "xlist = [[1, 2, 3], [2, 4, 6]]\n",
      "x =\n",
      "[[1 2 3]\n",
      " [2 4 6]]\n"
     ]
    }
   ],
   "source": [
    "xlist = [[1,2,3],[2,4,6],]\n",
    "# Create a 2-dimensional array\n",
    "x = numpy.asarray(xlist)\n",
    "print(\"xlist = {}\\nx =\\n{}\".format(xlist, x))"
   ]
  },
  {
   "cell_type": "code",
   "execution_count": 320,
   "metadata": {},
   "outputs": [
    {
     "name": "stdout",
     "output_type": "stream",
     "text": [
      "6\n",
      "6\n"
     ]
    }
   ],
   "source": [
    "print(x[1,-1])\n",
    "print(xlist[1][-1])"
   ]
  },
  {
   "cell_type": "code",
   "execution_count": null,
   "metadata": {},
   "outputs": [],
   "source": [
    "\"\"\" operator overloading.  When Python programmers want to define how operators behave on their types, \n",
    "they do so by implementing methods with special names beginning and ending with 2 underscores: So, for example, \n",
    "the expression x in [1, 2, 3] is actually calling the list method __contains__ behind-the-scenes. \n",
    "It's equivalent to (the much uglier) [1, 2, 3].__contains__(x)\"\"\""
   ]
  },
  {
   "cell_type": "code",
   "execution_count": null,
   "metadata": {},
   "outputs": [],
   "source": [
    "Publication_Date =pd.to_datetime(df['Publication Date'])\n",
    "no_curr_call = Publication_Date.notna.count()\n",
    "print(no_curr_call)\n"
   ]
  },
  {
   "cell_type": "code",
   "execution_count": 323,
   "metadata": {},
   "outputs": [
    {
     "name": "stdout",
     "output_type": "stream",
     "text": [
      "2018-12-17\n"
     ]
    }
   ],
   "source": [
    "from datetime import date\n",
    "today = date.today()\n",
    "print(today)\n",
    "deadline_date = pd.to_datetime(df['Deadline Date'])\n",
    "print(deadline_date.head())\n",
    "later = dealine if deadline_conv > today\n",
    "print(df.info())\n",
    "\n",
    "print('today is: ', today)\n",
    "print(sum(deadline))"
   ]
  },
  {
   "cell_type": "code",
   "execution_count": 337,
   "metadata": {},
   "outputs": [
    {
     "name": "stdout",
     "output_type": "stream",
     "text": [
      "WARNING: Encountered racer with unknown name on iteration 4/4 (racer = None)\n"
     ]
    },
    {
     "data": {
      "text/plain": [
       "{'green shell': 2, 'mushroom': 1}"
      ]
     },
     "execution_count": 337,
     "metadata": {},
     "output_type": "execute_result"
    }
   ],
   "source": [
    " full_dataset = [\n",
    "        {'name': 'Peach', 'items': ['green shell', 'banana', 'green shell',], 'finish': 3},\n",
    "        {'name': 'Bowser', 'items': ['green shell',], 'finish': 1},\n",
    "        {'name': 'It', 'items': ['mushroom',], 'finish': 2},\n",
    "        {'name': None, 'items': ['green shell', 'mushroom'], 'finish': 1},\n",
    "    ]\n",
    "def best_items(racers):\n",
    "    winner_item_counts = {}\n",
    "    for i in range(len(racers)):\n",
    "        # The i'th racer dictionary\n",
    "        racer = racers[i]\n",
    "        # We're only interested in racers who finished in first\n",
    "        if racer['finish'] == 1:\n",
    "            for j in racer['items']:\n",
    "                # Add one to the count for this item (adding it to the dict if necessary)\n",
    "                if j not in winner_item_counts:\n",
    "                    winner_item_counts[j] = 0\n",
    "                winner_item_counts[j] += 1\n",
    "            \n",
    "        # Data quality issues :/ Print a warning about racers with no name set. We'll take care of it later.\n",
    "        if racer['name'] is None:\n",
    "            print(\"WARNING: Encountered racer with unknown name on iteration {}/{} (racer = {})\".format(\n",
    "                i+1, len(racers), racer['name'])\n",
    "                 )\n",
    "    return winner_item_counts\n",
    "\n",
    "best_items(full_dataset)"
   ]
  },
  {
   "cell_type": "code",
   "execution_count": null,
   "metadata": {},
   "outputs": [],
   "source": [
    "def hand_total(hand):\n",
    "    \"\"\"Helper function to calculate the total points of a blackjack hand.\n",
    "    \"\"\"\n",
    "    total = 0\n",
    "    # Count the number of aces and deal with how to apply them at the end.\n",
    "    aces = 0\n",
    "    for card in hand:\n",
    "        if card in ['J', 'Q', 'K']:\n",
    "            total += 10\n",
    "        elif card == 'A':\n",
    "            aces += 1\n",
    "        else:\n",
    "            # Convert number cards (e.g. '7') to ints\n",
    "            total += int(card)\n",
    "    # At this point, total is the sum of this hand's cards *not counting aces*.\n",
    "\n",
    "    # Add aces, counting them as 1 for now. This is the smallest total we can make from this hand\n",
    "    total += aces\n",
    "    # \"Upgrade\" aces from 1 to 11 as long as it helps us get closer to 21\n",
    "    # without busting\n",
    "    while total + 10 <= 21 and aces > 0:\n",
    "        # Upgrade an ace from 1 to 11\n",
    "        total += 10\n",
    "        aces -= 1\n",
    "    return total\n",
    "\n",
    "def blackjack_hand_greater_than(hand_1, hand_2):\n",
    "    total_1 = hand_total(hand_1)\n",
    "    total_2 = hand_total(hand_2)\n",
    "    return total_1 <= 21 and (total_1 > total_2 or total_2 > 21)\n",
    "blackjack_hand_greater_than(hand_1, hand_2)"
   ]
  },
  {
   "cell_type": "code",
   "execution_count": 10,
   "metadata": {},
   "outputs": [
    {
     "data": {
      "text/plain": [
       "21"
      ]
     },
     "execution_count": 10,
     "metadata": {},
     "output_type": "execute_result"
    }
   ],
   "source": [
    "def hand_total(hand):\n",
    "    total= 0\n",
    "    aces = 0\n",
    "    for card in hand:\n",
    "        if card in ['J', 'K', 'Q']:\n",
    "            total +=10\n",
    "        elif card == 'A':\n",
    "            aces +=1\n",
    "        else:\n",
    "            total += int(card)\n",
    "    total += aces\n",
    "    while total +10 <=21 and aces >0:\n",
    "        total += 10\n",
    "        aces -=1\n",
    "    return total\n",
    "hand_total([1,4,5,'K','A'])"
   ]
  },
  {
   "cell_type": "code",
   "execution_count": 11,
   "metadata": {},
   "outputs": [
    {
     "data": {
      "text/plain": [
       "False"
      ]
     },
     "execution_count": 11,
     "metadata": {},
     "output_type": "execute_result"
    }
   ],
   "source": [
    "t=1==2\n",
    "t"
   ]
  },
  {
   "cell_type": "code",
   "execution_count": null,
   "metadata": {},
   "outputs": [],
   "source": [
    "import random\n",
    "import math\n",
    "from matplotlib import pyplot as plt\n",
    "from learntools.python.quickdraw import random_category, sample_images_of_category, draw_images_on_subplots\n",
    "\n",
    "## Step 1: Sample some sketches\n",
    "# How many sketches to view - a random number from 2 to 20\n",
    "n = random.randint(2, 20)\n",
    "\n",
    "# Choose a random quickdraw category. (Check out https://quickdraw.withgoogle.com/data for an overview of categories)\n",
    "category = random_category()\n",
    "imgs = sample_images_of_category(n, category)\n",
    "rows = int(math.ceil(n/8))\n",
    "cols = min(8, n)\n",
    "\n",
    "# The height and width of the whole grid, measured in inches.\n",
    "height = rows*2\n",
    "width = cols*2\n",
    "\n",
    "## Step 3: Create the grid\n",
    "grid = plt.subplots(rows, cols, figsize=(width, height))\n",
    "\n",
    "## Step 4: Draw the sketches in the grid\n",
    "draw_images_on_subplots(imgs, grid)"
   ]
  },
  {
   "cell_type": "code",
   "execution_count": null,
   "metadata": {},
   "outputs": [],
   "source": [
    "# To rint above with minimum empty cells\n",
    "tem=[]\n",
    "for i in range(2,9):\n",
    "    t=math.ceil(n/i)*i - n\n",
    "    tem.append(t)\n",
    "rows =tem.index(min(tem))+2\n",
    "cols= n//rows"
   ]
  },
  {
   "cell_type": "code",
   "execution_count": 202,
   "metadata": {},
   "outputs": [
    {
     "name": "stdout",
     "output_type": "stream",
     "text": [
      "2\n",
      "4\n"
     ]
    },
    {
     "data": {
      "text/plain": [
       "(None,)"
      ]
     },
     "execution_count": 202,
     "metadata": {},
     "output_type": "execute_result"
    }
   ],
   "source": [
    "def f(n):\n",
    "    return n * 2\n",
    "def call(fn, arg):\n",
    "    \"\"\"Call fn on arg\"\"\"\n",
    "    return fn(arg)\n",
    "\n",
    "def squared_call(fn, arg):\n",
    "    \"\"\"Call fn on the result of calling fn on arg\"\"\"\n",
    "    return fn(fn(arg))\n",
    "\n",
    "print(\n",
    "    call(f, 1),\n",
    "    squared_call(f, 1), \n",
    "    sep='\\n'), # '\\n' is the newline character - it starts a new line"
   ]
  },
  {
   "cell_type": "code",
   "execution_count": 204,
   "metadata": {},
   "outputs": [
    {
     "name": "stdout",
     "output_type": "stream",
     "text": [
      "Which number is biggest?\n",
      "100\n",
      "Which number is the biggest modulo 5?\n",
      "14\n"
     ]
    }
   ],
   "source": [
    "def mod_5(x):\n",
    "    \"\"\"Return the remainder of x after dividing by 5\"\"\"\n",
    "    return x % 5\n",
    "\n",
    "print(\n",
    "    'Which number is biggest?',\n",
    "    max(100, 51, 14), \n",
    "    'Which number is the biggest modulo 5?',\n",
    "    max(100, 51, 14, key=mod_5), # returns the argument x that maximizes key(x) (aka the 'argmax').\n",
    "    sep='\\n',\n",
    ")"
   ]
  },
  {
   "cell_type": "code",
   "execution_count": 205,
   "metadata": {},
   "outputs": [
    {
     "name": "stdout",
     "output_type": "stream",
     "text": [
      "101 mod 5 = 1\n"
     ]
    }
   ],
   "source": [
    "mod_5 = lambda x: x % 5\n",
    "print('101 mod 5 =', mod_5(101))"
   ]
  },
  {
   "cell_type": "code",
   "execution_count": 3,
   "metadata": {},
   "outputs": [
    {
     "data": {
      "text/plain": [
       "1"
      ]
     },
     "execution_count": 3,
     "metadata": {},
     "output_type": "execute_result"
    }
   ],
   "source": [
    "101%5"
   ]
  },
  {
   "cell_type": "code",
   "execution_count": 4,
   "metadata": {},
   "outputs": [
    {
     "data": {
      "text/plain": [
       "20"
      ]
     },
     "execution_count": 4,
     "metadata": {},
     "output_type": "execute_result"
    }
   ],
   "source": [
    "101//5"
   ]
  },
  {
   "cell_type": "code",
   "execution_count": 207,
   "metadata": {},
   "outputs": [
    {
     "name": "stdout",
     "output_type": "stream",
     "text": [
      "Absolute difference of 5 and 7 is 2\n"
     ]
    },
    {
     "data": {
      "text/plain": [
       "32"
      ]
     },
     "execution_count": 207,
     "metadata": {},
     "output_type": "execute_result"
    }
   ],
   "source": [
    "# Lambdas can take multiple comma-separated arguments or no arguments\n",
    "abs_diff = lambda a, b: abs(a-b)\n",
    "print(\"Absolute difference of 5 and 7 is\", abs_diff(5, 7))\n",
    "always_32 = lambda: 32\n",
    "always_32()"
   ]
  },
  {
   "cell_type": "code",
   "execution_count": 216,
   "metadata": {},
   "outputs": [
    {
     "name": "stdout",
     "output_type": "stream",
     "text": [
      "Longest name is: jacques\n",
      "Longest name is: jacques\n",
      "Names sorted case insensitive: ['Mia', 'Ty', 'jacques', 'pui-wa']\n"
     ]
    }
   ],
   "source": [
    "names = ['jacques', 'Ty', 'Mia', 'pui-wa']\n",
    "print(\"Longest name is:\", max(names, key=lambda name: len(name))) # or just key=len\n",
    "print(\"Longest name is:\", max(names, key=len)) \n",
    "print(\"Names sorted case insensitive:\", sorted(names, key=lambda name: name.lower()))"
   ]
  },
  {
   "cell_type": "code",
   "execution_count": 227,
   "metadata": {},
   "outputs": [
    {
     "data": {
      "text/plain": [
       "(150.0, 100.0)"
      ]
     },
     "execution_count": 227,
     "metadata": {},
     "output_type": "execute_result"
    }
   ],
   "source": [
    "def round_to_two_places(num):\n",
    "    \"\"\"Return the given number rounded to two decimal places. \"\"\"\n",
    "    \n",
    "    n=round(num, -1) # ndigits=-1 rounds to the nearest 10, \n",
    "    m=round(num, -2) # ndigits=-2 rounds to the nearest 100 and so on\n",
    "    return n, m\n",
    "round_to_two_places(145.3469)"
   ]
  },
  {
   "cell_type": "code",
   "execution_count": 230,
   "metadata": {},
   "outputs": [
    {
     "data": {
      "text/plain": [
       "3"
      ]
     },
     "execution_count": 230,
     "metadata": {},
     "output_type": "execute_result"
    }
   ],
   "source": [
    "def to_smash(total_candies, n=3):\n",
    "    \"\"\"Return the number of leftover candies that must be smashed after distributing\n",
    "    the given number of candies evenly between 3 friends.   \"\"\"\n",
    "    return total_candies % n\n",
    "to_smash(111, n=4)"
   ]
  },
  {
   "cell_type": "code",
   "execution_count": null,
   "metadata": {},
   "outputs": [],
   "source": [
    "from time import time\n",
    "t = time()\n",
    "print(t, \"seconds since the Epoch\")"
   ]
  },
  {
   "cell_type": "code",
   "execution_count": 232,
   "metadata": {},
   "outputs": [
    {
     "name": "stdout",
     "output_type": "stream",
     "text": [
      "Getting sleepy. See you in 10 seconds\n",
      "I'm back. What did I miss?\n"
     ]
    }
   ],
   "source": [
    "from time import sleep\n",
    "duration = 10\n",
    "print(\"Getting sleepy. See you in\", duration, \"seconds\")\n",
    "sleep(duration)\n",
    "print(\"I'm back. What did I miss?\")"
   ]
  },
  {
   "cell_type": "code",
   "execution_count": 245,
   "metadata": {},
   "outputs": [
    {
     "data": {
      "text/plain": [
       "2.0152227878570557"
      ]
     },
     "execution_count": 245,
     "metadata": {},
     "output_type": "execute_result"
    }
   ],
   "source": [
    "from time import time\n",
    "from time import sleep\n",
    "def time_call(fn, arg):\n",
    "    \"\"\"Return the amount of time the given function takes (in seconds) when called with the given argument.\n",
    "    \"\"\"\n",
    "    t1=time()\n",
    "    fn(arg)\n",
    "    t2=time()\n",
    "    return t2 -t1\n",
    "time_call(sleep, 2)"
   ]
  },
  {
   "cell_type": "code",
   "execution_count": 248,
   "metadata": {},
   "outputs": [
    {
     "data": {
      "text/plain": [
       "5.014477014541626"
      ]
     },
     "execution_count": 248,
     "metadata": {},
     "output_type": "execute_result"
    }
   ],
   "source": [
    "def slowest_call(fn, arg1, arg2, arg3):\n",
    "    \"\"\"Return the amount of time taken by the slowest of the following function\n",
    "    calls: fn(arg1), fn(arg2), fn(arg3)\n",
    "    \"\"\"\n",
    "    return max(time_call(fn, arg1), time_call(fn, arg2),time_call(fn, arg3))\n",
    "slowest_call(sleep, 1, 2, 5)"
   ]
  },
  {
   "cell_type": "code",
   "execution_count": 255,
   "metadata": {},
   "outputs": [
    {
     "name": "stdout",
     "output_type": "stream",
     "text": [
      "Spam\n",
      "None\n"
     ]
    }
   ],
   "source": [
    "print(print(\"Spam\")) #nested function calls are evaluated from the inside out"
   ]
  },
  {
   "cell_type": "code",
   "execution_count": 254,
   "metadata": {},
   "outputs": [
    {
     "name": "stdout",
     "output_type": "stream",
     "text": [
      "\n",
      "None\n"
     ]
    }
   ],
   "source": [
    "print(print()) #value returned by the print function is None"
   ]
  },
  {
   "cell_type": "code",
   "execution_count": 266,
   "metadata": {},
   "outputs": [
    {
     "data": {
      "text/plain": [
       "'10'"
      ]
     },
     "execution_count": 266,
     "metadata": {},
     "output_type": "execute_result"
    }
   ],
   "source": [
    "def smallest_stringy_number(s1, s2, s3):\n",
    "    \"\"\"Return whichever of the three string arguments represents the smallest number.\n",
    "    \n",
    "    >>> smallest_stringy_number('1', '2', '3')\n",
    "    '1'\n",
    "    \"\"\"\n",
    "    return min(s1, s2, s3)\n",
    "smallest_stringy_number('10', '2', '3')"
   ]
  },
  {
   "cell_type": "code",
   "execution_count": 265,
   "metadata": {},
   "outputs": [
    {
     "data": {
      "text/plain": [
       "'2'"
      ]
     },
     "execution_count": 265,
     "metadata": {},
     "output_type": "execute_result"
    }
   ],
   "source": [
    "def smallest_stringy_number(s1, s2, s3):\n",
    "    \"\"\"Return whichever of the three string arguments represents the smallest number.\n",
    "    \n",
    "    >>> smallest_stringy_number('1', '2', '3')\n",
    "    '1'\n",
    "    \"\"\"\n",
    "    t1, t2, t3 =int(s1), int(s2),int(s3)\n",
    "    return str(min(t1, t2, t3))\n",
    "smallest_stringy_number('10', '2', '3')"
   ]
  },
  {
   "cell_type": "code",
   "execution_count": 268,
   "metadata": {},
   "outputs": [
    {
     "name": "stdout",
     "output_type": "stream",
     "text": [
      "Is -1 odd? True\n"
     ]
    }
   ],
   "source": [
    "def is_odd(n):\n",
    "    return (n % 2) == 1\n",
    "\n",
    "print(\"Is -1 odd?\", is_odd(-1))"
   ]
  },
  {
   "cell_type": "code",
   "execution_count": null,
   "metadata": {},
   "outputs": [],
   "source": [
    "def can_run_for_president(age, is_natural_born_citizen):\n",
    "    \"\"\"Can someone of the given age and citizenship status run for president in the US?\"\"\"\n",
    "    # The US Constitution says you must be a natural born citizen *and* at least 35 years old\n",
    "    return is_natural_born_citizen and (age >= 35)\n",
    "\n",
    "print(can_run_for_president(19, True))\n",
    "print(can_run_for_president(55, False))\n",
    "print(can_run_for_president(55, True))"
   ]
  },
  {
   "cell_type": "code",
   "execution_count": 269,
   "metadata": {},
   "outputs": [
    {
     "data": {
      "text/plain": [
       "True"
      ]
     },
     "execution_count": 269,
     "metadata": {},
     "output_type": "execute_result"
    }
   ],
   "source": [
    "True or True and False  #and has a higher precedence than or"
   ]
  },
  {
   "cell_type": "code",
   "execution_count": null,
   "metadata": {},
   "outputs": [],
   "source": [
    "def inspect(x):\n",
    "    if x == 0:\n",
    "        print(x, \"is zero\")\n",
    "    elif x > 0:\n",
    "        print(x, \"is positive\")\n",
    "    elif x < 0:\n",
    "        print(x, \"is negative\")\n",
    "    else:\n",
    "        print(x, \"is unlike anything I've ever seen...\")\n",
    "\n",
    "inspect(0)\n",
    "inspect(-15)"
   ]
  },
  {
   "cell_type": "code",
   "execution_count": 270,
   "metadata": {},
   "outputs": [
    {
     "name": "stdout",
     "output_type": "stream",
     "text": [
      "You failed the quiz with a grade of 45\n"
     ]
    }
   ],
   "source": [
    "def quiz_message(grade):\n",
    "    outcome = 'failed' if grade < 50 else 'passed'\n",
    "    print('You', outcome, 'the quiz with a grade of', grade)\n",
    "    \n",
    "quiz_message(45)"
   ]
  },
  {
   "cell_type": "code",
   "execution_count": 272,
   "metadata": {},
   "outputs": [
    {
     "name": "stdout",
     "output_type": "stream",
     "text": [
      "Splitting 91 candies\n",
      "Splitting 1 candy\n"
     ]
    },
    {
     "data": {
      "text/plain": [
       "1"
      ]
     },
     "execution_count": 272,
     "metadata": {},
     "output_type": "execute_result"
    }
   ],
   "source": [
    "def to_smash(total_candies):\n",
    "    \"\"\"Return the number of leftover candies that must be smashed after distributing\n",
    "    the given number of candies evenly between 3 friends.    \"\"\"\n",
    "    \n",
    "    print(\"Splitting\", total_candies, \"candy\" if total_candies == 1 else \"candies\")\n",
    "    return total_candies % 3\n",
    "\n",
    "to_smash(91)\n",
    "to_smash(1)"
   ]
  },
  {
   "cell_type": "code",
   "execution_count": 275,
   "metadata": {},
   "outputs": [
    {
     "data": {
      "text/plain": [
       "['L', 'M']"
      ]
     },
     "execution_count": 275,
     "metadata": {},
     "output_type": "execute_result"
    }
   ],
   "source": [
    "r = ['M', 'L']\n",
    "def purple_shell(racers):\n",
    "    \"\"\"Given a list of racers, set the first place racer (at the front of the list) to last\n",
    "    place and vice versa.    \"\"\"\n",
    "    \n",
    "    s=[]\n",
    "    for i in range(len(racers)):\n",
    "        n=len(racers)-i-1\n",
    "        s.append(racers[n])\n",
    "    return s\n",
    "purple_shell(r)"
   ]
  },
  {
   "cell_type": "code",
   "execution_count": 276,
   "metadata": {},
   "outputs": [
    {
     "name": "stdout",
     "output_type": "stream",
     "text": [
      "2\n"
     ]
    }
   ],
   "source": [
    "a = [1, 2, 3]\n",
    "b = [1, [2, 3]]\n",
    "c = []\n",
    "d = [1, 2, 3][1:]\n",
    "print(len(d))"
   ]
  },
  {
   "cell_type": "code",
   "execution_count": 305,
   "metadata": {},
   "outputs": [
    {
     "data": {
      "text/plain": [
       "False"
      ]
     },
     "execution_count": 305,
     "metadata": {},
     "output_type": "execute_result"
    }
   ],
   "source": [
    "party_attendees = ['Adela', 'Fleda', 'Owen', 'May', 'Mona', 'Gilbert', 'Ford']\n",
    "def fashionably_late(arrivals, name):\n",
    "    if arrivals.index(name) < len(arrivals)/2:\n",
    "        return False\n",
    "    else:\n",
    "        return name !=arrivals[-1]\n",
    "fashionably_late(party_attendees, 'Ford')"
   ]
  },
  {
   "cell_type": "code",
   "execution_count": 306,
   "metadata": {},
   "outputs": [
    {
     "name": "stdout",
     "output_type": "stream",
     "text": [
      "(1, 8)\n",
      "0.125\n"
     ]
    }
   ],
   "source": [
    "x = 0.125 #\n",
    "print(x.as_integer_ratio())\n",
    "numerator, denominator = x.as_integer_ratio()\n",
    "print(numerator / denominator)"
   ]
  },
  {
   "cell_type": "code",
   "execution_count": 308,
   "metadata": {},
   "outputs": [
    {
     "data": {
      "text/plain": [
       "2"
      ]
     },
     "execution_count": 308,
     "metadata": {},
     "output_type": "execute_result"
    }
   ],
   "source": [
    "def count_negatives(nums):\n",
    "    \"\"\"Return the number of negative numbers in the given list.\n",
    "    \n",
    "    >>> count_negatives([5, -1, -2, 0, 3])\n",
    "    2\n",
    "    \"\"\"\n",
    "    new =[num for num in nums if num < 0]\n",
    "    return len(new)\n",
    "count_negatives([5, -1, -2, 0, 3])"
   ]
  },
  {
   "cell_type": "code",
   "execution_count": 1,
   "metadata": {},
   "outputs": [
    {
     "data": {
      "text/plain": [
       "{1: {3: 0.3333333333333333, 5: 0.6666666666666666}, 3: {1: 1.0}, 5: {1: 1.0}}"
      ]
     },
     "execution_count": 1,
     "metadata": {},
     "output_type": "execute_result"
    }
   ],
   "source": [
    "def conditional_roulette_probs(history):\n",
    "    # dict where keys are numbers and values are dicts\n",
    "    # counts[a][b] is the number of times we've spun the number b immediately after spinning a\n",
    "    counts = {}\n",
    "    for i in range(1, len(history)):\n",
    "        roll, prev = history[i], history[i-1]\n",
    "        if prev not in counts:\n",
    "            counts[prev] = {}\n",
    "        if roll not in counts[prev]:\n",
    "            counts[prev][roll] = 0\n",
    "        counts[prev][roll] += 1\n",
    "\n",
    "    probs = {}\n",
    "    for prev, nexts in counts.items():\n",
    "        total = sum(nexts.values())\n",
    "        sub_probs = {next_spin: next_count/total\n",
    "                for next_spin, next_count in nexts.items()}\n",
    "        probs[prev] = sub_probs\n",
    "    return probs\n",
    "conditional_roulette_probs([1,3,1,5,1,5])"
   ]
  },
  {
   "cell_type": "code",
   "execution_count": 2,
   "metadata": {},
   "outputs": [
    {
     "data": {
      "text/plain": [
       "2"
      ]
     },
     "execution_count": 2,
     "metadata": {},
     "output_type": "execute_result"
    }
   ],
   "source": [
    "def count_negatives(nums):\n",
    "    nums.append(0)\n",
    "    # We could also have used the list.sort() method, which modifies a list, putting it in sorted order.\n",
    "    nums = sorted(nums)\n",
    "    return nums.index(0)\n",
    "count_negatives([5, -1, -2, 0, 3])"
   ]
  },
  {
   "cell_type": "code",
   "execution_count": 244,
   "metadata": {},
   "outputs": [
    {
     "data": {
      "text/plain": [
       "[0, 2, 2, 6, 4, 10, 6, 14, 8, 18]"
      ]
     },
     "execution_count": 244,
     "metadata": {},
     "output_type": "execute_result"
    }
   ],
   "source": [
    "def double_odds(nums):\n",
    "    for i, num in enumerate(nums):\n",
    "        if num % 2 == 1:\n",
    "            nums[i] = num * 2\n",
    "\n",
    "x = list(range(10))\n",
    "double_odds(x)\n",
    "x"
   ]
  },
  {
   "cell_type": "code",
   "execution_count": 288,
   "metadata": {},
   "outputs": [
    {
     "data": {
      "text/plain": [
       "0"
      ]
     },
     "execution_count": 288,
     "metadata": {},
     "output_type": "execute_result"
    }
   ],
   "source": [
    "int()"
   ]
  },
  {
   "cell_type": "code",
   "execution_count": 2,
   "metadata": {},
   "outputs": [
    {
     "data": {
      "text/plain": [
       "[(0, 'a'), (1, 'b')]"
      ]
     },
     "execution_count": 2,
     "metadata": {},
     "output_type": "execute_result"
    }
   ],
   "source": [
    "list(enumerate(['a', 'b']))"
   ]
  },
  {
   "cell_type": "code",
   "execution_count": 4,
   "metadata": {},
   "outputs": [
    {
     "name": "stdout",
     "output_type": "stream",
     "text": [
      "1 8\n"
     ]
    }
   ],
   "source": [
    "x = 0.125\n",
    "numerator, denominator = x.as_integer_ratio()\n",
    "print(numerator, denominator)"
   ]
  },
  {
   "cell_type": "code",
   "execution_count": 34,
   "metadata": {},
   "outputs": [
    {
     "data": {
      "text/plain": [
       "True"
      ]
     },
     "execution_count": 34,
     "metadata": {},
     "output_type": "execute_result"
    }
   ],
   "source": [
    "L=[0,1,2,3,4,5,6,14]\n",
    "def has_lucky_number(nums):\n",
    "    \"\"\"Return whether the given list of numbers is lucky. A lucky list contains\n",
    "    at least one number divisible by 7.\n",
    "    \"\"\"\n",
    "    for num in nums:\n",
    "        if num==0:\n",
    "            return False\n",
    "        else:\n",
    "            if num % 7 == 0:\n",
    "                return True\n",
    "    return False\n",
    "has_lucky_number(L)"
   ]
  },
  {
   "cell_type": "code",
   "execution_count": 28,
   "metadata": {},
   "outputs": [
    {
     "data": {
      "text/plain": [
       "False"
      ]
     },
     "execution_count": 28,
     "metadata": {},
     "output_type": "execute_result"
    }
   ],
   "source": [
    "nums=[1,2,3,6]\n",
    "def has_lucky_number(nums):\n",
    "    return any([num % 7 == 0 for num in nums])\n",
    "has_lucky_number(nums)"
   ]
  },
  {
   "cell_type": "code",
   "execution_count": 37,
   "metadata": {},
   "outputs": [
    {
     "data": {
      "text/plain": [
       "[False, False, False, True, True]"
      ]
     },
     "execution_count": 37,
     "metadata": {},
     "output_type": "execute_result"
    }
   ],
   "source": [
    "def elementwise_greater_than(L, thresh):\n",
    "    return [ele > thresh for ele in L]\n",
    "elementwise_greater_than([0,1,2,3,4], 2)"
   ]
  },
  {
   "cell_type": "code",
   "execution_count": 42,
   "metadata": {},
   "outputs": [
    {
     "data": {
      "text/plain": [
       "True"
      ]
     },
     "execution_count": 42,
     "metadata": {},
     "output_type": "execute_result"
    }
   ],
   "source": [
    "meals=['a', 'b', 'c','a', 'a']\n",
    "def menu_is_boring(meals):\n",
    "    \"\"\"Given a list of meals served over some period of time, return True if the\n",
    "    same meal has ever been served two days in a row, and False otherwise.\n",
    "    \"\"\"\n",
    "    for i in range(len(meals)-1):\n",
    "        if meals[i] == meals[i+1]:\n",
    "            return True\n",
    "    return False\n",
    "menu_is_boring(meals)"
   ]
  },
  {
   "cell_type": "code",
   "execution_count": 103,
   "metadata": {},
   "outputs": [
    {
     "data": {
      "text/plain": [
       "True"
      ]
     },
     "execution_count": 103,
     "metadata": {},
     "output_type": "execute_result"
    }
   ],
   "source": [
    "meals=['a', 'b', 'c','a', 'a']\n",
    "any([meals[i] == meals[i+1] for i in range(len(meals)-1)])"
   ]
  },
  {
   "cell_type": "code",
   "execution_count": 93,
   "metadata": {},
   "outputs": [
    {
     "data": {
      "text/plain": [
       "1.0"
      ]
     },
     "execution_count": 93,
     "metadata": {},
     "output_type": "execute_result"
    }
   ],
   "source": [
    "def slots_survival_probability(start_balance, n_spins, n_simulations):\n",
    "    # How many times did we last the given number of spins?\n",
    "    successes = 0\n",
    "    # A convention in Python is to use '_' to name variables we won't use\n",
    "    for _ in range(n_simulations):\n",
    "        balance = start_balance\n",
    "        spins_left = n_spins\n",
    "        while balance >= 1 and spins_left:\n",
    "            # subtract the cost of playing\n",
    "            balance -= 1\n",
    "            # balance += play_slot_machine()\n",
    "            spins_left -= 1\n",
    "        # did we make it to the end?\n",
    "        if spins_left == 0:\n",
    "            successes += 1\n",
    "    return successes / n_simulations\n",
    "slots_survival_probability(10,10,1000)"
   ]
  },
  {
   "cell_type": "code",
   "execution_count": 99,
   "metadata": {},
   "outputs": [
    {
     "data": {
      "text/plain": [
       "\"Pluto's a planet!\""
      ]
     },
     "execution_count": 99,
     "metadata": {},
     "output_type": "execute_result"
    }
   ],
   "source": [
    "'Pluto\\'s a planet!'"
   ]
  },
  {
   "cell_type": "code",
   "execution_count": 52,
   "metadata": {},
   "outputs": [
    {
     "name": "stdout",
     "output_type": "stream",
     "text": [
      "hello\n",
      "world\n"
     ]
    },
    {
     "data": {
      "text/plain": [
       "False"
      ]
     },
     "execution_count": 52,
     "metadata": {},
     "output_type": "execute_result"
    }
   ],
   "source": [
    "triplequoted_hello = \"\"\"hello\n",
    "world\"\"\"\n",
    "print(triplequoted_hello)\n",
    "triplequoted_hello == 'hello'"
   ]
  },
  {
   "cell_type": "code",
   "execution_count": 125,
   "metadata": {},
   "outputs": [
    {
     "name": "stdout",
     "output_type": "stream",
     "text": [
      "True\n",
      "['Pluto', 'is', 'a', 'planet!']\n",
      "True\n",
      "True\n",
      "True\n"
     ]
    }
   ],
   "source": [
    "planet = 'Pluto'\n",
    "planet[0]\n",
    "claim = \"Pluto is a planet!\"\n",
    "print(claim.startswith(planet))\n",
    "words = claim.split()\n",
    "print(words)\n",
    "print(claim.startswith(planet))\n",
    "print(claim.startswith('Pluto'))\n",
    "print(claim.endswith('!'))"
   ]
  },
  {
   "cell_type": "code",
   "execution_count": 126,
   "metadata": {},
   "outputs": [
    {
     "data": {
      "text/plain": [
       "['Pluto', 'is', 'a', 'planet!']"
      ]
     },
     "execution_count": 126,
     "metadata": {},
     "output_type": "execute_result"
    }
   ],
   "source": [
    "words = claim.split()\n",
    "words"
   ]
  },
  {
   "cell_type": "code",
   "execution_count": 128,
   "metadata": {},
   "outputs": [
    {
     "data": {
      "text/plain": [
       "'01/31/1956'"
      ]
     },
     "execution_count": 128,
     "metadata": {},
     "output_type": "execute_result"
    }
   ],
   "source": [
    "datestr = '1956-01-31'\n",
    "year, month, day = datestr.split('-')\n",
    "'/'.join([month, day, year])"
   ]
  },
  {
   "cell_type": "code",
   "execution_count": 59,
   "metadata": {},
   "outputs": [
    {
     "data": {
      "text/plain": [
       "\"pluto weighs about 1.3e+22 kilograms (0.218% of Earth's mass). It is home to 52,910,390 Plutonians.\""
      ]
     },
     "execution_count": 59,
     "metadata": {},
     "output_type": "execute_result"
    }
   ],
   "source": [
    "planet= 'pluto'\n",
    "pluto_mass = 1.303 * 10**22\n",
    "earth_mass = 5.9722 * 10**24\n",
    "population = 52910390\n",
    "#         2 decimal points   3 decimal points, format as percent     separate with commas\n",
    "\"{} weighs about {:.2} kilograms ({:.3%} of Earth's mass). It is home to {:,} Plutonians.\".format(\n",
    "    planet, pluto_mass, pluto_mass / earth_mass, population)"
   ]
  },
  {
   "cell_type": "code",
   "execution_count": 62,
   "metadata": {},
   "outputs": [
    {
     "name": "stdout",
     "output_type": "stream",
     "text": [
      "Pluto's a planet.\n",
      "No, it's a dwarf planet.\n",
      "planet!\n",
      "dwarf planet!\n"
     ]
    }
   ],
   "source": [
    "# Referring to format() arguments by index, starting from 0\n",
    "s = \"\"\"Pluto's a {0}.\n",
    "No, it's a {1}.\n",
    "{0}!\n",
    "{1}!\"\"\".format('planet', 'dwarf planet')\n",
    "print(s)"
   ]
  },
  {
   "cell_type": "code",
   "execution_count": 64,
   "metadata": {},
   "outputs": [
    {
     "data": {
      "text/plain": [
       "{'Mercury': 'M',\n",
       " 'Venus': 'V',\n",
       " 'Earth': 'E',\n",
       " 'Mars': 'M',\n",
       " 'Jupiter': 'J',\n",
       " 'Saturn': 'S',\n",
       " 'Uranus': 'U',\n",
       " 'Neptune': 'N'}"
      ]
     },
     "execution_count": 64,
     "metadata": {},
     "output_type": "execute_result"
    }
   ],
   "source": [
    "planets = ['Mercury', 'Venus', 'Earth', 'Mars', 'Jupiter', 'Saturn', 'Uranus', 'Neptune']\n",
    "planet_to_initial = {planet: planet[0] for planet in planets}\n",
    "planet_to_initial"
   ]
  },
  {
   "cell_type": "code",
   "execution_count": 65,
   "metadata": {},
   "outputs": [
    {
     "data": {
      "text/plain": [
       "'E J M M N S U V'"
      ]
     },
     "execution_count": 65,
     "metadata": {},
     "output_type": "execute_result"
    }
   ],
   "source": [
    "# We can access a collection of all the keys or all the values with dict.keys() and dict.values(), respectively.\n",
    "# Get all the initials, sort them alphabetically, and put them in a space-separated string.\n",
    "' '.join(sorted(planet_to_initial.values()))"
   ]
  },
  {
   "cell_type": "code",
   "execution_count": 66,
   "metadata": {},
   "outputs": [
    {
     "name": "stdout",
     "output_type": "stream",
     "text": [
      "   Mercury begins with \"M\"\n",
      "     Venus begins with \"V\"\n",
      "     Earth begins with \"E\"\n",
      "      Mars begins with \"M\"\n",
      "   Jupiter begins with \"J\"\n",
      "    Saturn begins with \"S\"\n",
      "    Uranus begins with \"U\"\n",
      "   Neptune begins with \"N\"\n"
     ]
    }
   ],
   "source": [
    "# The very useful dict.items() method lets us iterate over the keys and values of a dictionary simultaneously. \n",
    "# In Python jargon, an item refers to a key, value pair.\n",
    "# The in operator tells us whether something is a key in the dictionary\n",
    "\n",
    "for planet, initial in planet_to_initial.items():\n",
    "    print(\"{} begins with \\\"{}\\\"\".format(planet.rjust(10), initial))"
   ]
  },
  {
   "cell_type": "code",
   "execution_count": 158,
   "metadata": {},
   "outputs": [
    {
     "data": {
      "text/plain": [
       "[1]"
      ]
     },
     "execution_count": 158,
     "metadata": {},
     "output_type": "execute_result"
    }
   ],
   "source": [
    "doc_list = [\"The Learn Python Challenge Casino.\", \"They bought a car\", \"Casinoville\", \"I don't believe this.\"]\n",
    "def word_search(documents, keyword):\n",
    "    # list to hold the indices of matching documents\n",
    "    indices = [] \n",
    "    # Iterate through the indices (i) and elements (doc) of documents\n",
    "    for i, doc in enumerate(documents):\n",
    "        tokens = doc.split()\n",
    "        normalized = [token.rstrip('.,').lower() for token in tokens]\n",
    "        if keyword.lower() in normalized:\n",
    "            indices.append(i)\n",
    "    return indices\n",
    "word_search(doc_list, 'they')"
   ]
  },
  {
   "cell_type": "code",
   "execution_count": 163,
   "metadata": {},
   "outputs": [
    {
     "data": {
      "text/plain": [
       "{}"
      ]
     },
     "execution_count": 163,
     "metadata": {},
     "output_type": "execute_result"
    }
   ],
   "source": [
    "doc_list = [\"The Learn Python Challenge Casino.\", \"They bought a car and a casino\", \"Casinoville\"]\n",
    "keywords = ['casino', 'th']\n",
    "def multi_word_search(doc_list, keywords):\n",
    "    \"\"\"\n",
    "    Takes list of documents (each document is a string) and a list of keywords.  \n",
    "    Returns a dictionary where each key is a keyword, and the value is a list of indices\n",
    "    (from doc_list) of the documents containing that keyword\n",
    "\n",
    "    {'casino': [0, 1], 'they': [1]}  \"\"\"\n",
    "    \n",
    "    list_dic={}\n",
    "    for keyword in keywords:\n",
    "        indices =[]\n",
    "        for i, doc in enumerate(doc_list):\n",
    "            tokens=doc.split()\n",
    "            normalized = [token.rstrip('.,').lower() for token in tokens]\n",
    "            if keyword in normalized:\n",
    "                indices.append(i)\n",
    "            list_dic[keyword]=indices\n",
    "    return list_dic\n",
    "multi_word_search(doc_list, keywords)"
   ]
  },
  {
   "cell_type": "code",
   "execution_count": null,
   "metadata": {},
   "outputs": [],
   "source": [
    "def multi_word_search(documents, keywords):\n",
    "    keyword_to_indices = {}\n",
    "    for keyword in keywords:\n",
    "        keyword_to_indices[keyword] = word_search(documents, keyword)\n",
    "    return keyword_to_indices"
   ]
  },
  {
   "cell_type": "code",
   "execution_count": 189,
   "metadata": {},
   "outputs": [
    {
     "data": {
      "text/plain": [
       "True"
      ]
     },
     "execution_count": 189,
     "metadata": {},
     "output_type": "execute_result"
    }
   ],
   "source": [
    "def is_valid_zip(zip_code):\n",
    "    \"\"\"Returns whether the input string is a valid (5 digit) zip code\n",
    "    \"\"\"\n",
    "    return len(zip_code)== 5 and zip_code.isdigit()\n",
    "is_valid_zip('12345')"
   ]
  },
  {
   "cell_type": "code",
   "execution_count": 24,
   "metadata": {},
   "outputs": [
    {
     "name": "stdout",
     "output_type": "stream",
     "text": [
      " /\\\n",
      "//\\\\\n",
      "\\\\//\n",
      " \\/\n",
      "\n"
     ]
    }
   ],
   "source": [
    "def diamond(height):\n",
    "    \"\"\"Return a string resembling a diamond of specified height (measured in lines).\n",
    "    height must be an even integer.  \"\"\"\n",
    "    h=int(height/2)\n",
    "    s=''\n",
    "    for i in range(h):\n",
    "        s += ' '*(h-i-1) + '/'*(i+1) + '\\\\'*(i+1) +'\\n'\n",
    "    for i in range(h):\n",
    "        s += ' '*(i) + '\\\\'*(h-i) + '/'*(h-i)+'\\n'\n",
    "    return s \n",
    "print(diamond(4))"
   ]
  },
  {
   "cell_type": "code",
   "execution_count": 27,
   "metadata": {},
   "outputs": [
    {
     "name": "stdout",
     "output_type": "stream",
     "text": [
      " /\\ \n",
      "//\\\\\n",
      "\\\\//\n",
      " \\/ \n"
     ]
    }
   ],
   "source": [
    "def diamond(height):\n",
    "    s = ''\n",
    "    l, r = '/', '\\\\'\n",
    "    rad = height // 2\n",
    "    for row in range(height):\n",
    "        if row == rad:\n",
    "            l, r = r, l\n",
    "        if row < rad:\n",
    "            nchars = row+1\n",
    "        else:\n",
    "            nchars = height - row\n",
    "        left = (l * nchars).rjust(rad)\n",
    "        right = (r * nchars).ljust(rad)\n",
    "        s += left + right + '\\n'\n",
    "    # Trim the last newline - we want every line to end with a newline character\n",
    "    # *except* the last\n",
    "    return s[:-1]\n",
    "print(diamond(4))"
   ]
  },
  {
   "cell_type": "code",
   "execution_count": 30,
   "metadata": {},
   "outputs": [
    {
     "data": {
      "text/plain": [
       "{1: {3: 0.5, 5: 0.5}, 3: {1: 1.0}, 5: {1: 1.0}}"
      ]
     },
     "execution_count": 30,
     "metadata": {},
     "output_type": "execute_result"
    }
   ],
   "source": [
    "def conditional_roulette_probs(history):\n",
    "    counts = {}\n",
    "    for i in range(1, len(history)):\n",
    "        roll, prev = history[i], history[i-1]\n",
    "        if prev not in counts:\n",
    "            counts[prev] = {}\n",
    "        if roll not in counts[prev]:\n",
    "            counts[prev][roll] = 0\n",
    "        counts[prev][roll] += 1\n",
    "\n",
    "    probs = {}\n",
    "    for prev, nexts in counts.items():\n",
    "        total = sum(nexts.values())\n",
    "        sub_probs = {next_spin: next_count/total\n",
    "                for next_spin, next_count in nexts.items()}\n",
    "        probs[prev] = sub_probs\n",
    "    return probs\n",
    "conditional_roulette_probs([1, 3, 1, 5, 1])"
   ]
  },
  {
   "cell_type": "code",
   "execution_count": 314,
   "metadata": {},
   "outputs": [
    {
     "name": "stdout",
     "output_type": "stream",
     "text": [
      "It's math! It has type <class 'module'>\n",
      "pi to 4 significant digits = 3.142\n",
      "3.141592653589793 5.0\n"
     ]
    }
   ],
   "source": [
    "import math\n",
    "print(\"It's math! It has type {}\".format(type(math)))\n",
    "# print(dir(math))\n",
    "print(\"pi to 4 significant digits = {:.4}\".format(math.pi))\n",
    "from math import *\n",
    "print(pi, log(32, 2))"
   ]
  },
  {
   "cell_type": "code",
   "execution_count": 315,
   "metadata": {},
   "outputs": [
    {
     "name": "stdout",
     "output_type": "stream",
     "text": [
      "numpy.random is a <class 'module'>\n",
      "it contains names such as... ['set_state', 'shuffle', 'standard_cauchy', 'standard_exponential', 'standard_gamma', 'standard_normal', 'standard_t', 'test', 'triangular', 'uniform', 'vonmises', 'wald', 'warnings', 'weibull', 'zipf']\n"
     ]
    },
    {
     "data": {
      "text/plain": [
       "array([5, 2, 4, 2, 3, 4, 2, 3, 3, 3])"
      ]
     },
     "execution_count": 315,
     "metadata": {},
     "output_type": "execute_result"
    }
   ],
   "source": [
    "import numpy\n",
    "print(\"numpy.random is a\", type(numpy.random))\n",
    "print(\"it contains names such as...\",\n",
    "      dir(numpy.random)[-15:]\n",
    "     )\n",
    "# Roll 10 dice\n",
    "rolls = numpy.random.randint(low=1, high=6, size=10)\n",
    "rolls"
   ]
  },
  {
   "cell_type": "code",
   "execution_count": 316,
   "metadata": {},
   "outputs": [
    {
     "name": "stdout",
     "output_type": "stream",
     "text": [
      "xlist = [[1, 2, 3], [2, 4, 6]]\n",
      "x =\n",
      "[[1 2 3]\n",
      " [2 4 6]]\n"
     ]
    }
   ],
   "source": [
    "xlist = [[1,2,3],[2,4,6],]\n",
    "# Create a 2-dimensional array\n",
    "x = numpy.asarray(xlist)\n",
    "print(\"xlist = {}\\nx =\\n{}\".format(xlist, x))"
   ]
  },
  {
   "cell_type": "code",
   "execution_count": 320,
   "metadata": {},
   "outputs": [
    {
     "name": "stdout",
     "output_type": "stream",
     "text": [
      "6\n",
      "6\n"
     ]
    }
   ],
   "source": [
    "print(x[1,-1])\n",
    "print(xlist[1][-1])"
   ]
  },
  {
   "cell_type": "code",
   "execution_count": null,
   "metadata": {},
   "outputs": [],
   "source": [
    "\"\"\" operator overloading.  When Python programmers want to define how operators behave on their types, \n",
    "they do so by implementing methods with special names beginning and ending with 2 underscores: So, for example, \n",
    "the expression x in [1, 2, 3] is actually calling the list method __contains__ behind-the-scenes. \n",
    "It's equivalent to (the much uglier) [1, 2, 3].__contains__(x)\"\"\""
   ]
  },
  {
   "cell_type": "code",
   "execution_count": null,
   "metadata": {},
   "outputs": [],
   "source": [
    "Publication_Date =pd.to_datetime(df['Publication Date'])\n",
    "no_curr_call = Publication_Date.notna.count()\n",
    "print(no_curr_call)\n"
   ]
  },
  {
   "cell_type": "code",
   "execution_count": 323,
   "metadata": {},
   "outputs": [
    {
     "name": "stdout",
     "output_type": "stream",
     "text": [
      "2018-12-17\n"
     ]
    }
   ],
   "source": [
    "from datetime import date\n",
    "today = date.today()\n",
    "print(today)\n",
    "deadline_date = pd.to_datetime(df['Deadline Date'])\n",
    "print(deadline_date.head())\n",
    "later = dealine if deadline_conv > today\n",
    "print(df.info())\n",
    "\n",
    "print('today is: ', today)\n",
    "print(sum(deadline))"
   ]
  },
  {
   "cell_type": "code",
   "execution_count": 337,
   "metadata": {},
   "outputs": [
    {
     "name": "stdout",
     "output_type": "stream",
     "text": [
      "WARNING: Encountered racer with unknown name on iteration 4/4 (racer = None)\n"
     ]
    },
    {
     "data": {
      "text/plain": [
       "{'green shell': 2, 'mushroom': 1}"
      ]
     },
     "execution_count": 337,
     "metadata": {},
     "output_type": "execute_result"
    }
   ],
   "source": [
    " full_dataset = [\n",
    "        {'name': 'Peach', 'items': ['green shell', 'banana', 'green shell',], 'finish': 3},\n",
    "        {'name': 'Bowser', 'items': ['green shell',], 'finish': 1},\n",
    "        {'name': 'It', 'items': ['mushroom',], 'finish': 2},\n",
    "        {'name': None, 'items': ['green shell', 'mushroom'], 'finish': 1},\n",
    "    ]\n",
    "def best_items(racers):\n",
    "    winner_item_counts = {}\n",
    "    for i in range(len(racers)):\n",
    "        # The i'th racer dictionary\n",
    "        racer = racers[i]\n",
    "        # We're only interested in racers who finished in first\n",
    "        if racer['finish'] == 1:\n",
    "            for j in racer['items']:\n",
    "                # Add one to the count for this item (adding it to the dict if necessary)\n",
    "                if j not in winner_item_counts:\n",
    "                    winner_item_counts[j] = 0\n",
    "                winner_item_counts[j] += 1\n",
    "            \n",
    "        # Data quality issues :/ Print a warning about racers with no name set. We'll take care of it later.\n",
    "        if racer['name'] is None:\n",
    "            print(\"WARNING: Encountered racer with unknown name on iteration {}/{} (racer = {})\".format(\n",
    "                i+1, len(racers), racer['name'])\n",
    "                 )\n",
    "    return winner_item_counts\n",
    "\n",
    "best_items(full_dataset)"
   ]
  },
  {
   "cell_type": "code",
   "execution_count": null,
   "metadata": {},
   "outputs": [],
   "source": [
    "def hand_total(hand):\n",
    "    \"\"\"Helper function to calculate the total points of a blackjack hand.\n",
    "    \"\"\"\n",
    "    total = 0\n",
    "    # Count the number of aces and deal with how to apply them at the end.\n",
    "    aces = 0\n",
    "    for card in hand:\n",
    "        if card in ['J', 'Q', 'K']:\n",
    "            total += 10\n",
    "        elif card == 'A':\n",
    "            aces += 1\n",
    "        else:\n",
    "            # Convert number cards (e.g. '7') to ints\n",
    "            total += int(card)\n",
    "    # At this point, total is the sum of this hand's cards *not counting aces*.\n",
    "\n",
    "    # Add aces, counting them as 1 for now. This is the smallest total we can make from this hand\n",
    "    total += aces\n",
    "    # \"Upgrade\" aces from 1 to 11 as long as it helps us get closer to 21\n",
    "    # without busting\n",
    "    while total + 10 <= 21 and aces > 0:\n",
    "        # Upgrade an ace from 1 to 11\n",
    "        total += 10\n",
    "        aces -= 1\n",
    "    return total\n",
    "\n",
    "def blackjack_hand_greater_than(hand_1, hand_2):\n",
    "    total_1 = hand_total(hand_1)\n",
    "    total_2 = hand_total(hand_2)\n",
    "    return total_1 <= 21 and (total_1 > total_2 or total_2 > 21)\n",
    "blackjack_hand_greater_than(hand_1, hand_2)"
   ]
  },
  {
   "cell_type": "code",
   "execution_count": 10,
   "metadata": {},
   "outputs": [
    {
     "data": {
      "text/plain": [
       "21"
      ]
     },
     "execution_count": 10,
     "metadata": {},
     "output_type": "execute_result"
    }
   ],
   "source": [
    "def hand_total(hand):\n",
    "    total= 0\n",
    "    aces = 0\n",
    "    for card in hand:\n",
    "        if card in ['J', 'K', 'Q']:\n",
    "            total +=10\n",
    "        elif card == 'A':\n",
    "            aces +=1\n",
    "        else:\n",
    "            total += int(card)\n",
    "    total += aces\n",
    "    while total +10 <=21 and aces >0:\n",
    "        total += 10\n",
    "        aces -=1\n",
    "    return total\n",
    "hand_total([1,4,5,'K','A'])"
   ]
  },
  {
   "cell_type": "code",
   "execution_count": 11,
   "metadata": {},
   "outputs": [
    {
     "data": {
      "text/plain": [
       "False"
      ]
     },
     "execution_count": 11,
     "metadata": {},
     "output_type": "execute_result"
    }
   ],
   "source": [
    "t=1==2\n",
    "t"
   ]
  },
  {
   "cell_type": "code",
   "execution_count": null,
   "metadata": {},
   "outputs": [],
   "source": [
    "words=['cat', 'dog', 'sssssss']\n",
    "for w in words:\n",
    "    print(w, len(w))"
   ]
  },
  {
   "cell_type": "code",
   "execution_count": 1,
   "metadata": {},
   "outputs": [
    {
     "data": {
      "text/plain": [
       "['sssssss', 'cat', 'dog', 'sssssss']"
      ]
     },
     "execution_count": 1,
     "metadata": {},
     "output_type": "execute_result"
    }
   ],
   "source": [
    "words=['cat', 'dog', 'sssssss']\n",
    "for w in words[:]:\n",
    "    if len(w) > 5:\n",
    "        words.insert(0, w)\n",
    "words"
   ]
  },
  {
   "cell_type": "code",
   "execution_count": 12,
   "metadata": {},
   "outputs": [
    {
     "name": "stdout",
     "output_type": "stream",
     "text": [
      "2 is a prime number\n",
      "3 is a prime number\n",
      "4 equals 2 * 2\n",
      "5 is a prime number\n",
      "6 equals 2 * 3\n",
      "7 is a prime number\n",
      "8 equals 2 * 4\n",
      "9 equals 3 * 3\n"
     ]
    }
   ],
   "source": [
    "for n in range(2, 10):\n",
    "    for x in range(2, n):\n",
    "        if n%x == 0:\n",
    "            print(n, 'equals', x, '*', n//x)\n",
    "            break\n",
    "    else:\n",
    "        print(n, 'is a prime number')    "
   ]
  },
  {
   "cell_type": "code",
   "execution_count": 13,
   "metadata": {},
   "outputs": [
    {
     "data": {
      "text/plain": [
       "[]"
      ]
     },
     "execution_count": 13,
     "metadata": {},
     "output_type": "execute_result"
    }
   ],
   "source": [
    "list(range(2,2))"
   ]
  },
  {
   "cell_type": "code",
   "execution_count": 14,
   "metadata": {},
   "outputs": [
    {
     "name": "stdout",
     "output_type": "stream",
     "text": [
      "found an even number 2\n",
      "found a number\n",
      "found an even number 4\n",
      "found a number\n",
      "found an even number 6\n",
      "found a number\n",
      "found an even number 8\n",
      "found a number\n"
     ]
    }
   ],
   "source": [
    "for num in range(2,10):\n",
    "    if num % 2 ==0:\n",
    "        print('found an even number', num)\n",
    "        continue\n",
    "    print('found a number')"
   ]
  },
  {
   "cell_type": "code",
   "execution_count": null,
   "metadata": {},
   "outputs": [],
   "source": [
    "while True:\n",
    "    pass #busy - wait for keyboard ingterupt (Ctrl+C)"
   ]
  },
  {
   "cell_type": "code",
   "execution_count": null,
   "metadata": {},
   "outputs": [],
   "source": [
    "def initlog(*args):\n",
    "    pass # remember to implement this!"
   ]
  },
  {
   "cell_type": "code",
   "execution_count": 5,
   "metadata": {},
   "outputs": [
    {
     "name": "stdout",
     "output_type": "stream",
     "text": [
      "0 1 1 2 3 5 8 13 21 34 55 89 \n",
      " None\n"
     ]
    }
   ],
   "source": [
    "def fib(n): # write Fibonacci series up to n\n",
    "    \"\"\" print a Fibonacci seriese up to n.\"\"\" #docstring\n",
    "    a,b =0,1\n",
    "    while a < n:\n",
    "        print(a, '', end='')\n",
    "        a,b = b, a+b\n",
    "fib(100)\n",
    "print('\\n',fib(0))"
   ]
  },
  {
   "cell_type": "code",
   "execution_count": 16,
   "metadata": {},
   "outputs": [
    {
     "data": {
      "text/plain": [
       "[0, 1, 1, 2, 3, 5, 8, 13, 21, 34, 55, 89]"
      ]
     },
     "execution_count": 16,
     "metadata": {},
     "output_type": "execute_result"
    }
   ],
   "source": [
    "def fib2(n):\n",
    "    result=[]\n",
    "    a,b =0,1\n",
    "    while a < n:\n",
    "        result.append(a)\n",
    "        a,b = b, a+b\n",
    "    return result\n",
    "fib2(100)"
   ]
  },
  {
   "cell_type": "code",
   "execution_count": 2,
   "metadata": {},
   "outputs": [
    {
     "name": "stdout",
     "output_type": "stream",
     "text": [
      "OK to overwrite the file?y\n"
     ]
    },
    {
     "data": {
      "text/plain": [
       "True"
      ]
     },
     "execution_count": 2,
     "metadata": {},
     "output_type": "execute_result"
    }
   ],
   "source": [
    "def ask_ok(prompt, retries=4, reminder='Please try again!'):\n",
    "    while True:\n",
    "        ok=input(prompt)\n",
    "        if ok in ('y', 'ye', 'yes'):\n",
    "            return True\n",
    "        if ok in ('n', 'no', 'nop', 'nope'):\n",
    "            return False\n",
    "        retries = retries -1\n",
    "        if retries < 0:\n",
    "            raise ValueError('Invalid user response')\n",
    "            print(reminder)\n",
    "ask_ok('OK to overwrite the file?', 2)"
   ]
  },
  {
   "cell_type": "code",
   "execution_count": 3,
   "metadata": {},
   "outputs": [
    {
     "name": "stdout",
     "output_type": "stream",
     "text": [
      "5\n"
     ]
    }
   ],
   "source": [
    "i=5\n",
    "def f(arg=i):\n",
    "    print(arg)\n",
    "i=6\n",
    "f()"
   ]
  },
  {
   "cell_type": "code",
   "execution_count": 4,
   "metadata": {},
   "outputs": [
    {
     "name": "stdout",
     "output_type": "stream",
     "text": [
      "[1]\n",
      "[1, 3]\n"
     ]
    }
   ],
   "source": [
    "def f(a, L=[]):\n",
    "    L.append(a)\n",
    "    return L\n",
    "print(f(1))\n",
    "print(f(3))"
   ]
  },
  {
   "cell_type": "code",
   "execution_count": 6,
   "metadata": {},
   "outputs": [
    {
     "name": "stdout",
     "output_type": "stream",
     "text": [
      "[1]\n",
      "[3]\n"
     ]
    }
   ],
   "source": [
    "def f(a, L=None):\n",
    "    if L is None:\n",
    "        L =[]\n",
    "    L.append(a)\n",
    "    return L\n",
    "print(f(1))\n",
    "print(f(3))"
   ]
  },
  {
   "cell_type": "code",
   "execution_count": 13,
   "metadata": {},
   "outputs": [
    {
     "name": "stdout",
     "output_type": "stream",
     "text": [
      "--This parrot wouldn't voom if you put 1000 volts through it.\n",
      "--Lovely plumage, the Norwegian Blue\n",
      "--It's a stiff !\n",
      "--This parrot wouldn't jump if you put a million volts through it.\n",
      "--Lovely plumage, the Norwegian Blue\n",
      "--It's bareft of life !\n"
     ]
    }
   ],
   "source": [
    "def parrot(voltage, state='a stiff', action='voom', type='Norwegian Blue'):\n",
    "    print(\"--This parrot wouldn't\", action, end='')\n",
    "    print(\" if you put\", voltage, \"volts through it.\")\n",
    "    print(\"--Lovely plumage, the\", type)\n",
    "    print(\"--It's\", state, \"!\")\n",
    "parrot(1000)\n",
    "parrot('a million', 'bareft of life', 'jump')"
   ]
  },
  {
   "cell_type": "code",
   "execution_count": 19,
   "metadata": {},
   "outputs": [
    {
     "name": "stdout",
     "output_type": "stream",
     "text": [
      "--Do you have any Limburger ?\n",
      "--I'm sorry, we're all out of Limburger\n",
      "It's very runny, sir.\n",
      "It's really very very runny, sir.\n",
      "------------------------------------------------------------\n",
      "shopkeeper : Michae Palin\n",
      "Client : John Cleese\n",
      "sketch : Cheese Shop Sketch\n"
     ]
    }
   ],
   "source": [
    "def cheeseshop(kind, *arguments, **keywords):\n",
    "    print(\"--Do you have any\", kind, \"?\")\n",
    "    print(\"--I'm sorry, we're all out of\", kind)\n",
    "    for arg in arguments:\n",
    "        print(arg)\n",
    "    print(\"-\" * 60)\n",
    "    for kw in keywords:\n",
    "        print(kw, \":\", keywords[kw])\n",
    "cheeseshop(\"Limburger\", \"It's very runny, sir.\", \n",
    "           \"It's really very very runny, sir.\", \n",
    "           shopkeeper=\"Michae Palin\", \n",
    "           Client=\"John Cleese\", \n",
    "           sketch=\"Cheese Shop Sketch\")"
   ]
  },
  {
   "cell_type": "code",
   "execution_count": 20,
   "metadata": {},
   "outputs": [
    {
     "data": {
      "text/plain": [
       "'earth/mars/venus'"
      ]
     },
     "execution_count": 20,
     "metadata": {},
     "output_type": "execute_result"
    }
   ],
   "source": [
    "def concat(*args, sep='/'):\n",
    "    return sep.join(args)\n",
    "concat(\"earth\", \"mars\", \"venus\")"
   ]
  },
  {
   "cell_type": "code",
   "execution_count": 21,
   "metadata": {},
   "outputs": [
    {
     "data": {
      "text/plain": [
       "[3, 4, 5]"
      ]
     },
     "execution_count": 21,
     "metadata": {},
     "output_type": "execute_result"
    }
   ],
   "source": [
    "list(range(3,6))\n",
    "args=[3,6]\n",
    "list(range(*args))"
   ]
  },
  {
   "cell_type": "code",
   "execution_count": 25,
   "metadata": {},
   "outputs": [
    {
     "name": "stdout",
     "output_type": "stream",
     "text": [
      "--This parrot wouldn't VOOM if you put four million volts through it. E's bleedin'demised !\n"
     ]
    }
   ],
   "source": [
    "def parrot(voltage, state='a stiff', action='voom'):\n",
    "    print(\"--This parrot wouldn't\", action, end='')\n",
    "    print(\" if you put\", voltage, \"volts through it.\", end=' ')\n",
    "    print(\"E's\", state, \"!\")\n",
    "d = {\"voltage\":\"four million\", \"state\":\"bleedin'demised\", \"action\":\"VOOM\"}\n",
    "parrot(**d)"
   ]
  },
  {
   "cell_type": "code",
   "execution_count": 2,
   "metadata": {},
   "outputs": [
    {
     "data": {
      "text/plain": [
       "44"
      ]
     },
     "execution_count": 2,
     "metadata": {},
     "output_type": "execute_result"
    }
   ],
   "source": [
    "def make_incrementor(n):\n",
    "    return lambda x: x+n\n",
    "f=make_incrementor(42)\n",
    "f(2)"
   ]
  },
  {
   "cell_type": "code",
   "execution_count": 1,
   "metadata": {},
   "outputs": [
    {
     "data": {
      "text/plain": [
       "[(4, 'four'), (1, 'one'), (3, 'three'), (2, 'two')]"
      ]
     },
     "execution_count": 1,
     "metadata": {},
     "output_type": "execute_result"
    }
   ],
   "source": [
    "pairs=[(1,'one'), (2, 'two'), (3, 'three'), (4, 'four')]\n",
    "pairs.sort(key=lambda pair: pair[1]) # sort by the second element in tuple\n",
    "pairs"
   ]
  },
  {
   "cell_type": "code",
   "execution_count": 8,
   "metadata": {},
   "outputs": [
    {
     "name": "stdout",
     "output_type": "stream",
     "text": [
      "Do nothing, but document it.\n",
      "    No, really, it doesn't do anything.\n"
     ]
    }
   ],
   "source": [
    "def my_function():\n",
    "    \"\"\"Do nothing, but document it.\n",
    "    No, really, it doesn't do anything.\"\"\"\n",
    "    pass\n",
    "print(my_function.__doc__)"
   ]
  },
  {
   "cell_type": "code",
   "execution_count": 14,
   "metadata": {},
   "outputs": [
    {
     "name": "stdout",
     "output_type": "stream",
     "text": [
      "Annotations: {'ham': <class 'str'>, 'eggs': <class 'str'>, 'return': <class 'str'>}\n",
      "Argments: mmm eggs\n"
     ]
    }
   ],
   "source": [
    "def f(ham: str, eggs:str='eggs') -> str: \n",
    "    print(\"Annotations:\", f.__annotations__)\n",
    "    print(\"Argments:\", ham, eggs)\n",
    "f('mmm')"
   ]
  },
  {
   "cell_type": "code",
   "execution_count": null,
   "metadata": {},
   "outputs": [],
   "source": [
    "list.append(x) # equivalent to: a[len(a):]=[x]\n",
    "list.extend(iterable) # equivalent to: a[len(a):]=iterable\n",
    "list.insert(i,x) # a.isert(0,x), a.insert(len(a), x) == a.append(x)\n",
    "list.remove(x) # remove first item from list\n",
    "list.pop([i]) # remove item at position i and return it.  a.pop() remove and return the last item\n",
    "list.clear() # equivalent to del a[:]\n",
    "list.index(x[,start[,end]]) # return the first item with value x, start and end are slice notation to liimit search\n",
    "list.count(x) # return No of x in list\n",
    "list.sort(key=None, reverse=False) # sort items in place\n",
    "list.reverse() \n",
    "list.copy() # equivalent to a[:]"
   ]
  },
  {
   "cell_type": "code",
   "execution_count": 22,
   "metadata": {},
   "outputs": [
    {
     "name": "stdout",
     "output_type": "stream",
     "text": [
      "2\n",
      "0\n",
      "3\n",
      "6\n",
      "['banana', 'apple', 'kiwi', 'banana', 'pear', 'apple', 'orange']\n",
      "['banana', 'apple', 'kiwi', 'banana', 'pear', 'apple', 'orange', 'grape']\n",
      "['apple', 'apple', 'banana', 'banana', 'grape', 'kiwi', 'orange', 'pear']\n",
      "pear\n"
     ]
    }
   ],
   "source": [
    "fruits = ['orange', 'apple', 'pear', 'banana', 'kiwi', 'apple', 'banana']\n",
    "print(fruits.count('apple'))\n",
    "print(fruits.count('tanerine'))\n",
    "print(fruits.index('banana'))\n",
    "print(fruits.index('banana', 4))\n",
    "fruits.reverse()\n",
    "print(fruits)\n",
    "fruits.append('grape')\n",
    "print(fruits)\n",
    "fruits.sort()\n",
    "print(fruits)\n",
    "print(fruits.pop())"
   ]
  },
  {
   "cell_type": "code",
   "execution_count": 24,
   "metadata": {},
   "outputs": [
    {
     "data": {
      "text/plain": [
       "[3, 4, 5, 6]"
      ]
     },
     "execution_count": 24,
     "metadata": {},
     "output_type": "execute_result"
    }
   ],
   "source": [
    "stack = [3, 4, 5]  # list as stack where last element added (append) is the first retrieved (pop)\n",
    "stack.append(6)  #no explicit indexing\n",
    "stack.append(7)\n",
    "stack.pop()"
   ]
  },
  {
   "cell_type": "code",
   "execution_count": 25,
   "metadata": {},
   "outputs": [
    {
     "name": "stdout",
     "output_type": "stream",
     "text": [
      "a\n",
      "e\n"
     ]
    }
   ],
   "source": [
    "from collections import deque # designed to fast append and pop from both ends of lists\n",
    "queue = deque(['a', 'b', 'c'])\n",
    "queue.append('d')\n",
    "queue.append('e')\n",
    "print(queue.popleft())\n",
    "print(queue.pop())"
   ]
  },
  {
   "cell_type": "code",
   "execution_count": 26,
   "metadata": {},
   "outputs": [
    {
     "data": {
      "text/plain": [
       "[0, 1, 4, 9, 16, 25, 36, 49, 64, 81]"
      ]
     },
     "execution_count": 26,
     "metadata": {},
     "output_type": "execute_result"
    }
   ],
   "source": [
    "squares=[]\n",
    "for x in range(10):\n",
    "    squares.append(x**2)\n",
    "squares"
   ]
  },
  {
   "cell_type": "code",
   "execution_count": 7,
   "metadata": {},
   "outputs": [
    {
     "data": {
      "text/plain": [
       "[0, 1, 4, 9, 16, 25, 36, 49, 64, 81]"
      ]
     },
     "execution_count": 7,
     "metadata": {},
     "output_type": "execute_result"
    }
   ],
   "source": [
    "squares = list(map(lambda x: x**2, range(10)))\n",
    "squares"
   ]
  },
  {
   "cell_type": "code",
   "execution_count": 8,
   "metadata": {},
   "outputs": [
    {
     "data": {
      "text/plain": [
       "[0, 1, 4, 9, 16, 25, 36, 49, 64, 81]"
      ]
     },
     "execution_count": 8,
     "metadata": {},
     "output_type": "execute_result"
    }
   ],
   "source": [
    "squares = [x**2 for x in range(10)]  # list comprehension\n",
    "squares"
   ]
  },
  {
   "cell_type": "code",
   "execution_count": 9,
   "metadata": {},
   "outputs": [
    {
     "data": {
      "text/plain": [
       "[(1, 3), (1, 4), (2, 3), (2, 1), (2, 4), (3, 1), (3, 4)]"
      ]
     },
     "execution_count": 9,
     "metadata": {},
     "output_type": "execute_result"
    }
   ],
   "source": [
    "[(x,y) for x in [1,2,3] for y in [3,1,4] if x!=y]"
   ]
  },
  {
   "cell_type": "code",
   "execution_count": 4,
   "metadata": {},
   "outputs": [
    {
     "data": {
      "text/plain": [
       "[(1, 3), (1, 4), (2, 3), (2, 1), (2, 4), (3, 1), (3, 4)]"
      ]
     },
     "execution_count": 4,
     "metadata": {},
     "output_type": "execute_result"
    }
   ],
   "source": [
    "combs= []\n",
    "for x in [1,2,3]:\n",
    "    for y in [3,1,4]:\n",
    "        if x!=y:\n",
    "            combs.append((x,y))\n",
    "combs"
   ]
  },
  {
   "cell_type": "code",
   "execution_count": 6,
   "metadata": {},
   "outputs": [
    {
     "data": {
      "text/plain": [
       "['banana', 'loganberry', 'passion fruit']"
      ]
     },
     "execution_count": 6,
     "metadata": {},
     "output_type": "execute_result"
    }
   ],
   "source": [
    "freshfruit = ['   banana', '   loganberry', 'passion fruit  ']\n",
    "[weapon.strip() for weapon in freshfruit]"
   ]
  },
  {
   "cell_type": "code",
   "execution_count": 7,
   "metadata": {},
   "outputs": [
    {
     "data": {
      "text/plain": [
       "[(0, 0), (1, 1), (2, 4), (3, 9), (4, 16), (5, 25)]"
      ]
     },
     "execution_count": 7,
     "metadata": {},
     "output_type": "execute_result"
    }
   ],
   "source": [
    "[(x, x**2) for x in range(6)]"
   ]
  },
  {
   "cell_type": "code",
   "execution_count": 8,
   "metadata": {},
   "outputs": [
    {
     "data": {
      "text/plain": [
       "[1, 2, 3, 4, 5, 6, 7, 8, 9]"
      ]
     },
     "execution_count": 8,
     "metadata": {},
     "output_type": "execute_result"
    }
   ],
   "source": [
    "vec = [[1,2,3,], [4,5,6], [7,8,9]]\n",
    "[num for elem in vec for num in elem] #flatten a list using list comprehension with to 'for'"
   ]
  },
  {
   "cell_type": "code",
   "execution_count": 9,
   "metadata": {},
   "outputs": [
    {
     "data": {
      "text/plain": [
       "['3.1', '3.14', '3.142', '3.1416', '3.14159']"
      ]
     },
     "execution_count": 9,
     "metadata": {},
     "output_type": "execute_result"
    }
   ],
   "source": [
    "from math import pi\n",
    "[str(round(pi,i)) for i in range(1,6)]"
   ]
  },
  {
   "cell_type": "code",
   "execution_count": null,
   "metadata": {},
   "outputs": [],
   "source": [
    "matrix = [\n",
    "    [1,2,3,4],\n",
    "    [5,6,7,8],\n",
    "    [9,10,11,12],\n",
    "]\n",
    "[[low[i] for low in matrix] for i in range(4)] # making lists of ith elements from each original row"
   ]
  },
  {
   "cell_type": "code",
   "execution_count": null,
   "metadata": {},
   "outputs": [],
   "source": [
    "t=[]\n",
    "for i in range(4):\n",
    "    n=[]\n",
    "    for row in matrix:\n",
    "        n.append(row[i])\n",
    "    t.append(n)\n",
    "t"
   ]
  },
  {
   "cell_type": "code",
   "execution_count": 44,
   "metadata": {},
   "outputs": [
    {
     "data": {
      "text/plain": [
       "[[1, 5, 9], [2, 6, 10], [3, 7, 11], [4, 8, 12]]"
      ]
     },
     "execution_count": 44,
     "metadata": {},
     "output_type": "execute_result"
    }
   ],
   "source": [
    "transposed = []\n",
    "for i in range(4):\n",
    "    transposed.append([row[i] for row in matrix])\n",
    "transposed"
   ]
  },
  {
   "cell_type": "code",
   "execution_count": 2,
   "metadata": {},
   "outputs": [
    {
     "data": {
      "text/plain": [
       "['A3', 'B3', 'A4', 'B4']"
      ]
     },
     "execution_count": 2,
     "metadata": {},
     "output_type": "execute_result"
    }
   ],
   "source": [
    "str1 = 'AB'\n",
    "str2 = '34'\n",
    "[x+y for y in str2 for x in str1]"
   ]
  },
  {
   "cell_type": "code",
   "execution_count": 13,
   "metadata": {},
   "outputs": [
    {
     "data": {
      "text/plain": [
       "['A3', 'B3', 'A4', 'B4']"
      ]
     },
     "execution_count": 13,
     "metadata": {},
     "output_type": "execute_result"
    }
   ],
   "source": [
    "s=[]\n",
    "for y in str2:\n",
    "    for x in str1:\n",
    "        s.append(x+y)\n",
    "s"
   ]
  },
  {
   "cell_type": "code",
   "execution_count": 22,
   "metadata": {},
   "outputs": [
    {
     "data": {
      "text/plain": [
       "[['A3', 'A4'], ['B3', 'B4']]"
      ]
     },
     "execution_count": 22,
     "metadata": {},
     "output_type": "execute_result"
    }
   ],
   "source": [
    "[[x+y for y in str2] for x in str1]"
   ]
  },
  {
   "cell_type": "code",
   "execution_count": 5,
   "metadata": {},
   "outputs": [
    {
     "data": {
      "text/plain": [
       "[1, 2, 3, 4, 5, 6, 7, 8]"
      ]
     },
     "execution_count": 5,
     "metadata": {},
     "output_type": "execute_result"
    }
   ],
   "source": [
    "non_flat = [ [1,2,3], [4,5,6], [7,8] ]\n",
    "[y for x in non_flat for y in x]"
   ]
  },
  {
   "cell_type": "code",
   "execution_count": 6,
   "metadata": {},
   "outputs": [],
   "source": [
    "for x in non_flat:\n",
    "    for y in x:\n",
    "        y"
   ]
  },
  {
   "cell_type": "code",
   "execution_count": null,
   "metadata": {},
   "outputs": [],
   "source": [
    "for x in non_flat:\n",
    "    if len(x) > 2\n",
    "        for y in x:\n",
    "            y"
   ]
  },
  {
   "cell_type": "code",
   "execution_count": 7,
   "metadata": {},
   "outputs": [
    {
     "data": {
      "text/plain": [
       "[1, 2, 3, 4, 5, 6]"
      ]
     },
     "execution_count": 7,
     "metadata": {},
     "output_type": "execute_result"
    }
   ],
   "source": [
    "[ y for x in non_flat if len(x) > 2 for y in x ]"
   ]
  },
  {
   "cell_type": "code",
   "execution_count": null,
   "metadata": {},
   "outputs": [],
   "source": [
    "# get a list of all the letters of the words along with the index of the list they belong to\n",
    "# but only for words with more than two characters\n",
    "strings = [ ['foo', 'bar'], ['baz', 'taz'], ['w', 'koko'] ]\n",
    "[ (letter, idx) for idx, lst in enumerate(strings) for word in lst if len(word)>2 for letter in word]"
   ]
  },
  {
   "cell_type": "code",
   "execution_count": 35,
   "metadata": {},
   "outputs": [
    {
     "data": {
      "text/plain": [
       "[('f', 0),\n",
       " ('o', 0),\n",
       " ('o', 0),\n",
       " ('b', 0),\n",
       " ('a', 0),\n",
       " ('r', 0),\n",
       " ('b', 1),\n",
       " ('a', 1),\n",
       " ('z', 1),\n",
       " ('t', 1),\n",
       " ('a', 1),\n",
       " ('z', 1),\n",
       " ('k', 2),\n",
       " ('o', 2),\n",
       " ('k', 2),\n",
       " ('o', 2)]"
      ]
     },
     "execution_count": 35,
     "metadata": {},
     "output_type": "execute_result"
    }
   ],
   "source": [
    "strings = [ ['foo', 'bar'], ['baz', 'taz'], ['w', 'koko'] ]\n",
    "s= []\n",
    "for idx, lst in enumerate(strings):\n",
    "    for word in lst:\n",
    "        if len(word)>2:\n",
    "            for letter in word:\n",
    "                s.append((letter, idx))\n",
    "s"
   ]
  },
  {
   "cell_type": "code",
   "execution_count": 45,
   "metadata": {},
   "outputs": [
    {
     "data": {
      "text/plain": [
       "[(1, 5, 9), (2, 6, 10), (3, 7, 11), (4, 8, 12)]"
      ]
     },
     "execution_count": 45,
     "metadata": {},
     "output_type": "execute_result"
    }
   ],
   "source": [
    "list(zip(*matrix))"
   ]
  },
  {
   "cell_type": "code",
   "execution_count": 47,
   "metadata": {},
   "outputs": [
    {
     "data": {
      "text/plain": [
       "((123, 321, 'hello'), [1, 2, 3, 4, 5])"
      ]
     },
     "execution_count": 47,
     "metadata": {},
     "output_type": "execute_result"
    }
   ],
   "source": [
    "t = 123, 321, 'hello'  # tuples are not immutable, but can contain mutable objects\n",
    "u = t, [1,2,3,4,5]\n",
    "u"
   ]
  },
  {
   "cell_type": "code",
   "execution_count": 55,
   "metadata": {},
   "outputs": [
    {
     "name": "stdout",
     "output_type": "stream",
     "text": [
      "len(empty): 0\n",
      "len(single): 1\n",
      "single: ('hello',)\n",
      "len(s): 5\n"
     ]
    }
   ],
   "source": [
    "empty=()\n",
    "single = 'hello',\n",
    "print('len(empty):', len(empty))\n",
    "print('len(single):',len(single))\n",
    "print('single:',single)\n",
    "s='hello'\n",
    "print('len(s):', len(s))"
   ]
  },
  {
   "cell_type": "code",
   "execution_count": 64,
   "metadata": {},
   "outputs": [
    {
     "data": {
      "text/plain": [
       "123"
      ]
     },
     "execution_count": 64,
     "metadata": {},
     "output_type": "execute_result"
    }
   ],
   "source": [
    "x,y,z = t # sequence unpacking\n",
    "x"
   ]
  },
  {
   "cell_type": "code",
   "execution_count": 98,
   "metadata": {},
   "outputs": [
    {
     "name": "stdout",
     "output_type": "stream",
     "text": [
      "{'pear', 'banana', 'orange', 'apple'}\n",
      "apple\n",
      "banana\n",
      "orange\n",
      "pear\n"
     ]
    }
   ],
   "source": [
    "basket = {'apple', 'orange', 'apple', 'pear', 'orange', 'banana'} #set\n",
    "print(basket) # duplicate has been removed\n",
    "'orange' in basket\n",
    "for f in sorted(set(basket)):\n",
    "    print(f)"
   ]
  },
  {
   "cell_type": "code",
   "execution_count": 71,
   "metadata": {},
   "outputs": [
    {
     "name": "stdout",
     "output_type": "stream",
     "text": [
      "{'b', 'c', 'd', 'n', 'r', 'm', 'a'}\n",
      "{'m', 'b', 'c', 'd'}\n",
      "{'b', 'c', 'd', 'k', 'n', 'r', 'h', 't', 'j', 'm', 'a'}\n",
      "{'n', 'a', 'r'}\n",
      "{'b', 'c', 'd', 'h', 'm', 't', 'j', 'k'}\n"
     ]
    }
   ],
   "source": [
    "a = set('abrncmdr')\n",
    "b = set('akrnrhtjj')\n",
    "print(a) # unique letters in a\n",
    "print(a-b) # letters in a but not b\n",
    "print(a|b) # letters in a or b\n",
    "print(a&b) # letters in a and b\n",
    "print(a^b) # letter in a or b, but not both"
   ]
  },
  {
   "cell_type": "code",
   "execution_count": 72,
   "metadata": {},
   "outputs": [
    {
     "data": {
      "text/plain": [
       "{'d', 'r'}"
      ]
     },
     "execution_count": 72,
     "metadata": {},
     "output_type": "execute_result"
    }
   ],
   "source": [
    "a = {x for x in 'abracadbra' if x not in 'abc'} #set comprehension\n",
    "a"
   ]
  },
  {
   "cell_type": "code",
   "execution_count": null,
   "metadata": {},
   "outputs": [],
   "source": [
    "list(d.keys()) # returns a list of all the keys used in the dict, in arbitrary order\n",
    "sorted(d.keys()) # will sort the keys"
   ]
  },
  {
   "cell_type": "code",
   "execution_count": 78,
   "metadata": {},
   "outputs": [
    {
     "name": "stdout",
     "output_type": "stream",
     "text": [
      "{'jack': 4098, 'saoe': 4139, 'sam': 3145, 'guido': 4228}\n",
      "4098\n",
      "{'jack': 4098, 'sam': 3145, 'guido': 4228}\n",
      "['jack', 'sam', 'guido']\n"
     ]
    },
    {
     "data": {
      "text/plain": [
       "True"
      ]
     },
     "execution_count": 78,
     "metadata": {},
     "output_type": "execute_result"
    }
   ],
   "source": [
    "tel = {'jack':4098,'saoe':4139, 'sam': 3145}\n",
    "tel['guido'] = 4228\n",
    "print(tel)\n",
    "print(tel['jack'])\n",
    "del tel['saoe']\n",
    "print(tel)\n",
    "print(list(tel.keys()))\n",
    "'jack' in tel"
   ]
  },
  {
   "cell_type": "code",
   "execution_count": 80,
   "metadata": {},
   "outputs": [
    {
     "data": {
      "text/plain": [
       "{'jack': 4098, 'saoe': 4139, 'sam': 3145}"
      ]
     },
     "execution_count": 80,
     "metadata": {},
     "output_type": "execute_result"
    }
   ],
   "source": [
    "dict([('jack',4098),('saoe',4139), ('sam', 3145)])"
   ]
  },
  {
   "cell_type": "code",
   "execution_count": 84,
   "metadata": {},
   "outputs": [
    {
     "data": {
      "text/plain": [
       "{'jack': 4098, 'saoe': 4139, 'sam': 3145}"
      ]
     },
     "execution_count": 84,
     "metadata": {},
     "output_type": "execute_result"
    }
   ],
   "source": [
    "dict(jack=4098, saoe=4139, sam=3145)"
   ]
  },
  {
   "cell_type": "code",
   "execution_count": 87,
   "metadata": {},
   "outputs": [
    {
     "data": {
      "text/plain": [
       "{2: 4, 4: 16, 6: 36}"
      ]
     },
     "execution_count": 87,
     "metadata": {},
     "output_type": "execute_result"
    }
   ],
   "source": [
    "{x:x**2 for x in (2,4,6)}"
   ]
  },
  {
   "cell_type": "code",
   "execution_count": 89,
   "metadata": {},
   "outputs": [
    {
     "name": "stdout",
     "output_type": "stream",
     "text": [
      "jack : 4098\n",
      "saoe : 4139\n",
      "sam : 3145\n"
     ]
    }
   ],
   "source": [
    "tel = {'jack':4098,'saoe':4139, 'sam': 3145}\n",
    "for i, j in tel.items():\n",
    "    print(i,':', j)"
   ]
  },
  {
   "cell_type": "code",
   "execution_count": 90,
   "metadata": {},
   "outputs": [
    {
     "name": "stdout",
     "output_type": "stream",
     "text": [
      "0 tic\n",
      "1 tac\n",
      "2 toe\n"
     ]
    }
   ],
   "source": [
    "for i, v in enumerate(['tic', 'tac', 'toe']): #loop through a sesquence using position index\n",
    "    print(i,v)"
   ]
  },
  {
   "cell_type": "code",
   "execution_count": 95,
   "metadata": {},
   "outputs": [
    {
     "name": "stdout",
     "output_type": "stream",
     "text": [
      "What is your name?  It is lancelolt.\n",
      "What is your quest?  It is the holly grail.\n",
      "What is your favorite color?  It is blue.\n",
      "[('name', 'lancelolt'), ('quest', 'the holly grail'), ('favorite color', 'blue')]\n"
     ]
    }
   ],
   "source": [
    "questions = ['name', 'quest', 'favorite color']\n",
    "answers = ['lancelolt', 'the holly grail', 'blue']\n",
    "for q, a in zip(questions, answers):\n",
    "    print('What is your {0}?  It is {1}.'.format(q,a))\n",
    "print(list(zip(questions, answers)))"
   ]
  },
  {
   "cell_type": "code",
   "execution_count": 97,
   "metadata": {},
   "outputs": [
    {
     "name": "stdout",
     "output_type": "stream",
     "text": [
      "7\n",
      "4\n",
      "1\n"
     ]
    }
   ],
   "source": [
    "for i in reversed(range(1,10,3)):\n",
    "    print(i)"
   ]
  },
  {
   "cell_type": "code",
   "execution_count": 99,
   "metadata": {},
   "outputs": [
    {
     "data": {
      "text/plain": [
       "[56.2, 51.7, 55.3, 52.5, 47.8]"
      ]
     },
     "execution_count": 99,
     "metadata": {},
     "output_type": "execute_result"
    }
   ],
   "source": [
    "import math\n",
    "raw_data = [56.2, float('NaN'), 51.7, 55.3, 52.5, float('NaN'), 47.8]\n",
    "filtered_data = []\n",
    "for value in raw_data:\n",
    "    if not math.isnan(value):\n",
    "        filtered_data.append(value)\n",
    "filtered_data"
   ]
  },
  {
   "cell_type": "code",
   "execution_count": null,
   "metadata": {},
   "outputs": [],
   "source": [
    "# boolean 'not' has the highest priority 'and' 'or' the lowest.  \n",
    "# (A and not B or C) is equivalent to (A and (not B)) or C"
   ]
  },
  {
   "cell_type": "code",
   "execution_count": 102,
   "metadata": {},
   "outputs": [
    {
     "data": {
      "text/plain": [
       "'Tribdheim'"
      ]
     },
     "execution_count": 102,
     "metadata": {},
     "output_type": "execute_result"
    }
   ],
   "source": [
    "string1, string2, string3 = '', 'Tribdheim', 'Hammer Dance'\n",
    "non_null = string1 or string2 or string3\n",
    "non_null"
   ]
  },
  {
   "cell_type": "code",
   "execution_count": null,
   "metadata": {},
   "outputs": [],
   "source": [
    "# lexicograpgical ordering\n",
    "[(]1,2,3] < [1,2,4]\n",
    "'ABC' < 'C' < 'Pascal'\n",
    "(1,2,3,4,) < (1,2,4)\n",
    "  (1,2) < (1,2,-1)\n",
    "  (1,2,3,) == (1.0, 2.0, 3.0)\n",
    "  (1,2,('aa', 'ab')) < (1,2,('abc', 'a'))"
   ]
  },
  {
   "cell_type": "code",
   "execution_count": 15,
   "metadata": {},
   "outputs": [],
   "source": [
    "# Within a module, the module name is available as the value of the global variable __name__\n",
    "# import sys\n",
    "# sys.path.insert(0, 'C:\\\\Users\\\\Xueho\\\\Documents\\\\Modules\\\\XL-exce')\n",
    "# sys.path.append('C:/Users/Xueho/Documents/Modules/XL-exce')\n",
    "# import fibo\n",
    "# since you added the folder to your path, you have to specify it as 'import folder.file' and then you can do\n",
    "# folder.file.function()\n",
    "# include a file contains '__init__.py' in folder so to use a command like: python -m folder.main\n",
    "# it will understand all imports from files inside the folder without having to do any of the sys.path.insert() calls\n",
    "\n",
    "# Fibonacci numbers module.  save it as fibo.py\n",
    "\n",
    "def fib(n):\n",
    "    a,b = 0,1\n",
    "    while b<n:\n",
    "        print(b, '', end=\"\")\n",
    "        a,b = b, a+b\n",
    "    print()\n",
    "    \n",
    "def fib2(n):\n",
    "    result = []\n",
    "    a,b = 0,1\n",
    "    while b < n:\n",
    "        a,b = b, a+b\n",
    "        result.append(a)\n",
    "    return result"
   ]
  },
  {
   "cell_type": "code",
   "execution_count": 17,
   "metadata": {},
   "outputs": [
    {
     "name": "stdout",
     "output_type": "stream",
     "text": [
      "1 1 2 3 5 8 13 21 34 55 89 \n"
     ]
    },
    {
     "data": {
      "text/plain": [
       "[1, 1, 2, 3, 5, 8, 13, 21, 34, 55, 89]"
      ]
     },
     "execution_count": 17,
     "metadata": {},
     "output_type": "execute_result"
    }
   ],
   "source": [
    "fib(100)\n",
    "fib2(100)"
   ]
  },
  {
   "cell_type": "code",
   "execution_count": null,
   "metadata": {},
   "outputs": [],
   "source": [
    "from fibo import fib, fib2\n",
    "fib(500)\n",
    "from fibo import fib as fibonacci"
   ]
  },
  {
   "cell_type": "code",
   "execution_count": null,
   "metadata": {},
   "outputs": [],
   "source": [
    "if __name__ == \"__main__\":  # can make file usable as a script as well as an importable module\n",
    "    import sys\n",
    "    fib(int(sys.argv[1]))\n",
    "python fibo.py 50 #this will run, but if module is imported, the code will not run. "
   ]
  },
  {
   "cell_type": "code",
   "execution_count": null,
   "metadata": {},
   "outputs": [],
   "source": [
    "import sys\n",
    "dir(sys)\n",
    "sys.path"
   ]
  },
  {
   "cell_type": "code",
   "execution_count": null,
   "metadata": {},
   "outputs": [],
   "source": [
    "# package =  collection of modules\n",
    "# sound/\n",
    "#   Top-level package\n",
    "#   __init__.py\n",
    "#   formats/\n",
    "#       __init__.py\n",
    "#       wavread.py\n",
    "#       aiffread.py .....\n",
    "#   effects/\n",
    "#       __init__.py\n",
    "#       echo.py\n",
    "#       surround.py ....\n",
    "\n",
    "# when importing, python searches through the directories on syss.path, \n",
    "# __init__ make python treat the directories as containing packages\n",
    "\n",
    "import sound.effects.echo\n",
    "sound.effects.echo.echofilter(input, output, delay=0.7, atten=4)\n",
    "from sound.effects import echo\n",
    "echo.echofilter(input, output, delay=0.7, atten=4)\n",
    "from sound.effects.echo import echofilter\n",
    "echofilter(input, output, delay=0.7, atten=4)\n",
    "\n",
    "# if file sound/effects/__init__.py contains '__all__ =[\"echo\", \"surround\", \"reverse\"]', \n",
    "# import * will import all three modules\n",
    "# recommend to use 'from Package import specific_submodule'"
   ]
  },
  {
   "cell_type": "code",
   "execution_count": null,
   "metadata": {},
   "outputs": [],
   "source": [
    "# Input and Output"
   ]
  },
  {
   "cell_type": "code",
   "execution_count": 4,
   "metadata": {},
   "outputs": [
    {
     "name": "stdout",
     "output_type": "stream",
     "text": [
      "hello world.\n",
      "'hello world.'\n"
     ]
    }
   ],
   "source": [
    "# FAcier output: string handling & formatted string literals [str.format() method] or Template from String module\n",
    "s= 'hello world.'\n",
    "print(str(s))\n",
    "print(repr(s)) #repr() of string adds string quotes and backslashes"
   ]
  },
  {
   "cell_type": "code",
   "execution_count": 11,
   "metadata": {},
   "outputs": [
    {
     "name": "stdout",
     "output_type": "stream",
     "text": [
      " 1   1    1\n",
      " 2   4    8\n",
      " 3   9   27\n",
      " 4  16   64\n"
     ]
    },
    {
     "data": {
      "text/plain": [
       "'00012'"
      ]
     },
     "execution_count": 11,
     "metadata": {},
     "output_type": "execute_result"
    }
   ],
   "source": [
    "for x in range(1, 5):\n",
    "    print(repr(x).rjust(2), repr(x*x).rjust(3), end = ' ')\n",
    "    print(repr(x*x*x).rjust(4)) "
   ]
  },
  {
   "cell_type": "code",
   "execution_count": 10,
   "metadata": {},
   "outputs": [
    {
     "name": "stdout",
     "output_type": "stream",
     "text": [
      " 1   1    1\n",
      " 2   4    8\n",
      " 3   9   27\n",
      " 4  16   64\n"
     ]
    }
   ],
   "source": [
    "for x in range(1, 5):\n",
    "    print('{0:2d} {1:3d} {2:4d}'.format(x, x*x, x*x*x))"
   ]
  },
  {
   "cell_type": "code",
   "execution_count": 19,
   "metadata": {},
   "outputs": [
    {
     "name": "stdout",
     "output_type": "stream",
     "text": [
      "We are the knights who say Ni!\n",
      "eggs and spam\n",
      "This spam is absolutely horrible.\n",
      "The story of Bill, Manfred and Georg.\n"
     ]
    }
   ],
   "source": [
    "# rjust: right justify. also str.ljust() and str.center().  x.ljust(n)[:n]\n",
    "# str.zfill() pads a numeric string on the left with zeros\n",
    "\n",
    "'12'.zfill(5)\n",
    "print('We are the {} who say {}!'.format('knights', 'Ni'))\n",
    "print('{1} and {0}'.format('spam', 'eggs'))\n",
    "print('This {food} is {adjective}.'.format(food='spam', adjective='absolutely horrible'))\n",
    "print('The story of {0}, {1} and {other}.'.format('Bill', 'Manfred', other='Georg'))"
   ]
  },
  {
   "cell_type": "code",
   "execution_count": 21,
   "metadata": {},
   "outputs": [
    {
     "name": "stdout",
     "output_type": "stream",
     "text": [
      "My hovercraft is full of eels.\n",
      "My hovercraft is full of 'eels'.\n"
     ]
    }
   ],
   "source": [
    "# '!a' apply ascii(), '!s' apply str(), '!r' apply repr : to convert the value before it is formatted\n",
    "contents = 'eels'\n",
    "print('My hovercraft is full of {}.'.format(contents))\n",
    "print('My hovercraft is full of {!r}.'.format(contents))"
   ]
  },
  {
   "cell_type": "code",
   "execution_count": 24,
   "metadata": {},
   "outputs": [
    {
     "name": "stdout",
     "output_type": "stream",
     "text": [
      "The value of PI is approaximately 3.142.\n"
     ]
    }
   ],
   "source": [
    "import math\n",
    "print('The value of PI is approaximately {0:.3f}.'.format(math.pi))"
   ]
  },
  {
   "cell_type": "code",
   "execution_count": 30,
   "metadata": {},
   "outputs": [
    {
     "name": "stdout",
     "output_type": "stream",
     "text": [
      "Sjoerd     ==>       4127\n",
      "Jack       ==>       4098\n",
      "Dcab       ==>       7678\n",
      "\n",
      " Jack: 4098; Sjoerd: 4127; Dcab: 7678\n",
      "\n",
      " Jack: 4098; Sjoerd: 4127; Dcab: 7678\n"
     ]
    }
   ],
   "source": [
    "table = {'Sjoerd':4127, 'Jack': 4098, 'Dcab':7678}\n",
    "for name, phone in table.items():\n",
    "    print('{0:10} ==> {1:10d}'.format(name, phone))\n",
    "print('\\n', 'Jack: {0[Jack]:d}; Sjoerd: {0[Sjoerd]:d}; Dcab: {0[Dcab]:d}'.format(table))\n",
    "print('\\n', 'Jack: {Jack:d}; Sjoerd: {Sjoerd:d}; Dcab: {Dcab:d}'.format(**table))"
   ]
  },
  {
   "cell_type": "code",
   "execution_count": 36,
   "metadata": {},
   "outputs": [
    {
     "name": "stdout",
     "output_type": "stream",
     "text": [
      "The value of PI is approaximately 3.142.\n"
     ]
    }
   ],
   "source": [
    "import math\n",
    "print('The value of PI is approaximately %4.3f.'% math.pi)"
   ]
  },
  {
   "cell_type": "code",
   "execution_count": null,
   "metadata": {},
   "outputs": [],
   "source": [
    "# Reading and writing files\n",
    "# f = open('workfile', 'w'), r=read, w=write, a=open file for appending, r+=open file for both read and write\n",
    "# with open('workfile') as f:\n",
    "#    read_data = f.read()\n",
    "#    f.closed\n",
    "\n",
    "# f.readline()   read() only return strings"
   ]
  },
  {
   "cell_type": "code",
   "execution_count": null,
   "metadata": {},
   "outputs": [],
   "source": [
    "for line in f:\n",
    "    print(line, end='')\n",
    "list(f) or f.readline() # to read all the lines of a file\n",
    "f.write(string) \n",
    "f.write('This is a test\\n')\n",
    "f.tell() # returns an integer representing the number of bytes from the begining in binary mode\n",
    "f.seek(offset, from_what) # change file objects p;osiiton"
   ]
  },
  {
   "cell_type": "code",
   "execution_count": 38,
   "metadata": {},
   "outputs": [
    {
     "data": {
      "text/plain": [
       "'[1, \"simple\", \"list\"]'"
      ]
     },
     "execution_count": 38,
     "metadata": {},
     "output_type": "execute_result"
    }
   ],
   "source": [
    "# saving structurd data with JSON (JavaScript Object Notation, http://json.org) to serializing\n",
    "import json\n",
    "json.dumps([1, 'simple', 'list'])\n",
    "json.dump(x,f)\n",
    "x=json.load(f)  # if f is a text_file object"
   ]
  },
  {
   "cell_type": "code",
   "execution_count": null,
   "metadata": {},
   "outputs": [],
   "source": [
    "# pickle is a protocol allowing the serialization of arbitrarily complex python object, but insecure"
   ]
  },
  {
   "cell_type": "code",
   "execution_count": 83,
   "metadata": {},
   "outputs": [
    {
     "name": "stdout",
     "output_type": "stream",
     "text": [
      "B\n",
      "B\n",
      "D\n"
     ]
    }
   ],
   "source": [
    "# a class in an except clause is compatible with an exception if it is hte same class or a base class.\n",
    "class B(Exception):\n",
    "    pass\n",
    "class C(B):\n",
    "    pass\n",
    "class D(C):\n",
    "    pass\n",
    "for cls in [B,C,D]:\n",
    "    try:\n",
    "        raise cls()\n",
    "    except D:\n",
    "        print(\"D\")\n",
    "    except C:\n",
    "        print(\"C\")\n",
    "    except B:\n",
    "        print(\"B\")"
   ]
  },
  {
   "cell_type": "code",
   "execution_count": null,
   "metadata": {},
   "outputs": [],
   "source": []
  },
  {
   "cell_type": "code",
   "execution_count": 57,
   "metadata": {},
   "outputs": [],
   "source": [
    "# use raise to throw an exception if a condition occurs, to force an exception\n",
    "# The program comes to a halt and displays the exception, offering clues about what went wrong\n",
    "x = 4\n",
    "if x > 5:\n",
    "    raise Exception('x should not exceed 5. The value of x was: {}'.format(x))"
   ]
  },
  {
   "cell_type": "code",
   "execution_count": 61,
   "metadata": {},
   "outputs": [],
   "source": [
    "# To assert that a certain condition is met. If condition is True, the program continues.  \n",
    "# if condition is False, you can have the program throw an AssertionError exception.\n",
    "import sys  \n",
    "# the assertion passes if run this code on a Linux machine\n",
    "assert ('linux' in sys.platform), \"This code runs on Linux only.\""
   ]
  },
  {
   "cell_type": "code",
   "execution_count": 70,
   "metadata": {},
   "outputs": [
    {
     "name": "stdout",
     "output_type": "stream",
     "text": [
      "Function can only run on Linux systems.\n",
      "The linux_interaction() function was not executed\n"
     ]
    }
   ],
   "source": [
    "# Python executes code following the try statement as a “normal” part of the program\n",
    "# The code that follows the except statement is the program’s response to any exceptions in the preceding try clause\n",
    "\n",
    "def linux_interaction():\n",
    "    assert ('linux' in sys.platform), \"Function can only run on Linux systems.\"\n",
    "    print('Doing something.')\n",
    "try:\n",
    "    linux_interaction()\n",
    "except AssertionError as error:\n",
    "    print(error)\n",
    "    print('The linux_interaction() function was not executed')"
   ]
  },
  {
   "cell_type": "code",
   "execution_count": null,
   "metadata": {},
   "outputs": [],
   "source": [
    "try:\n",
    "    with open('file.log') as file:\n",
    "        read_data = file.read()\n",
    "except FileNotFoundError as fnf_error:\n",
    "    print(fnf_error)"
   ]
  },
  {
   "cell_type": "code",
   "execution_count": null,
   "metadata": {},
   "outputs": [],
   "source": [
    "# execute a certain block of code only in the absence of exceptions\n",
    "try:\n",
    "    linux_interaction()\n",
    "except AssertionError as error:\n",
    "    print(error)\n",
    "else:\n",
    "    print('Executing the else clause.')"
   ]
  },
  {
   "cell_type": "code",
   "execution_count": null,
   "metadata": {},
   "outputs": [],
   "source": [
    "try:\n",
    "    linux_interaction()\n",
    "except AssertionError as error:\n",
    "    print(error)\n",
    "else:\n",
    "    try:\n",
    "        with open('file.log') as file:\n",
    "            read_data = file.read()\n",
    "    except FileNotFoundError as fnf_error:\n",
    "        print(fnf_error)"
   ]
  },
  {
   "cell_type": "code",
   "execution_count": null,
   "metadata": {},
   "outputs": [],
   "source": [
    "try:\n",
    "    linux_interaction()\n",
    "except AssertionError as error:\n",
    "    print(error)\n",
    "else:\n",
    "    try:\n",
    "        with open('file.log') as file:\n",
    "            read_data = file.read()\n",
    "    except FileNotFoundError as fnf_error:\n",
    "        print(fnf_error)\n",
    "finally:\n",
    "    print('Cleaning up, irrespective of any exceptions.')"
   ]
  },
  {
   "cell_type": "code",
   "execution_count": null,
   "metadata": {},
   "outputs": [],
   "source": [
    "# id we don’t want to catch Exception, what do we do instead?\n",
    "import traceback\n",
    "\n",
    "def log_traceback(ex):\n",
    "    tb_lines = traceback.format_exception(ex.__class__, ex, ex.__traceback__)\n",
    "    tb_text = ''.join(tb_lines)\n",
    "    # I'll let you implement the ExceptionLogger class,\n",
    "    # and the timestamping.\n",
    "    exception_logger.log(tb_text)\n",
    "\n",
    "try:\n",
    "    x = get_number()\n",
    "except Exception as ex:\n",
    "    log_traceback(ex)"
   ]
  },
  {
   "cell_type": "code",
   "execution_count": null,
   "metadata": {},
   "outputs": [],
   "source": [
    "import sys\n",
    "try:\n",
    "    f = open('myfile.txt')\n",
    "    s =s f.readline()\n",
    "    i = int(s.strip())\n",
    "except OSError as err:\n",
    "    print(\"OS error: {0}\".format(err))\n",
    "except ValueError:\n",
    "    print(\"Could not convert data to an integer.\")\n",
    "except:\n",
    "    print(\"Unexpectederror:\", sys.exc_info()[0])\n",
    "    raise"
   ]
  },
  {
   "cell_type": "code",
   "execution_count": null,
   "metadata": {},
   "outputs": [],
   "source": [
    "for arg in sys.argv[1:]:\n",
    "    try:\n",
    "        f= open(arg, 'r')\n",
    "    except OSError:\n",
    "        print('cannot open', arg)\n",
    "    else:\n",
    "        print(arg, 'has', len(f.readline()), 'lines')\n",
    "        f.close()"
   ]
  },
  {
   "cell_type": "code",
   "execution_count": 87,
   "metadata": {},
   "outputs": [
    {
     "name": "stdout",
     "output_type": "stream",
     "text": [
      "<class 'Exception'>\n",
      "('spam ', 'eggs')\n",
      "('spam ', 'eggs')\n",
      "x= spam \n",
      "y= eggs\n"
     ]
    }
   ],
   "source": [
    "# the exception instance defines __str__() so the arguments can be printed directly without having to reference .args\n",
    "try:\n",
    "    raise Exception('spam ', 'eggs')\n",
    "except Exception as inst:\n",
    "    print(type(inst)) # the exception instance\n",
    "    print(inst.args) # arguments stored in args\n",
    "    print(inst) # __str__ allows args to be printed directly, but maybe overidden in exception subclauses\n",
    "    x, y = inst.args # unpack args\n",
    "    print('x=', x)\n",
    "    print('y=', y)"
   ]
  },
  {
   "cell_type": "code",
   "execution_count": 86,
   "metadata": {},
   "outputs": [
    {
     "name": "stdout",
     "output_type": "stream",
     "text": [
      "Handling run-time error: division by zero\n"
     ]
    }
   ],
   "source": [
    "def this_fails():\n",
    "    x= 1/0\n",
    "try: this_fails()\n",
    "except ZeroDivisionError as err:\n",
    "    print('Handling run-time error:', err)"
   ]
  },
  {
   "cell_type": "code",
   "execution_count": 89,
   "metadata": {},
   "outputs": [
    {
     "name": "stdout",
     "output_type": "stream",
     "text": [
      "after local assignment: test spam\n",
      "After nonlocal assignment: test spam\n",
      "After global assignment: test spam\n",
      "In global scope: global spam\n"
     ]
    }
   ],
   "source": [
    "def scope_test():\n",
    "    def do_local():\n",
    "        spam = 'local spam'\n",
    "    def do_nonlocal():\n",
    "        spam = 'nonlocal spam'\n",
    "    def do_global():\n",
    "        global spam\n",
    "        spam = 'global spam'\n",
    "    spam = 'test spam'\n",
    "    do_local()\n",
    "    print('after local assignment:', spam)\n",
    "    do_nonlocal()\n",
    "    print('After nonlocal assignment:', spam)\n",
    "    do_global()\n",
    "    print('After global assignment:', spam)\n",
    "scope_test()\n",
    "print('In global scope:', spam)"
   ]
  },
  {
   "cell_type": "code",
   "execution_count": 104,
   "metadata": {},
   "outputs": [
    {
     "name": "stdout",
     "output_type": "stream",
     "text": [
      "123\n",
      "<function Myclass.f at 0x0000027CD2BD6F28>\n"
     ]
    },
    {
     "data": {
      "text/plain": [
       "'hello world'"
      ]
     },
     "execution_count": 104,
     "metadata": {},
     "output_type": "execute_result"
    }
   ],
   "source": [
    "class Myclass:\n",
    "    i=123\n",
    "    def f(self):\n",
    "        return 'hello world'\n",
    "print(Myclass.i)\n",
    "print(Myclass.f)\n",
    "Myclass.f # is a method object, x.f is a valid method reference,it is a function object\n",
    "x=Myclass() \n",
    "x.f() # is equivalent to Myclass.f(x).  the instant object is passed as the first argument of the funciton"
   ]
  },
  {
   "cell_type": "code",
   "execution_count": 100,
   "metadata": {},
   "outputs": [
    {
     "data": {
      "text/plain": [
       "(3.0, -4.5)"
      ]
     },
     "execution_count": 100,
     "metadata": {},
     "output_type": "execute_result"
    }
   ],
   "source": [
    "# when class defines __init__() method, class instantiation auto invoke __init__() for the newly-created class instance\n",
    "# parameters given to the class instantiation operator are passed onto in __Init__() \n",
    "class Complex:\n",
    "    def __init__(self, realpart, imagpart):\n",
    "        self.r = realpart\n",
    "        self.i = imagpart\n",
    "x=Complex(3.0, -4.5)\n",
    "x.r, x.i"
   ]
  },
  {
   "cell_type": "code",
   "execution_count": 101,
   "metadata": {},
   "outputs": [
    {
     "name": "stdout",
     "output_type": "stream",
     "text": [
      "16\n"
     ]
    }
   ],
   "source": [
    "# instance objects understood only atribute references: data attributes (instance variables) and methods\n",
    "x.counter = 1\n",
    "while x.counter < 10:\n",
    "    x.counter = x.counter *2\n",
    "print(x.counter)\n",
    "del x.counter"
   ]
  },
  {
   "cell_type": "code",
   "execution_count": 106,
   "metadata": {},
   "outputs": [
    {
     "name": "stdout",
     "output_type": "stream",
     "text": [
      "canine\n",
      "Fido\n",
      "Buddy\n"
     ]
    }
   ],
   "source": [
    "# intance variables are for data unique to each instance\n",
    "# class variables are for attributes and methods shared by all instances of the class\n",
    "class Dog:\n",
    "    kind = 'canine' # class variable shared by all \n",
    "    def __init__(self, name):\n",
    "        self.name = name # instance variable unique to each instance\n",
    "d= Dog('Fido')\n",
    "e= Dog('Buddy')\n",
    "d.kind # shared by all dogs 'canine'\n",
    "print(e.kind)\n",
    "print(d.name)\n",
    "print(e.name)"
   ]
  },
  {
   "cell_type": "code",
   "execution_count": 108,
   "metadata": {},
   "outputs": [
    {
     "name": "stdout",
     "output_type": "stream",
     "text": [
      "['roll over', 'play dead']\n"
     ]
    }
   ],
   "source": [
    "class Dog:\n",
    "    tricks =[] #mistaken use of a class variable\n",
    "    def __init__(self, name):\n",
    "        self.name = name\n",
    "    def add_trick(self, trick):\n",
    "        self.tricks.append(trick)\n",
    "d= Dog('Fido')\n",
    "e= Dog('Buddy')\n",
    "d.add_trick('roll over')\n",
    "e.add_trick('play dead')\n",
    "print(d.tricks) # unexpectedly shared by all dogs"
   ]
  },
  {
   "cell_type": "code",
   "execution_count": 111,
   "metadata": {},
   "outputs": [
    {
     "name": "stdout",
     "output_type": "stream",
     "text": [
      "['roll over']\n",
      "['play dead']\n"
     ]
    }
   ],
   "source": [
    "class Dog:\n",
    "    def __init__(self, name):\n",
    "        self.name = name\n",
    "        self.tricks = []\n",
    "    def add_trick(self, trick):\n",
    "        self.tricks.append(trick)\n",
    "d= Dog('Fido')\n",
    "e= Dog('Buddy')\n",
    "d.add_trick('roll over')\n",
    "e.add_trick('play dead')\n",
    "print(d.tricks)\n",
    "print(e.tricks) "
   ]
  },
  {
   "cell_type": "code",
   "execution_count": 135,
   "metadata": {},
   "outputs": [
    {
     "name": "stdout",
     "output_type": "stream",
     "text": [
      "None\n"
     ]
    }
   ],
   "source": [
    "# method may call other methods\n",
    "class Bag:\n",
    "    def __init__(self):\n",
    "        self.data=[]\n",
    "    def add(self,x):\n",
    "        self.data.append(x)\n",
    "    def addtwice(self, x):\n",
    "        self.add(x)\n",
    "        self.add(x)\n",
    "a= Bag()\n",
    "print(a.add('a'))"
   ]
  },
  {
   "cell_type": "code",
   "execution_count": null,
   "metadata": {},
   "outputs": [],
   "source": [
    "class DerivedClassName(modname.BaseClassName):  # class inheritance\n",
    "    <statement-1>\n",
    "    .\n",
    "    .\n",
    "    <statement-N>\n",
    "# to all base class method direectly:  BaseClassName.methodnames(self, arguments)\n",
    "# use isinstance() to check an instance's type: isinstance(obj, int) is true if obj.__class__ is int\n",
    "# use issubclass() to check class inheritance: issubclass(bool, int) is True since bool is a subclass of int"
   ]
  },
  {
   "cell_type": "code",
   "execution_count": 138,
   "metadata": {},
   "outputs": [],
   "source": [
    "class Mapping:\n",
    "    def __init__(self, iterable):\n",
    "        self.items_list = []\n",
    "        self.update(iterable)\n",
    "    def update(self, iterable):\n",
    "        for item in iterable:\n",
    "            self.items_list.append(item)\n",
    "    __update = update # private copy of original update() method\n",
    "\n",
    "class MappingSubclass(Mapping):\n",
    "    def update(self, keys, values): #provides new signature for update() but doesn't break __init__()\n",
    "        for item in zip(keys, values):\n",
    "            self.items_list,append(item)"
   ]
  },
  {
   "cell_type": "code",
   "execution_count": null,
   "metadata": {},
   "outputs": [],
   "source": [
    "class Employee:\n",
    "    pass\n",
    "john = Employee() # create an empty empolyee record, then fill the fields of the record,\n",
    "john.name = 'John Doe'\n",
    "john.dept = 'comp uter lab'\n",
    "john.salary = 1000"
   ]
  },
  {
   "cell_type": "code",
   "execution_count": 141,
   "metadata": {},
   "outputs": [
    {
     "name": "stdout",
     "output_type": "stream",
     "text": [
      "maps"
     ]
    }
   ],
   "source": [
    "class Reverse:\n",
    "    def __init__(self, data):\n",
    "        self.data = data\n",
    "        self.index = len(data)\n",
    "    def __iter__(self):\n",
    "        return self\n",
    "    def __next__(self):\n",
    "        if self.index == 0:\n",
    "            raise StopIteration\n",
    "        self.index = self.index -1\n",
    "        return self.data[self.index]\n",
    "rev = Reverse('spam')\n",
    "iter(rev)\n",
    "for char in rev:\n",
    "    print(char, end='')"
   ]
  },
  {
   "cell_type": "code",
   "execution_count": 142,
   "metadata": {},
   "outputs": [
    {
     "name": "stdout",
     "output_type": "stream",
     "text": [
      "flog"
     ]
    }
   ],
   "source": [
    "#generators\n",
    "def reverse(data):\n",
    "    for index in range(len(data)-1, -1, -1):\n",
    "        yield data[index]\n",
    "for char in reverse('golf'):\n",
    "    print(char, end='')"
   ]
  },
  {
   "cell_type": "code",
   "execution_count": null,
   "metadata": {},
   "outputs": [],
   "source": [
    "import os\n",
    "os.getcmd() # return current working directory\n",
    "os.chdir('/server/accesslogs') # change current working directory\n",
    "os.system('mkdir today') # run the command mkdir in the system shell\n",
    "dir(os) # return a list of all module funcitons\n",
    "help(os) # return an extensive manual page created from the module's docstring\n",
    "import shutil # shutil module provides a higher level interface\n",
    "shutil.copyfile('data.db', 'archive.db')\n",
    "shutil.move('/build/executables', 'installdir')\n",
    "import glob # glob module provides a funciton for maing file lists from directory wildcard searches\n",
    "blob.glob('*.py')"
   ]
  },
  {
   "cell_type": "code",
   "execution_count": 147,
   "metadata": {},
   "outputs": [
    {
     "data": {
      "text/plain": [
       "'cat in the hat'"
      ]
     },
     "execution_count": 147,
     "metadata": {},
     "output_type": "execute_result"
    }
   ],
   "source": [
    "import re # re module provides regular expression tools for string processing\n",
    "re.findall(r'\\bf[a-z]*', 'which foot or hand fell fastest')\n",
    "re.sub(r'(\\b[a-z]+) \\1', r'\\1', 'cat in the the hat')"
   ]
  },
  {
   "cell_type": "code",
   "execution_count": 148,
   "metadata": {},
   "outputs": [
    {
     "data": {
      "text/plain": [
       "'tea for two'"
      ]
     },
     "execution_count": 148,
     "metadata": {},
     "output_type": "execute_result"
    }
   ],
   "source": [
    "'tea for too'.replace('too', 'two')"
   ]
  },
  {
   "cell_type": "code",
   "execution_count": null,
   "metadata": {},
   "outputs": [],
   "source": [
    "import random # rfandom module porvides tools for making random selections\n",
    "random.choice(['apple', 'pear', 'banana'])\n",
    "random.sample(range(100), 10) \n",
    "random.random() # random float\n",
    "random.randrange(6)  random integer chosen fro range(6)"
   ]
  },
  {
   "cell_type": "code",
   "execution_count": null,
   "metadata": {},
   "outputs": [],
   "source": [
    "import statistics\n",
    "data = [2.75, 1.75, 1.25, 0.25., 0.5, 1.25, 3.5]\n",
    "statistics.mean(data)\n",
    "statistics.median(data)\n",
    "statistics.variance(data)"
   ]
  },
  {
   "cell_type": "code",
   "execution_count": null,
   "metadata": {},
   "outputs": [],
   "source": [
    "from urllib.request import urlopen\n",
    "with urlopen('http://tycho.usno.navy.mil/cgi-bin/timer.pl') as response:\n",
    "    for line in response:\n",
    "        line=line.decode('utf-8')\n",
    "        if 'EST' in line or 'EDT' in line:\n",
    "            print(line)"
   ]
  },
  {
   "cell_type": "code",
   "execution_count": 155,
   "metadata": {},
   "outputs": [
    {
     "data": {
      "text/plain": [
       "'12-03-18. 03 Dec 2018 is a Monday on the 03 day of December.'"
      ]
     },
     "execution_count": 155,
     "metadata": {},
     "output_type": "execute_result"
    }
   ],
   "source": [
    "#date and time, %b=month short form, %Y=4-digits year, %A=weekday full, %B=month full\n",
    "from datetime import date # datetime module supplies classes for manipulating datesa nd times.\n",
    "now = date.today()\n",
    "now.strftime(\"%m-%d-%y. %d %b %Y is a %A on the %d day of %B.\")  #"
   ]
  },
  {
   "cell_type": "code",
   "execution_count": 158,
   "metadata": {},
   "outputs": [
    {
     "data": {
      "text/plain": [
       "19848"
      ]
     },
     "execution_count": 158,
     "metadata": {},
     "output_type": "execute_result"
    }
   ],
   "source": [
    "bd = date(1964, 7, 31)\n",
    "age = now - bd\n",
    "age.days"
   ]
  },
  {
   "cell_type": "code",
   "execution_count": null,
   "metadata": {},
   "outputs": [],
   "source": [
    "from timeit import Timer\n",
    "Timer('t=a; a=b; b=t', 'a=1; b=2').timeit()\n",
    "Timer('a,b=b,a', a=1; b=2).timeit()"
   ]
  },
  {
   "cell_type": "code",
   "execution_count": 162,
   "metadata": {},
   "outputs": [
    {
     "data": {
      "text/plain": [
       "TestResults(failed=0, attempted=0)"
      ]
     },
     "execution_count": 162,
     "metadata": {},
     "output_type": "execute_result"
    }
   ],
   "source": [
    "# Quality control.  doctest module provides a tool for scanning a module and validating tests embedded in docstring\n",
    "def average(values):\n",
    "    \"\"\" Computes the arithmetic mean of a list of numbers\n",
    "    print(average([20,30,70]))\n",
    "    40.0\n",
    "    \"\"\"\n",
    "    return sum(values)/len(values)\n",
    "import doctest\n",
    "doctest.testmod() #automatically validate the embedded tests"
   ]
  },
  {
   "cell_type": "code",
   "execution_count": null,
   "metadata": {},
   "outputs": [],
   "source": [
    "# unittest module allows tests to be maintained in a separate file\n",
    "import unittest\n",
    "class TestSttisticalFunctions(unittest.TestCase):\n",
    "    def test_average(self):\n",
    "        self.assertEqual(average([20,30,70]), 40.0)\n",
    "        self.assertEqual(round(average([1,5,7]), 1), 4.3)\n",
    "        with self.assertRaises(ZeroDivisionError):\n",
    "            average([])\n",
    "            with self.assertRaises(TypeError):\n",
    "                averge(20,30,70)\n",
    "unitest.main() #calling from the command line i nvokes all tests"
   ]
  },
  {
   "cell_type": "code",
   "execution_count": 164,
   "metadata": {},
   "outputs": [
    {
     "data": {
      "text/plain": [
       "\"{'a', 'c', 'd', 'e', 'f', 'g', ...}\""
      ]
     },
     "execution_count": 164,
     "metadata": {},
     "output_type": "execute_result"
    }
   ],
   "source": [
    "# reprlib provides a version of repr() customized for abbreviated display of large or nested ontainers\n",
    "import reprlib\n",
    "reprlib.repr(set('supercalifragilistieexpialidocious'))"
   ]
  },
  {
   "cell_type": "code",
   "execution_count": null,
   "metadata": {},
   "outputs": [],
   "source": [
    "#pprint module offers more control over printing both builtin and user defined objects in a way readible by interpreter\n",
    "import pprint\n",
    "t=[[[['black', 'cyan'], 'white', ['green', red']], [['magenta', 'yellow'], 'blue']]]\n",
    "pprint.pprint(t, width=30)"
   ]
  },
  {
   "cell_type": "code",
   "execution_count": 170,
   "metadata": {},
   "outputs": [
    {
     "name": "stdout",
     "output_type": "stream",
     "text": [
      "The wrap() method is jsut like fill() except that it returns a list of strings\n",
      "instead of one big string with newlines to separate the wrapped lines.\n"
     ]
    }
   ],
   "source": [
    "# textwrap module formats paragraphs of text to fit a given screen width\n",
    "import textwrap\n",
    "doc=\"\"\"The wrap() method is just like fill() except that it returns a list of strings instead of one big string with newlines to separate the wrapped lines.\"\"\"\n",
    "print(textwrap.fill(doc, width=80))"
   ]
  },
  {
   "cell_type": "code",
   "execution_count": 172,
   "metadata": {},
   "outputs": [
    {
     "data": {
      "text/plain": [
       "'Nottinghamfolk send $10 to the ditch fund.'"
      ]
     },
     "execution_count": 172,
     "metadata": {},
     "output_type": "execute_result"
    }
   ],
   "source": [
    "# the string module include Template class with a implified syntax suitable for editing by end users\n",
    "from string import Template\n",
    "t=Template('${village}folk send $$10 to $cause.')\n",
    "t.substitute(village='Nottingham', cause='the ditch fund')"
   ]
  },
  {
   "cell_type": "code",
   "execution_count": 179,
   "metadata": {},
   "outputs": [
    {
     "data": {
      "text/plain": [
       "'Return the unladen swallow to $owner.'"
      ]
     },
     "execution_count": 179,
     "metadata": {},
     "output_type": "execute_result"
    }
   ],
   "source": [
    "t=Template('Return the $item to $owner.')\n",
    "d=dict(item='unladen swallow')\n",
    "t.safe_substitute(d)"
   ]
  },
  {
   "cell_type": "code",
   "execution_count": null,
   "metadata": {},
   "outputs": [],
   "source": [
    "# venv module create and manage virtural environments.  \n",
    "# to create a ve, run venv module as a script with the directory path:\n",
    "python3 -m venv tutorial - env  # will create the tutorial-env directory if it doesn't exist\n",
    "tutorial - env\\Scripts\\activate.bat # to activate the virtual envo on windows"
   ]
  },
  {
   "cell_type": "code",
   "execution_count": null,
   "metadata": {},
   "outputs": [],
   "source": [
    "#pip subcommends: search, install, uninstall, freeze, list, etc."
   ]
  },
  {
   "cell_type": "markdown",
   "metadata": {},
   "source": [
    "### List Comprehensions and Lambda Functions"
   ]
  },
  {
   "cell_type": "code",
   "execution_count": 2,
   "metadata": {},
   "outputs": [
    {
     "data": {
      "text/plain": [
       "[{'team_1': 'France',\n",
       "  'team_2': 'Croatia',\n",
       "  'game_type': 'Final',\n",
       "  'score': [4, 2]},\n",
       " {'team_1': 'Belgium',\n",
       "  'team_2': 'England',\n",
       "  'game_type': '3rd/4th Playoff',\n",
       "  'score': [2, 0]}]"
      ]
     },
     "execution_count": 2,
     "metadata": {},
     "output_type": "execute_result"
    }
   ],
   "source": [
    "world_cup_str = \"\"\"\n",
    "[\n",
    "    {\n",
    "        \"team_1\": \"France\",\n",
    "        \"team_2\": \"Croatia\",\n",
    "        \"game_type\": \"Final\",\n",
    "        \"score\" : [4, 2]\n",
    "    },\n",
    "    {\n",
    "        \"team_1\": \"Belgium\",\n",
    "        \"team_2\": \"England\",\n",
    "        \"game_type\": \"3rd/4th Playoff\",\n",
    "        \"score\" : [2, 0]\n",
    "    }\n",
    "]\n",
    "\"\"\"\n",
    "import json\n",
    "world_cup_obj = json.loads(world_cup_str)\n",
    "world_cup_obj"
   ]
  },
  {
   "cell_type": "code",
   "execution_count": 4,
   "metadata": {},
   "outputs": [
    {
     "data": {
      "text/plain": [
       "{'author': 'dragongraphics',\n",
       " 'numComments': 0,\n",
       " 'points': 2,\n",
       " 'url': 'http://ashleynolan.co.uk/blog/are-we-getting-too-sassy',\n",
       " 'storyText': '',\n",
       " 'createdAt': '2014-05-29T08:07:50Z',\n",
       " 'tags': ['story', 'author_dragongraphics', 'story_7815238'],\n",
       " 'createdAtI': 1401350870,\n",
       " 'title': 'Are we getting too Sassy? Weighing up micro-optimisation vs. maintainability',\n",
       " 'objectId': '7815238'}"
      ]
     },
     "execution_count": 4,
     "metadata": {},
     "output_type": "execute_result"
    }
   ],
   "source": [
    "file = open(\"hn_2014.json\")\n",
    "hn = json.load(file)\n",
    "hn[0]"
   ]
  },
  {
   "cell_type": "code",
   "execution_count": 5,
   "metadata": {},
   "outputs": [
    {
     "data": {
      "text/plain": [
       "{'author': 'dragongraphics',\n",
       " 'numComments': 0,\n",
       " 'points': 2,\n",
       " 'url': 'http://ashleynolan.co.uk/blog/are-we-getting-too-sassy',\n",
       " 'storyText': '',\n",
       " 'createdAt': '2014-05-29T08:07:50Z',\n",
       " 'tags': ['story', 'author_dragongraphics', 'story_7815238'],\n",
       " 'createdAtI': 1401350870,\n",
       " 'title': 'Are we getting too Sassy? Weighing up micro-optimisation vs. maintainability',\n",
       " 'objectId': '7815238'}"
      ]
     },
     "execution_count": 5,
     "metadata": {},
     "output_type": "execute_result"
    }
   ],
   "source": [
    "def del_key(dict_, key):\n",
    "    modified_dict = dict_.copy()\n",
    "    del modified_dict[key]\n",
    "    return modified_dict\n",
    "\n",
    "hn_clean = []\n",
    "for item in hn:\n",
    "    a = del_key(item, \"createdAtI\")\n",
    "    hn_clean.append(a)\n",
    "hn[0]"
   ]
  },
  {
   "cell_type": "code",
   "execution_count": 6,
   "metadata": {},
   "outputs": [
    {
     "data": {
      "text/plain": [
       "{'author': 'dragongraphics',\n",
       " 'numComments': 0,\n",
       " 'points': 2,\n",
       " 'url': 'http://ashleynolan.co.uk/blog/are-we-getting-too-sassy',\n",
       " 'storyText': '',\n",
       " 'createdAt': '2014-05-29T08:07:50Z',\n",
       " 'tags': ['story', 'author_dragongraphics', 'story_7815238'],\n",
       " 'createdAtI': 1401350870,\n",
       " 'title': 'Are we getting too Sassy? Weighing up micro-optimisation vs. maintainability',\n",
       " 'objectId': '7815238'}"
      ]
     },
     "execution_count": 6,
     "metadata": {},
     "output_type": "execute_result"
    }
   ],
   "source": [
    "hn_clean = [del_key(d, \"createdAtI\") for d in hn]\n",
    "hn[0]"
   ]
  },
  {
   "cell_type": "code",
   "execution_count": 9,
   "metadata": {},
   "outputs": [
    {
     "data": {
      "text/plain": [
       "['http://ashleynolan.co.uk/blog/are-we-getting-too-sassy',\n",
       " 'http://spectrum.ieee.org/automaton/robotics/home-robots/telemba-telepresence-robot',\n",
       " 'http://online.wsj.com/articles/apple-to-buy-beats-1401308971']"
      ]
     },
     "execution_count": 9,
     "metadata": {},
     "output_type": "execute_result"
    }
   ],
   "source": [
    "urls = [ls[\"url\"] for ls in hn_clean]\n",
    "urls[0:3]"
   ]
  },
  {
   "cell_type": "code",
   "execution_count": 10,
   "metadata": {},
   "outputs": [
    {
     "data": {
      "text/plain": [
       "8"
      ]
     },
     "execution_count": 10,
     "metadata": {},
     "output_type": "execute_result"
    }
   ],
   "source": [
    "thousand_points = [ls for ls in hn_clean if ls[\"points\"]>1000]\n",
    "num_thousand_points = len(thousand_points)\n",
    "num_thousand_points"
   ]
  },
  {
   "cell_type": "code",
   "execution_count": 12,
   "metadata": {},
   "outputs": [
    {
     "data": {
      "text/plain": [
       "{'author': 'platz',\n",
       " 'numComments': 1208,\n",
       " 'points': 889,\n",
       " 'url': 'https://blog.mozilla.org/blog/2014/04/03/brendan-eich-steps-down-as-mozilla-ceo/',\n",
       " 'storyText': None,\n",
       " 'createdAt': '2014-04-03T19:02:53Z',\n",
       " 'tags': ['story', 'author_platz', 'story_7525198'],\n",
       " 'title': 'Brendan Eich Steps Down as Mozilla CEO',\n",
       " 'objectId': '7525198'}"
      ]
     },
     "execution_count": 12,
     "metadata": {},
     "output_type": "execute_result"
    }
   ],
   "source": [
    "def ke_func(dict):\n",
    "    return dict[\"numComments\"]\n",
    "\n",
    "most_comments = max(hn_clean, key=ke_func)\n",
    "most_comments"
   ]
  },
  {
   "cell_type": "markdown",
   "metadata": {},
   "source": [
    "#### Lambda Functions"
   ]
  },
  {
   "cell_type": "code",
   "execution_count": 14,
   "metadata": {},
   "outputs": [
    {
     "name": "stdout",
     "output_type": "stream",
     "text": [
      "6\n"
     ]
    }
   ],
   "source": [
    "# def multiply(a, b):\n",
    "#    return a * b\n",
    "multiply = lambda a,b: a*b\n",
    "print(multiply(2,3))"
   ]
  },
  {
   "cell_type": "code",
   "execution_count": 15,
   "metadata": {},
   "outputs": [
    {
     "data": {
      "text/plain": [
       "['2048',\n",
       " 'Today is The Day We Fight Back',\n",
       " 'Wozniak: “Actually, the movie was largely a lie about me”',\n",
       " 'Microsoft Open Sources C# Compiler',\n",
       " 'Elon Musk: To the People of New Jersey']"
      ]
     },
     "execution_count": 15,
     "metadata": {},
     "output_type": "execute_result"
    }
   ],
   "source": [
    "hn_sorted_points = sorted(hn_clean, key=lambda x: x[\"points\"], reverse=True)\n",
    "top_5_titles = [ls[\"title\"] for ls in hn_sorted_points[0:5]] \n",
    "top_5_titles"
   ]
  },
  {
   "cell_type": "code",
   "execution_count": 17,
   "metadata": {},
   "outputs": [
    {
     "data": {
      "text/plain": [
       "43     [story, author_alamgir_mand, story_7813869, sh...\n",
       "86       [story, author_cweagans, story_7812404, ask_hn]\n",
       "104    [story, author_nightstrike789, story_7812099, ...\n",
       "107    [story, author_ISeemToBeAVerb, story_7812048, ...\n",
       "109       [story, author_Swizec, story_7812018, show_hn]\n",
       "Name: tags, dtype: object"
      ]
     },
     "execution_count": 17,
     "metadata": {},
     "output_type": "execute_result"
    }
   ],
   "source": [
    "import pandas as pd\n",
    "hn_df = pd.DataFrame(hn_clean)\n",
    "tags = hn_df['tags']\n",
    "l = tags.apply(len)\n",
    "four_tags = tags[l==4]\n",
    "four_tags.head()"
   ]
  },
  {
   "cell_type": "code",
   "execution_count": 19,
   "metadata": {},
   "outputs": [
    {
     "data": {
      "text/plain": [
       "0    None\n",
       "1    None\n",
       "2    None\n",
       "3    None\n",
       "4    None\n",
       "Name: tags, dtype: object"
      ]
     },
     "execution_count": 19,
     "metadata": {},
     "output_type": "execute_result"
    }
   ],
   "source": [
    "# def extract_tag(l):\n",
    "#     return l[-1] if len(l) == 4 else None\n",
    "\n",
    "cleaned_tags = tags.apply(lambda l: l[-1] if len(l) == 4 else None)\n",
    "hn_df[\"tags\"] = cleaned_tags\n",
    "hn_df[\"tags\"].head()"
   ]
  },
  {
   "cell_type": "markdown",
   "metadata": {},
   "source": [
    "#### string manipulation using Lambda function"
   ]
  },
  {
   "cell_type": "code",
   "execution_count": 1,
   "metadata": {},
   "outputs": [
    {
     "name": "stdout",
     "output_type": "stream",
     "text": [
      "hlo\n",
      "srn lcn sfn\n",
      "si inif!\n"
     ]
    }
   ],
   "source": [
    "hlo = \"hello world\"[:5:2]\n",
    "\n",
    "my_string = \"string slicing is fun!\"\n",
    "every_other = my_string[0:len(my_string):2]\n",
    "every_third = my_string[0:len(my_string):3]\n",
    "print(hlo)\n",
    "print(every_other)\n",
    "print(every_third)"
   ]
  },
  {
   "cell_type": "code",
   "execution_count": 67,
   "metadata": {},
   "outputs": [
    {
     "data": {
      "text/plain": [
       "True"
      ]
     },
     "execution_count": 67,
     "metadata": {},
     "output_type": "execute_result"
    }
   ],
   "source": [
    "olleh = \"hello world\"[4::-1]\n",
    "able_string = \"able was I ere I saw elba\"\n",
    "def is_palindrome(my_string):\n",
    "    if my_string == my_string[-1::-1]:\n",
    "        return True\n",
    "    return False\n",
    "\n",
    "phrase_palindrome = is_palindrome(\"able was I ere I saw elba\")\n",
    "phrase_palindrome"
   ]
  },
  {
   "cell_type": "code",
   "execution_count": 40,
   "metadata": {},
   "outputs": [
    {
     "name": "stdout",
     "output_type": "stream",
     "text": [
      "[1, 2, 199, 56]\n"
     ]
    }
   ],
   "source": [
    "ints = list(map(int, [1.5, 2.4, 199.7, 56.0]))\n",
    "print(ints)"
   ]
  },
  {
   "cell_type": "code",
   "execution_count": 76,
   "metadata": {},
   "outputs": [
    {
     "data": {
      "text/plain": [
       "22"
      ]
     },
     "execution_count": 76,
     "metadata": {},
     "output_type": "execute_result"
    }
   ],
   "source": [
    "f = open(\"passwords.txt\", 'r')\n",
    "passwords = f.read().splitlines()\n",
    "f.close()\n",
    "\n",
    "def easy_patterns(s):\n",
    "    count = 0\n",
    "    for pa in passwords:\n",
    "        if s in pa:\n",
    "            count += 1\n",
    "    return count\n",
    "\n",
    "countup_passwords = easy_patterns(\"1234\")\n",
    "countup_passwords"
   ]
  },
  {
   "cell_type": "code",
   "execution_count": 77,
   "metadata": {},
   "outputs": [
    {
     "data": {
      "text/plain": [
       "8.429333333333334"
      ]
     },
     "execution_count": 77,
     "metadata": {},
     "output_type": "execute_result"
    }
   ],
   "source": [
    "password_lengths = list(map(len, passwords))\n",
    "avg_password_length = sum(password_lengths)/len(passwords)\n",
    "avg_password_length"
   ]
  },
  {
   "cell_type": "code",
   "execution_count": 81,
   "metadata": {},
   "outputs": [
    {
     "data": {
      "text/plain": [
       "['12345@54321',\n",
       " 'ennaanne',\n",
       " '97799779',\n",
       " '029893398920',\n",
       " 'zzzzzzzzzzzzzzzzzzzz',\n",
       " 'axaaxa',\n",
       " 'ddaadd']"
      ]
     },
     "execution_count": 81,
     "metadata": {},
     "output_type": "execute_result"
    }
   ],
   "source": [
    "palindrome_passwords = [pa for pa in passwords if is_palindrome(pa)]\n",
    "palindrome_passwords"
   ]
  },
  {
   "cell_type": "code",
   "execution_count": 82,
   "metadata": {},
   "outputs": [
    {
     "name": "stdout",
     "output_type": "stream",
     "text": [
      "[2, 4, 6, 8, 10]\n",
      "['12345@54321', 'ennaanne', '97799779', '029893398920', 'zzzzzzzzzzzzzzzzzzzz', 'axaaxa', 'ddaadd']\n"
     ]
    }
   ],
   "source": [
    "numbers = [1, 2, 3, 4, 5, 6, 7, 8, 9, 10]\n",
    "evens = list(filter(lambda x : x % 2 == 0, numbers))\n",
    "print(evens)\n",
    "\n",
    "palindrome_passwords = list(filter(lambda pa : pa[::-1] == pa, passwords))\n",
    "print(palindrome_passwords)"
   ]
  },
  {
   "cell_type": "code",
   "execution_count": 85,
   "metadata": {},
   "outputs": [],
   "source": [
    "weak_passwords = list(filter(lambda x: len(x) < 6, passwords))\n",
    "medium_passwords = list(filter(lambda x: len(x) >= 6 and len(x) <= 10, passwords))\n",
    "strong_passwords = list(filter(lambda x: len(x) >10, passwords))"
   ]
  },
  {
   "cell_type": "markdown",
   "metadata": {},
   "source": [
    "### Generators"
   ]
  },
  {
   "cell_type": "code",
   "execution_count": 1,
   "metadata": {},
   "outputs": [
    {
     "name": "stdout",
     "output_type": "stream",
     "text": [
      "2\n",
      "4\n"
     ]
    }
   ],
   "source": [
    "def take(count, iterable):\n",
    "    \"\"\" take first item from iterable\n",
    "    Args: couont:maximun number to retrieve.  Iterable: the source series.\n",
    "    Yields: at most 'count' item from 'iterable' \"\"\"\n",
    "    counter = 0\n",
    "    for item in iterable:\n",
    "        if counter == count:\n",
    "            return\n",
    "        counter +=1\n",
    "        yield item\n",
    "        \n",
    "def run_take():\n",
    "    items = [2,4,6,8,10]\n",
    "    for item in take(2, items):\n",
    "        print(item)\n",
    "\n",
    "run_take()"
   ]
  },
  {
   "cell_type": "code",
   "execution_count": 13,
   "metadata": {},
   "outputs": [
    {
     "name": "stdout",
     "output_type": "stream",
     "text": [
      "5\n",
      "7\n",
      "6\n"
     ]
    }
   ],
   "source": [
    "def distinct(iterable):\n",
    "    seen = set()\n",
    "    for item in iterable:\n",
    "        if item in seen:\n",
    "            continue\n",
    "        yield item\n",
    "        seen.add(item)\n",
    "        \n",
    "def run_distinct():\n",
    "    item=[5,7,7,6,6,5]\n",
    "    for item in distinct(item):\n",
    "        print(item)\n",
    "run_distinct()"
   ]
  },
  {
   "cell_type": "code",
   "execution_count": 14,
   "metadata": {},
   "outputs": [
    {
     "name": "stdout",
     "output_type": "stream",
     "text": [
      "3\n",
      "6\n",
      "2\n"
     ]
    }
   ],
   "source": [
    "def run_pipeline():\n",
    "    items=[3,6,6,2,1,1,]\n",
    "    for item in take(3, distinct(items)):\n",
    "        print(item)\n",
    "run_pipeline()"
   ]
  },
  {
   "cell_type": "code",
   "execution_count": 18,
   "metadata": {},
   "outputs": [
    {
     "data": {
      "text/plain": [
       "[1, 4, 9, 16, 25, 36, 49, 64, 81, 100]"
      ]
     },
     "execution_count": 18,
     "metadata": {},
     "output_type": "execute_result"
    }
   ],
   "source": [
    "ten_squares=(x*x for x in range(1, 11))\n",
    "list(ten_squares"
   ]
  },
  {
   "cell_type": "code",
   "execution_count": 19,
   "metadata": {},
   "outputs": [
    {
     "data": {
      "text/plain": [
       "385"
      ]
     },
     "execution_count": 19,
     "metadata": {},
     "output_type": "execute_result"
    }
   ],
   "source": [
    "sum(x*x for x in range(1, 11)) # saves space compare to lists"
   ]
  },
  {
   "cell_type": "code",
   "execution_count": 6,
   "metadata": {},
   "outputs": [
    {
     "data": {
      "text/plain": [
       "9"
      ]
     },
     "execution_count": 6,
     "metadata": {},
     "output_type": "execute_result"
    }
   ],
   "source": [
    "def is_prime(x):\n",
    "    if x%2!=0:\n",
    "        return x\n",
    "is_prime(9)"
   ]
  },
  {
   "cell_type": "code",
   "execution_count": 8,
   "metadata": {},
   "outputs": [
    {
     "data": {
      "text/plain": [
       "[1, 3, 5, 7, 9, 11, 13, 15, 17, 19]"
      ]
     },
     "execution_count": 8,
     "metadata": {},
     "output_type": "execute_result"
    }
   ],
   "source": [
    "from itertools import count, islice\n",
    "ten_primes=islice((x for x in count() if is_prime(x)), 10)\n",
    "list(ten_primes)"
   ]
  },
  {
   "cell_type": "code",
   "execution_count": 40,
   "metadata": {},
   "outputs": [
    {
     "name": "stdout",
     "output_type": "stream",
     "text": [
      "min= 5.0, max=20.0, ave=14.3\n",
      "min=21.0, max=30.0, ave=26.3\n",
      "min=22.0, max=34.0, ave=26.0\n",
      "min=23.0, max=25.0, ave=24.0\n"
     ]
    }
   ],
   "source": [
    "Sun=[20,30,22,25]\n",
    "Mon=[18,28,34,24]\n",
    "Tue=[5,21,22,23]\n",
    "\n",
    "for temp in zip(Sun, Mon, Tue):\n",
    "    print(\"min={:4.1f}, max={:4.1f}, ave={:4.1f}\".format(min(temp), max(temp), sum(temp)/len(temp)))"
   ]
  },
  {
   "cell_type": "code",
   "execution_count": 43,
   "metadata": {},
   "outputs": [
    {
     "data": {
      "text/plain": [
       "False"
      ]
     },
     "execution_count": 43,
     "metadata": {},
     "output_type": "execute_result"
    }
   ],
   "source": [
    "from itertools import chain\n",
    "temps=chain(Sun, Mon, Tue)\n",
    "all(t>20 for t in temps)"
   ]
  },
  {
   "cell_type": "code",
   "execution_count": 3,
   "metadata": {},
   "outputs": [
    {
     "name": "stdout",
     "output_type": "stream",
     "text": [
      "<generator object square_numbers at 0x00000113E74E1228>\n",
      "1\n"
     ]
    }
   ],
   "source": [
    "def square_numbers(nums):\n",
    "    for i in nums:\n",
    "        yield (i*i)\n",
    "\n",
    "my_nums = square_numbers([1,2,3,4,5])\n",
    "print(my_nums)\n",
    "print(next(my_nums))"
   ]
  },
  {
   "cell_type": "code",
   "execution_count": 4,
   "metadata": {},
   "outputs": [
    {
     "name": "stdout",
     "output_type": "stream",
     "text": [
      "4\n",
      "9\n",
      "16\n",
      "25\n"
     ]
    }
   ],
   "source": [
    "for item in my_nums:\n",
    "    print(item)"
   ]
  },
  {
   "cell_type": "code",
   "execution_count": 8,
   "metadata": {},
   "outputs": [
    {
     "name": "stdout",
     "output_type": "stream",
     "text": [
      "<generator object <genexpr> at 0x00000113E74E1048>\n",
      "[1, 4, 9, 16, 25]\n"
     ]
    }
   ],
   "source": [
    "my_nums = (x*x for x in [1,2,3,4,5])\n",
    "print(my_nums)\n",
    "print(list(my_nums))"
   ]
  },
  {
   "cell_type": "code",
   "execution_count": 2,
   "metadata": {},
   "outputs": [
    {
     "name": "stdout",
     "output_type": "stream",
     "text": [
      "Requirement already satisfied: memory_profiler in c:\\programdata\\anaconda3\\lib\\site-packages (0.55.0)\n",
      "Requirement already satisfied: psutil in c:\\programdata\\anaconda3\\lib\\site-packages (from memory_profiler) (5.6.3)\n",
      "Note: you may need to restart the kernel to use updated packages.\n"
     ]
    }
   ],
   "source": [
    "pip install memory_profiler"
   ]
  },
  {
   "cell_type": "code",
   "execution_count": 13,
   "metadata": {},
   "outputs": [
    {
     "name": "stdout",
     "output_type": "stream",
     "text": [
      "Memory (Before): [49.26953125]Mb\n",
      "Memory (After) : [320.5859375]Mb\n",
      "Took 2.0512402057647705 Seconds\n"
     ]
    }
   ],
   "source": [
    "import memory_profiler as mem_profile\n",
    "import random\n",
    "import time\n",
    "\n",
    "names = ['John', 'Corey', 'Adam', 'Steve', 'Rick', 'Thomas']\n",
    "majors = ['Math', 'Engineering', 'CompSci', 'Arts', 'Business']\n",
    "\n",
    "print('Memory (Before): {}Mb'.format(mem_profile.memory_usage()))\n",
    "\n",
    "def people_list(num_people):\n",
    "    result = []\n",
    "    for i in range(num_people):\n",
    "        person = {\n",
    "                    'id': i,\n",
    "                    'name': random.choice(names),\n",
    "                    'major': random.choice(majors)\n",
    "                }\n",
    "        result.append(person)\n",
    "    return result\n",
    "\n",
    "def people_generator(num_people):\n",
    "    for i in range(num_people):\n",
    "        person = {\n",
    "                    'id': i,\n",
    "                    'name': random.choice(names),\n",
    "                    'major': random.choice(majors)\n",
    "                }\n",
    "        yield person\n",
    "\n",
    "t1 = time.time()\n",
    "people = people_list(1000000)\n",
    "t2 = time.time()\n",
    "print('Memory (After) : {}Mb'.format(mem_profile.memory_usage()))\n",
    "print('Took {} Seconds'.format(t2-t1))"
   ]
  },
  {
   "cell_type": "code",
   "execution_count": 16,
   "metadata": {},
   "outputs": [
    {
     "name": "stdout",
     "output_type": "stream",
     "text": [
      "Memory (After) : [49.73046875]Mb\n",
      "Took 0.0 Seconds\n"
     ]
    }
   ],
   "source": [
    "t1 = time.time()\n",
    "people = people_generator(1000000)\n",
    "t2 = time.time()\n",
    "\n",
    "print('Memory (After) : {}Mb'.format(mem_profile.memory_usage()))\n",
    "print('Took {} Seconds'.format(t2-t1))"
   ]
  }
 ],
 "metadata": {
  "kernelspec": {
   "display_name": "Python 3",
   "language": "python",
   "name": "python3"
  },
  "language_info": {
   "codemirror_mode": {
    "name": "ipython",
    "version": 3
   },
   "file_extension": ".py",
   "mimetype": "text/x-python",
   "name": "python",
   "nbconvert_exporter": "python",
   "pygments_lexer": "ipython3",
   "version": "3.7.6"
  }
 },
 "nbformat": 4,
 "nbformat_minor": 4
}
