{
 "cells": [
  {
   "cell_type": "markdown",
   "metadata": {},
   "source": [
    "$ pip install ipyturtle\n",
    "$ jupyter nbextension enable --py --sys-prefix ipyturtle"
   ]
  },
  {
   "cell_type": "code",
   "execution_count": 1,
   "metadata": {},
   "outputs": [
    {
     "data": {
      "text/plain": [
       "'csv'"
      ]
     },
     "execution_count": 1,
     "metadata": {},
     "output_type": "execute_result"
    }
   ],
   "source": [
    "class Dataset:\n",
    "    def __init__(self):\n",
    "        self.type = \"csv\"\n",
    "dataset=Dataset()\n",
    "dataset.type"
   ]
  },
  {
   "cell_type": "code",
   "execution_count": null,
   "metadata": {},
   "outputs": [],
   "source": [
    "# To dynamically add data to our dataset object on instantiation\n",
    "class Dataset:\n",
    "    def __init__(self, data):\n",
    "        self.data = data\n",
    "        \n",
    "    def print_data(self, num_rows):\n",
    "        print(self.data[:num_rows])\n",
    "nfl_dataset = Dataset(nfl_data)\n",
    "nfl_dataset.print_data(5)"
   ]
  },
  {
   "cell_type": "code",
   "execution_count": null,
   "metadata": {},
   "outputs": [],
   "source": [
    "# Default display code\n",
    "class Dataset:\n",
    "    def __init__(self, data):\n",
    "        self.type = \"csv\"\n",
    "        self.data=data\n",
    "f=open('nfl.csv')\n",
    "nfl_data=list(csv.reader(f))\n",
    "nfl_dataset=Dataset(nfl_data)\n",
    "dataset_data=nfl_dataset.data"
   ]
  },
  {
   "cell_type": "code",
   "execution_count": null,
   "metadata": {},
   "outputs": [],
   "source": [
    "# using additional instance methods, print_data(self, data)\n",
    "class Dataset:\n",
    "    def __init__(self, data):\n",
    "        self.data = data\n",
    "        \n",
    "    def print_data(self, num_rows):\n",
    "         print(self.data[:num_rows])\n",
    "nfl_dataset = Dataset(nfl_data)\n",
    "nfl_dataset.print_data(5)"
   ]
  },
  {
   "cell_type": "code",
   "execution_count": null,
   "metadata": {},
   "outputs": [],
   "source": [
    "# adding an instance method that would grab the first result of self.data\n",
    "# set it as a header attribute\n",
    "class Dataset:\n",
    "    def __init__(self, data):\n",
    "        self.data = data\n",
    "        self.header = self.data[0]\n",
    "        self.data = self.data[1:] \n",
    "nfl_dataset = Dataset(nfl_data)\n",
    "nfl_header=nfl_dataset.header"
   ]
  },
  {
   "cell_type": "code",
   "execution_count": null,
   "metadata": {},
   "outputs": [],
   "source": [
    "class Suspension():\n",
    "    def __init__(self, row):\n",
    "        self.name = row[0]\n",
    "        self.team = row[1]\n",
    "        self.games = row[2]\n",
    "        try:\n",
    "            self.year=int(row[5])\n",
    "        except:\n",
    "            self.year=0\n",
    "            \n",
    "    def get_year(self):\n",
    "        return self.year\n",
    "    \n",
    "missing_year=Suspension(nfl_suspensions[22])\n",
    "twenty_third_year=Suspension(nfl_suspensions[22]).get_year()"
   ]
  },
  {
   "cell_type": "code",
   "execution_count": null,
   "metadata": {},
   "outputs": [],
   "source": [
    "class Dataset:\n",
    "    def __init__(self, data):\n",
    "        self.header = data[0]\n",
    "        self.data = data[1:]\n",
    "        \n",
    "    # Add your method here.\n",
    "    def column(self, label):\n",
    "        ls=[]\n",
    "        for i, la in enumerate(self.header):\n",
    "            if la==label:\n",
    "                for j in range(len(self.data)):\n",
    "                    ls.append(self.data[j][i])\n",
    "            else:\n",
    "                if label not in self.header:\n",
    "                    return None\n",
    "        return ls\n",
    "nfl_dataset = Dataset(nfl_data)\n",
    "year_column = nfl_dataset.column('year')\n",
    "player_column = nfl_dataset.column('player')"
   ]
  },
  {
   "cell_type": "code",
   "execution_count": null,
   "metadata": {},
   "outputs": [],
   "source": [
    "class Dataset:\n",
    "    def __init__(self, data):\n",
    "        self.header = data[0]\n",
    "        self.data = data[1:]\n",
    "    \n",
    "    def column(self, label):\n",
    "        if label not in self.header:\n",
    "            return None\n",
    "        \n",
    "        index = 0\n",
    "        for idx, element in enumerate(self.header):\n",
    "            if label == element:\n",
    "                index = idx\n",
    "        \n",
    "        column = []\n",
    "        for row in self.data:\n",
    "            column.append(row[index])\n",
    "        return column\n",
    "    \n",
    "    # Add your count unique method here\n",
    "    def count_unique(self, label):\n",
    "        index = 0\n",
    "        for idx, element in enumerate(self.header):\n",
    "            if label == element:\n",
    "                index = idx\n",
    "        column = []\n",
    "        for row in self.data:\n",
    "            column.append(row[index])\n",
    "        colct=set(column)\n",
    "        print(colct)\n",
    "        return len(colct)\n",
    "\n",
    "nfl_dataset = Dataset(nfl_data)\n",
    "total_years = nfl_dataset.count_unique('year')"
   ]
  },
  {
   "cell_type": "code",
   "execution_count": null,
   "metadata": {},
   "outputs": [],
   "source": [
    "class Dataset:\n",
    "    def __init__(self, data):\n",
    "        self.header = data[0]\n",
    "        self.data = data[1:]\n",
    "    \n",
    "    # Add the special method here\n",
    "    \n",
    "    def column(self, label):\n",
    "        if label not in self.header:\n",
    "            return None\n",
    "        \n",
    "        index = 0\n",
    "        for idx, element in enumerate(self.header):\n",
    "            if label == element:\n",
    "                index = idx\n",
    "        \n",
    "        column = []\n",
    "        for row in self.data:\n",
    "            column.append(row[index])\n",
    "        return column\n",
    "    \n",
    "        \n",
    "    def count_unique(self, label):\n",
    "        unique_results = set(self.column(label))\n",
    "        count = len(unique_results)\n",
    "        return count\n",
    "    \n",
    "    def __str__(self):\n",
    "        self.st=self.data[:10]\n",
    "        return self.st\n",
    "\n",
    "nfl_dataset = Dataset(nfl_data)\n",
    "print(nfl_dataset.__str__())"
   ]
  },
  {
   "cell_type": "code",
   "execution_count": 1,
   "metadata": {},
   "outputs": [],
   "source": [
    "import turtle\n",
    "# turtle.mainloop()  # Generally not necessary to run mainloop; can just delete\n",
    "t = turtle.Turtle()  # Creating a turtle to do drawing\n",
    "t.color('red')  # Telling it what color to draw\n",
    "t.pensize(10)  # Telling it what size to draw at\n",
    "t.shape('turtle')  # What shape turtle draw-er should be: \"arrow\", \"turtle\", etc\n",
    "\n",
    "# Now let's draw something!\n",
    "t.forward(50)  # Tell turtle to draw in forward direction 50 pixels\n",
    "t.left(80)  # Tell turtle to turn in-place 80 degrees to left\n",
    "t.forward(100)  # Draw 100 pixels forward\n",
    "t.right(90)  # Turn in-place 90 degrees right\n",
    "t.forward(170)  # Draw 170 pixels forward\n",
    "# Done drawing!\n",
    "\n",
    "turtle.exitonclick() "
   ]
  },
  {
   "cell_type": "code",
   "execution_count": null,
   "metadata": {},
   "outputs": [],
   "source": [
    "import turtle\n",
    "\n",
    "class Polygon():\n",
    "    def __init__(self, sides, name, size):\n",
    "        self.sides = sides\n",
    "        self.name = name\n",
    "        self.size = size\n",
    "        self.interior_angles = (self.sides-2)*180\n",
    "        self.angle = self.interior_angles/self.sides\n",
    "        \n",
    "    def draw(self):\n",
    "        for i in range(self.sides):\n",
    "            turtle.forward(100)\n",
    "            turtle.right(180 - self.angle)\n",
    "            \n",
    "        turtle.done()\n",
    "        \n",
    "wn = turtle.Screen()        \n",
    "square = Polygon(5, \"square\", 100)\n",
    "pentagon = Polygon(5, \"pentagon\", 100)\n",
    "pentagon.draw()\n",
    "\n",
    "from sys import platform\n",
    "if platform=='win32':\n",
    "    wn.exitonclick()"
   ]
  },
  {
   "cell_type": "code",
   "execution_count": null,
   "metadata": {},
   "outputs": [],
   "source": [
    "s = \"MY STRING\"\n",
    "result = str.title(s)  # access the title() function of the str class\n",
    "print(result)"
   ]
  },
  {
   "cell_type": "code",
   "execution_count": 3,
   "metadata": {},
   "outputs": [
    {
     "name": "stdout",
     "output_type": "stream",
     "text": [
      "My String\n"
     ]
    }
   ],
   "source": [
    "s = \"MY STRING\"\n",
    "result = s.title() # s as an instance of the str class\n",
    "print(result)"
   ]
  },
  {
   "cell_type": "code",
   "execution_count": 7,
   "metadata": {},
   "outputs": [
    {
     "name": "stdout",
     "output_type": "stream",
     "text": [
      "<__main__.MyClass object at 0x0000024088D7C198>\n",
      "<__main__.MyClass object at 0x0000024088D7C198>\n"
     ]
    }
   ],
   "source": [
    "class MyClass():\n",
    "    def print_self(self):\n",
    "        print(self)\n",
    "        \n",
    "mc = MyClass() # create an instance of the class\n",
    "print(mc) \n",
    "mc.print_self() # access the print_self() function of the class"
   ]
  },
  {
   "cell_type": "code",
   "execution_count": 9,
   "metadata": {},
   "outputs": [
    {
     "name": "stdout",
     "output_type": "stream",
     "text": [
      "This is my first method\n"
     ]
    }
   ],
   "source": [
    "class NewList():\n",
    "    def first_method(self):\n",
    "         return \"This is my first method\"\n",
    "        \n",
    "newlist = NewList() # create an instance of the class\n",
    "result = newlist.first_method() # access the first_method() function of the class\n",
    "print(result)"
   ]
  },
  {
   "cell_type": "code",
   "execution_count": 7,
   "metadata": {},
   "outputs": [
    {
     "name": "stdout",
     "output_type": "stream",
     "text": [
      "Hola!\n"
     ]
    }
   ],
   "source": [
    "class MyClass():\n",
    "    '''__init__ method is an initializeer/constructor. \n",
    "        methods within a class receive instance (self) automatically as the first argument\n",
    "        In the init method, self refers to the newly created object; in other class methods, \n",
    "        it refers to the instance whose method was called.'''\n",
    "    \n",
    "    def __init__(self, string): \n",
    "        print(string)\n",
    "        \n",
    "mc = MyClass(\"Hola!\")"
   ]
  },
  {
   "cell_type": "code",
   "execution_count": 8,
   "metadata": {},
   "outputs": [
    {
     "name": "stdout",
     "output_type": "stream",
     "text": [
      "Help on class MyClass in module __main__:\n",
      "\n",
      "class MyClass(builtins.object)\n",
      " |  MyClass(string)\n",
      " |  \n",
      " |  __init__ method is an initializeer/constructor. \n",
      " |  methods within a class receive instance (self) automatically as the first argument\n",
      " |  \n",
      " |  Methods defined here:\n",
      " |  \n",
      " |  __init__(self, string)\n",
      " |      Initialize self.  See help(type(self)) for accurate signature.\n",
      " |  \n",
      " |  ----------------------------------------------------------------------\n",
      " |  Data descriptors defined here:\n",
      " |  \n",
      " |  __dict__\n",
      " |      dictionary for instance variables (if defined)\n",
      " |  \n",
      " |  __weakref__\n",
      " |      list of weak references to the object (if defined)\n",
      "\n"
     ]
    }
   ],
   "source": [
    "help(MyClass)"
   ]
  },
  {
   "cell_type": "code",
   "execution_count": 1,
   "metadata": {},
   "outputs": [
    {
     "name": "stdout",
     "output_type": "stream",
     "text": [
      "<__main__.MyClass object at 0x0000020D24647B70>\n",
      "Hola!\n",
      "hello\n"
     ]
    }
   ],
   "source": [
    "class MyClass():\n",
    "    def __init__(self, string):\n",
    "        self.my_attribute = string  # self is the instance.  self.attri === mc.attri\n",
    "        \n",
    "mc = MyClass(\"Hola!\")\n",
    "print(mc)\n",
    "print(mc.my_attribute)\n",
    "\n",
    "mc.alternative = 'Hello'\n",
    "print(mc.alternative)"
   ]
  },
  {
   "cell_type": "markdown",
   "metadata": {},
   "source": [
    "To give attributes values when instantiating objects, the values are passed as arguments to a special method called __init__(), which runs when an object is instantiated."
   ]
  },
  {
   "cell_type": "code",
   "execution_count": 23,
   "metadata": {},
   "outputs": [
    {
     "name": "stdout",
     "output_type": "stream",
     "text": [
      "[1, 2, 3, 4, 5]\n"
     ]
    }
   ],
   "source": [
    "class NewList():\n",
    "    def __init__(self, initial_state):\n",
    "        self.data = initial_state\n",
    "        \n",
    "my_list = NewList([1, 2, 3, 4, 5])\n",
    "print(my_list.data)"
   ]
  },
  {
   "cell_type": "code",
   "execution_count": 10,
   "metadata": {},
   "outputs": [
    {
     "name": "stdout",
     "output_type": "stream",
     "text": [
      "[1, 2, 3, 4, 5]\n",
      "[1, 2, 3, 4, 5, 6]\n"
     ]
    }
   ],
   "source": [
    "class NewList():\n",
    "    def __init__(self, initial_state):\n",
    "        self.data = initial_state\n",
    "    \n",
    "    def append(self, new_item):\n",
    "        self.data = self.data + [new_item]\n",
    "\n",
    "my_list = NewList([1, 2, 3, 4, 5])\n",
    "print(my_list.data)\n",
    "my_list.append(6)\n",
    "print(my_list.data)"
   ]
  },
  {
   "cell_type": "code",
   "execution_count": 11,
   "metadata": {},
   "outputs": [
    {
     "name": "stdout",
     "output_type": "stream",
     "text": [
      "Help on function append in module __main__:\n",
      "\n",
      "append(self, new_item)\n",
      "\n"
     ]
    }
   ],
   "source": [
    "help(NewList.append)"
   ]
  },
  {
   "cell_type": "code",
   "execution_count": 2,
   "metadata": {},
   "outputs": [
    {
     "name": "stdout",
     "output_type": "stream",
     "text": [
      "3\n",
      "3\n"
     ]
    }
   ],
   "source": [
    "class NewList():\n",
    "    def __init__(self, initial_state):\n",
    "        self.data = initial_state\n",
    "        \n",
    "        length = 0\n",
    "        for item in self.data:\n",
    "            length += 1\n",
    "        self.length = length\n",
    "        \n",
    "    def append(self, new_item):\n",
    "        self.data = self.data + [new_item]\n",
    "        \n",
    "my_list = NewList([1, 2, 3])\n",
    "print(my_list.length)\n",
    "my_list.append(4)\n",
    "print(my_list.length)"
   ]
  },
  {
   "cell_type": "markdown",
   "metadata": {},
   "source": [
    "NewList.length was added only in the init method, if the list is made longer using the append() method, theNewList.length attribute is no longer accurate"
   ]
  },
  {
   "cell_type": "code",
   "execution_count": 7,
   "metadata": {},
   "outputs": [
    {
     "name": "stdout",
     "output_type": "stream",
     "text": [
      "5\n",
      "6\n"
     ]
    }
   ],
   "source": [
    "# use helper method\n",
    "class NewList():\n",
    "    def __init__(self, initial_state):\n",
    "        self.data = initial_state\n",
    "        self.calc_length()\n",
    "    \n",
    "    def calc_length(self):\n",
    "        length = 0\n",
    "        for item in self.data:\n",
    "            length += 1\n",
    "        self.length = length\n",
    "    \n",
    "    def append(self, new_item):\n",
    "        self.data = self.data + [new_item]\n",
    "        self.calc_length()\n",
    "\n",
    "fibonacci = NewList([1, 1, 2, 3, 5])\n",
    "print(fibonacci.length)\n",
    "fibonacci.append(8)\n",
    "print(fibonacci.length)"
   ]
  },
  {
   "cell_type": "code",
   "execution_count": 2,
   "metadata": {},
   "outputs": [
    {
     "name": "stdout",
     "output_type": "stream",
     "text": [
      "initaddedinitadded\n"
     ]
    }
   ],
   "source": [
    "# messy code without using class\n",
    "def state_init(state):\n",
    "    state['field'] = 'init'\n",
    "\n",
    "def state_add(state, x):\n",
    "    state['field'] += x\n",
    "\n",
    "def state_mult(state, x):\n",
    "    state['field'] *= x\n",
    "\n",
    "def state_getField(state):\n",
    "    return state['field']\n",
    "\n",
    "myself = {}\n",
    "state_init(myself)\n",
    "state_add(myself, 'added')\n",
    "state_mult(myself, 2)\n",
    "\n",
    "print( state_getField(myself) )\n",
    "#--> 'initaddedinitadded'"
   ]
  },
  {
   "cell_type": "code",
   "execution_count": 9,
   "metadata": {},
   "outputs": [
    {
     "name": "stdout",
     "output_type": "stream",
     "text": [
      "initaddedinitadded\n"
     ]
    }
   ],
   "source": [
    "class State:\n",
    "    def __init__(self):\n",
    "        self.field = 'init'\n",
    "    def add(self, x):\n",
    "        self.field += x\n",
    "    def mult(self, x):\n",
    "        self.field *= x\n",
    "\n",
    "s = State()\n",
    "s.add('added')    \n",
    "s.mult(2)         \n",
    "print( s.field)"
   ]
  },
  {
   "cell_type": "code",
   "execution_count": 20,
   "metadata": {},
   "outputs": [
    {
     "data": {
      "text/plain": [
       "'AB101'"
      ]
     },
     "execution_count": 20,
     "metadata": {},
     "output_type": "execute_result"
    }
   ],
   "source": [
    "class Flight:\n",
    "    \n",
    "    def __init__(self, number):\n",
    "        if not number[:2].isalpha():\n",
    "            raise ValueError(\"No airline code in '{}'\", format(number))\n",
    "        if not number[:2].isupper():\n",
    "            raise ValueError(\"Invalid airline code in '{}'\", format(number))\n",
    "        if not number[2:].isdigit() and int(number[2:]) <= 9999:\n",
    "            raise ValueError(\"Invalid route number '{}'\", format(number))\n",
    "        self._number = number\n",
    "                                                   \n",
    "    def number(self):\n",
    "        return self._number\n",
    "    \n",
    "f = Flight(\"AB101\")\n",
    "f._number"
   ]
  },
  {
   "cell_type": "code",
   "execution_count": 21,
   "metadata": {},
   "outputs": [
    {
     "data": {
      "text/plain": [
       "'G-EUPT'"
      ]
     },
     "execution_count": 21,
     "metadata": {},
     "output_type": "execute_result"
    }
   ],
   "source": [
    "class Aircraft:\n",
    "    \n",
    "    def __init__(self, registration, model, num_rows, num_seats_per_row):\n",
    "        self._registration=registration\n",
    "        self._model=model\n",
    "        self._num_rows=num_rows\n",
    "        self._num_seats_per_row=num_seats_per_row\n",
    "    def registration(self):\n",
    "        return self._registration\n",
    "    \n",
    "    def model(self):\n",
    "        return self._model\n",
    "    def seating_plan(self):\n",
    "        return(range(1, self._num_rows+1),\n",
    "              \"ABCDEFGHJK\"[:self._num_seats_per_row])\n",
    "    \n",
    "a=Aircraft(\"G-EUPT\", \"Airbus A319\", num_rows=22, num_seats_per_row=6)\n",
    "a.registration()"
   ]
  },
  {
   "cell_type": "code",
   "execution_count": 34,
   "metadata": {},
   "outputs": [
    {
     "data": {
      "text/plain": [
       "'Hi From local Hello,'"
      ]
     },
     "execution_count": 34,
     "metadata": {},
     "output_type": "execute_result"
    }
   ],
   "source": [
    "def func(x):\n",
    "    def local_func(n):\n",
    "        a='Hello,'\n",
    "        return n+a\n",
    "    y=local_func(' From local ')\n",
    "    return x+y\n",
    "func('Hi')"
   ]
  },
  {
   "cell_type": "code",
   "execution_count": 7,
   "metadata": {},
   "outputs": [
    {
     "name": "stdout",
     "output_type": "stream",
     "text": [
      "global param local\n"
     ]
    }
   ],
   "source": [
    "g='global'\n",
    "def outer(p='param'):\n",
    "    l='local'\n",
    "    def inner():\n",
    "        print(g,p,l)\n",
    "    inner()\n",
    "outer()"
   ]
  },
  {
   "cell_type": "code",
   "execution_count": 8,
   "metadata": {},
   "outputs": [
    {
     "name": "stdout",
     "output_type": "stream",
     "text": [
      "global message: global\n",
      "enclosing message: enclosing\n",
      "enclosing message: enclosing\n",
      "global message: global\n"
     ]
    }
   ],
   "source": [
    "message='global'\n",
    "def enclosing():\n",
    "    message='enclosing'\n",
    "    def local():\n",
    "        message='local'\n",
    "    print('enclosing message:', message)\n",
    "    local()\n",
    "    print('enclosing message:', message)\n",
    "print('global message:', message)\n",
    "enclosing()\n",
    "print('global message:', message)"
   ]
  },
  {
   "cell_type": "code",
   "execution_count": 37,
   "metadata": {},
   "outputs": [
    {
     "data": {
      "text/plain": [
       "\"'Tromse'\""
      ]
     },
     "execution_count": 37,
     "metadata": {},
     "output_type": "execute_result"
    }
   ],
   "source": [
    "def escape_unicode(f):\n",
    "    def wrap(*args, **kwargs):\n",
    "        x=f(*args, **kwargs)\n",
    "        return ascii(x)\n",
    "    return wrap\n",
    "@escape_unicode\n",
    "def northern_city():\n",
    "    return 'Tromse'\n",
    "northern_city()"
   ]
  },
  {
   "cell_type": "code",
   "execution_count": 38,
   "metadata": {},
   "outputs": [
    {
     "data": {
      "text/plain": [
       "'Tromse'"
      ]
     },
     "execution_count": 38,
     "metadata": {},
     "output_type": "execute_result"
    }
   ],
   "source": [
    "def northern_city():\n",
    "    return 'Tromse'\n",
    "northern_city()"
   ]
  },
  {
   "cell_type": "code",
   "execution_count": null,
   "metadata": {},
   "outputs": [],
   "source": [
    "# State, before defining f, that a_decorator will be applied to it.\n",
    "@a_decorator\n",
    "def f(...):\n",
    "    ..."
   ]
  },
  {
   "cell_type": "code",
   "execution_count": null,
   "metadata": {},
   "outputs": [],
   "source": [
    "def f(...):\n",
    "    ...\n",
    "# After defining f, apply a_decorator to it.\n",
    "f = a_decorator(f)"
   ]
  },
  {
   "cell_type": "code",
   "execution_count": null,
   "metadata": {},
   "outputs": [],
   "source": [
    "# https://www.codementor.io/@sheena/introduction-to-decorators-du107vo5c\n",
    "\n",
    "def func_a(stuff):\n",
    "    before = datetime.datetime.now()\n",
    "    do_important_things_1()\n",
    "    do_important_things_2()\n",
    "    do_important_things_3()\n",
    "    after = datetime.datetime.now()\n",
    "    print \"Elapsed Time = {0}\".format(after-before)\n",
    "\n",
    "def func_b(stuff):\n",
    "    before = datetime.datetime.now()\n",
    "    do_important_things_4()\n",
    "    do_important_things_5()\n",
    "    do_important_things_6()\n",
    "    after = datetime.datetime.now()\n",
    "    print \"Elapsed Time = {0}\".format(after-before)\n",
    "    \n",
    "def func_c(stuff):\n",
    "    before = datetime.datetime.now()\n",
    "    do_important_things_7()\n",
    "    do_important_things_8()\n",
    "    do_important_things_9()\n",
    "    after = datetime.datetime.now()\n",
    "    print \"Elapsed Time = {0}\".format(after-before)"
   ]
  },
  {
   "cell_type": "code",
   "execution_count": 53,
   "metadata": {},
   "outputs": [
    {
     "name": "stdout",
     "output_type": "stream",
     "text": [
      "hey\n"
     ]
    }
   ],
   "source": [
    "def pr():\n",
    "    print(\"hey\")\n",
    "x = pr()"
   ]
  },
  {
   "cell_type": "code",
   "execution_count": 47,
   "metadata": {},
   "outputs": [
    {
     "name": "stdout",
     "output_type": "stream",
     "text": [
      "inside get_function\n",
      "outside returned_function\n"
     ]
    }
   ],
   "source": [
    "# need to incorporate the same code into func_a, func_b and func_c in a way \n",
    "# that doesn't have us copy pasting code all over the place.\n",
    "# functions are first class objects.  Once a function is defined in a scope it can be passed to functions, \n",
    "# assigned to variables, even returned from functions. This simple fact is what makes python decorators possible.\n",
    "def get_function():\n",
    "    print(\"inside get_function\")             #1    \n",
    "    def returned_function():                    \n",
    "        print(\"inside returned_function\")       \n",
    "        return 1\n",
    "    print(\"outside returned_function\")       #2\n",
    "    return returned_function                 #3\n",
    "   \n",
    "x = get_function() # Python does not execute anything inside returned_function at this point.               "
   ]
  },
  {
   "cell_type": "code",
   "execution_count": 48,
   "metadata": {},
   "outputs": [
    {
     "data": {
      "text/plain": [
       "<function __main__.get_function.<locals>.returned_function()>"
      ]
     },
     "execution_count": 48,
     "metadata": {},
     "output_type": "execute_result"
    }
   ],
   "source": [
    "x # the value returned from get_function(), is itself a function"
   ]
  },
  {
   "cell_type": "code",
   "execution_count": 49,
   "metadata": {},
   "outputs": [
    {
     "name": "stdout",
     "output_type": "stream",
     "text": [
      "inside returned_function\n"
     ]
    },
    {
     "data": {
      "text/plain": [
       "1"
      ]
     },
     "execution_count": 49,
     "metadata": {},
     "output_type": "execute_result"
    }
   ],
   "source": [
    "x() # since x is a function, it can be called. Calling x is calling an instance of returned_function"
   ]
  },
  {
   "cell_type": "code",
   "execution_count": 57,
   "metadata": {},
   "outputs": [],
   "source": [
    "def time_this(original_function):    # 1\n",
    "    def new_function(*args,**kwargs):    # 2\n",
    "        before = datetime.datetime.now()   # 3\n",
    "        x = original_function(*args,**kwargs)  # 4\n",
    "        after = datetime.datetime.now()   # 5\n",
    "        print(\"Elapsed Time = {0}\".format(after-before))   # 6\n",
    "        return x    # 7\n",
    "    return new_function()    # 8        "
   ]
  },
  {
   "cell_type": "markdown",
   "metadata": {},
   "source": [
    "1 This is just the prototype of time_this. time_this is a function just like any other and has one parameter.\n",
    "2 Inside time_this we are defining a function. Every time time_this executes it will create a new function.\n",
    "3 Timing code, just like before.\n",
    "4 Call the original function and keep the result for later.\n",
    "5,6 The rest of the timing code.\n",
    "7 The new_function must act just like the original function and so returns the stored result.\n",
    "8 The function created in time_this is finally returned."
   ]
  },
  {
   "cell_type": "code",
   "execution_count": 56,
   "metadata": {},
   "outputs": [
    {
     "name": "stdout",
     "output_type": "stream",
     "text": [
      "<function time_this.<locals>.new_function at 0x00000230949C7D08>\n",
      "<function time_this.<locals>.new_function at 0x00000230949C7BF8>\n",
      "<function time_this.<locals>.new_function at 0x00000230949C71E0>\n"
     ]
    }
   ],
   "source": [
    "def func_a(stuff):\n",
    "    do_important_things_1()\n",
    "    do_important_things_2()\n",
    "    do_important_things_3()\n",
    "func_a = time_this(func_a)\n",
    "print(func_a)\n",
    "\n",
    "def func_b(stuff):\n",
    "    do_important_things_4()\n",
    "    do_important_things_5()\n",
    "    do_important_things_6()\n",
    "func_b = time_this(func_b) \n",
    "print(func_b)\n",
    "    \n",
    "def func_c(stuff):\n",
    "    do_important_things_7()\n",
    "    do_important_things_8()\n",
    "    do_important_things_9()\n",
    "func_c = time_this(func_c) \n",
    "print(func_c)"
   ]
  },
  {
   "cell_type": "code",
   "execution_count": 5,
   "metadata": {},
   "outputs": [
    {
     "name": "stdout",
     "output_type": "stream",
     "text": [
      "Hello, fred\n",
      "Hello, betty\n"
     ]
    }
   ],
   "source": [
    "class CallCount:\n",
    "    def __init__(self, f):\n",
    "        self.f=f\n",
    "        self.count=0\n",
    "        \n",
    "    def __call__(self, *args, **kwargs):\n",
    "        self.count +=1\n",
    "        return self.f(*args, **kwargs)\n",
    "@CallCount #class decorators"
   ]
  },
  {
   "cell_type": "code",
   "execution_count": 39,
   "metadata": {},
   "outputs": [
    {
     "name": "stdout",
     "output_type": "stream",
     "text": [
      "Hello, fred\n",
      "Hello, betty\n"
     ]
    }
   ],
   "source": [
    "def hello(name):\n",
    "    print('Hello, {}'.format(name))\n",
    "hello('fred')\n",
    "hello('betty')"
   ]
  },
  {
   "cell_type": "code",
   "execution_count": null,
   "metadata": {},
   "outputs": [],
   "source": [
    "def check_non_negative(index):\n",
    "    def validator(f):\n",
    "        def wrap(*args):\n",
    "            if args[index] < 0:\n",
    "                raise ValueError('Argument {} must be non_nagative,'.format(index))\n",
    "            return ff(*args)\n",
    "    return wrap\n",
    "return validator\n",
    "\n",
    "@check_non_negative(1)\n",
    "def create_list(value, size):\n",
    "    return [value] * size\n"
   ]
  },
  {
   "cell_type": "code",
   "execution_count": null,
   "metadata": {},
   "outputs": [],
   "source": [
    "print(help(bst.insert))\n",
    "print(isinstance(bst, BST))\n",
    "print(issubclass(BST,BaseBST))"
   ]
  },
  {
   "cell_type": "code",
   "execution_count": null,
   "metadata": {},
   "outputs": [],
   "source": [
    "# use super() method to inheriance attributes from a parent class\n",
    "class Manager(Employee):\n",
    "    def __init__(first, last, pay, employee=None):\n",
    "        super().__init__(first, last, pay)\n",
    "        if employee is None:\n",
    "            self.employee = []\n",
    "        else:\n",
    "            self.employee = employee"
   ]
  },
  {
   "cell_type": "code",
   "execution_count": null,
   "metadata": {},
   "outputs": [],
   "source": [
    "def __repr__(self): # unabigous representation of an object\n",
    "    return \"Employee '{}', '{}', '{}'\".format(self.first, self.last, self.pay)\"\n",
    "\n",
    "def __str__():  # redable representation of an object\n",
    "    return '{}-{}'.format(self.fullname, self.email)\n"
   ]
  },
  {
   "cell_type": "code",
   "execution_count": 12,
   "metadata": {},
   "outputs": [
    {
     "name": "stdout",
     "output_type": "stream",
     "text": [
      "3\n",
      "3\n"
     ]
    }
   ],
   "source": [
    "print(1+2)\n",
    "print(int.__add__(1,2))"
   ]
  },
  {
   "cell_type": "code",
   "execution_count": 13,
   "metadata": {},
   "outputs": [
    {
     "name": "stdout",
     "output_type": "stream",
     "text": [
      "Corey\n",
      "Corey.Schafer@email.com\n",
      "Corey Schafer\n",
      "Delete Name!\n"
     ]
    }
   ],
   "source": [
    "# Property Decorators - Getters, Setters, and Deleters\n",
    "# adding @property above a function to allow access of the funciton as an attribute\n",
    "class Employee:\n",
    "\n",
    "    def __init__(self, first, last):\n",
    "        self.first = first\n",
    "        self.last = last\n",
    "\n",
    "    @property\n",
    "    def email(self):\n",
    "        return '{}.{}@email.com'.format(self.first, self.last)\n",
    "\n",
    "    @property\n",
    "    def fullname(self):\n",
    "        return '{} {}'.format(self.first, self.last)\n",
    "    \n",
    "    @fullname.setter\n",
    "    def fullname(self, name):\n",
    "        first, last = name.split(' ')\n",
    "        self.first = first\n",
    "        self.last = last\n",
    "    \n",
    "    @fullname.deleter\n",
    "    def fullname(self):\n",
    "        print('Delete Name!')\n",
    "        self.first = None\n",
    "        self.last = None\n",
    "\n",
    "\n",
    "emp_1 = Employee('John', 'Smith')\n",
    "emp_1.fullname = \"Corey Schafer\"\n",
    "\n",
    "print(emp_1.first)\n",
    "print(emp_1.email)\n",
    "print(emp_1.fullname)\n",
    "\n",
    "del emp_1.fullname"
   ]
  },
  {
   "cell_type": "code",
   "execution_count": null,
   "metadata": {},
   "outputs": [],
   "source": [
    "# use super() method to inheriance attributes from a parent class\n",
    "class Manager(Employee):\n",
    "    def __init__(first, last, pay, employee=None):\n",
    "        super().__init__(first, last, pay)\n",
    "        if employee is None:\n",
    "            self.employee = []\n",
    "        else:\n",
    "            self.employee = employee"
   ]
  }
 ],
 "metadata": {
  "kernelspec": {
   "display_name": "Python 3",
   "language": "python",
   "name": "python3"
  },
  "language_info": {
   "codemirror_mode": {
    "name": "ipython",
    "version": 3
   },
   "file_extension": ".py",
   "mimetype": "text/x-python",
   "name": "python",
   "nbconvert_exporter": "python",
   "pygments_lexer": "ipython3",
   "version": "3.7.6"
  }
 },
 "nbformat": 4,
 "nbformat_minor": 4
}
