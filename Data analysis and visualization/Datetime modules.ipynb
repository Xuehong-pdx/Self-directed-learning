{
 "cells": [
  {
   "cell_type": "markdown",
   "metadata": {},
   "source": [
    "### Datetime Module - How to work with Dates, Times, Timedeltas, and Timezones\n",
    "https://www.youtube.com/watch?v=eirjjyP2qcQ"
   ]
  },
  {
   "cell_type": "code",
   "execution_count": null,
   "metadata": {},
   "outputs": [],
   "source": [
    "from datetime import datetime\n",
    "timestamp = 1528797322\n",
    "date_time = datetime.fromtimestamp(timestamp)\n",
    "print(\"Date time object:\", date_time)\n",
    "d = date_time.strftime(\"%m/%d/%Y, %H:%M:%S\")\n",
    "print(\"Output 2:\", d)\n",
    "d = date_time.strftime(\"%d %b, %Y\")\n",
    "print(\"Output 3:\", d)\n",
    "d = date_time.strftime(\"%d %B, %Y\")\n",
    "print(\"Output 4:\", d)\n",
    "d = date_time.strftime(\"%I%p\")\n",
    "print(\"Output 5:\", d)"
   ]
  },
  {
   "cell_type": "code",
   "execution_count": null,
   "metadata": {},
   "outputs": [],
   "source": [
    "import datetime\n",
    "import pytz\n",
    "\n",
    "# Naive\n",
    "# d = datetime.date(2001, 9, 11)\n",
    "\n",
    "tday = datetime.date.today()\n",
    "# print(tdaytday.weekday()) - Monday is 0 and Sunday is 6\n",
    "# print(tdaytday.isoweekday()) - Monday is 1 and Sunday is 7\n",
    "\n",
    "tdelta = datetime.timedelta(days=7)\n",
    "#print(tday + tdelta)\n",
    "\n",
    "# datetime.timedelta(days=0, seconds=0, microseconds=0, milliseconds=0, minutes=0, hours=0, weeks=0)\n",
    "tdelta = datetime.timedelta(hours=12)\n",
    "# print(tday + tdelta)\n",
    "# date2 = date1 + timedelta\n",
    "# timedelta = date1 + date2\n",
    "bday = datetime.date(2016, 9, 24) \n",
    "till_bday = bday - tday\n",
    "# print(till_bday) ## till_bday.days, till_bday.total_seconds()\n",
    "\n",
    "\n",
    "t = datetime.time(9, 30, 45, 100000) ## hr, min, ec, ms\n",
    "# print(t.hour)\n",
    "\n",
    "# dt = datetime.datetime.today()  ## gets both date and time (dt), return current date time without time zone into\n",
    "# dtnow = datetime.datetime.now() ## option t pass time zone info\n",
    "# dt_utcnow = datetime.datetime.utcnow()\n",
    "# print(dt) ## print(dt.date(), dt.time(), dt.year)\n",
    "\n",
    "\n",
    "##### use pytz package: pip install pytz\n",
    "dt = datetime.datetime(2016, 7, 24, 12, 30, 45, tzinfo=pytz.UTC)\n",
    "dt_now = datetime.datetime.now(tz=pytz.UTC)\n",
    "dt_utcnow = datetime.datetime.utcnow().repalce(tzinfo=pytz.UTC)\n",
    "# print(dir(datetime.datetime))\n",
    "# print(dtnow)\n",
    "# print(dir(dt))\n",
    "\n",
    "# print(dt_utcnow)\n",
    "dt_utcnow2 = datetime.datetime.utcnow().replace(tzinfo=pytz.UTC)\n",
    "# print(dt_utcnow2)\n",
    "dt_mtn = dt_utcnow.astimezone(pytz.timezone('US/Mountain'))\n",
    "# print(dt_mtn)\n",
    "\n",
    "for tz in pytz.all_timezones:\n",
    "    print(tz)\n",
    "\n",
    "dt_mtn = datetime.datetime.now()\n",
    "mtn_tz = pytz.timezone('US/Mountain')\n",
    "dt_mtn = mtn_tz.localize(dt_mtn)\n",
    "# print(dt_mtn)\n",
    "\n",
    "dt_east = dt_mtn.astimezone(pytz.timezone('US/Eastern'))\n",
    "# print(dt_east)\n",
    "\n",
    "dt_mtn = datetime.datetime.now(tz=pytz.timezone('US/Mountain'))\n",
    "print(dt_mtn.strftime('%B' %d, %Y')  # July 24, 2016\n",
    "\n",
    "dt_str = 'July 24, 2016'\n",
    "dt = datetime.datetime.strptime(dt_str, '%B %d, %Y')\n",
    "print(dt)\n",
    "\n",
    "# strftime - Datetime to String\n",
    "# strptime - String to Datetime"
   ]
  },
  {
   "cell_type": "markdown",
   "metadata": {},
   "source": [
    "Tools to automatically profile code without having to insert lines:\n",
    "    1. cProfile will show how much time was spent in various levels of the application.\n",
    "    2. Calling \"time python script.py\" from the command line will show how long the program took to run.\n",
    "    3. The contexttimer package enables quick timing of parts of the program without having to add lots of code.\n",
    "    4. The lineprofiler package will show how long each line of a profiled function takes to execute.\n",
    "    \n",
    "https://docs.python.org/3/library/debug.html"
   ]
  },
  {
   "cell_type": "code",
   "execution_count": null,
   "metadata": {},
   "outputs": [],
   "source": [
    "import time\n",
    "start = time.time()\n",
    "\n",
    "duplicates = []\n",
    "elapsed = time.time() - start\n",
    "print(\"Took {} seconds to run.\".format(elapsed))"
   ]
  },
  {
   "cell_type": "markdown",
   "metadata": {},
   "source": [
    "import modules and their definitions using the import statement:\n",
    "\n",
    "    Import the whole module by name.\n",
    "    import csv\n",
    "    Import the whole module with an alias.\n",
    "    import csv as c\n",
    "    Import one or more definitions from the module by name.\n",
    "    from csv import reader\n",
    "    from csv import reader, writer\n",
    "    Import all definitions with a wildcard.\n",
    "    from csv import *\n",
    "    reader()\n",
    "    writer()\n",
    "    get_dialect()\n",
    "\n",
    "Python has three standard modules that are designed to help working with dates and times.\n",
    "\n",
    "    The calendar module\n",
    "    The time module\n",
    "    The datetime module\n",
    "\n",
    "The datetime module\n",
    "\n",
    "1. datetime.datetime: For working with date and time data.\n",
    "2. datetime.time: For working with time data only.\n",
    "3. datetime.timedelta: For representing time periods."
   ]
  },
  {
   "cell_type": "code",
   "execution_count": null,
   "metadata": {},
   "outputs": [],
   "source": [
    "import datetime as dt\n",
    "date_1_str = \"24/12/1984\"\n",
    "date_1_dt = dt.datetime.strptime(date_1_str, \"%d/%m/%Y\")\n",
    "print(type(date_1_dt))\n",
    "print(date_1_dt)"
   ]
  },
  {
   "cell_type": "markdown",
   "metadata": {},
   "source": [
    "The %d, %m, and %Y format codes specify a two-digit day, two-digit month, and four-digit year respectively, and the forward slashes between them specify the forward slashes in the original string"
   ]
  },
  {
   "cell_type": "code",
   "execution_count": null,
   "metadata": {},
   "outputs": [],
   "source": [
    "date_2_str = \"12-24-1984\"\n",
    "date_2_dt = dt.datetime.strptime(date_2_str, \"%m-%d-%Y\")\n",
    "print(date_2_dt)"
   ]
  },
  {
   "cell_type": "markdown",
   "metadata": {},
   "source": [
    "Strftime Code Meaning Examples %d Day of the month as a zero-padded number1 04 %A Day of the week as a word2 Monday %m Month as a zero-padded number1 09 %Y Year as a four-digit number 1901 %y Year as a two-digit number with zero-padding1, 3 01 (2001) %B Month as a word2 September %H Hour in 24 hour time as zero-padded number1 05 (5 a.m.) %p a.m. or p.m. %I Hour in 12 hour time as zero-padded number1 05 (5 a.m., or 5 p.m. if AM/PM indicates otherwise) %M Minute as a zero-padded number1 07"
   ]
  },
  {
   "cell_type": "code",
   "execution_count": null,
   "metadata": {},
   "outputs": [],
   "source": [
    "from csv import reader\n",
    "file = open('Raw_data\\potus_visitors_2015.csv')\n",
    "potus = list(reader(file))\n",
    "potus = potus[1:]\n",
    "print(potus[-1][2])"
   ]
  },
  {
   "cell_type": "code",
   "execution_count": null,
   "metadata": {},
   "outputs": [],
   "source": [
    "date_format = \"%m/%d/%y %H:%M\"\n",
    "for row in potus:\n",
    "    start_date = row[2]\n",
    "    start_date = dt.datetime.strptime(start_date, date_format)\n",
    "    row[2] = start_date\n",
    "print(potus[-1][2])"
   ]
  },
  {
   "cell_type": "code",
   "execution_count": null,
   "metadata": {},
   "outputs": [],
   "source": [
    "dt_object = dt.datetime(1984, 12, 24)\n",
    "day = dt_object.day\n",
    "month = dt_object.month\n",
    "year = dt_object.year\n",
    "dt_string = \"{}/{}/{}\".format(day, month, year)\n",
    "print(dt_string)"
   ]
  },
  {
   "cell_type": "markdown",
   "metadata": {},
   "source": [
    "datetime.strftime() method strptime >> str-p-time >> string parse time strftime >> str-f-time >> string format time"
   ]
  },
  {
   "cell_type": "code",
   "execution_count": null,
   "metadata": {},
   "outputs": [],
   "source": [
    "dt_object = dt.datetime(1984, 12, 24)\n",
    "dt_string = dt_object.strftime(\"%d/%m/%Y\")\n",
    "print(dt_string)"
   ]
  },
  {
   "cell_type": "code",
   "execution_count": null,
   "metadata": {},
   "outputs": [],
   "source": [
    "dt_string = dt_object.strftime(\"%B %d, %Y\")\n",
    "print(dt_string)"
   ]
  },
  {
   "cell_type": "code",
   "execution_count": null,
   "metadata": {},
   "outputs": [],
   "source": [
    "dt_string = dt_object.strftime(\"%A %B %d at %I:%M %p\")\n",
    "print(dt_string)"
   ]
  },
  {
   "cell_type": "code",
   "execution_count": null,
   "metadata": {},
   "outputs": [],
   "source": [
    "visitors_per_month = {}\n",
    "for row in potus:\n",
    "    d1 = row[2]\n",
    "    d1 = d1.strftime(\"%B, %Y\")\n",
    "    if d1 not in visitors_per_month:\n",
    "        visitors_per_month[d1] = 1\n",
    "    else:\n",
    "        visitors_per_month[d1] +=1\n",
    "print(visitors_per_month)"
   ]
  },
  {
   "cell_type": "code",
   "execution_count": null,
   "metadata": {},
   "outputs": [],
   "source": [
    "two_thirty = dt.time(14, 30)\n",
    "print(two_thirty)"
   ]
  },
  {
   "cell_type": "code",
   "execution_count": null,
   "metadata": {},
   "outputs": [],
   "source": [
    "#  create a time object from a datetime object, using the datetime.datetime.time() method\n",
    "jfk_shot_dt = dt.datetime(1963, 11, 22, 12, 30)\n",
    "print(jfk_shot_dt)"
   ]
  },
  {
   "cell_type": "code",
   "execution_count": null,
   "metadata": {},
   "outputs": [],
   "source": [
    "jfk_shot_t = jfk_shot_dt.time()\n",
    "print(jfk_shot_t)"
   ]
  },
  {
   "cell_type": "code",
   "execution_count": null,
   "metadata": {},
   "outputs": [],
   "source": [
    "# time class doesn't have a strptime() constructor, can use datetime.strptime(), then convert directly to a time object\n",
    "time_str = \"8:00\"\n",
    "time_dt = dt.datetime.strptime(time_str,\"%H:%M\")\n",
    "print(time_dt)"
   ]
  },
  {
   "cell_type": "code",
   "execution_count": null,
   "metadata": {},
   "outputs": [],
   "source": [
    "time_t = time_dt.time()\n",
    "print(time_t)"
   ]
  },
  {
   "cell_type": "code",
   "execution_count": null,
   "metadata": {},
   "outputs": [],
   "source": [
    "appt_times=[]\n",
    "for row in potus:\n",
    "    dt = row[2]\n",
    "    t = dt.time()\n",
    "    appt_times.append(t)\n",
    "print(appt_times[0])"
   ]
  },
  {
   "cell_type": "code",
   "execution_count": null,
   "metadata": {},
   "outputs": [],
   "source": [
    "min_time = min(appt_times)\n",
    "max_time = max(appt_times)\n",
    "print(min_time, max_time)"
   ]
  },
  {
   "cell_type": "code",
   "execution_count": null,
   "metadata": {},
   "outputs": [],
   "source": [
    "two_days = dt.timedelta(2)\n",
    "print(two_days)"
   ]
  },
  {
   "cell_type": "code",
   "execution_count": null,
   "metadata": {},
   "outputs": [],
   "source": [
    "Operation \t            Explanation \t                                        Resultant Type\n",
    "datetime - datetime \tCalculate the time between two specific dates/times \ttimedelta\n",
    "datetime - timedelta \tSubtract a time period from a date or time. \t        datetime\n",
    "datetime + timedelta \tAdd a time period to a date or time. \t                datetime\n",
    "timedelta + timedelta \tAdd two periods of time together \t                    timedelta\n",
    "timedelta - timedelta \tCalculate the difference between two time periods. \t    timedelta"
   ]
  },
  {
   "cell_type": "code",
   "execution_count": null,
   "metadata": {},
   "outputs": [],
   "source": [
    "for row in potus:\n",
    "    end_date = row[3]\n",
    "    end_date = dt.datetime.strptime(end_date, \"%m/%d/%y %H:%M\")\n",
    "    row[3] = end_date\n",
    "appt_lengths = {}\n",
    "\n",
    "for row in potus:\n",
    "    start_date = row[2]\n",
    "    end_date = row[3]\n",
    "    length = end_date - start_date\n",
    "    if length not in appt_lengths:\n",
    "        appt_lengths[length] = 1\n",
    "    else:\n",
    "        appt_lengths[length] += 1\n",
    "\n",
    "min_length = min(appt_lengths)\n",
    "max_length = max(appt_lengths)"
   ]
  },
  {
   "cell_type": "code",
   "execution_count": null,
   "metadata": {},
   "outputs": [],
   "source": [
    "import time #tm_year, tm_mon(1-12), tm_mday(1-31), tm_hour(0-23)\n",
    "tm_min\n",
    "current_time=time.time()\n",
    "current_struct_time=time.gmtime(current_time)\n",
    "current_hour=current_struct_time.tm_hour"
   ]
  },
  {
   "cell_type": "code",
   "execution_count": null,
   "metadata": {},
   "outputs": [],
   "source": [
    "import datetime # year, month, day, hour, minute, second, microsecond\n",
    "current_datetime = datetime.datetime.utcnow()\n",
    "current_year = current_datetime.year\n",
    "current_month = current_datetime.month"
   ]
  },
  {
   "cell_type": "code",
   "execution_count": 23,
   "metadata": {},
   "outputs": [],
   "source": [
    "import datetime\n",
    "kirks_birthday=datetime.datetime(year=2233, month=3, day=22)\n",
    "diff=datetime.timedelta(weeks=15) # weeks, days, hours, minutes, seconds, milliseconds, microseconds\n",
    "before_kirk=kirks_birthday-diff"
   ]
  },
  {
   "cell_type": "code",
   "execution_count": 24,
   "metadata": {},
   "outputs": [
    {
     "name": "stdout",
     "output_type": "stream",
     "text": [
      "2015-12-31 00:00:00\n",
      "12:00AM on Thursday December 31, 2015\n"
     ]
    }
   ],
   "source": [
    "import datetime\n",
    "mystery_date=datetime.datetime(year=2015, month=12, day=31, hour=0)\n",
    "print(mystery_date)\n",
    "mystery_date_formatted_string = mystery_date.strftime(\"%I:%M%p on %A %B %d, %Y\")\n",
    "print(mystery_date_formatted_string)"
   ]
  },
  {
   "cell_type": "code",
   "execution_count": 17,
   "metadata": {},
   "outputs": [
    {
     "data": {
      "text/plain": [
       "datetime.datetime(2015, 12, 31, 0, 0)"
      ]
     },
     "execution_count": 17,
     "metadata": {},
     "output_type": "execute_result"
    }
   ],
   "source": [
    "import datetime\n",
    "mystery_date=datetime.datetime(year=2015, month=12, day=31, hour=0)\n",
    "mystery_date_2 = datetime.datetime.strptime(mystery_date_formatted_string, \"%I:%M%p on %A %B %d, %Y\")\n",
    "mystery_date_2"
   ]
  },
  {
   "cell_type": "code",
   "execution_count": null,
   "metadata": {},
   "outputs": [],
   "source": [
    "import datetime\n",
    "for item in posts:\n",
    "    f=float(item[2])\n",
    "    item[2]=datetime.datetime.fromtimestamp(f)"
   ]
  }
 ],
 "metadata": {
  "kernelspec": {
   "display_name": "Python 3",
   "language": "python",
   "name": "python3"
  },
  "language_info": {
   "codemirror_mode": {
    "name": "ipython",
    "version": 3
   },
   "file_extension": ".py",
   "mimetype": "text/x-python",
   "name": "python",
   "nbconvert_exporter": "python",
   "pygments_lexer": "ipython3",
   "version": "3.7.6"
  }
 },
 "nbformat": 4,
 "nbformat_minor": 4
}
